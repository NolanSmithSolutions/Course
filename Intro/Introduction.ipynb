{
 "cells": [
  {
   "cell_type": "markdown",
   "metadata": {},
   "source": [
    "![Data Applications](https://www.durhamtech.edu/themes/custom/durhamtech/images/durham-tech-logo-web.svg) \n",
    "\n",
    "## Introduction\n",
    "This lecture provides an overview of some of the technical requirements needed to complete the course as well as a python review.\n",
    "\n",
    "---"
   ]
  },
  {
   "cell_type": "markdown",
   "metadata": {},
   "source": [
    "# Table of Contents\n",
    "\n",
    "### Jupyter Overview\n",
    "#### <a href='#1'>Useful Links</a>\n",
    "#### <a href='#2'>Introduction to Jupyter Notebooks</a>\n",
    "#### <a href='#3'>Cell Types</a>\n",
    "* Markdown \n",
    "* Code\n",
    "    1. Running One Cell\n",
    "    2. Other Run Options\n",
    "\n",
    "#### <a href='#4'>Tips and Tricks</a>\n",
    "\n",
    "### Python Review\n",
    "#### <a href='#5'>Programming Basics</a>\n",
    "#### <a href='#6'>Python as a Calculator</a>\n",
    "#### <a href='#7'>Variable Assignment</a>\n",
    "#### <a href='#8'>String Manipulation</a>\n",
    "#### <a href='#9'>Loops</a>\n",
    "* For \n",
    "* While\n",
    "\n",
    "#### <a href='#10'>If Statements</a>\n",
    "#### <a href='#11'>Try/Except Clauses</a>\n",
    "#### <a href='#12'>Data Structures</a>\n",
    "* Lists \n",
    "* Sets\n",
    "* Dictionaries\n",
    "\n",
    "#### <a href='#13'>Functions</a>\n",
    "* Higher Order Functions\n",
    "\n",
    "#### <a href='#14'>Random</a>\n",
    "* User Input\n",
    "* Importing Packages\n",
    "* Return/Print\n",
    "\n",
    "#### <a href='#15'>Weekly Readings/Videos</a>\n",
    "#### <a href='#16'>Extra Practice</a>\n"
   ]
  },
  {
   "cell_type": "markdown",
   "metadata": {},
   "source": [
    "<a id='1'></a>\n",
    "# Useful Links\n",
    "1. Anaconda/Jupyter Basics:\n",
    "    - https://www.edureka.co/blog/python-anaconda-tutorial/\n",
    "2. Tableau (BEN CAN YOU PUT SOMETHING HERE????\n",
    "???\n",
    "???\n",
    "???\n",
    "???\n",
    ")\n",
    "3. Github (Recommended that you have an account to download our lectures from):\n",
    "    - https://readwrite.com/2013/09/30/understanding-github-a-journey-for-beginners-part-1/\n",
    "    - https://readwrite.com/2013/10/02/github-for-beginners-part-2/\n",
    "4. Learning Python (resources):\n",
    "    - https://www.datacamp.com/courses/intro-to-python-for-data-science\n",
    "    - [Great Python Exercises for Practice](https://www.practicepython.org\n",
    ")\n",
    "5. Matt and Ben's Website: https://www.nolansmithsolutions.com\n",
    "6. Course's Github Account: https://github.com/NolanSmithSolutions/Lectures\n"
   ]
  },
  {
   "cell_type": "markdown",
   "metadata": {},
   "source": [
    "<a id='2'></a>\n",
    "# Introduction to Jupyter Notebooks"
   ]
  },
  {
   "cell_type": "markdown",
   "metadata": {},
   "source": [
    "From the [Project Jupyter Website](https://jupyter.org/):\n",
    "\n",
    "* *__Project Jupyter__ exists to develop open-source software, open-standards, and services for interactive computing across dozens of programming languages.*\n",
    "\n",
    "* *__The Jupyter Notebook__ is an open-source web application that allows you to create and share documents that contain live code, equations, visualizations and narrative text. Uses include: data cleaning and transformation, numerical simulation, statistical modeling, data visualization, machine learning, and much more.*"
   ]
  },
  {
   "cell_type": "markdown",
   "metadata": {},
   "source": [
    "# Cell Types\n",
    "\n",
    "## Markdown cells\n",
    "\n",
    "Where you write text, equations, matrices, example code, images... virtually anything you don't need to have evaluated by the programming language."
   ]
  },
  {
   "cell_type": "markdown",
   "metadata": {},
   "source": [
    "Example with python code\n",
    "```python\n",
    "# example function\n",
    "def return_middle_name(first,middle,last):\n",
    "    return middle\n",
    "```"
   ]
  },
  {
   "cell_type": "markdown",
   "metadata": {},
   "source": [
    "An internal link to the bottom section in the notebook using HTML:\n",
    "\n",
    "## <a href='#bottom'>Link: Take me to the bottom of the notebook</a>"
   ]
  },
  {
   "cell_type": "markdown",
   "metadata": {},
   "source": [
    "___\n",
    "\n",
    "**Find a lot of useful Markdown commands here:** https://github.com/adam-p/markdown-here/wiki/Markdown-Cheatsheet\n",
    "\n",
    "___"
   ]
  },
  {
   "cell_type": "markdown",
   "metadata": {},
   "source": [
    "## Code Cells\n",
    "In them you can interactively run Python commands"
   ]
  },
  {
   "cell_type": "markdown",
   "metadata": {},
   "source": [
    "### Run a single block of code\n",
    "Cell -> Run Cells\n",
    "\n",
    "or\n",
    "\n",
    "ctrl + enter\n",
    "\n",
    "### Other Running Options\n",
    "\n",
    "- Run All\n",
    "- Run All Below\n",
    "- Run All Above\n",
    "\n",
    "(Options listed under the cell button on the top taskbar)"
   ]
  },
  {
   "cell_type": "code",
   "execution_count": null,
   "metadata": {},
   "outputs": [],
   "source": [
    "print('hello world!')\n",
    "print(\"Its so good to see you\")\n",
    "\n",
    "# Comment out code in a cell by using a hashtag at the beginning of the line"
   ]
  },
  {
   "cell_type": "code",
   "execution_count": null,
   "metadata": {},
   "outputs": [],
   "source": [
    "# Lines evaluated sequentially, a cell displays output of last line only unless a print statement is used\n",
    "\n",
    "# Not printed out at the bottom - not the last line\n",
    "9+1\n",
    "\n",
    "# Printed out at the bottom - below is the last uncommented line\n",
    "5+3"
   ]
  },
  {
   "cell_type": "code",
   "execution_count": null,
   "metadata": {},
   "outputs": [],
   "source": [
    "# Because each line is evaluated sequentially, an error in a previous line that is run will\n",
    "# error out the cell and prevent correct lines after it from running (unless advanced coding techniques\n",
    "# such as a try/except are used)\n",
    "\n",
    "print('Line 1 works as this is correct code')\n",
    "print('This line will not print as there is an error in it', a)\n",
    "print('If the line above this did not have an error, it would have printed')"
   ]
  },
  {
   "cell_type": "code",
   "execution_count": null,
   "metadata": {},
   "outputs": [],
   "source": [
    "# You can still manually run code after a cell block that has an error above it\n",
    "print('This cell can possibly run independently of the ones above if you manually run it after an error above')"
   ]
  },
  {
   "cell_type": "code",
   "execution_count": null,
   "metadata": {},
   "outputs": [],
   "source": [
    "# Watch out for code that gets stuck in an infinite loop - you will have to manually stop programs with\n",
    "# the stop button above on the taskbar that has the square icon on it\n",
    "while True:\n",
    "    continue"
   ]
  },
  {
   "cell_type": "code",
   "execution_count": null,
   "metadata": {},
   "outputs": [],
   "source": [
    "# While cells run independently, variables exist independently of the code block\n",
    "\n",
    "tmp_str = 'This sentence is stored in memory'\n",
    "print(tmp_str)"
   ]
  },
  {
   "cell_type": "code",
   "execution_count": null,
   "metadata": {},
   "outputs": [],
   "source": [
    "# The same variable \"temp_str\" exists outside of the cell it was defined in\n",
    "print(tmp_str)"
   ]
  },
  {
   "cell_type": "markdown",
   "metadata": {},
   "source": [
    "<a id='4'></a>\n",
    "# Tips and Tricks"
   ]
  },
  {
   "cell_type": "code",
   "execution_count": 181,
   "metadata": {},
   "outputs": [
    {
     "name": "stdout",
     "output_type": "stream",
     "text": [
      "This tells you what directory you currently are in\n"
     ]
    },
    {
     "data": {
      "text/plain": [
       "'/Users/Matthew/Documents/Consulting/Lectures/Intro'"
      ]
     },
     "execution_count": 181,
     "metadata": {},
     "output_type": "execute_result"
    }
   ],
   "source": [
    "# Basic Unix commands\n",
    "# http://mally.stanford.edu/~sr/computing/basic-unix.html\n",
    "\n",
    "print('This tells you what directory you currently are in')\n",
    "%pwd"
   ]
  },
  {
   "cell_type": "code",
   "execution_count": 182,
   "metadata": {},
   "outputs": [
    {
     "name": "stdout",
     "output_type": "stream",
     "text": [
      "\n",
      "This lists the files in the current directory you are in\n",
      "Introduction.ipynb                 anaconda_install_instructions.pdf\n",
      "\n",
      "Other useful commands are \"cd\", \"mkdir\", \"mv\", and \"cd\"\n"
     ]
    }
   ],
   "source": [
    "print('\\nThis lists the files in the current directory you are in')\n",
    "%ls\n",
    "\n",
    "print('\\nOther useful commands are \"cd\", \"mkdir\", \"mv\", and \"cd\"')"
   ]
  },
  {
   "cell_type": "code",
   "execution_count": 176,
   "metadata": {},
   "outputs": [
    {
     "name": "stdout",
     "output_type": "stream",
     "text": [
      "Timing just one operation\n",
      "CPU times: user 8 µs, sys: 2 µs, total: 10 µs\n",
      "Wall time: 36 µs\n",
      "\n",
      "Timing several operations\n",
      "24.5 ms ± 2.57 ms per loop (mean ± std. dev. of 7 runs, 10 loops each)\n"
     ]
    }
   ],
   "source": [
    "print('Timing just one operation')\n",
    "# Time this operation\n",
    "%time \n",
    "[x for x in range(300000)];\n",
    "\n",
    "print('\\nTiming several operations')\n",
    "# Time several runs of the same operation\n",
    "%timeit [x for x in range(300000)];"
   ]
  },
  {
   "cell_type": "code",
   "execution_count": null,
   "metadata": {},
   "outputs": [],
   "source": [
    "def our_function(x):\n",
    "    \"\"\"This is a multi line comment for a function.  This is often used to describe the function you have just written\n",
    "    ie: This function prints out the line number and a phrase x amount of times\"\"\"\n",
    "    for i in range(int(x)):\n",
    "        print(str(i+1)+' I love python')\n",
    "\n",
    "our_function(6)"
   ]
  },
  {
   "cell_type": "markdown",
   "metadata": {},
   "source": [
    "## Shortcuts\n",
    "4. Enter selection mode / Cell mode (Esc / Return)\n",
    "1. Insert cells (press A or B in selection mode)\n",
    "2. Delete / Cut cells (press X in selection mode)\n",
    "3. Mark several cells (Shift in selection mode)\n",
    "6. Merge cells (Select, then Shift+M)\n",
    "7. The folder .ipynb-checkpoints"
   ]
  },
  {
   "cell_type": "markdown",
   "metadata": {},
   "source": [
    "## Printing to pdf \n",
    "File -> Print Preview. Then Print that page as a Pdf (Ctrl + P)."
   ]
  },
  {
   "cell_type": "markdown",
   "metadata": {},
   "source": [
    "## -------------PRACTICE-------------\n",
    "1. Edit the code below to see how long it takes to run 50 iterations of \"our_function\""
   ]
  },
  {
   "cell_type": "code",
   "execution_count": null,
   "metadata": {},
   "outputs": [],
   "source": [
    "our_function(100)"
   ]
  },
  {
   "cell_type": "markdown",
   "metadata": {},
   "source": [
    "2. Create a folder named \"Test\" in your current directory. Then navigate to that folder on Jupyter Notebooks as well as pull it up on your computer."
   ]
  },
  {
   "cell_type": "markdown",
   "metadata": {},
   "source": [
    "3. Delete the blank cell below this cell.  Then, recreate it using an insert cell as a markdown cells and type in a header that says \"Hello\"."
   ]
  },
  {
   "cell_type": "code",
   "execution_count": null,
   "metadata": {},
   "outputs": [],
   "source": []
  },
  {
   "cell_type": "markdown",
   "metadata": {},
   "source": [
    "4. Print to PDF this page and open up the lecture there."
   ]
  },
  {
   "cell_type": "markdown",
   "metadata": {},
   "source": [
    "# Review of Python Topics"
   ]
  },
  {
   "cell_type": "markdown",
   "metadata": {},
   "source": [
    "### Why Python?\n",
    "Python has experienced incredible growth over the last couple of years, and many of the state of the art Machine Learning libraries being developed today have support for Python (scikit-learn, TensorFlow etc.)  Additonally, python has many uses outside of the data science world that specialized languages such R don't have quite as readily available.\n",
    "\n",
    "![](https://149351115.v2.pressablecdn.com/wp-content/uploads/2017/09/growth_major_languages-1-1024x878.png)\n",
    "\n",
    "Source: https://stackoverflow.blog/2017/09/06/incredible-growth-python/"
   ]
  },
  {
   "cell_type": "markdown",
   "metadata": {},
   "source": [
    "### Check what Python distribution you are running"
   ]
  },
  {
   "cell_type": "code",
   "execution_count": null,
   "metadata": {},
   "outputs": [],
   "source": [
    "!which python"
   ]
  },
  {
   "cell_type": "code",
   "execution_count": null,
   "metadata": {},
   "outputs": [],
   "source": [
    "# Check that it is Python 3\n",
    "import sys # import built in package\n",
    "print(sys.version)"
   ]
  },
  {
   "cell_type": "markdown",
   "metadata": {},
   "source": [
    "<a id='5'></a>\n",
    "# Programming Basics\n",
    "\n",
    "Programs are simply a sequence of instructions that can be executed by a computer to perform a specific task by manipulating values.  Values come in a few different types:\n",
    "\n",
    "1. Strings: \"Hello\", \"I love coding\"\n",
    "2. Floats: 5.7, 3.14, -2.99996\n",
    "3. Integers: -8, 12, 100016\n",
    "4. Booleans: True, False"
   ]
  },
  {
   "cell_type": "code",
   "execution_count": null,
   "metadata": {},
   "outputs": [],
   "source": [
    "# Print the type of different values\n",
    "\n",
    "print(2, type(2))\n",
    "\n",
    "print(2.1, type(2.1))\n",
    "\n",
    "print(\"2\", type(\"2\"))\n",
    "\n",
    "print(\"too\", type(\"too\"))\n",
    "\n",
    "print(True, type(True))"
   ]
  },
  {
   "cell_type": "code",
   "execution_count": null,
   "metadata": {},
   "outputs": [],
   "source": [
    "# While 8 and 8.0 are technically the same value, they are stored as different variable types by python\n",
    "type(8) == type(8.0)"
   ]
  },
  {
   "cell_type": "code",
   "execution_count": null,
   "metadata": {},
   "outputs": [],
   "source": [
    "#Another way to check if a value is a certain type\n",
    "print (isinstance(8,int))\n",
    "print (isinstance(23.7,int))"
   ]
  },
  {
   "cell_type": "markdown",
   "metadata": {},
   "source": [
    "<a id='6'></a>\n",
    "# Python as a Calculator\n",
    "1. (+) operator (addition)\n",
    "2. (-) operator (subtraction)\n",
    "3. (*) operator (multiplication)\n",
    "4. (/) operator (floating point division)\n",
    " - divides the first number number by the second, evaluating to a number with a decimal point even if the numbers divide evenly\n",
    " \n",
    "5. (//) operator (floor division) \n",
    " - divides the first number by the second and then rounds down, evaluating to an integer.\n",
    "6. (%) operator (modulo) \n",
    " - evaluates to the positive remainder left over from division.\n",
    "\n",
    "Parentheses may be used to group subexpressions together; the entire expression is evaluated in PEMDAS (Parentheses, Exponentiation, Multiplication / Division, Addition / Subtraction) order."
   ]
  },
  {
   "cell_type": "code",
   "execution_count": null,
   "metadata": {},
   "outputs": [],
   "source": [
    "# Addition\n",
    "5.8 + 12"
   ]
  },
  {
   "cell_type": "code",
   "execution_count": null,
   "metadata": {},
   "outputs": [],
   "source": [
    "# Subtraction\n",
    "12 - 8"
   ]
  },
  {
   "cell_type": "code",
   "execution_count": null,
   "metadata": {},
   "outputs": [],
   "source": [
    "# Multiplication\n",
    "7*77"
   ]
  },
  {
   "cell_type": "code",
   "execution_count": null,
   "metadata": {},
   "outputs": [],
   "source": [
    "# Floor division\n",
    "8//3"
   ]
  },
  {
   "cell_type": "code",
   "execution_count": null,
   "metadata": {},
   "outputs": [],
   "source": [
    "# Floating point division, note the difference\n",
    "8/3"
   ]
  },
  {
   "cell_type": "code",
   "execution_count": null,
   "metadata": {},
   "outputs": [],
   "source": [
    "# Rounding, again note the difference\n",
    "round(8/3)"
   ]
  },
  {
   "cell_type": "markdown",
   "metadata": {},
   "source": [
    "<a id='7'></a>\n",
    "# Variable Assignment\n",
    "\n",
    "An assignment statement consists of a name (often a variable) and an expression (often an equation or function). It changes the state of the variable/name by evaluating the expression to the right of the = sign and binding its value to the name on the left.\n",
    "\n",
    "This is not to be confused with the double equals sign (==) which checks for equality between two variables/values."
   ]
  },
  {
   "cell_type": "code",
   "execution_count": null,
   "metadata": {},
   "outputs": [],
   "source": [
    "# The variable \"a\" is now assigned with 4 and \"b\" is assigned to 2\n",
    "a = 4; b = 2\n",
    "print(b**a) # ** is exponentiation"
   ]
  },
  {
   "cell_type": "code",
   "execution_count": null,
   "metadata": {},
   "outputs": [],
   "source": [
    "a = 4; b = 2\n",
    "print(b**a) # ** is 'to the power'"
   ]
  },
  {
   "cell_type": "code",
   "execution_count": null,
   "metadata": {},
   "outputs": [],
   "source": [
    "# Note the use of parenthesis!!!!\n",
    "print(a%(b+1))  # modulus operator = remainder"
   ]
  },
  {
   "cell_type": "code",
   "execution_count": 154,
   "metadata": {},
   "outputs": [
    {
     "name": "stdout",
     "output_type": "stream",
     "text": [
      "False\n",
      "True\n",
      "True\n"
     ]
    }
   ],
   "source": [
    "# Boolean checks\n",
    "# Refer to this document for more https://www.lotame.com/what-is-boolean-logic/\n",
    "a = True; b = False; c = True\n",
    "print(a and b)\n",
    "print(a or b)\n",
    "print(a != b) # not equal to"
   ]
  },
  {
   "cell_type": "code",
   "execution_count": 186,
   "metadata": {},
   "outputs": [
    {
     "name": "stdout",
     "output_type": "stream",
     "text": [
      "5\n",
      "6\n",
      "7\n",
      "21\n",
      "168\n"
     ]
    }
   ],
   "source": [
    "# Changing variables\n",
    "x = 5\n",
    "print(x)\n",
    "\n",
    "# Add to x\n",
    "x = x +1\n",
    "print(x)\n",
    "\n",
    "# Another way\n",
    "x += 1\n",
    "print(x)\n",
    "\n",
    "# Multiply x\n",
    "x = x * 3\n",
    "print(x)\n",
    "\n",
    "# Another way\n",
    "x *= 8\n",
    "print(x)"
   ]
  },
  {
   "cell_type": "code",
   "execution_count": null,
   "metadata": {},
   "outputs": [],
   "source": [
    "# Conditional programming\n",
    "if 5 == 5:\n",
    "    print('correct')\n",
    "else:\n",
    "    print('incorrect...')"
   ]
  },
  {
   "cell_type": "markdown",
   "metadata": {},
   "source": [
    "<a id='8'></a>\n",
    "# String Manipulation"
   ]
  },
  {
   "cell_type": "code",
   "execution_count": 184,
   "metadata": {},
   "outputs": [],
   "source": [
    "# Strings and slicing with the alphabet\n",
    "alphabet = \"abcdefghijklmnopqrstuvwxyz\""
   ]
  },
  {
   "cell_type": "code",
   "execution_count": null,
   "metadata": {},
   "outputs": [],
   "source": [
    "print(alphabet[1]) # zero indexed, meaning everything starts out at 0\n",
    "print(alphabet[0]) # ie: 0 is the first number if you listed out every letter in the string"
   ]
  },
  {
   "cell_type": "code",
   "execution_count": null,
   "metadata": {},
   "outputs": [],
   "source": [
    "print (type(alphabet))"
   ]
  },
  {
   "cell_type": "code",
   "execution_count": null,
   "metadata": {},
   "outputs": [],
   "source": [
    "print (len(alphabet))"
   ]
  },
  {
   "cell_type": "code",
   "execution_count": null,
   "metadata": {},
   "outputs": [],
   "source": [
    "print(alphabet)"
   ]
  },
  {
   "cell_type": "code",
   "execution_count": null,
   "metadata": {},
   "outputs": [],
   "source": [
    "print (alphabet[1:4:1]) # start:stop:step, start at 1, stop at 4, move to the next 1 object"
   ]
  },
  {
   "cell_type": "code",
   "execution_count": null,
   "metadata": {},
   "outputs": [],
   "source": [
    "print (alphabet[::3]) # every 3 letters"
   ]
  },
  {
   "cell_type": "code",
   "execution_count": null,
   "metadata": {},
   "outputs": [],
   "source": [
    "print (alphabet[::-1]) # the step is -1, indicating that it traverses the alphabet in opposite order"
   ]
  },
  {
   "cell_type": "code",
   "execution_count": 188,
   "metadata": {},
   "outputs": [
    {
     "name": "stdout",
     "output_type": "stream",
     "text": [
      "zvrnjf\n"
     ]
    }
   ],
   "source": [
    "print (alphabet[len(alphabet)-1:1:-4])"
   ]
  },
  {
   "cell_type": "code",
   "execution_count": null,
   "metadata": {},
   "outputs": [],
   "source": [
    "# Triple quotes are useful for multiple line strings\n",
    "y = '''Sally sells \n",
    "Seashells by \n",
    "The sea shore.'''\n",
    "print (y)"
   ]
  },
  {
   "cell_type": "code",
   "execution_count": null,
   "metadata": {},
   "outputs": [],
   "source": [
    "# tokenize by space\n",
    "words = y.split(' ')\n",
    "print (words)"
   ]
  },
  {
   "cell_type": "code",
   "execution_count": null,
   "metadata": {},
   "outputs": [],
   "source": [
    "# remove break line character\n",
    "[w.replace('\\n','') for w in words]"
   ]
  },
  {
   "cell_type": "markdown",
   "metadata": {},
   "source": [
    "<a id='9'></a>\n",
    "# Loops\n",
    "A loop statement allows users to execute a statement or group of statements many times.  An example can be seen in this for loop logic diagram below.\n",
    "\n",
    "## Loop Types\n",
    "\n",
    "#### For \n",
    "Executes a sequence of statements multiple times and abbreviates the code that manages the loop variable.\n",
    "\n",
    "#### While \n",
    "Repeats a statement or group of statements while a given condition is TRUE. It tests the condition before executing the loop body.\n",
    "\n",
    "## Loop Controls\n",
    "\n",
    "#### Continue\n",
    "Causes the loop to skip the remainder of its body and immediately retest its condition prior to reiterating.\n",
    "\n",
    "#### Pass\n",
    "The pass statement in Python is used when a statement is required syntactically but you do not want any command or code to execute.\n",
    "\n",
    "#### Break\n",
    "Terminates the loop statement and transfers execution to the statement immediately following the loop.\n",
    "\n",
    "source: https://www.tutorialspoint.com/python/python_loops.htm"
   ]
  },
  {
   "cell_type": "code",
   "execution_count": 164,
   "metadata": {},
   "outputs": [
    {
     "name": "stdout",
     "output_type": "stream",
     "text": [
      "hello Lemur\n",
      "hello Elephant\n",
      "hello Dog\n",
      "\n",
      "\n",
      "I am 2 years old\n",
      "I am 12 years old\n",
      "I am 22 years old\n",
      "I am 52 years old\n",
      "I am 62 years old\n",
      "I am 72 years old\n",
      "I am 82 years old\n",
      "I am 92 years old\n",
      "\n",
      "\n",
      "animal  0  is  Lemur\n",
      "animal  1  is  Elephant\n",
      "animal  2  is  Dog\n",
      "animal  3  is  Cat\n",
      "animal  4  is  Zebra\n"
     ]
    }
   ],
   "source": [
    "# For loop, this goes through each element in the animals list and says hello to each animal\n",
    "animals = ['Lemurs', 'Elephants', 'Dogs', 'Cats', 'Zebras']\n",
    "for animal in animals:\n",
    "    if animal == 'Cats':\n",
    "        #end loop if Cats comes up\n",
    "        break\n",
    "    print('hello', animal[:-1])\n",
    "\n",
    "print('\\n') # blank line prints out\n",
    "\n",
    "# While loop\n",
    "count = 2\n",
    "while count < 100:\n",
    "    if count >= 30 and count <= 50:\n",
    "        count = count + 10\n",
    "        # Doesn't print out counts between 30 and 50\n",
    "        continue\n",
    "    print('I am', count, 'years old')\n",
    "    count = count + 10\n",
    "\n",
    "print('\\n')\n",
    "\n",
    "# Loop with enumerated index and items\n",
    "# This assigns an index number to the list while still allowing you to traverse through the elements\n",
    "for index,animal in enumerate(animals):\n",
    "    print (\"animal \", index,\" is \", animal[:-1] )"
   ]
  },
  {
   "cell_type": "markdown",
   "metadata": {},
   "source": [
    "<a id='10'></a>\n",
    "# If Statements\n",
    "\n",
    "This statement eveluates whether the conditional expression is true or false.  When the condition is true, the statement executes otherwise an \"else\" statement can provide an alternative statement for Python to execute.  \"elif\" (else if) is used as an additional if statement within the same loop logic."
   ]
  },
  {
   "cell_type": "code",
   "execution_count": 157,
   "metadata": {},
   "outputs": [
    {
     "name": "stdout",
     "output_type": "stream",
     "text": [
      "potentially has a drivers license\n"
     ]
    }
   ],
   "source": [
    "age = 20\n",
    "\n",
    "if age < 15:\n",
    "    print('can not drive')\n",
    "elif age == 15:\n",
    "    print('has a temp license')\n",
    "elif age >= 16:\n",
    "    #nested if statement\n",
    "    if age > 21:\n",
    "        print('most likely has a drivers license')\n",
    "    else:\n",
    "        print('potentially has a drivers license')\n",
    "else:\n",
    "    print('there is an error with the age') #wont ever be evaluated since all ages are covered with our if/elif statements"
   ]
  },
  {
   "cell_type": "markdown",
   "metadata": {},
   "source": [
    "<a id='11'></a>\n",
    "## Try and Except Clauses\n",
    "\n",
    "Python allows you to write code that can allow errors that don't break your code with try and except clauses which are structured as follows:\n",
    "\n",
    "```python\n",
    "try:\n",
    "    <try suite>\n",
    "except <exception class> as <name>: \n",
    "        <except suite>\n",
    "```"
   ]
  },
  {
   "cell_type": "code",
   "execution_count": 167,
   "metadata": {},
   "outputs": [
    {
     "name": "stdout",
     "output_type": "stream",
     "text": [
      "i is the 6th letter in Beatrice's name\n",
      "Adam does not have at least 6 letters in their name\n",
      "Mary does not have at least 6 letters in their name\n",
      "Matt does not have at least 6 letters in their name\n",
      "Jane does not have at least 6 letters in their name\n",
      "n is the 6th letter in Jordan's name\n",
      "David does not have at least 6 letters in their name\n",
      "h is the 6th letter in Hannah's name\n",
      "Laura does not have at least 6 letters in their name\n",
      "\n",
      "Notice how this block of code errors out\n",
      "i is the 6th letter in Beatrice's name\n"
     ]
    },
    {
     "ename": "IndexError",
     "evalue": "string index out of range",
     "output_type": "error",
     "traceback": [
      "\u001b[0;31m---------------------------------------------------------------------------\u001b[0m",
      "\u001b[0;31mIndexError\u001b[0m                                Traceback (most recent call last)",
      "\u001b[0;32m<ipython-input-167-77a3c83bed87>\u001b[0m in \u001b[0;36m<module>\u001b[0;34m\u001b[0m\n\u001b[1;32m     10\u001b[0m \u001b[0mprint\u001b[0m\u001b[0;34m(\u001b[0m\u001b[0;34m'\\nNotice how this block of code errors out'\u001b[0m\u001b[0;34m)\u001b[0m\u001b[0;34m\u001b[0m\u001b[0;34m\u001b[0m\u001b[0m\n\u001b[1;32m     11\u001b[0m \u001b[0;32mfor\u001b[0m \u001b[0mperson\u001b[0m \u001b[0;32min\u001b[0m \u001b[0mpeople\u001b[0m\u001b[0;34m:\u001b[0m\u001b[0;34m\u001b[0m\u001b[0;34m\u001b[0m\u001b[0m\n\u001b[0;32m---> 12\u001b[0;31m     \u001b[0mprint\u001b[0m\u001b[0;34m(\u001b[0m\u001b[0mperson\u001b[0m\u001b[0;34m[\u001b[0m\u001b[0;36m5\u001b[0m\u001b[0;34m]\u001b[0m\u001b[0;34m,\u001b[0m\u001b[0;34m'is the 6th letter in'\u001b[0m\u001b[0;34m,\u001b[0m \u001b[0mperson\u001b[0m\u001b[0;34m+\u001b[0m\u001b[0;34m\"'s name\"\u001b[0m\u001b[0;34m)\u001b[0m\u001b[0;34m\u001b[0m\u001b[0;34m\u001b[0m\u001b[0m\n\u001b[0m",
      "\u001b[0;31mIndexError\u001b[0m: string index out of range"
     ]
    }
   ],
   "source": [
    "people = ['Beatrice','Adam','Mary','Matt','Jane','Jordan','David','Hannah','Laura']\n",
    "\n",
    "#This except clause avoids an error if the person does not have at least 6 letters\n",
    "for person in people:\n",
    "    try:\n",
    "        print(person[5],'is the 6th letter in', person+\"'s name\")\n",
    "    except Exception as e:\n",
    "        print(person, \"does not have at least 6 letters in their name\")\n",
    "        \n",
    "print('\\nNotice how this block of code errors out')\n",
    "for person in people:\n",
    "    print(person[5],'is the 6th letter in', person+\"'s name\")"
   ]
  },
  {
   "cell_type": "markdown",
   "metadata": {},
   "source": [
    "## -------------PRACTICE-------------\n",
    "\n",
    "1. Multiply 127 * 9853 then divide that by 311.  What is the remainder?"
   ]
  },
  {
   "cell_type": "code",
   "execution_count": null,
   "metadata": {},
   "outputs": [],
   "source": []
  },
  {
   "cell_type": "markdown",
   "metadata": {},
   "source": [
    "2. Assign the variables \"test_var1\" to the value 2072 divided by 96.  Print if this variable is equal to 6.  Then print what the variable test_var1 is equal to."
   ]
  },
  {
   "cell_type": "code",
   "execution_count": null,
   "metadata": {},
   "outputs": [],
   "source": []
  },
  {
   "cell_type": "markdown",
   "metadata": {},
   "source": [
    "3. Using the \"alphabet\" variable, print the last 4 letters."
   ]
  },
  {
   "cell_type": "code",
   "execution_count": null,
   "metadata": {},
   "outputs": [],
   "source": []
  },
  {
   "cell_type": "markdown",
   "metadata": {},
   "source": [
    "4. Edit the code below to use a pass statement to skip printing 32 and 42.  This one may be a bit challenging."
   ]
  },
  {
   "cell_type": "code",
   "execution_count": 190,
   "metadata": {},
   "outputs": [
    {
     "name": "stdout",
     "output_type": "stream",
     "text": [
      "I am 2 years old\n",
      "I am 12 years old\n",
      "I am 22 years old\n",
      "I am 52 years old\n",
      "I am 62 years old\n",
      "I am 72 years old\n",
      "I am 82 years old\n",
      "I am 92 years old\n"
     ]
    }
   ],
   "source": [
    "count = 2\n",
    "while count < 100:\n",
    "    if count >= 30 and count <= 50:\n",
    "        count = count + 10\n",
    "        continue\n",
    "    print('I am', count, 'years old')\n",
    "    count = count + 10"
   ]
  },
  {
   "cell_type": "markdown",
   "metadata": {},
   "source": [
    "5. For the items in the list \"groceries\" below, only print the items that have the second letter as a vowel.  You may want to use the \"in\" keyword and the list of vowels provided below."
   ]
  },
  {
   "cell_type": "code",
   "execution_count": null,
   "metadata": {},
   "outputs": [],
   "source": [
    "vowels = ['a','e','i','o','u']\n",
    "groceries = ['apple','bananas', 'grapes', 'bread', 'milk', 'poptarts','coffee','cabbage','lettuce','cereal','spinach']\n"
   ]
  },
  {
   "cell_type": "markdown",
   "metadata": {},
   "source": [
    "<a id='12'></a>\n",
    "# Data Structures"
   ]
  },
  {
   "cell_type": "markdown",
   "metadata": {},
   "source": [
    "## Lists \n",
    "Sequence of Python objects"
   ]
  },
  {
   "cell_type": "code",
   "execution_count": 125,
   "metadata": {},
   "outputs": [
    {
     "name": "stdout",
     "output_type": "stream",
     "text": [
      "<class 'list'>\n",
      "<class 'list'>\n"
     ]
    }
   ],
   "source": [
    "#Create blank list\n",
    "list1 = list()\n",
    "print(type(list1))\n",
    "\n",
    "# Empty list type\n",
    "print(type([]))"
   ]
  },
  {
   "cell_type": "code",
   "execution_count": 126,
   "metadata": {},
   "outputs": [
    {
     "name": "stdout",
     "output_type": "stream",
     "text": [
      "['hello', 'world']\n",
      "['hello']\n",
      "['hello', 'people', 'hello', 'people', 'hello', 'people']\n"
     ]
    }
   ],
   "source": [
    "# Append to list\n",
    "list1.append('hello')\n",
    "list1.append('world')\n",
    "print(list1)\n",
    "\n",
    "#remove item from list\n",
    "list1.pop(1)\n",
    "print(list1)\n",
    "\n",
    "# Merge list\n",
    "list1 = list1 + ['people']\n",
    "print(list1)\n",
    "\n",
    "# Multiply the list\n",
    "list1 = list1 * 3\n",
    "print(list1)"
   ]
  },
  {
   "cell_type": "code",
   "execution_count": null,
   "metadata": {},
   "outputs": [],
   "source": [
    "# list of numbers\n",
    "even_nbrs = list(range(0,20,2)) # range has lazy evaluation\n",
    "print (even_nbrs)"
   ]
  },
  {
   "cell_type": "code",
   "execution_count": null,
   "metadata": {},
   "outputs": [],
   "source": [
    "# supports objects of different data types\n",
    "z = [1,4,'c',4, 2, 6]\n",
    "print (z)\n",
    "\n",
    "# list length (number of elements)\n",
    "print(len(z))\n",
    "\n",
    "# it's easy to know if an element is in a list\n",
    "print ('c' in z, 'd' in z)\n",
    "\n",
    "print (z[2])  # print element in position #2"
   ]
  },
  {
   "cell_type": "code",
   "execution_count": null,
   "metadata": {},
   "outputs": [],
   "source": [
    "# lists can be sorted, \n",
    "# but not with different data types\n",
    "z.sort()"
   ]
  },
  {
   "cell_type": "code",
   "execution_count": null,
   "metadata": {},
   "outputs": [],
   "source": [
    "#Get rid of different data type\n",
    "z.pop(2)\n",
    "z.sort()\n",
    "z"
   ]
  },
  {
   "cell_type": "code",
   "execution_count": null,
   "metadata": {},
   "outputs": [],
   "source": [
    "print(z.count(4))  # how many times is there a 4"
   ]
  },
  {
   "cell_type": "code",
   "execution_count": null,
   "metadata": {},
   "outputs": [],
   "source": [
    "# print all even numbers up to an integer\n",
    "for i in range(0,10,2):\n",
    "    print (i)"
   ]
  },
  {
   "cell_type": "code",
   "execution_count": null,
   "metadata": {},
   "outputs": [],
   "source": [
    "# list comprehesion is like f(x) for x as an element of Set X\n",
    "\n",
    "# S = {x² : x in {0 ... 9}}\n",
    "S = [x**2 for x in range(10)]\n",
    "print (S)\n",
    "\n",
    "# All even elements from S\n",
    "\n",
    "# M = {x | x in S and x even}\n",
    "M = [x for x in S if x % 2 == 0]\n",
    "print (M)"
   ]
  },
  {
   "cell_type": "markdown",
   "metadata": {},
   "source": [
    "## Sets \n",
    "Collection of unique elements"
   ]
  },
  {
   "cell_type": "code",
   "execution_count": 128,
   "metadata": {},
   "outputs": [
    {
     "name": "stdout",
     "output_type": "stream",
     "text": [
      "{1, 2, 3, 4, 5, 'a'}\n"
     ]
    }
   ],
   "source": [
    "# a set is not ordered\n",
    "a = set([1, 2, 3, 3, 3, 4, 5,'a']); print (a)"
   ]
  },
  {
   "cell_type": "code",
   "execution_count": 129,
   "metadata": {},
   "outputs": [
    {
     "name": "stdout",
     "output_type": "stream",
     "text": [
      "{'d', 'a', 'c', 'e', 'b', 'f'}\n"
     ]
    }
   ],
   "source": [
    "b = set('abaacdef'); print (b) # not ordered"
   ]
  },
  {
   "cell_type": "code",
   "execution_count": 130,
   "metadata": {},
   "outputs": [
    {
     "name": "stdout",
     "output_type": "stream",
     "text": [
      "{1, 2, 3, 4, 5, 'd', 'a', 'c', 'e', 'b', 'f'}\n"
     ]
    }
   ],
   "source": [
    "print (a|b) # a or b"
   ]
  },
  {
   "cell_type": "code",
   "execution_count": 131,
   "metadata": {},
   "outputs": [
    {
     "name": "stdout",
     "output_type": "stream",
     "text": [
      "{'a'}\n"
     ]
    }
   ],
   "source": [
    "print(a&b) # a and b"
   ]
  },
  {
   "cell_type": "code",
   "execution_count": 133,
   "metadata": {},
   "outputs": [
    {
     "name": "stdout",
     "output_type": "stream",
     "text": [
      "{2, 4, 'd', 'a', 'f', 'b'}\n"
     ]
    }
   ],
   "source": [
    "c = set([1,3,5,'c', 'e']) \n",
    "print ((a|b) - c) # (a or b) but not in c"
   ]
  },
  {
   "cell_type": "code",
   "execution_count": 134,
   "metadata": {},
   "outputs": [
    {
     "name": "stdout",
     "output_type": "stream",
     "text": [
      "{1, 2, 3, 4, 'a'}\n"
     ]
    }
   ],
   "source": [
    "a.remove(5); print (a) # removes the '5'"
   ]
  },
  {
   "cell_type": "markdown",
   "metadata": {},
   "source": [
    "## Dictionaries: \n",
    "Key, Value pairs"
   ]
  },
  {
   "cell_type": "code",
   "execution_count": 169,
   "metadata": {},
   "outputs": [
    {
     "name": "stdout",
     "output_type": "stream",
     "text": [
      "Use key 'Lemonade' to access value:  70\n"
     ]
    }
   ],
   "source": [
    "# Dictionaries have many ways of creation\n",
    "# Create a dictionary through assignment\n",
    "b1 = {'Lemonade': 70, 'Automobile': 38, 'Tourism':94}              \n",
    "print (\"Use key 'Lemonade' to access value: \", b1['Lemonade'])"
   ]
  },
  {
   "cell_type": "code",
   "execution_count": 172,
   "metadata": {},
   "outputs": [
    {
     "name": "stdout",
     "output_type": "stream",
     "text": [
      "70\n"
     ]
    }
   ],
   "source": [
    "# Another way, start with empty dictionary\n",
    "dictionary = {}\n",
    "dictionary['Lemonade'] = 70\n",
    "dictionary['Automobile'] = 38\n",
    "print (dictionary['Lemonade'])"
   ]
  },
  {
   "cell_type": "code",
   "execution_count": 173,
   "metadata": {},
   "outputs": [
    {
     "name": "stdout",
     "output_type": "stream",
     "text": [
      "Lemonade\n",
      "Automobile\n",
      "Tourism\n"
     ]
    }
   ],
   "source": [
    "# traversing by key\n",
    "# key is imutable, key can be number or string\n",
    "for k in b1.keys():\n",
    "    print (k)"
   ]
  },
  {
   "cell_type": "code",
   "execution_count": 174,
   "metadata": {},
   "outputs": [
    {
     "name": "stdout",
     "output_type": "stream",
     "text": [
      "70\n",
      "38\n"
     ]
    }
   ],
   "source": [
    "# traversing by values\n",
    "for v in dictionary.values(): print(v)"
   ]
  },
  {
   "cell_type": "code",
   "execution_count": 175,
   "metadata": {},
   "outputs": [
    {
     "name": "stdout",
     "output_type": "stream",
     "text": [
      "Lemonade 70\n",
      "Automobile 38\n",
      "Tourism 94\n"
     ]
    }
   ],
   "source": [
    "# traverse by key and value is called item\n",
    "for k, v in b1.items():                # tuples with keys and values\n",
    "    print (k,v)"
   ]
  },
  {
   "cell_type": "markdown",
   "metadata": {},
   "source": [
    "## -------------PRACTICE-------------"
   ]
  },
  {
   "cell_type": "markdown",
   "metadata": {},
   "source": [
    "1. For the items in the list \"groceries\" print out the even grocery items.  Then remove those items.  After that, add the item \"pizza\" to that list."
   ]
  },
  {
   "cell_type": "code",
   "execution_count": null,
   "metadata": {},
   "outputs": [],
   "source": []
  },
  {
   "cell_type": "markdown",
   "metadata": {},
   "source": [
    "2. Print the 5 item of the list \"groceries\" and its length."
   ]
  },
  {
   "cell_type": "code",
   "execution_count": null,
   "metadata": {},
   "outputs": [],
   "source": []
  },
  {
   "cell_type": "markdown",
   "metadata": {},
   "source": [
    "3. Create a dictionary with your top 5 movies as the keys and your rating out of 100 for them.  Then print out the movie titles one by one."
   ]
  },
  {
   "cell_type": "code",
   "execution_count": null,
   "metadata": {},
   "outputs": [],
   "source": []
  },
  {
   "cell_type": "markdown",
   "metadata": {},
   "source": [
    "<a id='13'></a>\n",
    "# Functions\n",
    "Functions allow you to avoid repeating code by putting it into a format that you can use throughout your program.  A function is classified as:\n",
    "\n",
    "operator(operand1 , operand2 , ... , operandN)\n",
    "\n",
    "The function is evaluated by python as follows:\n",
    "1. operator\n",
    "2. operands\n",
    "3. Applying the operator to the [evaluated] operands\n"
   ]
  },
  {
   "cell_type": "code",
   "execution_count": 141,
   "metadata": {},
   "outputs": [
    {
     "name": "stdout",
     "output_type": "stream",
     "text": [
      "I am multiplying 8 times 7\n",
      "56\n",
      "I am multiplying 6 times 12\n",
      "72\n"
     ]
    }
   ],
   "source": [
    "# Say we want to multiply 8*7 and 5*3 and 6 * 12 but don't want to repeat the code to do so every time...\n",
    "# We can then create a multiplier function that gives us a template to do so\n",
    "\n",
    "def multiplier(a,b):\n",
    "    \"\"\"Multiplies a functions arguments against each other \n",
    "    and prints out the multiplication inputs and result\"\"\"\n",
    "    print('I am multiplying',a,'times',b)\n",
    "    answer = a*b\n",
    "    return(answer)\n",
    "\n",
    "print(multiplier(8,7))\n",
    "\n",
    "print(multiplier(6,12))"
   ]
  },
  {
   "cell_type": "code",
   "execution_count": null,
   "metadata": {},
   "outputs": [],
   "source": [
    "# As always, functions exist within the scope of the whole notebook, not just the cell they are defined in\n",
    "multiplier(5,3)"
   ]
  },
  {
   "cell_type": "markdown",
   "metadata": {},
   "source": [
    "## Higher Order Functions\n",
    "\n",
    "Functions can also take other functions as arguments."
   ]
  },
  {
   "cell_type": "code",
   "execution_count": 152,
   "metadata": {},
   "outputs": [
    {
     "data": {
      "text/plain": [
       "'Horrible Morning, Sir! Horrible Morning, Sir! Horrible Morning, Sir! Horrible Morning, Sir! Horrible Morning, Sir! '"
      ]
     },
     "execution_count": 152,
     "metadata": {},
     "output_type": "execute_result"
    }
   ],
   "source": [
    "def happy_greeter(gender,time):\n",
    "    \"\"\"Gives a happy greeting to a string inputted gender (\"M\",\"F\",string of user input) and time of day string input\"\"\"\n",
    "    greet=\"Good \"+str(time)+\", \"\n",
    "    if gender==\"F\":\n",
    "        greet+=\"Ma'am\"\n",
    "    elif gender==\"M\":\n",
    "        greet+=\"Sir\"\n",
    "    else:\n",
    "        greet+=gender\n",
    "    greet+=\"! \"\n",
    "    return greet\n",
    "\n",
    "def mad_greeter(gender,time):\n",
    "    \"\"\"Gives a mad greeting to a string inputted gender (\"M\",\"F\",string of user input) and time of day string input\"\"\"\n",
    "    greet=\"Horrible \"+str(time)+\", \"\n",
    "    if gender==\"F\":\n",
    "        greet+=\"Ma'am\"\n",
    "    elif gender==\"M\":\n",
    "        greet+=\"Sir\"\n",
    "    else:\n",
    "        greet+=gender\n",
    "    greet+=\"! \"\n",
    "    return greet\n",
    "\n",
    "def welcomer(greet_type, times):\n",
    "    \"\"\"Takes a string of the function (greet_type) and integer (times) to greet a group of people a certain amount of times\"\"\"\n",
    "    return int(times)*greet_type\n",
    "\n",
    "#Notice the first argument of the welcomer function is the mad_greeter function \n",
    "#that has the arguments \"M\" and \"Morning\"\n",
    "welcomer(mad_greeter(\"M\",\"Morning\"),5)"
   ]
  },
  {
   "cell_type": "markdown",
   "metadata": {},
   "source": [
    "<a id='14'></a>\n",
    "# Random\n",
    "## User input"
   ]
  },
  {
   "cell_type": "code",
   "execution_count": null,
   "metadata": {},
   "outputs": [],
   "source": [
    "print (\"What is your name?\")\n",
    "string = input()  # returns a string\n",
    "print (\"Your name is\", string)"
   ]
  },
  {
   "cell_type": "markdown",
   "metadata": {},
   "source": [
    "## Import packages"
   ]
  },
  {
   "cell_type": "code",
   "execution_count": null,
   "metadata": {},
   "outputs": [],
   "source": [
    "import math as ma\n",
    "\n",
    "#Using the imported package using what we renamed it to\n",
    "#Dot notation\n",
    "ma.sqrt(100)"
   ]
  },
  {
   "cell_type": "markdown",
   "metadata": {},
   "source": [
    "## Return vs. Print\n",
    "\n",
    "Most functions that you define will contain a return statement. The return statement will give the result of some computation back to the caller of the function and exit the function. For example, the function square below takes in a number x and returns its square.\n",
    "\n",
    "When Python executes a return statement, the function terminates immediately. If Python reaches the end of the function body without executing a return statement, it will automatically return None.\n",
    "\n",
    "In contrast, the print function is used to display values in the Terminal. This can lead to some confusion between print and return because calling a function in the Python interpreter will print out the function's return value.\n",
    "\n",
    "However, unlike a return statement, when Python evaluates a print expression, the function does not terminate immediately.\n",
    "\n",
    "source: https://cs61a.org/lab/lab01/"
   ]
  },
  {
   "cell_type": "code",
   "execution_count": null,
   "metadata": {},
   "outputs": [],
   "source": [
    "import random\n",
    "\n",
    "def infuriating_function(a):\n",
    "    \"\"\"This function prints a different value than it returns\"\"\"\n",
    "    print(\"This is what I am printing\", a)\n",
    "    b = random.random()\n",
    "    return b\n",
    "\n",
    "stored_variable = infuriating_function(10)\n",
    "print(\"This is what I am returning\", stored_variable)"
   ]
  },
  {
   "cell_type": "markdown",
   "metadata": {},
   "source": [
    "## -------------PRACTICE-------------"
   ]
  },
  {
   "cell_type": "markdown",
   "metadata": {},
   "source": [
    "1. Create a function that asks for a person's age and store that variable as an integer called person_age."
   ]
  },
  {
   "cell_type": "code",
   "execution_count": null,
   "metadata": {},
   "outputs": [],
   "source": []
  },
  {
   "cell_type": "markdown",
   "metadata": {},
   "source": [
    "2. Create a function called mult2 that takes as input a number, a multiplier that multiplies the number and an adder which adds that number to the previous multiplication."
   ]
  },
  {
   "cell_type": "code",
   "execution_count": null,
   "metadata": {},
   "outputs": [],
   "source": []
  },
  {
   "cell_type": "markdown",
   "metadata": {},
   "source": [
    "<a id='15'></a>\n",
    "# Weekly Readings/Videos\n",
    "\n",
    "https://blog.trinket.io/why-python/\n",
    "    \n",
    "https://towardsdatascience.com/top-16-python-applications-in-real-world-a0404111ac23"
   ]
  },
  {
   "cell_type": "markdown",
   "metadata": {},
   "source": [
    "<a id='16'></a>\n",
    "# Extra Practice"
   ]
  },
  {
   "cell_type": "code",
   "execution_count": null,
   "metadata": {},
   "outputs": [],
   "source": []
  },
  {
   "cell_type": "markdown",
   "metadata": {},
   "source": [
    "<div id='bottom'></div>"
   ]
  }
 ],
 "metadata": {
  "anaconda-cloud": {},
  "kernelspec": {
   "display_name": "Python 3",
   "language": "python",
   "name": "python3"
  },
  "language_info": {
   "codemirror_mode": {
    "name": "ipython",
    "version": 3
   },
   "file_extension": ".py",
   "mimetype": "text/x-python",
   "name": "python",
   "nbconvert_exporter": "python",
   "pygments_lexer": "ipython3",
   "version": "3.7.3"
  }
 },
 "nbformat": 4,
 "nbformat_minor": 1
}
