{
 "cells": [
  {
   "cell_type": "markdown",
   "metadata": {},
   "source": [
    "### Instructions: \n",
    "Download the 'Currency_Continent.csv', 'Currency_Map.csv' and 'ETFs.csv' files and place them in a folder in which you can access them.\n",
    "\n",
    "---------------\n",
    "\n",
    "1. \n",
    "    a) In the cell below, import the pandas package and rename it as pd and import the numpy package and rename it as np."
   ]
  },
  {
   "cell_type": "code",
   "execution_count": null,
   "metadata": {},
   "outputs": [],
   "source": []
  },
  {
   "cell_type": "markdown",
   "metadata": {},
   "source": [
    "    b) Create a connection to a SQL database called 'labs.db'.  Then create the cursor object through that connection."
   ]
  },
  {
   "cell_type": "code",
   "execution_count": null,
   "metadata": {},
   "outputs": [],
   "source": []
  },
  {
   "cell_type": "markdown",
   "metadata": {},
   "source": [
    "    c) Edit the filepaths in the code below if needed to load in the 'Currency_Continent.csv', 'Currency_Map.csv' and 'ETFs.csv' files to SQL tables."
   ]
  },
  {
   "cell_type": "code",
   "execution_count": null,
   "metadata": {},
   "outputs": [],
   "source": []
  },
  {
   "cell_type": "code",
   "execution_count": null,
   "metadata": {},
   "outputs": [],
   "source": [
    "#Used to increment\n",
    "j = 0\n",
    "index_start = 1\n",
    "\n",
    "for df in pd.read_csv('Currency_Map.csv', iterator=True, encoding='utf-8'):  \n",
    "    # Remove spaces from columns\n",
    "    df = df.rename(columns={c: c.replace(' ', '') for c in df.columns})\n",
    "    \n",
    "    #Index the data\n",
    "    df.index += index_start    \n",
    "    df.to_sql('Currency_Map', connection, if_exists='replace') # name of SQL table, connection, append\n",
    "    index_start = df.index[-1] + 1 # update index start\n",
    "print('done')\n",
    "\n",
    "#Used to increment\n",
    "j = 0\n",
    "index_start = 1\n",
    "\n",
    "for df in pd.read_csv('Currency_Continent.csv', iterator=True, encoding='utf-8'):  \n",
    "    # Remove spaces from columns\n",
    "    df = df.rename(columns={c: c.replace(' ', '') for c in df.columns})\n",
    "    \n",
    "    #Index the data\n",
    "    df.index += index_start    \n",
    "    df.to_sql('Currency_Continent', connection, if_exists='replace') # name of SQL table, connection, append\n",
    "    index_start = df.index[-1] + 1 # update index start\n",
    "print('done')\n",
    "\n",
    "#Used to increment\n",
    "j = 0\n",
    "index_start = 1\n",
    "\n",
    "for df in pd.read_csv('ETFs.csv', iterator=True, encoding='utf-8'):  \n",
    "    # Remove spaces from columns\n",
    "    df = df.rename(columns={c: c.replace(' ', '') for c in df.columns})\n",
    "    \n",
    "    #Index the data\n",
    "    df.index += index_start    \n",
    "    df.to_sql('ETF_Data', connection, if_exists='replace') # name of SQL table, connection, append\n",
    "    index_start = df.index[-1] + 1 # update index start\n",
    "print('done')"
   ]
  },
  {
   "cell_type": "markdown",
   "metadata": {},
   "source": [
    "2. Create a table of your top 5 movies or tv show with when the movie was probably released, your rating out of 10 for it and the genre.  Name this table \"Movies\"."
   ]
  },
  {
   "cell_type": "code",
   "execution_count": null,
   "metadata": {},
   "outputs": [],
   "source": []
  },
  {
   "cell_type": "markdown",
   "metadata": {},
   "source": [
    "3. Create another table related to question 2 but has the movie/tv show name as one column name and another column for character name using python lists and the insert into command.  Please have at least 2 characters for every movie/tv show that us.  Name this table \"Characters\"."
   ]
  },
  {
   "cell_type": "code",
   "execution_count": null,
   "metadata": {},
   "outputs": [],
   "source": []
  },
  {
   "cell_type": "markdown",
   "metadata": {},
   "source": [
    "4. Select your top 2 rated movies using an order by and limit command from the \"Movies\" table."
   ]
  },
  {
   "cell_type": "code",
   "execution_count": null,
   "metadata": {},
   "outputs": [],
   "source": []
  },
  {
   "cell_type": "markdown",
   "metadata": {},
   "source": [
    "5. Join the \"Movies\" and \"Characters\" tables together by the movie id you used."
   ]
  },
  {
   "cell_type": "code",
   "execution_count": null,
   "metadata": {},
   "outputs": [],
   "source": []
  },
  {
   "cell_type": "markdown",
   "metadata": {},
   "source": [
    "6. Using the table you created above, display the count of the movies you had by genre."
   ]
  },
  {
   "cell_type": "code",
   "execution_count": null,
   "metadata": {},
   "outputs": [],
   "source": []
  },
  {
   "cell_type": "markdown",
   "metadata": {},
   "source": [
    "7. Using that same table, display the total sum of the ratings and the count of characters for the movies in every genre."
   ]
  },
  {
   "cell_type": "code",
   "execution_count": null,
   "metadata": {},
   "outputs": [],
   "source": []
  },
  {
   "cell_type": "markdown",
   "metadata": {},
   "source": [
    "8. Query the fund_yield and fund_name for all PIMCO funds."
   ]
  },
  {
   "cell_type": "code",
   "execution_count": null,
   "metadata": {},
   "outputs": [],
   "source": [
    "sql_statement = \"\"\"\n",
    "SELECT *\n",
    "FROM ETF_data...\n",
    ";\n",
    "\"\"\"\n",
    "\n",
    "pd.read_sql_query(sql_statement,con = connection)"
   ]
  },
  {
   "cell_type": "code",
   "execution_count": null,
   "metadata": {},
   "outputs": [],
   "source": []
  },
  {
   "cell_type": "markdown",
   "metadata": {},
   "source": [
    "9. Using the Currency_Map table, find the conversion rate from between USD and GBP.  Please note that this table provides USD per unit of foreign currency.  Your final answer should be a number."
   ]
  },
  {
   "cell_type": "code",
   "execution_count": null,
   "metadata": {},
   "outputs": [],
   "source": [
    "sql_statement = \"\"\"\n",
    "SELECT * \n",
    "From Currency_Map...;\n",
    "\"\"\"\n",
    "conversion_rate = pd.read_sql_query(sql_statement,con = connection).iloc[0][0]\n",
    "print(conversion_rate)"
   ]
  },
  {
   "cell_type": "code",
   "execution_count": null,
   "metadata": {},
   "outputs": [],
   "source": []
  },
  {
   "cell_type": "markdown",
   "metadata": {},
   "source": [
    "10. Using the previous solution, query fund_name and net_assets from ETF_Data in GBP."
   ]
  },
  {
   "cell_type": "code",
   "execution_count": null,
   "metadata": {},
   "outputs": [],
   "source": [
    "sql_statement = \"\"\"\n",
    "SELECT *\n",
    "FROM ETF_data...\n",
    ";\n",
    "\"\"\"\n",
    "\n",
    "pd.read_sql_query(sql_statement,con = connection)"
   ]
  },
  {
   "cell_type": "code",
   "execution_count": null,
   "metadata": {},
   "outputs": [],
   "source": []
  },
  {
   "cell_type": "markdown",
   "metadata": {},
   "source": [
    "11. Query all fund_name and fund_treynor_ratio_5years where fund_treynor_ratio_5years is greater than 2.  Sort the query in ascending order."
   ]
  },
  {
   "cell_type": "code",
   "execution_count": null,
   "metadata": {},
   "outputs": [],
   "source": [
    "sql_statement = \"\"\"\n",
    "SELECT *\n",
    "FROM ETF_data...\n",
    ";\n",
    "\"\"\""
   ]
  },
  {
   "cell_type": "code",
   "execution_count": null,
   "metadata": {},
   "outputs": [],
   "source": []
  },
  {
   "cell_type": "markdown",
   "metadata": {},
   "source": [
    "12. Create a query that returns the USD conversion and continent for all matching currencies between Currency_Map and Currency_Continent. "
   ]
  },
  {
   "cell_type": "code",
   "execution_count": null,
   "metadata": {},
   "outputs": [],
   "source": [
    "join_statement = \"\"\"\n",
    "SELECT * FROM Currency_Map as a, Currency_Continent as b \n",
    "WHERE ...;\n",
    "\"\"\"\n",
    "\n",
    "pd.read_sql_query(join_statement,con = connection)"
   ]
  },
  {
   "cell_type": "code",
   "execution_count": null,
   "metadata": {},
   "outputs": [],
   "source": []
  },
  {
   "cell_type": "markdown",
   "metadata": {},
   "source": [
    "13. Find the total of net_assets for all ProShares ETF's.  Your answer should be a number."
   ]
  },
  {
   "cell_type": "code",
   "execution_count": null,
   "metadata": {},
   "outputs": [],
   "source": [
    "sql_statement = \"\"\"\n",
    "SELECT * \n",
    "From ETF_data...;\n",
    "\"\"\"\n",
    "total_net_assets = pd.read_sql_query(sql_statement,con = connection).iloc[0][0]\n",
    "print(total_net_assets)"
   ]
  },
  {
   "cell_type": "code",
   "execution_count": null,
   "metadata": {},
   "outputs": [],
   "source": []
  },
  {
   "cell_type": "code",
   "execution_count": null,
   "metadata": {},
   "outputs": [],
   "source": [
    "connection.commit() \n",
    "\n",
    "connection.close()"
   ]
  }
 ],
 "metadata": {
  "kernelspec": {
   "display_name": "Python 3",
   "language": "python",
   "name": "python3"
  },
  "language_info": {
   "codemirror_mode": {
    "name": "ipython",
    "version": 3
   },
   "file_extension": ".py",
   "mimetype": "text/x-python",
   "name": "python",
   "nbconvert_exporter": "python",
   "pygments_lexer": "ipython3",
   "version": "3.7.3"
  }
 },
 "nbformat": 4,
 "nbformat_minor": 4
}
