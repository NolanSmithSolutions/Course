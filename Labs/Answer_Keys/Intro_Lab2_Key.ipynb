{
 "cells": [
  {
   "cell_type": "markdown",
   "metadata": {},
   "source": [
    "1. Using the \"alphabet\" variable, print the last 4 letters."
   ]
  },
  {
   "cell_type": "code",
   "execution_count": 3,
   "metadata": {},
   "outputs": [
    {
     "data": {
      "text/plain": [
       "'wxyz'"
      ]
     },
     "execution_count": 3,
     "metadata": {},
     "output_type": "execute_result"
    }
   ],
   "source": [
    "alphabet = \"abcdefghijklmnopqrstuvwxyz\"\n",
    "\n",
    "# Your code below\n",
    "alphabet[-4::]"
   ]
  },
  {
   "cell_type": "markdown",
   "metadata": {},
   "source": [
    "2. Edit the code below to use a pass statement to skip printing 32 and 42.  This one may be a bit challenging."
   ]
  },
  {
   "cell_type": "code",
   "execution_count": 13,
   "metadata": {},
   "outputs": [
    {
     "name": "stdout",
     "output_type": "stream",
     "text": [
      "I am 2 years old\n",
      "I am 12 years old\n",
      "I am 22 years old\n",
      "I am 52 years old\n",
      "I am 62 years old\n",
      "I am 72 years old\n",
      "I am 82 years old\n",
      "I am 92 years old\n"
     ]
    }
   ],
   "source": [
    "count = 2\n",
    "while count < 100:\n",
    "    if count >= 30 and count <= 50:\n",
    "        pass\n",
    "    else:\n",
    "        print('I am', count, 'years old')\n",
    "    count = count + 10"
   ]
  },
  {
   "cell_type": "markdown",
   "metadata": {},
   "source": [
    "3. For the items in the list \"groceries\" below, only print the items that have the second letter as a vowel.  You may want to use the \"in\" keyword and the list of vowels provided below."
   ]
  },
  {
   "cell_type": "code",
   "execution_count": 19,
   "metadata": {},
   "outputs": [
    {
     "name": "stdout",
     "output_type": "stream",
     "text": [
      "bananas\n",
      "milk\n",
      "poptarts\n",
      "cabbage\n",
      "lettuce\n",
      "cereal\n"
     ]
    }
   ],
   "source": [
    "vowels = ['a', 'e', 'i', 'o', 'u']\n",
    "groceries = ['apple','bananas','grapes','bread','milk','poptarts','cabbage','lettuce','cereal','spinach']\n",
    "\n",
    "# Your code below\n",
    "for item in groceries:\n",
    "    if item[1] in vowels:\n",
    "        print(item)"
   ]
  },
  {
   "cell_type": "markdown",
   "metadata": {},
   "source": [
    "4. For the items in the list \"groceries\" print out the even grocery items.  Then remove those items.  After that, add the item \"pizza\" to that list."
   ]
  },
  {
   "cell_type": "code",
   "execution_count": 27,
   "metadata": {},
   "outputs": [
    {
     "name": "stdout",
     "output_type": "stream",
     "text": [
      "bananas\n",
      "bread\n",
      "poptarts\n",
      "lettuce\n",
      "spinach\n"
     ]
    },
    {
     "data": {
      "text/plain": [
       "['apple', 'grapes', 'milk', 'cabbage', 'cereal', 'pizza']"
      ]
     },
     "execution_count": 27,
     "metadata": {},
     "output_type": "execute_result"
    }
   ],
   "source": [
    "items_to_drop=[]\n",
    "\n",
    "for index,item in enumerate(groceries):\n",
    "    if (index+1)%2==0:\n",
    "        print(item)\n",
    "        items_to_drop.append(item)\n",
    "        \n",
    "groceries = [item for item in groceries if (item not in items_to_drop)]\n",
    "\n",
    "groceries.append(\"pizza\")\n",
    "\n",
    "groceries"
   ]
  },
  {
   "cell_type": "markdown",
   "metadata": {},
   "source": [
    "5. Print the 5 item of the list \"groceries\" and its length."
   ]
  },
  {
   "cell_type": "code",
   "execution_count": 29,
   "metadata": {},
   "outputs": [
    {
     "name": "stdout",
     "output_type": "stream",
     "text": [
      "pizza 6\n"
     ]
    }
   ],
   "source": [
    "print(groceries[5],len(groceries))"
   ]
  },
  {
   "cell_type": "markdown",
   "metadata": {},
   "source": [
    "6. Create a dictionary with your top 5 movies as the keys and your rating out of 100 for them.  Then print out the movie titles one by one."
   ]
  },
  {
   "cell_type": "code",
   "execution_count": 33,
   "metadata": {},
   "outputs": [
    {
     "name": "stdout",
     "output_type": "stream",
     "text": [
      "movie1\n",
      "movie2\n",
      "movie3\n",
      "movie4\n",
      "movie5\n"
     ]
    }
   ],
   "source": [
    "movies = {'movie1': 90, 'movie2': 95, 'movie3': 80, 'movie4': 85, 'movie5': 99}\n",
    "for movie in movies.keys():\n",
    "    print(movie)"
   ]
  },
  {
   "cell_type": "markdown",
   "metadata": {},
   "source": [
    "7. Create a function that asks for a person's age and store that variable as an integer called person_age."
   ]
  },
  {
   "cell_type": "code",
   "execution_count": 35,
   "metadata": {},
   "outputs": [
    {
     "name": "stdout",
     "output_type": "stream",
     "text": [
      "What is your age? 27\n"
     ]
    },
    {
     "data": {
      "text/plain": [
       "27"
      ]
     },
     "execution_count": 35,
     "metadata": {},
     "output_type": "execute_result"
    }
   ],
   "source": [
    "def ask_age():\n",
    "    person_age = int(input('What is your age? '))\n",
    "    return person_age\n",
    "ask_age()"
   ]
  },
  {
   "cell_type": "markdown",
   "metadata": {},
   "source": [
    "8. Create a function called mult2 that takes as input a number, a multiplier that multiplies the number and an adder which adds that number to the previous multiplication."
   ]
  },
  {
   "cell_type": "code",
   "execution_count": 36,
   "metadata": {},
   "outputs": [
    {
     "data": {
      "text/plain": [
       "58"
      ]
     },
     "execution_count": 36,
     "metadata": {},
     "output_type": "execute_result"
    }
   ],
   "source": [
    "def mult2(number, multiplier, adder):\n",
    "    return number*multiplier+adder\n",
    "mult2(10,5,8)"
   ]
  }
 ],
 "metadata": {
  "kernelspec": {
   "display_name": "Python 3",
   "language": "python",
   "name": "python3"
  },
  "language_info": {
   "codemirror_mode": {
    "name": "ipython",
    "version": 3
   },
   "file_extension": ".py",
   "mimetype": "text/x-python",
   "name": "python",
   "nbconvert_exporter": "python",
   "pygments_lexer": "ipython3",
   "version": "3.7.3"
  }
 },
 "nbformat": 4,
 "nbformat_minor": 4
}
