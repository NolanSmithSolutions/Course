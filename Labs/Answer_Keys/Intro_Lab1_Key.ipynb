{
 "cells": [
  {
   "cell_type": "markdown",
   "metadata": {},
   "source": [
    "1. Edit the code below to see how long it takes to say I love Python 50 times using \"our_function\""
   ]
  },
  {
   "cell_type": "code",
   "execution_count": 1,
   "metadata": {},
   "outputs": [
    {
     "name": "stdout",
     "output_type": "stream",
     "text": [
      "1 I love python\n",
      "2 I love python\n",
      "3 I love python\n",
      "4 I love python\n",
      "5 I love python\n",
      "6 I love python\n",
      "7 I love python\n",
      "8 I love python\n",
      "9 I love python\n",
      "10 I love python\n",
      "11 I love python\n",
      "12 I love python\n",
      "13 I love python\n",
      "14 I love python\n",
      "15 I love python\n",
      "16 I love python\n",
      "17 I love python\n",
      "18 I love python\n",
      "19 I love python\n",
      "20 I love python\n",
      "21 I love python\n",
      "22 I love python\n",
      "23 I love python\n",
      "24 I love python\n",
      "25 I love python\n",
      "26 I love python\n",
      "27 I love python\n",
      "28 I love python\n",
      "29 I love python\n",
      "30 I love python\n",
      "31 I love python\n",
      "32 I love python\n",
      "33 I love python\n",
      "34 I love python\n",
      "35 I love python\n",
      "36 I love python\n",
      "37 I love python\n",
      "38 I love python\n",
      "39 I love python\n",
      "40 I love python\n",
      "41 I love python\n",
      "42 I love python\n",
      "43 I love python\n",
      "44 I love python\n",
      "45 I love python\n",
      "46 I love python\n",
      "47 I love python\n",
      "48 I love python\n",
      "49 I love python\n",
      "50 I love python\n"
     ]
    }
   ],
   "source": [
    "def our_function(x):\n",
    "    \"\"\"This is a multi line comment for a function.  This is often used to describe the function you have just written\n",
    "    ie: This function prints out the line number and a phrase x amount of times\"\"\"\n",
    "    for i in range(int(x)):\n",
    "        print(str(i+1)+' I love python')\n",
    "        \n",
    "# Edit the function call below\n",
    "our_function(50)"
   ]
  },
  {
   "cell_type": "markdown",
   "metadata": {},
   "source": [
    "2. Create a folder named \"Test\" in your current directory. Then navigate to that folder on Jupyter Notebooks as well as pull it up on your computer."
   ]
  },
  {
   "cell_type": "code",
   "execution_count": 2,
   "metadata": {},
   "outputs": [
    {
     "name": "stdout",
     "output_type": "stream",
     "text": [
      "Intro_Lab1.ipynb      Intro_Lab2.ipynb      Pandas_Lab1.ipynb\r\n",
      "Intro_Lab1_Key.ipynb  Numpy_Lab.ipynb\r\n"
     ]
    }
   ],
   "source": [
    "%ls"
   ]
  },
  {
   "cell_type": "code",
   "execution_count": 3,
   "metadata": {},
   "outputs": [],
   "source": [
    "%mkdir Test"
   ]
  },
  {
   "cell_type": "code",
   "execution_count": 4,
   "metadata": {},
   "outputs": [
    {
     "name": "stdout",
     "output_type": "stream",
     "text": [
      "Intro_Lab1.ipynb      Intro_Lab2.ipynb      Pandas_Lab1.ipynb\r\n",
      "Intro_Lab1_Key.ipynb  Numpy_Lab.ipynb       \u001b[34mTest\u001b[m\u001b[m/\r\n"
     ]
    }
   ],
   "source": [
    "%ls"
   ]
  },
  {
   "cell_type": "markdown",
   "metadata": {},
   "source": [
    "3. Delete the blank cell below this cell.  Then, recreate it using an insert cell as a markdown cells and type in a header that says \"Hello\"."
   ]
  },
  {
   "cell_type": "markdown",
   "metadata": {},
   "source": [
    "# Hello"
   ]
  },
  {
   "cell_type": "markdown",
   "metadata": {},
   "source": [
    "4. Multiply 127 * 9853 then divide that by 311.  What is the remainder?"
   ]
  },
  {
   "cell_type": "code",
   "execution_count": 6,
   "metadata": {},
   "outputs": [
    {
     "data": {
      "text/plain": [
       "178"
      ]
     },
     "execution_count": 6,
     "metadata": {},
     "output_type": "execute_result"
    }
   ],
   "source": [
    "127 * 9853 % 311"
   ]
  },
  {
   "cell_type": "markdown",
   "metadata": {},
   "source": [
    "5. Assign the variables \"test_var1\" to the value 2072 divided by 96.  Print if this variable is equal to 6.  Then print what the variable test_var1 is equal to."
   ]
  },
  {
   "cell_type": "code",
   "execution_count": 7,
   "metadata": {},
   "outputs": [
    {
     "name": "stdout",
     "output_type": "stream",
     "text": [
      "False\n",
      "21.583333333333332\n"
     ]
    }
   ],
   "source": [
    "test_var1 = 2072 / 96\n",
    "print(test_var1 == 6)\n",
    "print(test_var1)"
   ]
  },
  {
   "cell_type": "markdown",
   "metadata": {},
   "source": [
    "6. Print to PDF this page and open up the PDF you created of the lab."
   ]
  }
 ],
 "metadata": {
  "kernelspec": {
   "display_name": "Python 3",
   "language": "python",
   "name": "python3"
  },
  "language_info": {
   "codemirror_mode": {
    "name": "ipython",
    "version": 3
   },
   "file_extension": ".py",
   "mimetype": "text/x-python",
   "name": "python",
   "nbconvert_exporter": "python",
   "pygments_lexer": "ipython3",
   "version": "3.7.3"
  }
 },
 "nbformat": 4,
 "nbformat_minor": 4
}
