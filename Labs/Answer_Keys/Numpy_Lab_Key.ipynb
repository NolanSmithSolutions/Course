{
 "cells": [
  {
   "cell_type": "code",
   "execution_count": 1,
   "metadata": {},
   "outputs": [],
   "source": [
    "import numpy as np"
   ]
  },
  {
   "cell_type": "markdown",
   "metadata": {},
   "source": [
    "1.  Create two arrays from array a, one with 4/5 and the other with 1/5 of the elements that doesn't mess up the original array a."
   ]
  },
  {
   "cell_type": "code",
   "execution_count": 2,
   "metadata": {},
   "outputs": [
    {
     "data": {
      "text/plain": [
       "(800, 200)"
      ]
     },
     "execution_count": 2,
     "metadata": {},
     "output_type": "execute_result"
    }
   ],
   "source": [
    "a = np.random.normal(0,1,1000)\n",
    "\n",
    "#Your code below\n",
    "a1=a[:800]\n",
    "a2=a[800:]\n",
    "len(a1),len(a2)"
   ]
  },
  {
   "cell_type": "markdown",
   "metadata": {},
   "source": [
    "2. Print out every 50th element on the last 400 elements of a and store it in an element called \"g\"."
   ]
  },
  {
   "cell_type": "code",
   "execution_count": 3,
   "metadata": {},
   "outputs": [
    {
     "name": "stdout",
     "output_type": "stream",
     "text": [
      "400\n",
      "0.5895929372091583\n",
      "-1.18362442595465\n",
      "0.26043331011741844\n",
      "-0.06904585315072503\n",
      "-0.5588474176270439\n",
      "-0.1006062439773497\n",
      "-1.0467492139875587\n",
      "-1.5523190632488753\n"
     ]
    },
    {
     "data": {
      "text/plain": [
       "[0.5895929372091583,\n",
       " -1.18362442595465,\n",
       " 0.26043331011741844,\n",
       " -0.06904585315072503,\n",
       " -0.5588474176270439,\n",
       " -0.1006062439773497,\n",
       " -1.0467492139875587,\n",
       " -1.5523190632488753]"
      ]
     },
     "execution_count": 3,
     "metadata": {},
     "output_type": "execute_result"
    }
   ],
   "source": [
    "g = []\n",
    "print(len(a[-400:]))\n",
    "for index,value in enumerate(a[-400:]):\n",
    "    if (index+1)%50==0:\n",
    "        print(value)\n",
    "        g.append(value)\n",
    "g   "
   ]
  },
  {
   "cell_type": "markdown",
   "metadata": {},
   "source": [
    "3. Create an array of your top 5 favorite foods in an array called food."
   ]
  },
  {
   "cell_type": "code",
   "execution_count": 4,
   "metadata": {},
   "outputs": [
    {
     "data": {
      "text/plain": [
       "array(['food1', 'food2', 'food3', 'food4', 'food5'], dtype='<U5')"
      ]
     },
     "execution_count": 4,
     "metadata": {},
     "output_type": "execute_result"
    }
   ],
   "source": [
    "food = np.array(['food1','food2','food3','food4','food5'])\n",
    "food"
   ]
  },
  {
   "cell_type": "markdown",
   "metadata": {},
   "source": [
    "4. Multiply every element in the array \"g\" by 10. Then try multiplying every element in the array \"food\" by 10 as well... does this error out? If so, why?"
   ]
  },
  {
   "cell_type": "code",
   "execution_count": 7,
   "metadata": {},
   "outputs": [
    {
     "name": "stdout",
     "output_type": "stream",
     "text": [
      "[  5.89592937 -11.83624426   2.6043331   -0.69045853  -5.58847418\n",
      "  -1.00606244 -10.46749214 -15.52319063]\n"
     ]
    },
    {
     "ename": "TypeError",
     "evalue": "ufunc 'multiply' did not contain a loop with signature matching types dtype('<U5') dtype('<U5') dtype('<U5')",
     "output_type": "error",
     "traceback": [
      "\u001b[0;31m---------------------------------------------------------------------------\u001b[0m",
      "\u001b[0;31mTypeError\u001b[0m                                 Traceback (most recent call last)",
      "\u001b[0;32m<ipython-input-7-18697c2f4dd0>\u001b[0m in \u001b[0;36m<module>\u001b[0;34m\u001b[0m\n\u001b[1;32m      1\u001b[0m \u001b[0mg\u001b[0m \u001b[0;34m=\u001b[0m \u001b[0mnp\u001b[0m\u001b[0;34m.\u001b[0m\u001b[0marray\u001b[0m\u001b[0;34m(\u001b[0m\u001b[0mg\u001b[0m\u001b[0;34m)\u001b[0m\u001b[0;34m\u001b[0m\u001b[0;34m\u001b[0m\u001b[0m\n\u001b[1;32m      2\u001b[0m \u001b[0mprint\u001b[0m\u001b[0;34m(\u001b[0m\u001b[0mg\u001b[0m\u001b[0;34m*\u001b[0m\u001b[0;36m10\u001b[0m\u001b[0;34m)\u001b[0m\u001b[0;34m\u001b[0m\u001b[0;34m\u001b[0m\u001b[0m\n\u001b[0;32m----> 3\u001b[0;31m \u001b[0mprint\u001b[0m\u001b[0;34m(\u001b[0m\u001b[0mfood\u001b[0m\u001b[0;34m*\u001b[0m\u001b[0;36m10\u001b[0m\u001b[0;34m)\u001b[0m\u001b[0;34m\u001b[0m\u001b[0;34m\u001b[0m\u001b[0m\n\u001b[0m",
      "\u001b[0;31mTypeError\u001b[0m: ufunc 'multiply' did not contain a loop with signature matching types dtype('<U5') dtype('<U5') dtype('<U5')"
     ]
    }
   ],
   "source": [
    "g = np.array(g)\n",
    "print(g*10)\n",
    "print(food*10)"
   ]
  },
  {
   "cell_type": "markdown",
   "metadata": {},
   "source": [
    "5. Create a 6 x 4 matrix filled with random numbers (created via numpy's random function)."
   ]
  },
  {
   "cell_type": "code",
   "execution_count": 13,
   "metadata": {},
   "outputs": [
    {
     "data": {
      "text/plain": [
       "array([[0.75701419, 0.28608305, 0.17046358, 0.76127483],\n",
       "       [0.40071057, 0.3123936 , 0.60941704, 0.68553676],\n",
       "       [0.67126665, 0.07421085, 0.04379949, 0.74686975],\n",
       "       [0.46006334, 0.87224115, 0.16149625, 0.33605915],\n",
       "       [0.65422163, 0.73284359, 0.02680465, 0.61913514],\n",
       "       [0.01475495, 0.27149681, 0.08459975, 0.65601923]])"
      ]
     },
     "execution_count": 13,
     "metadata": {},
     "output_type": "execute_result"
    }
   ],
   "source": [
    "matrix=np.random.rand(6,4)\n",
    "matrix"
   ]
  },
  {
   "cell_type": "markdown",
   "metadata": {},
   "source": [
    "6. Transpose the matrix you created above and print out its size, dimensions and shape."
   ]
  },
  {
   "cell_type": "code",
   "execution_count": 16,
   "metadata": {},
   "outputs": [
    {
     "data": {
      "text/plain": [
       "(24, 2, (4, 6))"
      ]
     },
     "execution_count": 16,
     "metadata": {},
     "output_type": "execute_result"
    }
   ],
   "source": [
    "matrix.T.size,matrix.T.ndim,matrix.T.shape"
   ]
  },
  {
   "cell_type": "markdown",
   "metadata": {},
   "source": [
    "7. Print out the maximum of the 2nd row and the sum of the 3rd column."
   ]
  },
  {
   "cell_type": "code",
   "execution_count": 19,
   "metadata": {},
   "outputs": [
    {
     "name": "stdout",
     "output_type": "stream",
     "text": [
      "2nd Row sum: 2.54926905362626\n",
      "3rd Column sum: 0.7468697549801805\n"
     ]
    }
   ],
   "source": [
    "print ('2nd Row sum:',matrix.T.sum(axis=1)[1])\n",
    "print ('3rd Column sum:',matrix.T.max(axis=0)[2])"
   ]
  },
  {
   "cell_type": "markdown",
   "metadata": {},
   "source": [
    "8. Create an identity of matrix that has 3 rows and 3 columns. Then print out the identity matrix multiplied by \"g\". Also print out the matrix \"g\" multiplied by itself (\"g\") as well."
   ]
  },
  {
   "cell_type": "code",
   "execution_count": 20,
   "metadata": {},
   "outputs": [
    {
     "name": "stdout",
     "output_type": "stream",
     "text": [
      "[[1. 2. 3.]\n",
      " [4. 5. 6.]\n",
      " [7. 8. 9.]]\n",
      "[[ 30  36  42]\n",
      " [ 66  81  96]\n",
      " [102 126 150]]\n"
     ]
    }
   ],
   "source": [
    "g = np.array([[1,2,3],[4,5,6],[7,8,9]])\n",
    "\n",
    "#Your code below\n",
    "eye = np.eye(3,3)\n",
    "print(np.dot(eye,g))\n",
    "print(np.dot(g,g))"
   ]
  }
 ],
 "metadata": {
  "kernelspec": {
   "display_name": "Python 3",
   "language": "python",
   "name": "python3"
  },
  "language_info": {
   "codemirror_mode": {
    "name": "ipython",
    "version": 3
   },
   "file_extension": ".py",
   "mimetype": "text/x-python",
   "name": "python",
   "nbconvert_exporter": "python",
   "pygments_lexer": "ipython3",
   "version": "3.7.3"
  }
 },
 "nbformat": 4,
 "nbformat_minor": 4
}
