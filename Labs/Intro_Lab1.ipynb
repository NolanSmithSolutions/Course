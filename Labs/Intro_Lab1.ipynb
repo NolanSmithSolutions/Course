{
 "cells": [
  {
   "cell_type": "markdown",
   "metadata": {},
   "source": [
    "1. Edit the code below to see how long it takes to say I love Python 50 times using \"our_function\""
   ]
  },
  {
   "cell_type": "code",
   "execution_count": null,
   "metadata": {},
   "outputs": [],
   "source": [
    "def our_function(x):\n",
    "    \"\"\"This is a multi line comment for a function.  This is often used to describe the function you have just written\n",
    "    ie: This function prints out the line number and a phrase x amount of times\"\"\"\n",
    "    for i in range(int(x)):\n",
    "        print(str(i+1)+' I love python')\n",
    "        \n",
    "# Edit the function call below\n",
    "our_function()"
   ]
  },
  {
   "cell_type": "markdown",
   "metadata": {},
   "source": [
    "2. Create a folder named \"Test\" in your current directory. Then navigate to that folder on Jupyter Notebooks as well as pull it up on your computer."
   ]
  },
  {
   "cell_type": "code",
   "execution_count": null,
   "metadata": {},
   "outputs": [],
   "source": []
  },
  {
   "cell_type": "markdown",
   "metadata": {},
   "source": [
    "3. Delete the blank cell below this cell.  Then, recreate it using an insert cell as a markdown cells and type in a header that says \"Hello\"."
   ]
  },
  {
   "cell_type": "code",
   "execution_count": null,
   "metadata": {},
   "outputs": [],
   "source": []
  },
  {
   "cell_type": "markdown",
   "metadata": {},
   "source": [
    "4. Multiply 127 * 9853 then divide that by 311.  What is the remainder?"
   ]
  },
  {
   "cell_type": "code",
   "execution_count": null,
   "metadata": {},
   "outputs": [],
   "source": []
  },
  {
   "cell_type": "markdown",
   "metadata": {},
   "source": [
    "5. Assign the variables \"test_var1\" to the value 2072 divided by 96.  Print if this variable is equal to 6.  Then print what the variable test_var1 is equal to."
   ]
  },
  {
   "cell_type": "code",
   "execution_count": null,
   "metadata": {},
   "outputs": [],
   "source": []
  },
  {
   "cell_type": "markdown",
   "metadata": {},
   "source": [
    "6. Print to PDF this page and open up the PDF you created of the lab."
   ]
  }
 ],
 "metadata": {
  "kernelspec": {
   "display_name": "Python 3",
   "language": "python",
   "name": "python3"
  },
  "language_info": {
   "codemirror_mode": {
    "name": "ipython",
    "version": 3
   },
   "file_extension": ".py",
   "mimetype": "text/x-python",
   "name": "python",
   "nbconvert_exporter": "python",
   "pygments_lexer": "ipython3",
   "version": "3.7.3"
  }
 },
 "nbformat": 4,
 "nbformat_minor": 4
}
