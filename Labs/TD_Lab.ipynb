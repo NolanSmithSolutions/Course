{
 "cells": [
  {
   "cell_type": "markdown",
   "metadata": {},
   "source": [
    "Run the cell below before beginning this lab!"
   ]
  },
  {
   "cell_type": "code",
   "execution_count": null,
   "metadata": {},
   "outputs": [],
   "source": [
    "import requests\n",
    "import pandas as pd\n",
    "from pandas.io.json import json_normalize\n",
    "import time\n",
    "import os\n",
    "import matplotlib.pyplot as plt\n",
    "import numpy as np\n",
    "import seaborn as sns\n",
    "import statsmodels.api as sm\n",
    "import math\n",
    "import statistics\n",
    "\n",
    "def get_price_hist(ticker,period,key):\n",
    "    time.sleep(1)\n",
    "    endpoint = 'https://api.tdameritrade.com/v1/marketdata/'+ticker+'/pricehistory'\n",
    "\n",
    "    ##Define Payload\n",
    "    payload = {'apikey': key,\n",
    "    'periodType': 'year',\n",
    "    'peirod':period,\n",
    "    'frequencyType':'daily'}\n",
    "\n",
    "    ### make request\n",
    "    try:\n",
    "        content = requests.get(url = endpoint, params = payload)\n",
    "    except:\n",
    "        print('API error, please review.')\n",
    "        \n",
    "    ### Convert to dictionary\n",
    "    dictlist = []\n",
    "    data = content.json()\n",
    "\n",
    "    for key, value in data.items():\n",
    "        temp = [key,value]\n",
    "        dictlist.append(temp)\n",
    "        \n",
    "    try:\n",
    "        hist_data = pd.DataFrame(dictlist[0][1])\n",
    "        hist_data['ticker'] = ticker\n",
    "        hist_data['datetime'] = pd.to_datetime(hist_data['datetime'],unit='ms')\n",
    "        return hist_data\n",
    "    except:\n",
    "        df = pd.DataFrame()\n",
    "        return df\n",
    "    \n",
    "\n",
    "def get_fundamental_from_td(ticker,key):\n",
    "    time.sleep(1)\n",
    "    endpoint = 'https://api.tdameritrade.com/v1/instruments'\n",
    "    projection = 'fundamental'\n",
    "\n",
    "    ##Define Payload\n",
    "    payload = {'apikey': key,\n",
    "               'symbol' : ticker,\n",
    "                'projection': projection,\n",
    "                }\n",
    "    \n",
    "    ### make request\n",
    "    try:\n",
    "        content = requests.get(url = endpoint, params = payload)\n",
    "    except:\n",
    "        print('API error, please review.')\n",
    "        \n",
    "    ### Convert to dictionary\n",
    "    dictlist = []\n",
    "    data = content.json()\n",
    "    for key, value in data.items():\n",
    "        temp = [key,value]\n",
    "        dictlist.append(temp)\n",
    "        \n",
    "    try:\n",
    "        df = pd.DataFrame(dictlist[0][1]).T.reset_index(drop=True).iloc[0]\n",
    "        return df\n",
    "    except:\n",
    "        print(dictlist)\n",
    "        df = pd.DataFrame()\n",
    "        print(ticker + \" not valid.\")\n",
    "        return df\n",
    "\n",
    "def scrub_fundamental_data(tickers,key):\n",
    "    master = pd.DataFrame()\n",
    "    count = 1\n",
    "    for ticker in tickers:\n",
    "        temp = get_fundamental_from_td(ticker,key)\n",
    "        temp = pd.DataFrame(temp).T\n",
    "        hist_data = get_annual_returns([ticker],key)\n",
    "        try:\n",
    "            temp.columns = ['beta', 'bookValuePerShare', 'currentRatio', 'divGrowthRate3Year',\n",
    "           'dividendAmount', 'dividendDate', 'dividendPayAmount',\n",
    "           'dividendPayDate', 'dividendYield', 'epsChange', 'epsChangePercentTTM',\n",
    "           'epsChangeYear', 'epsTTM', 'grossMarginMRQ', 'grossMarginTTM', 'high52',\n",
    "           'interestCoverage', 'low52', 'ltDebtToEquity', 'marketCap',\n",
    "           'marketCapFloat', 'netProfitMarginMRQ', 'netProfitMarginTTM',\n",
    "           'operatingMarginMRQ', 'operatingMarginTTM', 'pbRatio', 'pcfRatio',\n",
    "           'peRatio', 'pegRatio', 'prRatio', 'quickRatio', 'returnOnAssets',\n",
    "           'returnOnEquity', 'returnOnInvestment', 'revChangeIn', 'revChangeTTM',\n",
    "           'revChangeYear', 'sharesOutstanding', 'shortIntDayToCover',\n",
    "           'shortIntToFloat', 'ticker', 'totalDebtToCapital', 'totalDebtToEquity',\n",
    "           'vol10DayAvg', 'vol1DayAvg', 'vol3MonthAvg']\n",
    "            temp = pd.merge(temp, hist_data, on='ticker')\n",
    "        except:\n",
    "            continue\n",
    "        \n",
    "        master = master.append(temp).reset_index(drop=True)\n",
    "        count+= 1\n",
    "    return master\n",
    "\n",
    "def scrub_price_hist(tickers,key):\n",
    "    master = pd.DataFrame()\n",
    "    for ticker in tickers:\n",
    "        price_data = get_price_hist(ticker,1,key)\n",
    "        master = master.append(price_data, ignore_index=True)\n",
    "    return master\n",
    "\n",
    "def get_annual_returns(tickers,key):\n",
    "    master = pd.DataFrame()\n",
    "    for ticker in tickers:\n",
    "        try:\n",
    "            price_data = get_price_hist(ticker,1,key).iloc[::-1]\n",
    "            return_percent = price_data['close'].iloc[0] / price_data['close'].iloc[-1] -1\n",
    "            df = pd.DataFrame({\"ticker\":ticker,  \n",
    "                               \"Annual_Return_Percent\":return_percent},\n",
    "                               index = [0])\n",
    "            master = master.append(df, ignore_index=True)\n",
    "        except:\n",
    "\n",
    "            print('error with', ticker)\n",
    "    return master"
   ]
  },
  {
   "cell_type": "markdown",
   "metadata": {},
   "source": [
    "1. Pull the 1 year price history using the scrub_price_hist function of any stock you like."
   ]
  },
  {
   "cell_type": "code",
   "execution_count": null,
   "metadata": {},
   "outputs": [],
   "source": []
  },
  {
   "cell_type": "markdown",
   "metadata": {},
   "source": [
    "2. Clean up the output so it mirrors our output for Apple."
   ]
  },
  {
   "cell_type": "code",
   "execution_count": null,
   "metadata": {},
   "outputs": [],
   "source": []
  },
  {
   "cell_type": "markdown",
   "metadata": {},
   "source": [
    "3.  Think of another market proxy besides the S&P 500, pull it's data, and clean it up."
   ]
  },
  {
   "cell_type": "code",
   "execution_count": null,
   "metadata": {},
   "outputs": [],
   "source": []
  },
  {
   "cell_type": "markdown",
   "metadata": {},
   "source": [
    "4. Merge the two data sets, so that it mirrors the 'consol_data' variable.  Then merge in the new proxy data and SPY data."
   ]
  },
  {
   "cell_type": "code",
   "execution_count": null,
   "metadata": {},
   "outputs": [],
   "source": [
    "# Run this cell first\n",
    "spy_data = scrub_price_hist(['SPY'],key)\n",
    "spy_data = spy_data[['close','datetime','ticker']]\n",
    "spy_data = spy_data.sort_values(by = 'datetime', ascending = False)\n",
    "spy_data['SPY_Return_%'] = spy_data['close'] / spy_data['close'].shift(-1) - 1\n",
    "spy_data.rename(columns={'close': 'SPY_Close'}, inplace=True)\n",
    "spy_data.drop(columns = ['ticker'], inplace = True)\n",
    "spy_data.head()"
   ]
  },
  {
   "cell_type": "code",
   "execution_count": null,
   "metadata": {},
   "outputs": [],
   "source": []
  },
  {
   "cell_type": "markdown",
   "metadata": {},
   "source": [
    "5. Calculate the beta of your new stock relative to both SPY and your new market proxy.  Are they different significantly?\n",
    "   Consider why they may be different."
   ]
  },
  {
   "cell_type": "code",
   "execution_count": null,
   "metadata": {},
   "outputs": [],
   "source": []
  },
  {
   "cell_type": "markdown",
   "metadata": {},
   "source": [
    "6. Pick a stock we haven't looked at and grab its fundamental data."
   ]
  },
  {
   "cell_type": "code",
   "execution_count": null,
   "metadata": {},
   "outputs": [],
   "source": []
  },
  {
   "cell_type": "markdown",
   "metadata": {},
   "source": [
    "7. Calculate the annual volatility of TQQQ."
   ]
  },
  {
   "cell_type": "code",
   "execution_count": null,
   "metadata": {},
   "outputs": [],
   "source": []
  },
  {
   "cell_type": "markdown",
   "metadata": {},
   "source": [
    "8. Find the beta to SPY of AMD as well as its volatility and make a conclusion about its risk profile."
   ]
  },
  {
   "cell_type": "code",
   "execution_count": null,
   "metadata": {},
   "outputs": [],
   "source": []
  },
  {
   "cell_type": "markdown",
   "metadata": {},
   "source": [
    "9. Get the fundamental data of AMC.  "
   ]
  },
  {
   "cell_type": "code",
   "execution_count": null,
   "metadata": {},
   "outputs": [],
   "source": []
  },
  {
   "cell_type": "markdown",
   "metadata": {},
   "source": [
    "10. Find the annualized volatility of an equally weighted portfolio of AMGN and PG.  Assume 252 trading days in a year and use one year of historicals."
   ]
  },
  {
   "cell_type": "code",
   "execution_count": null,
   "metadata": {},
   "outputs": [],
   "source": []
  },
  {
   "cell_type": "markdown",
   "metadata": {},
   "source": [
    "11. Find the annualized volatility of AMGN and PG respecively with the same assumptions as question 10."
   ]
  },
  {
   "cell_type": "code",
   "execution_count": null,
   "metadata": {},
   "outputs": [],
   "source": []
  },
  {
   "cell_type": "markdown",
   "metadata": {},
   "source": [
    "12. Find the volatility of XRX using data from June of 2021 only.  Compare it to its volatility in September of 2021."
   ]
  },
  {
   "cell_type": "code",
   "execution_count": null,
   "metadata": {},
   "outputs": [],
   "source": []
  },
  {
   "cell_type": "markdown",
   "metadata": {},
   "source": [
    "13.  Find the 1-year value at risk for a portfolio of 25% FB and 75% MO.  Assume 252 trading days in a year, and use the most recent 1 year pricing data."
   ]
  },
  {
   "cell_type": "code",
   "execution_count": null,
   "metadata": {},
   "outputs": [],
   "source": []
  },
  {
   "cell_type": "markdown",
   "metadata": {},
   "source": [
    "## -------------EXTEND YOUR UNDERSTANDING-------------"
   ]
  },
  {
   "cell_type": "markdown",
   "metadata": {},
   "source": [
    "Assume your broker allows you to invest on margin with no cost of borrowing up to 30% (i.e. for each \\\\$1 you have, you can invest \\\\$1.30).  Assume you have $10,000, want to use all the margin, and are feeling very good about an equally weighted portfolio of AIV and AIRC.  What is your one-month VaR?  Assume 21 trading days in a month, and use the most recent year's worth of data to estimate volatility.  "
   ]
  },
  {
   "cell_type": "code",
   "execution_count": null,
   "metadata": {},
   "outputs": [],
   "source": []
  }
 ],
 "metadata": {
  "kernelspec": {
   "display_name": "Python 3",
   "language": "python",
   "name": "python3"
  },
  "language_info": {
   "codemirror_mode": {
    "name": "ipython",
    "version": 3
   },
   "file_extension": ".py",
   "mimetype": "text/x-python",
   "name": "python",
   "nbconvert_exporter": "python",
   "pygments_lexer": "ipython3",
   "version": "3.7.3"
  }
 },
 "nbformat": 4,
 "nbformat_minor": 4
}
