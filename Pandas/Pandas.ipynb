{
 "cells": [
  {
   "cell_type": "markdown",
   "metadata": {},
   "source": [
    "<!-- ![Data Applications](https://www.durhamtech.edu/themes/custom/durhamtech/images/durham-tech-logo-web.svg)  -->\n",
    "\n",
    "## Manipulating Data with Pandas – The Fundamentals\n",
    "The pandas package in python is an industry standard that allows analysts to work with small to medium data sets.  Pandas will enable an analyst to quickly clean data and gather insights.  The purpose of this lecture is to expose you to the core capabilities of the package.  This is perhaps the most important data science package as it functions in a similar way that people use excel and SQL.\n",
    "\n",
    "![panda-wave](https://adultspaint.com/wp-content/uploads/2020/12/happy-panda-adult-paint-by-numbers.jpg)\n",
    "\n",
    "---\n",
    "\n",
    "### Set Up\n",
    "1.\tGo to github \n",
    "2.\tDownload the Pandas lecture folder and make sure it includes the 'SPY.csv', 'Inventory_Data.csv' and 'Demand_Plan.csv' files\n",
    "3.\tMove these folder to a dedicated folder on your desktop or other location\n",
    "4.\tOpen the command terminal in Anaconda Navigatory and run 'pip install pandas'\n",
    "\n",
    "\n",
    "\n",
    "### Needed Packages\n",
    "1.\tpandas\n",
    "2.  numpy\n",
    "3.  datetime\n",
    "---"
   ]
  },
  {
   "cell_type": "markdown",
   "metadata": {},
   "source": [
    "# Table of Contents\n",
    "\n",
    "### The basics\n",
    "#### <a href='#1'>What are Pandas DataFrames?</a>\n",
    "#### <a href='#2'>DataFrame From 1D Array</a>\n",
    "#### <a href='#3'>DataFrame From 2D Array</a>\n",
    "#### <a href='#4'>Create DataFrame From a Dictionary</a>\n",
    "#### <a href='#5'>Create a Pandas Series Object (i.e. a DataFrame column) using a Python list</a>\n",
    "\n",
    "### Interacting with Data Frames\n",
    "#### <a href='#6'>Accessing A DataFrame</a>\n",
    "#### <a href='#7'>Attribute Access</a>\n",
    "#### <a href='#8'>Slicing Ranges</a>\n",
    "#### <a href='#9'>Selection by Position Using .iloc Attribute</a>\n",
    "#### <a href='#10'>Boolean Indexing</a>\n",
    "\n",
    "### Examing, Grouping & Describing\n",
    "#### <a href='#11'>Some Basic Statistics on a DataFrame</a>\n",
    "#### <a href='#12'>Reading in data from a CSV</a>\n",
    "#### <a href='#13'>Head & Tails</a>\n",
    "#### <a href='#14'>Filtering</a>\n",
    "#### <a href='#15'>Changing Column Attributes</a>\n",
    "#### <a href='#16'>Grouping</a>\n",
    "#### <a href='#17'>Exporting Data</a>\n",
    "\n",
    "### Combining, Editing, and Time\n",
    "#### <a href='#19'>Concatenating Frames</a>\n",
    "#### <a href='#20'>Merging Frames</a>\n",
    "#### <a href='#21'>Renaming Cells</a>\n",
    "#### <a href='#22'>Dates & Time</a>\n",
    "#### <a href='#23'>Sorting Columns</a>\n",
    "#### <a href='#24'>Shifting Columns</a>\n",
    "\n",
    "### Loops, Functions, and DataFrames\n",
    "#### <a href='#26'>Reseting an Index</a>\n",
    "#### <a href='#27'>Creating New Columns from Old Columns</a>\n",
    "#### <a href='#28'>Lambda Functions</a>\n",
    "#### <a href='#29'>Looping through Columns</a>\n",
    "\n",
    "### Pivoting & Misc. Methods\n",
    "#### <a href='#31'>Rolling columns</a>\n",
    "#### <a href='#32'>Pivoting</a>\n",
    "#### <a href='#33'>Transpose</a>\n",
    "#### <a href='#34'>Removing Duplicates</a>\n",
    "#### <a href='#35'>Dropping Rows with Null Values</a>\n",
    "#### <a href='#36'>Filling Null Values</a>\n",
    "#### <a href='#38'>Concluding Remarks</a>\n",
    "#### <a href='#55'>Weekly Readings/Videos</a>\n",
    "\n",
    "\n",
    "### Practice\n",
    "#### <a href='#39'>Exercise Set 1</a>\n",
    "#### <a href='#40'>Exercise Set 2</a>\n",
    "#### <a href='#18'>Exercise Set 3</a>\n",
    "#### <a href='#25'>Exercise Set 4</a>\n",
    "#### <a href='#30'>Exercise Set 5</a>\n",
    "#### <a href='#37'>Exercise Set 6</a>\n",
    "\n"
   ]
  },
  {
   "cell_type": "markdown",
   "metadata": {},
   "source": [
    "<a id='1'></a>\n",
    "## What are Pandas DataFrames?\n",
    "Pandas DataFrames are a way of organizing data organized in two dimensions: rows and columns, which are themselves organized via labels (like a matrix with column headers and indices). You can insert one or two-dimensional data (list, tuple and sequences, or NumPy array), dictionaries, or time series data to pass as input to create a DataFrame. Pandas is built on top of Numpy code, which we covered in the previous lecture.\n",
    "![panda-bamboo](https://images.unsplash.com/photo-1594917668779-f95b4f72059f?ixlib=rb-1.2.1&ixid=MnwxMjA3fDB8MHxwaG90by1yZWxhdGVkfDE0fHx8ZW58MHx8fHw%3D&w=1000&q=80)"
   ]
  },
  {
   "cell_type": "code",
   "execution_count": 1,
   "metadata": {},
   "outputs": [],
   "source": [
    "###Ensure this file is in the same folder as 'Demand_Plan.csv' & 'Inventory_Data.csv' \n",
    "import pandas as pd\n",
    "import numpy as np\n",
    "from datetime import timedelta\n",
    "\n",
    "spy_path = 'SPY.csv'\n",
    "demand_path =  'Demand_Plan.csv'\n",
    "inventory_path = 'Inventory_Data.csv'\n",
    "test_path = 'test.csv'"
   ]
  },
  {
   "cell_type": "markdown",
   "metadata": {},
   "source": [
    "<a id='2'></a>\n",
    "### DataFrame From 1D Array"
   ]
  },
  {
   "cell_type": "code",
   "execution_count": 2,
   "metadata": {},
   "outputs": [
    {
     "name": "stdout",
     "output_type": "stream",
     "text": [
      "[-0.76018615 -2.10158401 -0.80975668]\n",
      "[-0.00751726 -1.70436077  0.58140398]\n",
      "[-0.96914406 -1.4809011  -0.52334255]\n"
     ]
    }
   ],
   "source": [
    "# Create random seed\n",
    "np.random.seed(58) \n",
    "\n",
    "# 3 different 1 dimensional arrays of length 3\n",
    "a1 = np.random.randn(3)\n",
    "a2 = np.random.randn(3)\n",
    "a3 = np.random.randn(3)\n",
    "\n",
    "print (a1)\n",
    "print (a2)\n",
    "print (a3)"
   ]
  },
  {
   "cell_type": "code",
   "execution_count": 3,
   "metadata": {},
   "outputs": [
    {
     "data": {
      "text/html": [
       "<div>\n",
       "<style scoped>\n",
       "    .dataframe tbody tr th:only-of-type {\n",
       "        vertical-align: middle;\n",
       "    }\n",
       "\n",
       "    .dataframe tbody tr th {\n",
       "        vertical-align: top;\n",
       "    }\n",
       "\n",
       "    .dataframe thead th {\n",
       "        text-align: right;\n",
       "    }\n",
       "</style>\n",
       "<table border=\"1\" class=\"dataframe\">\n",
       "  <thead>\n",
       "    <tr style=\"text-align: right;\">\n",
       "      <th></th>\n",
       "      <th>0</th>\n",
       "    </tr>\n",
       "  </thead>\n",
       "  <tbody>\n",
       "    <tr>\n",
       "      <td>0</td>\n",
       "      <td>-0.760186</td>\n",
       "    </tr>\n",
       "    <tr>\n",
       "      <td>1</td>\n",
       "      <td>-2.101584</td>\n",
       "    </tr>\n",
       "    <tr>\n",
       "      <td>2</td>\n",
       "      <td>-0.809757</td>\n",
       "    </tr>\n",
       "  </tbody>\n",
       "</table>\n",
       "</div>"
      ],
      "text/plain": [
       "          0\n",
       "0 -0.760186\n",
       "1 -2.101584\n",
       "2 -0.809757"
      ]
     },
     "execution_count": 3,
     "metadata": {},
     "output_type": "execute_result"
    }
   ],
   "source": [
    "# Create our first DataFrame with the above numpy array\n",
    "df0 = pd.DataFrame(a1)\n",
    "df0"
   ]
  },
  {
   "cell_type": "code",
   "execution_count": 4,
   "metadata": {},
   "outputs": [
    {
     "name": "stdout",
     "output_type": "stream",
     "text": [
      "          0\n",
      "0 -0.760186\n",
      "1 -2.101584\n",
      "2 -0.809757\n"
     ]
    }
   ],
   "source": [
    "# Printing the dataframe gives a different result than the return value\n",
    "print(df0)"
   ]
  },
  {
   "cell_type": "code",
   "execution_count": 5,
   "metadata": {},
   "outputs": [
    {
     "data": {
      "text/plain": [
       "pandas.core.frame.DataFrame"
      ]
     },
     "execution_count": 5,
     "metadata": {},
     "output_type": "execute_result"
    }
   ],
   "source": [
    "# Check type\n",
    "type(df0)"
   ]
  },
  {
   "cell_type": "code",
   "execution_count": 6,
   "metadata": {},
   "outputs": [
    {
     "data": {
      "text/html": [
       "<div>\n",
       "<style scoped>\n",
       "    .dataframe tbody tr th:only-of-type {\n",
       "        vertical-align: middle;\n",
       "    }\n",
       "\n",
       "    .dataframe tbody tr th {\n",
       "        vertical-align: top;\n",
       "    }\n",
       "\n",
       "    .dataframe thead th {\n",
       "        text-align: right;\n",
       "    }\n",
       "</style>\n",
       "<table border=\"1\" class=\"dataframe\">\n",
       "  <thead>\n",
       "    <tr style=\"text-align: right;\">\n",
       "      <th></th>\n",
       "      <th>0</th>\n",
       "      <th>1</th>\n",
       "      <th>2</th>\n",
       "    </tr>\n",
       "  </thead>\n",
       "  <tbody>\n",
       "    <tr>\n",
       "      <td>0</td>\n",
       "      <td>-0.760186</td>\n",
       "      <td>-2.101584</td>\n",
       "      <td>-0.809757</td>\n",
       "    </tr>\n",
       "    <tr>\n",
       "      <td>1</td>\n",
       "      <td>-0.007517</td>\n",
       "      <td>-1.704361</td>\n",
       "      <td>0.581404</td>\n",
       "    </tr>\n",
       "    <tr>\n",
       "      <td>2</td>\n",
       "      <td>-0.969144</td>\n",
       "      <td>-1.480901</td>\n",
       "      <td>-0.523343</td>\n",
       "    </tr>\n",
       "  </tbody>\n",
       "</table>\n",
       "</div>"
      ],
      "text/plain": [
       "          0         1         2\n",
       "0 -0.760186 -2.101584 -0.809757\n",
       "1 -0.007517 -1.704361  0.581404\n",
       "2 -0.969144 -1.480901 -0.523343"
      ]
     },
     "execution_count": 6,
     "metadata": {},
     "output_type": "execute_result"
    }
   ],
   "source": [
    "# DataFrame from all 3 numpy arrays\n",
    "df0 = pd.DataFrame([a1, a2, a3])\n",
    "df0"
   ]
  },
  {
   "cell_type": "code",
   "execution_count": 7,
   "metadata": {},
   "outputs": [
    {
     "data": {
      "text/html": [
       "<div>\n",
       "<style scoped>\n",
       "    .dataframe tbody tr th:only-of-type {\n",
       "        vertical-align: middle;\n",
       "    }\n",
       "\n",
       "    .dataframe tbody tr th {\n",
       "        vertical-align: top;\n",
       "    }\n",
       "\n",
       "    .dataframe thead th {\n",
       "        text-align: right;\n",
       "    }\n",
       "</style>\n",
       "<table border=\"1\" class=\"dataframe\">\n",
       "  <thead>\n",
       "    <tr style=\"text-align: right;\">\n",
       "      <th></th>\n",
       "      <th>col_a1</th>\n",
       "      <th>col_a2</th>\n",
       "      <th>col_a3</th>\n",
       "    </tr>\n",
       "  </thead>\n",
       "  <tbody>\n",
       "    <tr>\n",
       "      <td>row_a</td>\n",
       "      <td>-0.760186</td>\n",
       "      <td>-2.101584</td>\n",
       "      <td>-0.809757</td>\n",
       "    </tr>\n",
       "    <tr>\n",
       "      <td>row_b</td>\n",
       "      <td>-0.007517</td>\n",
       "      <td>-1.704361</td>\n",
       "      <td>0.581404</td>\n",
       "    </tr>\n",
       "    <tr>\n",
       "      <td>row_c</td>\n",
       "      <td>-0.969144</td>\n",
       "      <td>-1.480901</td>\n",
       "      <td>-0.523343</td>\n",
       "    </tr>\n",
       "  </tbody>\n",
       "</table>\n",
       "</div>"
      ],
      "text/plain": [
       "         col_a1    col_a2    col_a3\n",
       "row_a -0.760186 -2.101584 -0.809757\n",
       "row_b -0.007517 -1.704361  0.581404\n",
       "row_c -0.969144 -1.480901 -0.523343"
      ]
     },
     "execution_count": 7,
     "metadata": {},
     "output_type": "execute_result"
    }
   ],
   "source": [
    "# We can set the column and index names\n",
    "df0 = pd.DataFrame([a1, a2, a3],columns=['col_a1','col_a2','col_a3'],index=['row_a','row_b','row_c'])\n",
    "df0"
   ]
  },
  {
   "cell_type": "code",
   "execution_count": 8,
   "metadata": {},
   "outputs": [
    {
     "data": {
      "text/html": [
       "<div>\n",
       "<style scoped>\n",
       "    .dataframe tbody tr th:only-of-type {\n",
       "        vertical-align: middle;\n",
       "    }\n",
       "\n",
       "    .dataframe tbody tr th {\n",
       "        vertical-align: top;\n",
       "    }\n",
       "\n",
       "    .dataframe thead th {\n",
       "        text-align: right;\n",
       "    }\n",
       "</style>\n",
       "<table border=\"1\" class=\"dataframe\">\n",
       "  <thead>\n",
       "    <tr style=\"text-align: right;\">\n",
       "      <th></th>\n",
       "      <th>col_a1</th>\n",
       "      <th>col_a2</th>\n",
       "      <th>col_a3</th>\n",
       "      <th>col4</th>\n",
       "    </tr>\n",
       "  </thead>\n",
       "  <tbody>\n",
       "    <tr>\n",
       "      <td>row_a</td>\n",
       "      <td>-0.760186</td>\n",
       "      <td>-2.101584</td>\n",
       "      <td>-0.809757</td>\n",
       "      <td>-0.007517</td>\n",
       "    </tr>\n",
       "    <tr>\n",
       "      <td>row_b</td>\n",
       "      <td>-0.007517</td>\n",
       "      <td>-1.704361</td>\n",
       "      <td>0.581404</td>\n",
       "      <td>-1.704361</td>\n",
       "    </tr>\n",
       "    <tr>\n",
       "      <td>row_c</td>\n",
       "      <td>-0.969144</td>\n",
       "      <td>-1.480901</td>\n",
       "      <td>-0.523343</td>\n",
       "      <td>0.581404</td>\n",
       "    </tr>\n",
       "  </tbody>\n",
       "</table>\n",
       "</div>"
      ],
      "text/plain": [
       "         col_a1    col_a2    col_a3      col4\n",
       "row_a -0.760186 -2.101584 -0.809757 -0.007517\n",
       "row_b -0.007517 -1.704361  0.581404 -1.704361\n",
       "row_c -0.969144 -1.480901 -0.523343  0.581404"
      ]
     },
     "execution_count": 8,
     "metadata": {},
     "output_type": "execute_result"
    }
   ],
   "source": [
    "# Adding  more columns to dataframe requires that the dimensions must match\n",
    "df0['col4']=a2\n",
    "df0"
   ]
  },
  {
   "cell_type": "markdown",
   "metadata": {},
   "source": [
    "<a id='3'></a>\n",
    "### DataFrame From 2D Array"
   ]
  },
  {
   "cell_type": "code",
   "execution_count": 9,
   "metadata": {},
   "outputs": [
    {
     "data": {
      "text/plain": [
       "array([[-2.13897865e+00,  1.11206124e+00,  3.58015526e-02],\n",
       "       [-6.30157742e-01,  3.54051160e-05, -1.20895742e+00],\n",
       "       [ 2.91628075e-01, -1.65065515e+00, -1.50712909e+00]])"
      ]
     },
     "execution_count": 9,
     "metadata": {},
     "output_type": "execute_result"
    }
   ],
   "source": [
    "# Create a DataFrame from 2D np.array\n",
    "np.random.seed(63)\n",
    "array_2d = np.array(np.random.randn(9)).reshape(3,3)\n",
    "array_2d"
   ]
  },
  {
   "cell_type": "code",
   "execution_count": 10,
   "metadata": {},
   "outputs": [
    {
     "data": {
      "text/html": [
       "<div>\n",
       "<style scoped>\n",
       "    .dataframe tbody tr th:only-of-type {\n",
       "        vertical-align: middle;\n",
       "    }\n",
       "\n",
       "    .dataframe tbody tr th {\n",
       "        vertical-align: top;\n",
       "    }\n",
       "\n",
       "    .dataframe thead th {\n",
       "        text-align: right;\n",
       "    }\n",
       "</style>\n",
       "<table border=\"1\" class=\"dataframe\">\n",
       "  <thead>\n",
       "    <tr style=\"text-align: right;\">\n",
       "      <th></th>\n",
       "      <th>1stColumn</th>\n",
       "      <th>Another_Column</th>\n",
       "      <th>ThirdOne</th>\n",
       "    </tr>\n",
       "  </thead>\n",
       "  <tbody>\n",
       "    <tr>\n",
       "      <td>58</td>\n",
       "      <td>-2.138979</td>\n",
       "      <td>1.112061</td>\n",
       "      <td>0.035802</td>\n",
       "    </tr>\n",
       "    <tr>\n",
       "      <td>12</td>\n",
       "      <td>-0.630158</td>\n",
       "      <td>0.000035</td>\n",
       "      <td>-1.208957</td>\n",
       "    </tr>\n",
       "    <tr>\n",
       "      <td>725</td>\n",
       "      <td>0.291628</td>\n",
       "      <td>-1.650655</td>\n",
       "      <td>-1.507129</td>\n",
       "    </tr>\n",
       "  </tbody>\n",
       "</table>\n",
       "</div>"
      ],
      "text/plain": [
       "     1stColumn  Another_Column  ThirdOne\n",
       "58   -2.138979        1.112061  0.035802\n",
       "12   -0.630158        0.000035 -1.208957\n",
       "725   0.291628       -1.650655 -1.507129"
      ]
     },
     "execution_count": 10,
     "metadata": {},
     "output_type": "execute_result"
    }
   ],
   "source": [
    "# Again you can label your columns and indexes however you please\n",
    "df0 = pd.DataFrame(array_2d,columns=['1stColumn','Another_Column','ThirdOne'] \\\n",
    "                   , index=[58,12,725]) \n",
    "\n",
    "df0"
   ]
  },
  {
   "cell_type": "markdown",
   "metadata": {},
   "source": [
    "<a id='4'></a>\n",
    "### Create DataFrame From a Dictionary\n",
    "![panda-2](https://media.kidadl.com/medium_5f89b77ffae2a75827e84c40_a_day_in_the_life_of_a_panda_consists_solely_of_eating_and_sleeping_df016da354.jpeg)"
   ]
  },
  {
   "cell_type": "code",
   "execution_count": 11,
   "metadata": {},
   "outputs": [
    {
     "data": {
      "text/plain": [
       "{'a1': array([-0.76018615, -2.10158401, -0.80975668]),\n",
       " 'a2': array([-0.00751726, -1.70436077,  0.58140398]),\n",
       " 'a3': array([-0.96914406, -1.4809011 , -0.52334255])}"
      ]
     },
     "execution_count": 11,
     "metadata": {},
     "output_type": "execute_result"
    }
   ],
   "source": [
    "# Create a DataFrame from a Dictionary\n",
    "dict1 = {'a1':a1, 'a2':a2,'a3':a3}\n",
    "dict1"
   ]
  },
  {
   "cell_type": "code",
   "execution_count": 12,
   "metadata": {},
   "outputs": [
    {
     "data": {
      "text/html": [
       "<div>\n",
       "<style scoped>\n",
       "    .dataframe tbody tr th:only-of-type {\n",
       "        vertical-align: middle;\n",
       "    }\n",
       "\n",
       "    .dataframe tbody tr th {\n",
       "        vertical-align: top;\n",
       "    }\n",
       "\n",
       "    .dataframe thead th {\n",
       "        text-align: right;\n",
       "    }\n",
       "</style>\n",
       "<table border=\"1\" class=\"dataframe\">\n",
       "  <thead>\n",
       "    <tr style=\"text-align: right;\">\n",
       "      <th></th>\n",
       "      <th>a1</th>\n",
       "      <th>a2</th>\n",
       "      <th>a3</th>\n",
       "    </tr>\n",
       "  </thead>\n",
       "  <tbody>\n",
       "    <tr>\n",
       "      <td>1</td>\n",
       "      <td>-0.760186</td>\n",
       "      <td>-0.007517</td>\n",
       "      <td>-0.969144</td>\n",
       "    </tr>\n",
       "    <tr>\n",
       "      <td>2</td>\n",
       "      <td>-2.101584</td>\n",
       "      <td>-1.704361</td>\n",
       "      <td>-1.480901</td>\n",
       "    </tr>\n",
       "    <tr>\n",
       "      <td>3</td>\n",
       "      <td>-0.809757</td>\n",
       "      <td>0.581404</td>\n",
       "      <td>-0.523343</td>\n",
       "    </tr>\n",
       "  </tbody>\n",
       "</table>\n",
       "</div>"
      ],
      "text/plain": [
       "         a1        a2        a3\n",
       "1 -0.760186 -0.007517 -0.969144\n",
       "2 -2.101584 -1.704361 -1.480901\n",
       "3 -0.809757  0.581404 -0.523343"
      ]
     },
     "execution_count": 12,
     "metadata": {},
     "output_type": "execute_result"
    }
   ],
   "source": [
    "# Assign the indexes\n",
    "df1 = pd.DataFrame(dict1,index=[1,2,3]) \n",
    "df1"
   ]
  },
  {
   "cell_type": "code",
   "execution_count": 13,
   "metadata": {},
   "outputs": [
    {
     "data": {
      "text/html": [
       "<div>\n",
       "<style scoped>\n",
       "    .dataframe tbody tr th:only-of-type {\n",
       "        vertical-align: middle;\n",
       "    }\n",
       "\n",
       "    .dataframe tbody tr th {\n",
       "        vertical-align: top;\n",
       "    }\n",
       "\n",
       "    .dataframe thead th {\n",
       "        text-align: right;\n",
       "    }\n",
       "</style>\n",
       "<table border=\"1\" class=\"dataframe\">\n",
       "  <thead>\n",
       "    <tr style=\"text-align: right;\">\n",
       "      <th></th>\n",
       "      <th>a1</th>\n",
       "      <th>a2</th>\n",
       "      <th>a3</th>\n",
       "      <th>Mixed</th>\n",
       "    </tr>\n",
       "  </thead>\n",
       "  <tbody>\n",
       "    <tr>\n",
       "      <td>1</td>\n",
       "      <td>-0.760186</td>\n",
       "      <td>-0.007517</td>\n",
       "      <td>-0.969144</td>\n",
       "      <td>Apples</td>\n",
       "    </tr>\n",
       "    <tr>\n",
       "      <td>2</td>\n",
       "      <td>-2.101584</td>\n",
       "      <td>-1.704361</td>\n",
       "      <td>-1.480901</td>\n",
       "      <td>92</td>\n",
       "    </tr>\n",
       "    <tr>\n",
       "      <td>3</td>\n",
       "      <td>-0.809757</td>\n",
       "      <td>0.581404</td>\n",
       "      <td>-0.523343</td>\n",
       "      <td>Cars</td>\n",
       "    </tr>\n",
       "  </tbody>\n",
       "</table>\n",
       "</div>"
      ],
      "text/plain": [
       "         a1        a2        a3   Mixed\n",
       "1 -0.760186 -0.007517 -0.969144  Apples\n",
       "2 -2.101584 -1.704361 -1.480901      92\n",
       "3 -0.809757  0.581404 -0.523343    Cars"
      ]
     },
     "execution_count": 13,
     "metadata": {},
     "output_type": "execute_result"
    }
   ],
   "source": [
    "# We can add a list with strings and ints as a column \n",
    "df1['Mixed'] = [\"Apples\", 92, \"Cars\"]\n",
    "df1"
   ]
  },
  {
   "cell_type": "markdown",
   "metadata": {},
   "source": [
    "<a id='5'></a>\n",
    "### Create a Pandas Series Object (i.e. a DataFrame column) using a Python list"
   ]
  },
  {
   "cell_type": "code",
   "execution_count": 14,
   "metadata": {},
   "outputs": [
    {
     "data": {
      "text/plain": [
       "pandas.core.series.Series"
      ]
     },
     "execution_count": 14,
     "metadata": {},
     "output_type": "execute_result"
    }
   ],
   "source": [
    "# Every column is a series object\n",
    "type(df1['Mixed'])"
   ]
  },
  {
   "cell_type": "code",
   "execution_count": 15,
   "metadata": {},
   "outputs": [
    {
     "data": {
      "text/plain": [
       "1    Apples\n",
       "2        92\n",
       "3      Cars\n",
       "Name: Mixed, dtype: object"
      ]
     },
     "execution_count": 15,
     "metadata": {},
     "output_type": "execute_result"
    }
   ],
   "source": [
    "# View one column\n",
    "df1['Mixed']"
   ]
  },
  {
   "cell_type": "code",
   "execution_count": 16,
   "metadata": {},
   "outputs": [
    {
     "name": "stdout",
     "output_type": "stream",
     "text": [
      "<class 'str'> <class 'int'>\n"
     ]
    }
   ],
   "source": [
    "# Different datatypes in a column\n",
    "print(type(df1['Mixed'][1]), type(df1['Mixed'][2]))"
   ]
  },
  {
   "cell_type": "code",
   "execution_count": 17,
   "metadata": {},
   "outputs": [
    {
     "data": {
      "text/plain": [
       "0    21\n",
       "1    15\n",
       "2    32\n",
       "dtype: int64"
      ]
     },
     "execution_count": 17,
     "metadata": {},
     "output_type": "execute_result"
    }
   ],
   "source": [
    "# Create a Series from a Python list\n",
    "s = pd.Series([21,15,32]) # an automatic index is created in numerical sequence order, 0,1,2...\n",
    "s"
   ]
  },
  {
   "cell_type": "code",
   "execution_count": 18,
   "metadata": {},
   "outputs": [
    {
     "data": {
      "text/plain": [
       "h    21\n",
       "i    15\n",
       "j    32\n",
       "dtype: int64"
      ]
     },
     "execution_count": 18,
     "metadata": {},
     "output_type": "execute_result"
    }
   ],
   "source": [
    "# Creating a Series from a Python List but with user specified list\n",
    "s2 = pd.Series([21, 15, 32], index = ['h','i','j']) #specific index\n",
    "s2"
   ]
  },
  {
   "cell_type": "code",
   "execution_count": 19,
   "metadata": {},
   "outputs": [
    {
     "data": {
      "text/plain": [
       "21"
      ]
     },
     "execution_count": 19,
     "metadata": {},
     "output_type": "execute_result"
    }
   ],
   "source": [
    "# View element\n",
    "s2['h']"
   ]
  },
  {
   "cell_type": "markdown",
   "metadata": {},
   "source": [
    "<a id='39'></a>\n",
    "## -------------PRACTICE-------------"
   ]
  },
  {
   "cell_type": "markdown",
   "metadata": {},
   "source": [
    "1. In the cell below, create a 3x3 Data Frame with each value as '1' and add unique column names."
   ]
  },
  {
   "cell_type": "code",
   "execution_count": null,
   "metadata": {},
   "outputs": [],
   "source": []
  },
  {
   "cell_type": "markdown",
   "metadata": {},
   "source": [
    "2. In the cell below, find the type of the first row of the first column of your new DataFrame."
   ]
  },
  {
   "cell_type": "code",
   "execution_count": null,
   "metadata": {},
   "outputs": [],
   "source": []
  },
  {
   "cell_type": "markdown",
   "metadata": {},
   "source": [
    "3. In the cell below, find and print the value of the center cell of your DataFrame."
   ]
  },
  {
   "cell_type": "code",
   "execution_count": null,
   "metadata": {},
   "outputs": [],
   "source": []
  },
  {
   "cell_type": "markdown",
   "metadata": {},
   "source": [
    "4. In the cell below, create a list with elements 'a', 'b', and 'c', transform it into a DataFrame, and find the type of the second row of the first column."
   ]
  },
  {
   "cell_type": "code",
   "execution_count": null,
   "metadata": {},
   "outputs": [],
   "source": []
  },
  {
   "cell_type": "markdown",
   "metadata": {},
   "source": [
    "5. In the cell below, create a for loop that will creat a list of length 10 with numbers ranging from 0 to 9, then, convert this new list into a DataFrame."
   ]
  },
  {
   "cell_type": "code",
   "execution_count": null,
   "metadata": {},
   "outputs": [],
   "source": []
  },
  {
   "cell_type": "markdown",
   "metadata": {},
   "source": [
    "<a id='6'></a>\n",
    "### Accessing A DataFrame\n"
   ]
  },
  {
   "cell_type": "code",
   "execution_count": 20,
   "metadata": {},
   "outputs": [
    {
     "data": {
      "text/html": [
       "<div>\n",
       "<style scoped>\n",
       "    .dataframe tbody tr th:only-of-type {\n",
       "        vertical-align: middle;\n",
       "    }\n",
       "\n",
       "    .dataframe tbody tr th {\n",
       "        vertical-align: top;\n",
       "    }\n",
       "\n",
       "    .dataframe thead th {\n",
       "        text-align: right;\n",
       "    }\n",
       "</style>\n",
       "<table border=\"1\" class=\"dataframe\">\n",
       "  <thead>\n",
       "    <tr style=\"text-align: right;\">\n",
       "      <th></th>\n",
       "      <th>a1</th>\n",
       "      <th>a2</th>\n",
       "      <th>a3</th>\n",
       "      <th>Mixed</th>\n",
       "      <th>Series</th>\n",
       "    </tr>\n",
       "  </thead>\n",
       "  <tbody>\n",
       "    <tr>\n",
       "      <td>1</td>\n",
       "      <td>-0.760186</td>\n",
       "      <td>-0.007517</td>\n",
       "      <td>-0.969144</td>\n",
       "      <td>Apples</td>\n",
       "      <td>15.0</td>\n",
       "    </tr>\n",
       "    <tr>\n",
       "      <td>2</td>\n",
       "      <td>-2.101584</td>\n",
       "      <td>-1.704361</td>\n",
       "      <td>-1.480901</td>\n",
       "      <td>92</td>\n",
       "      <td>32.0</td>\n",
       "    </tr>\n",
       "    <tr>\n",
       "      <td>3</td>\n",
       "      <td>-0.809757</td>\n",
       "      <td>0.581404</td>\n",
       "      <td>-0.523343</td>\n",
       "      <td>Cars</td>\n",
       "      <td>NaN</td>\n",
       "    </tr>\n",
       "  </tbody>\n",
       "</table>\n",
       "</div>"
      ],
      "text/plain": [
       "         a1        a2        a3   Mixed  Series\n",
       "1 -0.760186 -0.007517 -0.969144  Apples    15.0\n",
       "2 -2.101584 -1.704361 -1.480901      92    32.0\n",
       "3 -0.809757  0.581404 -0.523343    Cars     NaN"
      ]
     },
     "execution_count": 20,
     "metadata": {},
     "output_type": "execute_result"
    }
   ],
   "source": [
    "# We can add the Series s to the DataFrame above as column Series\n",
    "# Remember to match indices\n",
    "df1['Series'] = s\n",
    "df1"
   ]
  },
  {
   "cell_type": "code",
   "execution_count": 21,
   "metadata": {},
   "outputs": [
    {
     "data": {
      "text/html": [
       "<div>\n",
       "<style scoped>\n",
       "    .dataframe tbody tr th:only-of-type {\n",
       "        vertical-align: middle;\n",
       "    }\n",
       "\n",
       "    .dataframe tbody tr th {\n",
       "        vertical-align: top;\n",
       "    }\n",
       "\n",
       "    .dataframe thead th {\n",
       "        text-align: right;\n",
       "    }\n",
       "</style>\n",
       "<table border=\"1\" class=\"dataframe\">\n",
       "  <thead>\n",
       "    <tr style=\"text-align: right;\">\n",
       "      <th></th>\n",
       "      <th>a1</th>\n",
       "      <th>a2</th>\n",
       "      <th>a3</th>\n",
       "      <th>RenamedColumn</th>\n",
       "      <th>Series</th>\n",
       "    </tr>\n",
       "  </thead>\n",
       "  <tbody>\n",
       "    <tr>\n",
       "      <td>1</td>\n",
       "      <td>-0.760186</td>\n",
       "      <td>-0.007517</td>\n",
       "      <td>-0.969144</td>\n",
       "      <td>Apples</td>\n",
       "      <td>15.0</td>\n",
       "    </tr>\n",
       "    <tr>\n",
       "      <td>2</td>\n",
       "      <td>-2.101584</td>\n",
       "      <td>-1.704361</td>\n",
       "      <td>-1.480901</td>\n",
       "      <td>92</td>\n",
       "      <td>32.0</td>\n",
       "    </tr>\n",
       "    <tr>\n",
       "      <td>3</td>\n",
       "      <td>-0.809757</td>\n",
       "      <td>0.581404</td>\n",
       "      <td>-0.523343</td>\n",
       "      <td>Cars</td>\n",
       "      <td>NaN</td>\n",
       "    </tr>\n",
       "  </tbody>\n",
       "</table>\n",
       "</div>"
      ],
      "text/plain": [
       "         a1        a2        a3 RenamedColumn  Series\n",
       "1 -0.760186 -0.007517 -0.969144        Apples    15.0\n",
       "2 -2.101584 -1.704361 -1.480901            92    32.0\n",
       "3 -0.809757  0.581404 -0.523343          Cars     NaN"
      ]
     },
     "execution_count": 21,
     "metadata": {},
     "output_type": "execute_result"
    }
   ],
   "source": [
    "# We can rename columns\n",
    "df1 = df1.rename(columns = {'Mixed':'RenamedColumn'})\n",
    "df1"
   ]
  },
  {
   "cell_type": "code",
   "execution_count": 22,
   "metadata": {},
   "outputs": [
    {
     "data": {
      "text/html": [
       "<div>\n",
       "<style scoped>\n",
       "    .dataframe tbody tr th:only-of-type {\n",
       "        vertical-align: middle;\n",
       "    }\n",
       "\n",
       "    .dataframe tbody tr th {\n",
       "        vertical-align: top;\n",
       "    }\n",
       "\n",
       "    .dataframe thead th {\n",
       "        text-align: right;\n",
       "    }\n",
       "</style>\n",
       "<table border=\"1\" class=\"dataframe\">\n",
       "  <thead>\n",
       "    <tr style=\"text-align: right;\">\n",
       "      <th></th>\n",
       "      <th>a1</th>\n",
       "      <th>a2</th>\n",
       "      <th>a3</th>\n",
       "      <th>Series</th>\n",
       "    </tr>\n",
       "  </thead>\n",
       "  <tbody>\n",
       "    <tr>\n",
       "      <td>1</td>\n",
       "      <td>-0.760186</td>\n",
       "      <td>-0.007517</td>\n",
       "      <td>-0.969144</td>\n",
       "      <td>15.0</td>\n",
       "    </tr>\n",
       "    <tr>\n",
       "      <td>2</td>\n",
       "      <td>-2.101584</td>\n",
       "      <td>-1.704361</td>\n",
       "      <td>-1.480901</td>\n",
       "      <td>32.0</td>\n",
       "    </tr>\n",
       "    <tr>\n",
       "      <td>3</td>\n",
       "      <td>-0.809757</td>\n",
       "      <td>0.581404</td>\n",
       "      <td>-0.523343</td>\n",
       "      <td>NaN</td>\n",
       "    </tr>\n",
       "  </tbody>\n",
       "</table>\n",
       "</div>"
      ],
      "text/plain": [
       "         a1        a2        a3  Series\n",
       "1 -0.760186 -0.007517 -0.969144    15.0\n",
       "2 -2.101584 -1.704361 -1.480901    32.0\n",
       "3 -0.809757  0.581404 -0.523343     NaN"
      ]
     },
     "execution_count": 22,
     "metadata": {},
     "output_type": "execute_result"
    }
   ],
   "source": [
    "# We can delete columns\n",
    "del df1['RenamedColumn']\n",
    "df1"
   ]
  },
  {
   "cell_type": "code",
   "execution_count": 23,
   "metadata": {},
   "outputs": [
    {
     "data": {
      "text/html": [
       "<div>\n",
       "<style scoped>\n",
       "    .dataframe tbody tr th:only-of-type {\n",
       "        vertical-align: middle;\n",
       "    }\n",
       "\n",
       "    .dataframe tbody tr th {\n",
       "        vertical-align: top;\n",
       "    }\n",
       "\n",
       "    .dataframe thead th {\n",
       "        text-align: right;\n",
       "    }\n",
       "</style>\n",
       "<table border=\"1\" class=\"dataframe\">\n",
       "  <thead>\n",
       "    <tr style=\"text-align: right;\">\n",
       "      <th></th>\n",
       "      <th>a1</th>\n",
       "      <th>a3</th>\n",
       "      <th>Series</th>\n",
       "    </tr>\n",
       "  </thead>\n",
       "  <tbody>\n",
       "    <tr>\n",
       "      <td>1</td>\n",
       "      <td>-0.760186</td>\n",
       "      <td>-0.969144</td>\n",
       "      <td>15.0</td>\n",
       "    </tr>\n",
       "    <tr>\n",
       "      <td>2</td>\n",
       "      <td>-2.101584</td>\n",
       "      <td>-1.480901</td>\n",
       "      <td>32.0</td>\n",
       "    </tr>\n",
       "    <tr>\n",
       "      <td>3</td>\n",
       "      <td>-0.809757</td>\n",
       "      <td>-0.523343</td>\n",
       "      <td>NaN</td>\n",
       "    </tr>\n",
       "  </tbody>\n",
       "</table>\n",
       "</div>"
      ],
      "text/plain": [
       "         a1        a3  Series\n",
       "1 -0.760186 -0.969144    15.0\n",
       "2 -2.101584 -1.480901    32.0\n",
       "3 -0.809757 -0.523343     NaN"
      ]
     },
     "execution_count": 23,
     "metadata": {},
     "output_type": "execute_result"
    }
   ],
   "source": [
    "# or drop columns, see axis = 1 which is the step we use the most\n",
    "# however this does not change the dataframe if we don't set inplace=True\n",
    "df1.drop('a2',axis=1) # returns a copy"
   ]
  },
  {
   "cell_type": "code",
   "execution_count": 24,
   "metadata": {},
   "outputs": [
    {
     "data": {
      "text/html": [
       "<div>\n",
       "<style scoped>\n",
       "    .dataframe tbody tr th:only-of-type {\n",
       "        vertical-align: middle;\n",
       "    }\n",
       "\n",
       "    .dataframe tbody tr th {\n",
       "        vertical-align: top;\n",
       "    }\n",
       "\n",
       "    .dataframe thead th {\n",
       "        text-align: right;\n",
       "    }\n",
       "</style>\n",
       "<table border=\"1\" class=\"dataframe\">\n",
       "  <thead>\n",
       "    <tr style=\"text-align: right;\">\n",
       "      <th></th>\n",
       "      <th>a1</th>\n",
       "      <th>a2</th>\n",
       "      <th>a3</th>\n",
       "      <th>Series</th>\n",
       "    </tr>\n",
       "  </thead>\n",
       "  <tbody>\n",
       "    <tr>\n",
       "      <td>1</td>\n",
       "      <td>-0.760186</td>\n",
       "      <td>-0.007517</td>\n",
       "      <td>-0.969144</td>\n",
       "      <td>15.0</td>\n",
       "    </tr>\n",
       "    <tr>\n",
       "      <td>2</td>\n",
       "      <td>-2.101584</td>\n",
       "      <td>-1.704361</td>\n",
       "      <td>-1.480901</td>\n",
       "      <td>32.0</td>\n",
       "    </tr>\n",
       "    <tr>\n",
       "      <td>3</td>\n",
       "      <td>-0.809757</td>\n",
       "      <td>0.581404</td>\n",
       "      <td>-0.523343</td>\n",
       "      <td>NaN</td>\n",
       "    </tr>\n",
       "  </tbody>\n",
       "</table>\n",
       "</div>"
      ],
      "text/plain": [
       "         a1        a2        a3  Series\n",
       "1 -0.760186 -0.007517 -0.969144    15.0\n",
       "2 -2.101584 -1.704361 -1.480901    32.0\n",
       "3 -0.809757  0.581404 -0.523343     NaN"
      ]
     },
     "execution_count": 24,
     "metadata": {},
     "output_type": "execute_result"
    }
   ],
   "source": [
    "# Sanity Check\n",
    "df1"
   ]
  },
  {
   "cell_type": "code",
   "execution_count": 25,
   "metadata": {},
   "outputs": [
    {
     "data": {
      "text/html": [
       "<div>\n",
       "<style scoped>\n",
       "    .dataframe tbody tr th:only-of-type {\n",
       "        vertical-align: middle;\n",
       "    }\n",
       "\n",
       "    .dataframe tbody tr th {\n",
       "        vertical-align: top;\n",
       "    }\n",
       "\n",
       "    .dataframe thead th {\n",
       "        text-align: right;\n",
       "    }\n",
       "</style>\n",
       "<table border=\"1\" class=\"dataframe\">\n",
       "  <thead>\n",
       "    <tr style=\"text-align: right;\">\n",
       "      <th></th>\n",
       "      <th>a1</th>\n",
       "      <th>a2</th>\n",
       "      <th>a3</th>\n",
       "      <th>Series</th>\n",
       "    </tr>\n",
       "  </thead>\n",
       "  <tbody>\n",
       "    <tr>\n",
       "      <td>2</td>\n",
       "      <td>-2.101584</td>\n",
       "      <td>-1.704361</td>\n",
       "      <td>-1.480901</td>\n",
       "      <td>32.0</td>\n",
       "    </tr>\n",
       "    <tr>\n",
       "      <td>3</td>\n",
       "      <td>-0.809757</td>\n",
       "      <td>0.581404</td>\n",
       "      <td>-0.523343</td>\n",
       "      <td>NaN</td>\n",
       "    </tr>\n",
       "  </tbody>\n",
       "</table>\n",
       "</div>"
      ],
      "text/plain": [
       "         a1        a2        a3  Series\n",
       "2 -2.101584 -1.704361 -1.480901    32.0\n",
       "3 -0.809757  0.581404 -0.523343     NaN"
      ]
     },
     "execution_count": 25,
     "metadata": {},
     "output_type": "execute_result"
    }
   ],
   "source": [
    "# or drop rows\n",
    "df1.drop(1,axis=0)"
   ]
  },
  {
   "cell_type": "code",
   "execution_count": 26,
   "metadata": {},
   "outputs": [
    {
     "data": {
      "text/html": [
       "<div>\n",
       "<style scoped>\n",
       "    .dataframe tbody tr th:only-of-type {\n",
       "        vertical-align: middle;\n",
       "    }\n",
       "\n",
       "    .dataframe tbody tr th {\n",
       "        vertical-align: top;\n",
       "    }\n",
       "\n",
       "    .dataframe thead th {\n",
       "        text-align: right;\n",
       "    }\n",
       "</style>\n",
       "<table border=\"1\" class=\"dataframe\">\n",
       "  <thead>\n",
       "    <tr style=\"text-align: right;\">\n",
       "      <th></th>\n",
       "      <th>a1</th>\n",
       "      <th>a2</th>\n",
       "      <th>a3</th>\n",
       "    </tr>\n",
       "  </thead>\n",
       "  <tbody>\n",
       "    <tr>\n",
       "      <td>1</td>\n",
       "      <td>-0.760186</td>\n",
       "      <td>-0.007517</td>\n",
       "      <td>-0.969144</td>\n",
       "    </tr>\n",
       "    <tr>\n",
       "      <td>2</td>\n",
       "      <td>-2.101584</td>\n",
       "      <td>-1.704361</td>\n",
       "      <td>-1.480901</td>\n",
       "    </tr>\n",
       "    <tr>\n",
       "      <td>3</td>\n",
       "      <td>-0.809757</td>\n",
       "      <td>0.581404</td>\n",
       "      <td>-0.523343</td>\n",
       "    </tr>\n",
       "  </tbody>\n",
       "</table>\n",
       "</div>"
      ],
      "text/plain": [
       "         a1        a2        a3\n",
       "1 -0.760186 -0.007517 -0.969144\n",
       "2 -2.101584 -1.704361 -1.480901\n",
       "3 -0.809757  0.581404 -0.523343"
      ]
     },
     "execution_count": 26,
     "metadata": {},
     "output_type": "execute_result"
    }
   ],
   "source": [
    "# Remove a column with inplace=True\n",
    "df1.drop('Series',axis=1,inplace=True)\n",
    "df1"
   ]
  },
  {
   "cell_type": "markdown",
   "metadata": {},
   "source": [
    "<a id='7'></a>\n",
    "### Attribute Access"
   ]
  },
  {
   "cell_type": "code",
   "execution_count": 27,
   "metadata": {},
   "outputs": [
    {
     "data": {
      "text/plain": [
       "1   -0.760186\n",
       "2   -2.101584\n",
       "3   -0.809757\n",
       "Name: a1, dtype: float64"
      ]
     },
     "execution_count": 27,
     "metadata": {},
     "output_type": "execute_result"
    }
   ],
   "source": [
    "# View 1 column\n",
    "df1['a1']"
   ]
  },
  {
   "cell_type": "code",
   "execution_count": 28,
   "metadata": {},
   "outputs": [
    {
     "data": {
      "text/html": [
       "<div>\n",
       "<style scoped>\n",
       "    .dataframe tbody tr th:only-of-type {\n",
       "        vertical-align: middle;\n",
       "    }\n",
       "\n",
       "    .dataframe tbody tr th {\n",
       "        vertical-align: top;\n",
       "    }\n",
       "\n",
       "    .dataframe thead th {\n",
       "        text-align: right;\n",
       "    }\n",
       "</style>\n",
       "<table border=\"1\" class=\"dataframe\">\n",
       "  <thead>\n",
       "    <tr style=\"text-align: right;\">\n",
       "      <th></th>\n",
       "      <th>a1</th>\n",
       "      <th>a3</th>\n",
       "    </tr>\n",
       "  </thead>\n",
       "  <tbody>\n",
       "    <tr>\n",
       "      <td>1</td>\n",
       "      <td>-0.760186</td>\n",
       "      <td>-0.969144</td>\n",
       "    </tr>\n",
       "    <tr>\n",
       "      <td>2</td>\n",
       "      <td>-2.101584</td>\n",
       "      <td>-1.480901</td>\n",
       "    </tr>\n",
       "    <tr>\n",
       "      <td>3</td>\n",
       "      <td>-0.809757</td>\n",
       "      <td>-0.523343</td>\n",
       "    </tr>\n",
       "  </tbody>\n",
       "</table>\n",
       "</div>"
      ],
      "text/plain": [
       "         a1        a3\n",
       "1 -0.760186 -0.969144\n",
       "2 -2.101584 -1.480901\n",
       "3 -0.809757 -0.523343"
      ]
     },
     "execution_count": 28,
     "metadata": {},
     "output_type": "execute_result"
    }
   ],
   "source": [
    "# View several columns\n",
    "df1[['a1','a3']]"
   ]
  },
  {
   "cell_type": "markdown",
   "metadata": {},
   "source": [
    "<a id='8'></a>\n",
    "### Slicing Ranges"
   ]
  },
  {
   "cell_type": "code",
   "execution_count": 29,
   "metadata": {},
   "outputs": [
    {
     "data": {
      "text/html": [
       "<div>\n",
       "<style scoped>\n",
       "    .dataframe tbody tr th:only-of-type {\n",
       "        vertical-align: middle;\n",
       "    }\n",
       "\n",
       "    .dataframe tbody tr th {\n",
       "        vertical-align: top;\n",
       "    }\n",
       "\n",
       "    .dataframe thead th {\n",
       "        text-align: right;\n",
       "    }\n",
       "</style>\n",
       "<table border=\"1\" class=\"dataframe\">\n",
       "  <thead>\n",
       "    <tr style=\"text-align: right;\">\n",
       "      <th></th>\n",
       "      <th>a1</th>\n",
       "      <th>a2</th>\n",
       "      <th>a3</th>\n",
       "    </tr>\n",
       "  </thead>\n",
       "  <tbody>\n",
       "    <tr>\n",
       "      <td>1</td>\n",
       "      <td>-0.760186</td>\n",
       "      <td>-0.007517</td>\n",
       "      <td>-0.969144</td>\n",
       "    </tr>\n",
       "    <tr>\n",
       "      <td>2</td>\n",
       "      <td>-2.101584</td>\n",
       "      <td>-1.704361</td>\n",
       "      <td>-1.480901</td>\n",
       "    </tr>\n",
       "  </tbody>\n",
       "</table>\n",
       "</div>"
      ],
      "text/plain": [
       "         a1        a2        a3\n",
       "1 -0.760186 -0.007517 -0.969144\n",
       "2 -2.101584 -1.704361 -1.480901"
      ]
     },
     "execution_count": 29,
     "metadata": {},
     "output_type": "execute_result"
    }
   ],
   "source": [
    "# slice of the DataFrame returned\n",
    "# this slices the first three rows first followed by first 2 rows of the sliced frame\n",
    "(df1[0:3][0:2])"
   ]
  },
  {
   "cell_type": "code",
   "execution_count": 30,
   "metadata": {},
   "outputs": [
    {
     "data": {
      "text/plain": [
       "1   -0.760186\n",
       "2   -2.101584\n",
       "Name: a1, dtype: float64"
      ]
     },
     "execution_count": 30,
     "metadata": {},
     "output_type": "execute_result"
    }
   ],
   "source": [
    "# Lets print the five first 2  elements of column a1\n",
    "# This is a new Series (like a new table)\n",
    "df1['a1'][0:2]"
   ]
  },
  {
   "cell_type": "code",
   "execution_count": 31,
   "metadata": {},
   "outputs": [
    {
     "data": {
      "text/html": [
       "<div>\n",
       "<style scoped>\n",
       "    .dataframe tbody tr th:only-of-type {\n",
       "        vertical-align: middle;\n",
       "    }\n",
       "\n",
       "    .dataframe tbody tr th {\n",
       "        vertical-align: top;\n",
       "    }\n",
       "\n",
       "    .dataframe thead th {\n",
       "        text-align: right;\n",
       "    }\n",
       "</style>\n",
       "<table border=\"1\" class=\"dataframe\">\n",
       "  <thead>\n",
       "    <tr style=\"text-align: right;\">\n",
       "      <th></th>\n",
       "      <th>a1</th>\n",
       "      <th>a3</th>\n",
       "    </tr>\n",
       "  </thead>\n",
       "  <tbody>\n",
       "    <tr>\n",
       "      <td>1</td>\n",
       "      <td>-0.760186</td>\n",
       "      <td>-0.969144</td>\n",
       "    </tr>\n",
       "    <tr>\n",
       "      <td>2</td>\n",
       "      <td>-2.101584</td>\n",
       "      <td>-1.480901</td>\n",
       "    </tr>\n",
       "  </tbody>\n",
       "</table>\n",
       "</div>"
      ],
      "text/plain": [
       "         a1        a3\n",
       "1 -0.760186 -0.969144\n",
       "2 -2.101584 -1.480901"
      ]
     },
     "execution_count": 31,
     "metadata": {},
     "output_type": "execute_result"
    }
   ],
   "source": [
    "# Print the 2 columns and the top 2 values\n",
    "df1[['a1','a3']][0:2]"
   ]
  },
  {
   "cell_type": "markdown",
   "metadata": {},
   "source": [
    "<a id='9'></a>\n",
    "### Selection by Position Using .iloc Attribute"
   ]
  },
  {
   "cell_type": "code",
   "execution_count": 32,
   "metadata": {},
   "outputs": [
    {
     "data": {
      "text/plain": [
       "-0.7601861461745268"
      ]
     },
     "execution_count": 32,
     "metadata": {},
     "output_type": "execute_result"
    }
   ],
   "source": [
    "# View element\n",
    "df1.iloc[0,0]"
   ]
  },
  {
   "cell_type": "code",
   "execution_count": 33,
   "metadata": {},
   "outputs": [
    {
     "data": {
      "text/html": [
       "<div>\n",
       "<style scoped>\n",
       "    .dataframe tbody tr th:only-of-type {\n",
       "        vertical-align: middle;\n",
       "    }\n",
       "\n",
       "    .dataframe tbody tr th {\n",
       "        vertical-align: top;\n",
       "    }\n",
       "\n",
       "    .dataframe thead th {\n",
       "        text-align: right;\n",
       "    }\n",
       "</style>\n",
       "<table border=\"1\" class=\"dataframe\">\n",
       "  <thead>\n",
       "    <tr style=\"text-align: right;\">\n",
       "      <th></th>\n",
       "      <th>a1</th>\n",
       "      <th>a2</th>\n",
       "    </tr>\n",
       "  </thead>\n",
       "  <tbody>\n",
       "    <tr>\n",
       "      <td>1</td>\n",
       "      <td>-0.760186</td>\n",
       "      <td>-0.007517</td>\n",
       "    </tr>\n",
       "    <tr>\n",
       "      <td>2</td>\n",
       "      <td>-2.101584</td>\n",
       "      <td>-1.704361</td>\n",
       "    </tr>\n",
       "  </tbody>\n",
       "</table>\n",
       "</div>"
      ],
      "text/plain": [
       "         a1        a2\n",
       "1 -0.760186 -0.007517\n",
       "2 -2.101584 -1.704361"
      ]
     },
     "execution_count": 33,
     "metadata": {},
     "output_type": "execute_result"
    }
   ],
   "source": [
    "# Get the 2nd to 4th row, 4th to 5th column\n",
    "df1.iloc[0:2,0:2]"
   ]
  },
  {
   "cell_type": "code",
   "execution_count": 34,
   "metadata": {},
   "outputs": [
    {
     "data": {
      "text/html": [
       "<div>\n",
       "<style scoped>\n",
       "    .dataframe tbody tr th:only-of-type {\n",
       "        vertical-align: middle;\n",
       "    }\n",
       "\n",
       "    .dataframe tbody tr th {\n",
       "        vertical-align: top;\n",
       "    }\n",
       "\n",
       "    .dataframe thead th {\n",
       "        text-align: right;\n",
       "    }\n",
       "</style>\n",
       "<table border=\"1\" class=\"dataframe\">\n",
       "  <thead>\n",
       "    <tr style=\"text-align: right;\">\n",
       "      <th></th>\n",
       "      <th>a1</th>\n",
       "      <th>a3</th>\n",
       "    </tr>\n",
       "  </thead>\n",
       "  <tbody>\n",
       "    <tr>\n",
       "      <td>1</td>\n",
       "      <td>-0.760186</td>\n",
       "      <td>-0.969144</td>\n",
       "    </tr>\n",
       "    <tr>\n",
       "      <td>3</td>\n",
       "      <td>-0.809757</td>\n",
       "      <td>-0.523343</td>\n",
       "    </tr>\n",
       "  </tbody>\n",
       "</table>\n",
       "</div>"
      ],
      "text/plain": [
       "         a1        a3\n",
       "1 -0.760186 -0.969144\n",
       "3 -0.809757 -0.523343"
      ]
     },
     "execution_count": 34,
     "metadata": {},
     "output_type": "execute_result"
    }
   ],
   "source": [
    "# Can also use 2 'lists' of position numbers with iloc\n",
    "df1.iloc[[0,2],[0,2]]"
   ]
  },
  {
   "cell_type": "code",
   "execution_count": 35,
   "metadata": {},
   "outputs": [
    {
     "name": "stdout",
     "output_type": "stream",
     "text": [
      "a1   -2.101584\n",
      "a2   -1.704361\n",
      "a3   -1.480901\n",
      "Name: 2, dtype: float64\n",
      "\n",
      "\n",
      "a1   -2.101584\n",
      "a2   -1.704361\n",
      "a3   -1.480901\n",
      "Name: 2, dtype: float64\n"
     ]
    }
   ],
   "source": [
    "# Data only from row with index value '1'\n",
    "print (df1.iloc[1])\n",
    "print('\\n')\n",
    "print (df1.iloc[1,:])"
   ]
  },
  {
   "cell_type": "markdown",
   "metadata": {},
   "source": [
    "<a id='10'></a>\n",
    "### Boolean Indexing"
   ]
  },
  {
   "cell_type": "code",
   "execution_count": 36,
   "metadata": {},
   "outputs": [
    {
     "data": {
      "text/html": [
       "<div>\n",
       "<style scoped>\n",
       "    .dataframe tbody tr th:only-of-type {\n",
       "        vertical-align: middle;\n",
       "    }\n",
       "\n",
       "    .dataframe tbody tr th {\n",
       "        vertical-align: top;\n",
       "    }\n",
       "\n",
       "    .dataframe thead th {\n",
       "        text-align: right;\n",
       "    }\n",
       "</style>\n",
       "<table border=\"1\" class=\"dataframe\">\n",
       "  <thead>\n",
       "    <tr style=\"text-align: right;\">\n",
       "      <th></th>\n",
       "      <th>a1</th>\n",
       "      <th>a2</th>\n",
       "      <th>a3</th>\n",
       "    </tr>\n",
       "  </thead>\n",
       "  <tbody>\n",
       "    <tr>\n",
       "      <td>3</td>\n",
       "      <td>-0.809757</td>\n",
       "      <td>0.581404</td>\n",
       "      <td>-0.523343</td>\n",
       "    </tr>\n",
       "  </tbody>\n",
       "</table>\n",
       "</div>"
      ],
      "text/plain": [
       "         a1        a2        a3\n",
       "3 -0.809757  0.581404 -0.523343"
      ]
     },
     "execution_count": 36,
     "metadata": {},
     "output_type": "execute_result"
    }
   ],
   "source": [
    "# return  full rows where a2>0\n",
    "df1[df1['a2']>0]\n",
    "\n",
    "# The df1['a2']>0 checks condition and returns boolean (T/F)\n",
    "# The df1[] outside of it only selects the rows where this is true"
   ]
  },
  {
   "cell_type": "code",
   "execution_count": 37,
   "metadata": {},
   "outputs": [
    {
     "data": {
      "text/plain": [
       "3   -0.523343\n",
       "Name: a3, dtype: float64"
      ]
     },
     "execution_count": 37,
     "metadata": {},
     "output_type": "execute_result"
    }
   ],
   "source": [
    "# return column a3 values where a2 >0\n",
    "df1['a3'][df1['a2']>0]"
   ]
  },
  {
   "cell_type": "code",
   "execution_count": 38,
   "metadata": {},
   "outputs": [
    {
     "name": "stdout",
     "output_type": "stream",
     "text": [
      "<class 'numpy.ndarray'>\n",
      "\n"
     ]
    },
    {
     "data": {
      "text/plain": [
       "array([-0.00751726, -1.70436077,  0.58140398])"
      ]
     },
     "execution_count": 38,
     "metadata": {},
     "output_type": "execute_result"
    }
   ],
   "source": [
    "# If you want the values in an np array\n",
    "npg = df1.loc[:,\"a2\"].values #otherwise it returns a  indexed series\n",
    "print(type(npg))\n",
    "print()\n",
    "npg"
   ]
  },
  {
   "cell_type": "markdown",
   "metadata": {},
   "source": [
    "<a id='40'></a>\n",
    "## -------------PRACTICE-------------"
   ]
  },
  {
   "cell_type": "markdown",
   "metadata": {},
   "source": [
    "1. In the cell below, create a new 4x4 DataFrame of random numbers between 0 and 1."
   ]
  },
  {
   "cell_type": "code",
   "execution_count": null,
   "metadata": {},
   "outputs": [],
   "source": []
  },
  {
   "cell_type": "markdown",
   "metadata": {},
   "source": [
    "2. In the cell below, print the 2nd row of the 3rd column."
   ]
  },
  {
   "cell_type": "code",
   "execution_count": null,
   "metadata": {},
   "outputs": [],
   "source": []
  },
  {
   "cell_type": "markdown",
   "metadata": {},
   "source": [
    "3. In the cell below, create a new DataFrame using only the 1st and 3rd column."
   ]
  },
  {
   "cell_type": "code",
   "execution_count": null,
   "metadata": {},
   "outputs": [],
   "source": []
  },
  {
   "cell_type": "markdown",
   "metadata": {},
   "source": [
    "4.  In the cell below, create a new DataFrame from problem 1 where you include only rows where the first column is greater than .4, your answer may return an empty DataFrame."
   ]
  },
  {
   "cell_type": "code",
   "execution_count": null,
   "metadata": {},
   "outputs": [],
   "source": []
  },
  {
   "cell_type": "markdown",
   "metadata": {},
   "source": [
    "5. In the cell below, using the iloc method, pring the 4th row of the data frame from problem 1."
   ]
  },
  {
   "cell_type": "code",
   "execution_count": null,
   "metadata": {},
   "outputs": [],
   "source": []
  },
  {
   "cell_type": "markdown",
   "metadata": {},
   "source": [
    "<a id='11'></a>\n",
    "### Some Basic Statistics on a DataFrame"
   ]
  },
  {
   "cell_type": "code",
   "execution_count": 39,
   "metadata": {},
   "outputs": [
    {
     "data": {
      "text/html": [
       "<div>\n",
       "<style scoped>\n",
       "    .dataframe tbody tr th:only-of-type {\n",
       "        vertical-align: middle;\n",
       "    }\n",
       "\n",
       "    .dataframe tbody tr th {\n",
       "        vertical-align: top;\n",
       "    }\n",
       "\n",
       "    .dataframe thead th {\n",
       "        text-align: right;\n",
       "    }\n",
       "</style>\n",
       "<table border=\"1\" class=\"dataframe\">\n",
       "  <thead>\n",
       "    <tr style=\"text-align: right;\">\n",
       "      <th></th>\n",
       "      <th>a1</th>\n",
       "      <th>a2</th>\n",
       "      <th>a3</th>\n",
       "    </tr>\n",
       "  </thead>\n",
       "  <tbody>\n",
       "    <tr>\n",
       "      <td>count</td>\n",
       "      <td>3.000000</td>\n",
       "      <td>3.000000</td>\n",
       "      <td>3.000000</td>\n",
       "    </tr>\n",
       "    <tr>\n",
       "      <td>mean</td>\n",
       "      <td>-1.223842</td>\n",
       "      <td>-0.376825</td>\n",
       "      <td>-0.991129</td>\n",
       "    </tr>\n",
       "    <tr>\n",
       "      <td>std</td>\n",
       "      <td>0.760551</td>\n",
       "      <td>1.186790</td>\n",
       "      <td>0.479158</td>\n",
       "    </tr>\n",
       "    <tr>\n",
       "      <td>min</td>\n",
       "      <td>-2.101584</td>\n",
       "      <td>-1.704361</td>\n",
       "      <td>-1.480901</td>\n",
       "    </tr>\n",
       "    <tr>\n",
       "      <td>25%</td>\n",
       "      <td>-1.455670</td>\n",
       "      <td>-0.855939</td>\n",
       "      <td>-1.225023</td>\n",
       "    </tr>\n",
       "    <tr>\n",
       "      <td>50%</td>\n",
       "      <td>-0.809757</td>\n",
       "      <td>-0.007517</td>\n",
       "      <td>-0.969144</td>\n",
       "    </tr>\n",
       "    <tr>\n",
       "      <td>75%</td>\n",
       "      <td>-0.784971</td>\n",
       "      <td>0.286943</td>\n",
       "      <td>-0.746243</td>\n",
       "    </tr>\n",
       "    <tr>\n",
       "      <td>max</td>\n",
       "      <td>-0.760186</td>\n",
       "      <td>0.581404</td>\n",
       "      <td>-0.523343</td>\n",
       "    </tr>\n",
       "  </tbody>\n",
       "</table>\n",
       "</div>"
      ],
      "text/plain": [
       "             a1        a2        a3\n",
       "count  3.000000  3.000000  3.000000\n",
       "mean  -1.223842 -0.376825 -0.991129\n",
       "std    0.760551  1.186790  0.479158\n",
       "min   -2.101584 -1.704361 -1.480901\n",
       "25%   -1.455670 -0.855939 -1.225023\n",
       "50%   -0.809757 -0.007517 -0.969144\n",
       "75%   -0.784971  0.286943 -0.746243\n",
       "max   -0.760186  0.581404 -0.523343"
      ]
     },
     "execution_count": 39,
     "metadata": {},
     "output_type": "execute_result"
    }
   ],
   "source": [
    "# Show general statistics\n",
    "df1.describe()"
   ]
  },
  {
   "cell_type": "code",
   "execution_count": 40,
   "metadata": {},
   "outputs": [
    {
     "data": {
      "text/html": [
       "<div>\n",
       "<style scoped>\n",
       "    .dataframe tbody tr th:only-of-type {\n",
       "        vertical-align: middle;\n",
       "    }\n",
       "\n",
       "    .dataframe tbody tr th {\n",
       "        vertical-align: top;\n",
       "    }\n",
       "\n",
       "    .dataframe thead th {\n",
       "        text-align: right;\n",
       "    }\n",
       "</style>\n",
       "<table border=\"1\" class=\"dataframe\">\n",
       "  <thead>\n",
       "    <tr style=\"text-align: right;\">\n",
       "      <th></th>\n",
       "      <th>a2</th>\n",
       "      <th>a3</th>\n",
       "    </tr>\n",
       "  </thead>\n",
       "  <tbody>\n",
       "    <tr>\n",
       "      <td>mean</td>\n",
       "      <td>-0.376825</td>\n",
       "      <td>-0.991129</td>\n",
       "    </tr>\n",
       "    <tr>\n",
       "      <td>std</td>\n",
       "      <td>1.186790</td>\n",
       "      <td>0.479158</td>\n",
       "    </tr>\n",
       "  </tbody>\n",
       "</table>\n",
       "</div>"
      ],
      "text/plain": [
       "            a2        a3\n",
       "mean -0.376825 -0.991129\n",
       "std   1.186790  0.479158"
      ]
     },
     "execution_count": 40,
     "metadata": {},
     "output_type": "execute_result"
    }
   ],
   "source": [
    "# Only view desired, siame as slicing rows and columns in a normal dataframe\n",
    "df1.describe().loc[['mean','std'],['a2','a3']]"
   ]
  },
  {
   "cell_type": "code",
   "execution_count": 41,
   "metadata": {},
   "outputs": [
    {
     "data": {
      "text/html": [
       "<div>\n",
       "<style scoped>\n",
       "    .dataframe tbody tr th:only-of-type {\n",
       "        vertical-align: middle;\n",
       "    }\n",
       "\n",
       "    .dataframe tbody tr th {\n",
       "        vertical-align: top;\n",
       "    }\n",
       "\n",
       "    .dataframe thead th {\n",
       "        text-align: right;\n",
       "    }\n",
       "</style>\n",
       "<table border=\"1\" class=\"dataframe\">\n",
       "  <thead>\n",
       "    <tr style=\"text-align: right;\">\n",
       "      <th></th>\n",
       "      <th>a1</th>\n",
       "      <th>a2</th>\n",
       "      <th>a3</th>\n",
       "    </tr>\n",
       "  </thead>\n",
       "  <tbody>\n",
       "    <tr>\n",
       "      <td>3</td>\n",
       "      <td>-0.809757</td>\n",
       "      <td>0.581404</td>\n",
       "      <td>-0.523343</td>\n",
       "    </tr>\n",
       "    <tr>\n",
       "      <td>2</td>\n",
       "      <td>-2.101584</td>\n",
       "      <td>-1.704361</td>\n",
       "      <td>-1.480901</td>\n",
       "    </tr>\n",
       "    <tr>\n",
       "      <td>1</td>\n",
       "      <td>-0.760186</td>\n",
       "      <td>-0.007517</td>\n",
       "      <td>-0.969144</td>\n",
       "    </tr>\n",
       "  </tbody>\n",
       "</table>\n",
       "</div>"
      ],
      "text/plain": [
       "         a1        a2        a3\n",
       "3 -0.809757  0.581404 -0.523343\n",
       "2 -2.101584 -1.704361 -1.480901\n",
       "1 -0.760186 -0.007517 -0.969144"
      ]
     },
     "execution_count": 41,
     "metadata": {},
     "output_type": "execute_result"
    }
   ],
   "source": [
    "# We can change the index sorting\n",
    "df1.sort_index(axis=0, ascending=False).head()"
   ]
  },
  {
   "cell_type": "markdown",
   "metadata": {},
   "source": [
    "<a id='12'></a>\n",
    "### Reading in data from a CSV"
   ]
  },
  {
   "cell_type": "code",
   "execution_count": 42,
   "metadata": {},
   "outputs": [],
   "source": [
    "#The read_csv method requires one argument, the file path, to the CSV file you want to read.\n",
    "demand_data = pd.read_csv(demand_path)"
   ]
  },
  {
   "cell_type": "markdown",
   "metadata": {},
   "source": [
    "<a id='13'></a>\n",
    "### Head & Tails"
   ]
  },
  {
   "cell_type": "code",
   "execution_count": 43,
   "metadata": {},
   "outputs": [
    {
     "data": {
      "text/html": [
       "<div>\n",
       "<style scoped>\n",
       "    .dataframe tbody tr th:only-of-type {\n",
       "        vertical-align: middle;\n",
       "    }\n",
       "\n",
       "    .dataframe tbody tr th {\n",
       "        vertical-align: top;\n",
       "    }\n",
       "\n",
       "    .dataframe thead th {\n",
       "        text-align: right;\n",
       "    }\n",
       "</style>\n",
       "<table border=\"1\" class=\"dataframe\">\n",
       "  <thead>\n",
       "    <tr style=\"text-align: right;\">\n",
       "      <th></th>\n",
       "      <th>Lookup Value</th>\n",
       "      <th>SKU_ID</th>\n",
       "      <th>Warehouse</th>\n",
       "      <th>Product_Family</th>\n",
       "      <th>Demand</th>\n",
       "      <th>Year</th>\n",
       "      <th>Month</th>\n",
       "      <th>Weeks in Month</th>\n",
       "    </tr>\n",
       "  </thead>\n",
       "  <tbody>\n",
       "    <tr>\n",
       "      <td>0</td>\n",
       "      <td>11395072</td>\n",
       "      <td>1395072</td>\n",
       "      <td>W_B</td>\n",
       "      <td>PF_1</td>\n",
       "      <td>17631</td>\n",
       "      <td>2022</td>\n",
       "      <td>1</td>\n",
       "      <td>4</td>\n",
       "    </tr>\n",
       "    <tr>\n",
       "      <td>1</td>\n",
       "      <td>11039394</td>\n",
       "      <td>1039394</td>\n",
       "      <td>W_C</td>\n",
       "      <td>PF_2</td>\n",
       "      <td>15438</td>\n",
       "      <td>2022</td>\n",
       "      <td>1</td>\n",
       "      <td>4</td>\n",
       "    </tr>\n",
       "    <tr>\n",
       "      <td>2</td>\n",
       "      <td>11975221</td>\n",
       "      <td>1975221</td>\n",
       "      <td>W_A</td>\n",
       "      <td>PF_3</td>\n",
       "      <td>12725</td>\n",
       "      <td>2022</td>\n",
       "      <td>1</td>\n",
       "      <td>4</td>\n",
       "    </tr>\n",
       "    <tr>\n",
       "      <td>3</td>\n",
       "      <td>11396615</td>\n",
       "      <td>1396615</td>\n",
       "      <td>W_B</td>\n",
       "      <td>PF_4</td>\n",
       "      <td>38768</td>\n",
       "      <td>2022</td>\n",
       "      <td>1</td>\n",
       "      <td>4</td>\n",
       "    </tr>\n",
       "    <tr>\n",
       "      <td>4</td>\n",
       "      <td>11026987</td>\n",
       "      <td>1026987</td>\n",
       "      <td>W_C</td>\n",
       "      <td>PF_0</td>\n",
       "      <td>44662</td>\n",
       "      <td>2022</td>\n",
       "      <td>1</td>\n",
       "      <td>4</td>\n",
       "    </tr>\n",
       "    <tr>\n",
       "      <td>5</td>\n",
       "      <td>11885799</td>\n",
       "      <td>1885799</td>\n",
       "      <td>W_A</td>\n",
       "      <td>PF_1</td>\n",
       "      <td>37943</td>\n",
       "      <td>2022</td>\n",
       "      <td>1</td>\n",
       "      <td>4</td>\n",
       "    </tr>\n",
       "    <tr>\n",
       "      <td>6</td>\n",
       "      <td>11844486</td>\n",
       "      <td>1844486</td>\n",
       "      <td>W_B</td>\n",
       "      <td>PF_2</td>\n",
       "      <td>26850</td>\n",
       "      <td>2022</td>\n",
       "      <td>1</td>\n",
       "      <td>4</td>\n",
       "    </tr>\n",
       "    <tr>\n",
       "      <td>7</td>\n",
       "      <td>11633773</td>\n",
       "      <td>1633773</td>\n",
       "      <td>W_C</td>\n",
       "      <td>PF_3</td>\n",
       "      <td>46241</td>\n",
       "      <td>2022</td>\n",
       "      <td>1</td>\n",
       "      <td>4</td>\n",
       "    </tr>\n",
       "    <tr>\n",
       "      <td>8</td>\n",
       "      <td>11280204</td>\n",
       "      <td>1280204</td>\n",
       "      <td>W_A</td>\n",
       "      <td>PF_4</td>\n",
       "      <td>49826</td>\n",
       "      <td>2022</td>\n",
       "      <td>1</td>\n",
       "      <td>4</td>\n",
       "    </tr>\n",
       "    <tr>\n",
       "      <td>9</td>\n",
       "      <td>11461444</td>\n",
       "      <td>1461444</td>\n",
       "      <td>W_B</td>\n",
       "      <td>PF_0</td>\n",
       "      <td>23768</td>\n",
       "      <td>2022</td>\n",
       "      <td>1</td>\n",
       "      <td>4</td>\n",
       "    </tr>\n",
       "  </tbody>\n",
       "</table>\n",
       "</div>"
      ],
      "text/plain": [
       "   Lookup Value   SKU_ID Warehouse Product_Family  Demand  Year  Month  \\\n",
       "0      11395072  1395072       W_B           PF_1   17631  2022      1   \n",
       "1      11039394  1039394       W_C           PF_2   15438  2022      1   \n",
       "2      11975221  1975221       W_A           PF_3   12725  2022      1   \n",
       "3      11396615  1396615       W_B           PF_4   38768  2022      1   \n",
       "4      11026987  1026987       W_C           PF_0   44662  2022      1   \n",
       "5      11885799  1885799       W_A           PF_1   37943  2022      1   \n",
       "6      11844486  1844486       W_B           PF_2   26850  2022      1   \n",
       "7      11633773  1633773       W_C           PF_3   46241  2022      1   \n",
       "8      11280204  1280204       W_A           PF_4   49826  2022      1   \n",
       "9      11461444  1461444       W_B           PF_0   23768  2022      1   \n",
       "\n",
       "   Weeks in Month  \n",
       "0               4  \n",
       "1               4  \n",
       "2               4  \n",
       "3               4  \n",
       "4               4  \n",
       "5               4  \n",
       "6               4  \n",
       "7               4  \n",
       "8               4  \n",
       "9               4  "
      ]
     },
     "execution_count": 43,
     "metadata": {},
     "output_type": "execute_result"
    }
   ],
   "source": [
    "#The head method defaults to displaying the first 5 rows of a dataframe.  \n",
    "#Inputting an integer argument will adjust the number of rows displayed.\n",
    "#In this case we use 10\n",
    "demand_data.head(10)"
   ]
  },
  {
   "cell_type": "code",
   "execution_count": 44,
   "metadata": {},
   "outputs": [
    {
     "data": {
      "text/html": [
       "<div>\n",
       "<style scoped>\n",
       "    .dataframe tbody tr th:only-of-type {\n",
       "        vertical-align: middle;\n",
       "    }\n",
       "\n",
       "    .dataframe tbody tr th {\n",
       "        vertical-align: top;\n",
       "    }\n",
       "\n",
       "    .dataframe thead th {\n",
       "        text-align: right;\n",
       "    }\n",
       "</style>\n",
       "<table border=\"1\" class=\"dataframe\">\n",
       "  <thead>\n",
       "    <tr style=\"text-align: right;\">\n",
       "      <th></th>\n",
       "      <th>Lookup Value</th>\n",
       "      <th>SKU_ID</th>\n",
       "      <th>Warehouse</th>\n",
       "      <th>Product_Family</th>\n",
       "      <th>Demand</th>\n",
       "      <th>Year</th>\n",
       "      <th>Month</th>\n",
       "      <th>Weeks in Month</th>\n",
       "    </tr>\n",
       "  </thead>\n",
       "  <tbody>\n",
       "    <tr>\n",
       "      <td>1190</td>\n",
       "      <td>121602257</td>\n",
       "      <td>1602257</td>\n",
       "      <td>W_B</td>\n",
       "      <td>PF_1</td>\n",
       "      <td>58554</td>\n",
       "      <td>2022</td>\n",
       "      <td>12</td>\n",
       "      <td>5</td>\n",
       "    </tr>\n",
       "    <tr>\n",
       "      <td>1191</td>\n",
       "      <td>121542470</td>\n",
       "      <td>1542470</td>\n",
       "      <td>W_C</td>\n",
       "      <td>PF_2</td>\n",
       "      <td>17861</td>\n",
       "      <td>2022</td>\n",
       "      <td>12</td>\n",
       "      <td>5</td>\n",
       "    </tr>\n",
       "    <tr>\n",
       "      <td>1192</td>\n",
       "      <td>121172141</td>\n",
       "      <td>1172141</td>\n",
       "      <td>W_A</td>\n",
       "      <td>PF_3</td>\n",
       "      <td>14832</td>\n",
       "      <td>2022</td>\n",
       "      <td>12</td>\n",
       "      <td>5</td>\n",
       "    </tr>\n",
       "    <tr>\n",
       "      <td>1193</td>\n",
       "      <td>121686011</td>\n",
       "      <td>1686011</td>\n",
       "      <td>W_B</td>\n",
       "      <td>PF_4</td>\n",
       "      <td>54873</td>\n",
       "      <td>2022</td>\n",
       "      <td>12</td>\n",
       "      <td>5</td>\n",
       "    </tr>\n",
       "    <tr>\n",
       "      <td>1194</td>\n",
       "      <td>121760339</td>\n",
       "      <td>1760339</td>\n",
       "      <td>W_C</td>\n",
       "      <td>PF_0</td>\n",
       "      <td>35569</td>\n",
       "      <td>2022</td>\n",
       "      <td>12</td>\n",
       "      <td>5</td>\n",
       "    </tr>\n",
       "    <tr>\n",
       "      <td>1195</td>\n",
       "      <td>121544715</td>\n",
       "      <td>1544715</td>\n",
       "      <td>W_A</td>\n",
       "      <td>PF_1</td>\n",
       "      <td>56244</td>\n",
       "      <td>2022</td>\n",
       "      <td>12</td>\n",
       "      <td>5</td>\n",
       "    </tr>\n",
       "    <tr>\n",
       "      <td>1196</td>\n",
       "      <td>121715505</td>\n",
       "      <td>1715505</td>\n",
       "      <td>W_B</td>\n",
       "      <td>PF_2</td>\n",
       "      <td>41897</td>\n",
       "      <td>2022</td>\n",
       "      <td>12</td>\n",
       "      <td>5</td>\n",
       "    </tr>\n",
       "    <tr>\n",
       "      <td>1197</td>\n",
       "      <td>121539334</td>\n",
       "      <td>1539334</td>\n",
       "      <td>W_C</td>\n",
       "      <td>PF_3</td>\n",
       "      <td>53392</td>\n",
       "      <td>2022</td>\n",
       "      <td>12</td>\n",
       "      <td>5</td>\n",
       "    </tr>\n",
       "    <tr>\n",
       "      <td>1198</td>\n",
       "      <td>121803831</td>\n",
       "      <td>1803831</td>\n",
       "      <td>W_A</td>\n",
       "      <td>PF_4</td>\n",
       "      <td>48499</td>\n",
       "      <td>2022</td>\n",
       "      <td>12</td>\n",
       "      <td>5</td>\n",
       "    </tr>\n",
       "    <tr>\n",
       "      <td>1199</td>\n",
       "      <td>121431913</td>\n",
       "      <td>1431913</td>\n",
       "      <td>W_B</td>\n",
       "      <td>PF_0</td>\n",
       "      <td>28570</td>\n",
       "      <td>2022</td>\n",
       "      <td>12</td>\n",
       "      <td>5</td>\n",
       "    </tr>\n",
       "  </tbody>\n",
       "</table>\n",
       "</div>"
      ],
      "text/plain": [
       "      Lookup Value   SKU_ID Warehouse Product_Family  Demand  Year  Month  \\\n",
       "1190     121602257  1602257       W_B           PF_1   58554  2022     12   \n",
       "1191     121542470  1542470       W_C           PF_2   17861  2022     12   \n",
       "1192     121172141  1172141       W_A           PF_3   14832  2022     12   \n",
       "1193     121686011  1686011       W_B           PF_4   54873  2022     12   \n",
       "1194     121760339  1760339       W_C           PF_0   35569  2022     12   \n",
       "1195     121544715  1544715       W_A           PF_1   56244  2022     12   \n",
       "1196     121715505  1715505       W_B           PF_2   41897  2022     12   \n",
       "1197     121539334  1539334       W_C           PF_3   53392  2022     12   \n",
       "1198     121803831  1803831       W_A           PF_4   48499  2022     12   \n",
       "1199     121431913  1431913       W_B           PF_0   28570  2022     12   \n",
       "\n",
       "      Weeks in Month  \n",
       "1190               5  \n",
       "1191               5  \n",
       "1192               5  \n",
       "1193               5  \n",
       "1194               5  \n",
       "1195               5  \n",
       "1196               5  \n",
       "1197               5  \n",
       "1198               5  \n",
       "1199               5  "
      ]
     },
     "execution_count": 44,
     "metadata": {},
     "output_type": "execute_result"
    }
   ],
   "source": [
    "#The tail method defaults to displaying the last 5 rows of a dataframe.  \n",
    "#Inputting an integer argument will adjust the number of rows displayed.\n",
    "demand_data.tail(10)"
   ]
  },
  {
   "cell_type": "markdown",
   "metadata": {},
   "source": [
    "<a id='14'></a>\n",
    "### Filtering "
   ]
  },
  {
   "cell_type": "code",
   "execution_count": 45,
   "metadata": {},
   "outputs": [
    {
     "data": {
      "text/html": [
       "<div>\n",
       "<style scoped>\n",
       "    .dataframe tbody tr th:only-of-type {\n",
       "        vertical-align: middle;\n",
       "    }\n",
       "\n",
       "    .dataframe tbody tr th {\n",
       "        vertical-align: top;\n",
       "    }\n",
       "\n",
       "    .dataframe thead th {\n",
       "        text-align: right;\n",
       "    }\n",
       "</style>\n",
       "<table border=\"1\" class=\"dataframe\">\n",
       "  <thead>\n",
       "    <tr style=\"text-align: right;\">\n",
       "      <th></th>\n",
       "      <th>Lookup Value</th>\n",
       "      <th>SKU_ID</th>\n",
       "      <th>Warehouse</th>\n",
       "      <th>Product_Family</th>\n",
       "      <th>Demand</th>\n",
       "      <th>Year</th>\n",
       "      <th>Month</th>\n",
       "      <th>Weeks in Month</th>\n",
       "    </tr>\n",
       "  </thead>\n",
       "  <tbody>\n",
       "    <tr>\n",
       "      <td>0</td>\n",
       "      <td>11395072</td>\n",
       "      <td>1395072</td>\n",
       "      <td>W_B</td>\n",
       "      <td>PF_1</td>\n",
       "      <td>17631</td>\n",
       "      <td>2022</td>\n",
       "      <td>1</td>\n",
       "      <td>4</td>\n",
       "    </tr>\n",
       "    <tr>\n",
       "      <td>5</td>\n",
       "      <td>11885799</td>\n",
       "      <td>1885799</td>\n",
       "      <td>W_A</td>\n",
       "      <td>PF_1</td>\n",
       "      <td>37943</td>\n",
       "      <td>2022</td>\n",
       "      <td>1</td>\n",
       "      <td>4</td>\n",
       "    </tr>\n",
       "    <tr>\n",
       "      <td>10</td>\n",
       "      <td>11118364</td>\n",
       "      <td>1118364</td>\n",
       "      <td>W_C</td>\n",
       "      <td>PF_1</td>\n",
       "      <td>35654</td>\n",
       "      <td>2022</td>\n",
       "      <td>1</td>\n",
       "      <td>4</td>\n",
       "    </tr>\n",
       "    <tr>\n",
       "      <td>15</td>\n",
       "      <td>11950549</td>\n",
       "      <td>1950549</td>\n",
       "      <td>W_B</td>\n",
       "      <td>PF_1</td>\n",
       "      <td>14407</td>\n",
       "      <td>2022</td>\n",
       "      <td>1</td>\n",
       "      <td>4</td>\n",
       "    </tr>\n",
       "    <tr>\n",
       "      <td>20</td>\n",
       "      <td>11633085</td>\n",
       "      <td>1633085</td>\n",
       "      <td>W_A</td>\n",
       "      <td>PF_1</td>\n",
       "      <td>18798</td>\n",
       "      <td>2022</td>\n",
       "      <td>1</td>\n",
       "      <td>4</td>\n",
       "    </tr>\n",
       "  </tbody>\n",
       "</table>\n",
       "</div>"
      ],
      "text/plain": [
       "    Lookup Value   SKU_ID Warehouse Product_Family  Demand  Year  Month  \\\n",
       "0       11395072  1395072       W_B           PF_1   17631  2022      1   \n",
       "5       11885799  1885799       W_A           PF_1   37943  2022      1   \n",
       "10      11118364  1118364       W_C           PF_1   35654  2022      1   \n",
       "15      11950549  1950549       W_B           PF_1   14407  2022      1   \n",
       "20      11633085  1633085       W_A           PF_1   18798  2022      1   \n",
       "\n",
       "    Weeks in Month  \n",
       "0                4  \n",
       "5                4  \n",
       "10               4  \n",
       "15               4  \n",
       "20               4  "
      ]
     },
     "execution_count": 45,
     "metadata": {},
     "output_type": "execute_result"
    }
   ],
   "source": [
    "# Filtering in pandas works with standard python logic symbols for equal to '==', \n",
    "# greater than '>', less than '<', greater than or equal to '>=', and less than or equal to '<='.  \n",
    "# The example below shows 'demand_data' being filtered by 'Product_Family' to only include data from the 'PF_1' \n",
    "# product family.\n",
    "pf_1_demand = demand_data[demand_data['Product_Family']=='PF_1']\n",
    "pf_1_demand.head()"
   ]
  },
  {
   "cell_type": "code",
   "execution_count": 46,
   "metadata": {},
   "outputs": [
    {
     "data": {
      "text/html": [
       "<div>\n",
       "<style scoped>\n",
       "    .dataframe tbody tr th:only-of-type {\n",
       "        vertical-align: middle;\n",
       "    }\n",
       "\n",
       "    .dataframe tbody tr th {\n",
       "        vertical-align: top;\n",
       "    }\n",
       "\n",
       "    .dataframe thead th {\n",
       "        text-align: right;\n",
       "    }\n",
       "</style>\n",
       "<table border=\"1\" class=\"dataframe\">\n",
       "  <thead>\n",
       "    <tr style=\"text-align: right;\">\n",
       "      <th></th>\n",
       "      <th>Lookup Value</th>\n",
       "      <th>SKU_ID</th>\n",
       "      <th>Warehouse</th>\n",
       "      <th>Product_Family</th>\n",
       "      <th>Demand</th>\n",
       "      <th>Year</th>\n",
       "      <th>Month</th>\n",
       "      <th>Weeks in Month</th>\n",
       "    </tr>\n",
       "  </thead>\n",
       "  <tbody>\n",
       "    <tr>\n",
       "      <td>5</td>\n",
       "      <td>11885799</td>\n",
       "      <td>1885799</td>\n",
       "      <td>W_A</td>\n",
       "      <td>PF_1</td>\n",
       "      <td>37943</td>\n",
       "      <td>2022</td>\n",
       "      <td>1</td>\n",
       "      <td>4</td>\n",
       "    </tr>\n",
       "    <tr>\n",
       "      <td>20</td>\n",
       "      <td>11633085</td>\n",
       "      <td>1633085</td>\n",
       "      <td>W_A</td>\n",
       "      <td>PF_1</td>\n",
       "      <td>18798</td>\n",
       "      <td>2022</td>\n",
       "      <td>1</td>\n",
       "      <td>4</td>\n",
       "    </tr>\n",
       "    <tr>\n",
       "      <td>35</td>\n",
       "      <td>11838070</td>\n",
       "      <td>1838070</td>\n",
       "      <td>W_A</td>\n",
       "      <td>PF_1</td>\n",
       "      <td>15533</td>\n",
       "      <td>2022</td>\n",
       "      <td>1</td>\n",
       "      <td>4</td>\n",
       "    </tr>\n",
       "    <tr>\n",
       "      <td>50</td>\n",
       "      <td>11421180</td>\n",
       "      <td>1421180</td>\n",
       "      <td>W_A</td>\n",
       "      <td>PF_1</td>\n",
       "      <td>43700</td>\n",
       "      <td>2022</td>\n",
       "      <td>1</td>\n",
       "      <td>4</td>\n",
       "    </tr>\n",
       "    <tr>\n",
       "      <td>65</td>\n",
       "      <td>11470217</td>\n",
       "      <td>1470217</td>\n",
       "      <td>W_A</td>\n",
       "      <td>PF_1</td>\n",
       "      <td>43925</td>\n",
       "      <td>2022</td>\n",
       "      <td>1</td>\n",
       "      <td>4</td>\n",
       "    </tr>\n",
       "  </tbody>\n",
       "</table>\n",
       "</div>"
      ],
      "text/plain": [
       "    Lookup Value   SKU_ID Warehouse Product_Family  Demand  Year  Month  \\\n",
       "5       11885799  1885799       W_A           PF_1   37943  2022      1   \n",
       "20      11633085  1633085       W_A           PF_1   18798  2022      1   \n",
       "35      11838070  1838070       W_A           PF_1   15533  2022      1   \n",
       "50      11421180  1421180       W_A           PF_1   43700  2022      1   \n",
       "65      11470217  1470217       W_A           PF_1   43925  2022      1   \n",
       "\n",
       "    Weeks in Month  \n",
       "5                4  \n",
       "20               4  \n",
       "35               4  \n",
       "50               4  \n",
       "65               4  "
      ]
     },
     "execution_count": 46,
     "metadata": {},
     "output_type": "execute_result"
    }
   ],
   "source": [
    "# Multiple filters can be applied using '&'.  \n",
    "# The below gives an example of filtering 'demand_data' \n",
    "# to only show the product family 'PF_1' at warehouse 'A'.  \n",
    "pf_1A_demand = demand_data[(demand_data['Product_Family']=='PF_1') & (demand_data['Warehouse']=='W_A')]\n",
    "pf_1A_demand.head()"
   ]
  },
  {
   "cell_type": "markdown",
   "metadata": {},
   "source": [
    "<a id='15'></a>\n",
    "### Changing Column Attributes\n",
    "\n",
    "\n",
    "<a href ='https://numpy.org/doc/stable/reference/arrays.dtypes.html'>Data Types</a>"
   ]
  },
  {
   "cell_type": "code",
   "execution_count": 47,
   "metadata": {},
   "outputs": [],
   "source": [
    "# Columns can are automatically assigned a data type when the data is read in, but they can be changed.  \n",
    "# The below converts several columns from 'demand_data' from 'int' to 'string'.  \n",
    "# A full list of available types can be found at the link above.\n",
    "demand_data['Year'] = demand_data['Year'].astype('str')\n",
    "demand_data['Month'] = demand_data['Month'].astype('str')\n",
    "demand_data['Weeks in Month'] = demand_data['Weeks in Month'].astype('str')\n",
    "demand_data['Lookup Value'] = demand_data['Lookup Value'].astype('str')\n",
    "demand_data['SKU_ID'] = demand_data['SKU_ID'].astype('str')"
   ]
  },
  {
   "cell_type": "markdown",
   "metadata": {},
   "source": [
    "<a id='16'></a>\n",
    "### Grouping\n",
    "\n",
    "![panda-group](https://miro.medium.com/max/1400/1*6d5dw6dPhy4vBp2vRW6uzw.png)\n",
    "\n",
    "<a href ='https://pandas.pydata.org/docs/reference/groupby.html'>Groupby Methods</a>"
   ]
  },
  {
   "cell_type": "code",
   "execution_count": 48,
   "metadata": {},
   "outputs": [
    {
     "data": {
      "text/html": [
       "<div>\n",
       "<style scoped>\n",
       "    .dataframe tbody tr th:only-of-type {\n",
       "        vertical-align: middle;\n",
       "    }\n",
       "\n",
       "    .dataframe tbody tr th {\n",
       "        vertical-align: top;\n",
       "    }\n",
       "\n",
       "    .dataframe thead th {\n",
       "        text-align: right;\n",
       "    }\n",
       "</style>\n",
       "<table border=\"1\" class=\"dataframe\">\n",
       "  <thead>\n",
       "    <tr style=\"text-align: right;\">\n",
       "      <th></th>\n",
       "      <th></th>\n",
       "      <th></th>\n",
       "      <th>Demand</th>\n",
       "    </tr>\n",
       "    <tr>\n",
       "      <th>Product_Family</th>\n",
       "      <th>Month</th>\n",
       "      <th>Year</th>\n",
       "      <th></th>\n",
       "    </tr>\n",
       "  </thead>\n",
       "  <tbody>\n",
       "    <tr>\n",
       "      <td rowspan=\"5\" valign=\"top\">PF_0</td>\n",
       "      <td>1</td>\n",
       "      <td>2022</td>\n",
       "      <td>644783</td>\n",
       "    </tr>\n",
       "    <tr>\n",
       "      <td>10</td>\n",
       "      <td>2022</td>\n",
       "      <td>540286</td>\n",
       "    </tr>\n",
       "    <tr>\n",
       "      <td>11</td>\n",
       "      <td>2022</td>\n",
       "      <td>530712</td>\n",
       "    </tr>\n",
       "    <tr>\n",
       "      <td>12</td>\n",
       "      <td>2022</td>\n",
       "      <td>643068</td>\n",
       "    </tr>\n",
       "    <tr>\n",
       "      <td>2</td>\n",
       "      <td>2022</td>\n",
       "      <td>708408</td>\n",
       "    </tr>\n",
       "  </tbody>\n",
       "</table>\n",
       "</div>"
      ],
      "text/plain": [
       "                           Demand\n",
       "Product_Family Month Year        \n",
       "PF_0           1     2022  644783\n",
       "               10    2022  540286\n",
       "               11    2022  530712\n",
       "               12    2022  643068\n",
       "               2     2022  708408"
      ]
     },
     "execution_count": 48,
     "metadata": {},
     "output_type": "execute_result"
    }
   ],
   "source": [
    "# The groupby method partitions data into groups by specified columns and \n",
    "# consolidates the numberical columns using a specified method.  \n",
    "# The below gives an example grouping 'demand_data' by 'Product_Family', \n",
    "# 'Month', and 'Year' and showing the sum of 'Demand' by product family, month, and year.  \n",
    "# A full list of methods that can be applied to the consolidated data can be found at the link above.\n",
    "\n",
    "data = demand_data.groupby(['Product_Family','Month','Year']).sum()\n",
    "data.head()"
   ]
  },
  {
   "cell_type": "markdown",
   "metadata": {},
   "source": [
    "<a id='17'></a>\n",
    "### Exporting Data"
   ]
  },
  {
   "cell_type": "code",
   "execution_count": 49,
   "metadata": {},
   "outputs": [],
   "source": [
    "# The below exports 'data' to a CSV located at your 'test_path'.\n",
    "data.to_csv(test_path)"
   ]
  },
  {
   "cell_type": "markdown",
   "metadata": {},
   "source": [
    "<a id='18'></a>\n",
    "## -------------PRACTICE-------------"
   ]
  },
  {
   "cell_type": "markdown",
   "metadata": {},
   "source": [
    "1. In the below cell, store the data from the 'Inventory_Data.csv' in the variable 'inventory_data'. "
   ]
  },
  {
   "cell_type": "code",
   "execution_count": 53,
   "metadata": {},
   "outputs": [],
   "source": [
    "inventory_data=pd.read_csv(inventory_path)"
   ]
  },
  {
   "cell_type": "markdown",
   "metadata": {},
   "source": [
    "2. In the below cell, display the first 10 rows 'inventory_data'. "
   ]
  },
  {
   "cell_type": "code",
   "execution_count": null,
   "metadata": {},
   "outputs": [],
   "source": []
  },
  {
   "cell_type": "markdown",
   "metadata": {},
   "source": [
    "3. In the below cell, create a dataframe from 'demand_data' that shows the average 'Demand' by 'Warehouse', 'Month', and 'Year' for only warehouse 'W_A' and 'W_B'."
   ]
  },
  {
   "cell_type": "code",
   "execution_count": null,
   "metadata": {},
   "outputs": [],
   "source": []
  },
  {
   "cell_type": "markdown",
   "metadata": {},
   "source": [
    "4. In the below cell, using 'demand_data',show the basic statistics for the 'Demand' at warehouse 'W_C'."
   ]
  },
  {
   "cell_type": "code",
   "execution_count": null,
   "metadata": {},
   "outputs": [],
   "source": []
  },
  {
   "cell_type": "markdown",
   "metadata": {},
   "source": [
    "5. In the below cell, using 'demand_data',find the 'SKU_ID' with the highest demand for each 'Product_Family' at warehouse 'W_B'."
   ]
  },
  {
   "cell_type": "code",
   "execution_count": null,
   "metadata": {},
   "outputs": [],
   "source": []
  },
  {
   "cell_type": "markdown",
   "metadata": {},
   "source": [
    "6. In the below cell, retrieve the first row of 'demand_data' and export it to a CSV with the name 'My_First_Export'. "
   ]
  },
  {
   "cell_type": "code",
   "execution_count": null,
   "metadata": {},
   "outputs": [],
   "source": []
  },
  {
   "cell_type": "markdown",
   "metadata": {},
   "source": [
    "<a id='19'></a>\n",
    "### Concatenating Frames"
   ]
  },
  {
   "cell_type": "code",
   "execution_count": 50,
   "metadata": {},
   "outputs": [
    {
     "data": {
      "text/html": [
       "<div>\n",
       "<style scoped>\n",
       "    .dataframe tbody tr th:only-of-type {\n",
       "        vertical-align: middle;\n",
       "    }\n",
       "\n",
       "    .dataframe tbody tr th {\n",
       "        vertical-align: top;\n",
       "    }\n",
       "\n",
       "    .dataframe thead th {\n",
       "        text-align: right;\n",
       "    }\n",
       "</style>\n",
       "<table border=\"1\" class=\"dataframe\">\n",
       "  <thead>\n",
       "    <tr style=\"text-align: right;\">\n",
       "      <th></th>\n",
       "      <th>Lookup Value</th>\n",
       "      <th>SKU_ID</th>\n",
       "      <th>Warehouse</th>\n",
       "      <th>Product_Family</th>\n",
       "      <th>Demand</th>\n",
       "      <th>Year</th>\n",
       "      <th>Month</th>\n",
       "      <th>Weeks in Month</th>\n",
       "    </tr>\n",
       "  </thead>\n",
       "  <tbody>\n",
       "    <tr>\n",
       "      <td>0</td>\n",
       "      <td>11395072</td>\n",
       "      <td>1395072</td>\n",
       "      <td>W_B</td>\n",
       "      <td>PF_1</td>\n",
       "      <td>17631</td>\n",
       "      <td>2022</td>\n",
       "      <td>1</td>\n",
       "      <td>4</td>\n",
       "    </tr>\n",
       "    <tr>\n",
       "      <td>5</td>\n",
       "      <td>11885799</td>\n",
       "      <td>1885799</td>\n",
       "      <td>W_A</td>\n",
       "      <td>PF_1</td>\n",
       "      <td>37943</td>\n",
       "      <td>2022</td>\n",
       "      <td>1</td>\n",
       "      <td>4</td>\n",
       "    </tr>\n",
       "    <tr>\n",
       "      <td>10</td>\n",
       "      <td>11118364</td>\n",
       "      <td>1118364</td>\n",
       "      <td>W_C</td>\n",
       "      <td>PF_1</td>\n",
       "      <td>35654</td>\n",
       "      <td>2022</td>\n",
       "      <td>1</td>\n",
       "      <td>4</td>\n",
       "    </tr>\n",
       "    <tr>\n",
       "      <td>15</td>\n",
       "      <td>11950549</td>\n",
       "      <td>1950549</td>\n",
       "      <td>W_B</td>\n",
       "      <td>PF_1</td>\n",
       "      <td>14407</td>\n",
       "      <td>2022</td>\n",
       "      <td>1</td>\n",
       "      <td>4</td>\n",
       "    </tr>\n",
       "    <tr>\n",
       "      <td>20</td>\n",
       "      <td>11633085</td>\n",
       "      <td>1633085</td>\n",
       "      <td>W_A</td>\n",
       "      <td>PF_1</td>\n",
       "      <td>18798</td>\n",
       "      <td>2022</td>\n",
       "      <td>1</td>\n",
       "      <td>4</td>\n",
       "    </tr>\n",
       "  </tbody>\n",
       "</table>\n",
       "</div>"
      ],
      "text/plain": [
       "   Lookup Value   SKU_ID Warehouse Product_Family  Demand  Year Month  \\\n",
       "0      11395072  1395072       W_B           PF_1   17631  2022     1   \n",
       "5      11885799  1885799       W_A           PF_1   37943  2022     1   \n",
       "10     11118364  1118364       W_C           PF_1   35654  2022     1   \n",
       "15     11950549  1950549       W_B           PF_1   14407  2022     1   \n",
       "20     11633085  1633085       W_A           PF_1   18798  2022     1   \n",
       "\n",
       "   Weeks in Month  \n",
       "0               4  \n",
       "5               4  \n",
       "10              4  \n",
       "15              4  \n",
       "20              4  "
      ]
     },
     "execution_count": 50,
     "metadata": {},
     "output_type": "execute_result"
    }
   ],
   "source": [
    "# The concat method stacks frames on top of each other lining up identically named columns.  The below script stacks\n",
    "# two product family data sets.\n",
    "pf_1 = demand_data[demand_data['Product_Family'] == 'PF_1']\n",
    "pf_2 = demand_data[demand_data['Product_Family'] == 'PF_2']\n",
    "pf_1_and_2 = pd.concat([pf_1,pf_2])\n",
    "pf_1_and_2.head()"
   ]
  },
  {
   "cell_type": "code",
   "execution_count": 51,
   "metadata": {},
   "outputs": [
    {
     "data": {
      "text/html": [
       "<div>\n",
       "<style scoped>\n",
       "    .dataframe tbody tr th:only-of-type {\n",
       "        vertical-align: middle;\n",
       "    }\n",
       "\n",
       "    .dataframe tbody tr th {\n",
       "        vertical-align: top;\n",
       "    }\n",
       "\n",
       "    .dataframe thead th {\n",
       "        text-align: right;\n",
       "    }\n",
       "</style>\n",
       "<table border=\"1\" class=\"dataframe\">\n",
       "  <thead>\n",
       "    <tr style=\"text-align: right;\">\n",
       "      <th></th>\n",
       "      <th>Lookup Value</th>\n",
       "      <th>SKU_ID</th>\n",
       "      <th>Warehouse</th>\n",
       "      <th>Product_Family</th>\n",
       "      <th>Demand</th>\n",
       "      <th>Year</th>\n",
       "      <th>Month</th>\n",
       "      <th>Weeks in Month</th>\n",
       "    </tr>\n",
       "  </thead>\n",
       "  <tbody>\n",
       "    <tr>\n",
       "      <td>0</td>\n",
       "      <td>11395072</td>\n",
       "      <td>1395072</td>\n",
       "      <td>W_B</td>\n",
       "      <td>PF_1</td>\n",
       "      <td>17631</td>\n",
       "      <td>2022</td>\n",
       "      <td>1</td>\n",
       "      <td>4</td>\n",
       "    </tr>\n",
       "    <tr>\n",
       "      <td>5</td>\n",
       "      <td>11885799</td>\n",
       "      <td>1885799</td>\n",
       "      <td>W_A</td>\n",
       "      <td>PF_1</td>\n",
       "      <td>37943</td>\n",
       "      <td>2022</td>\n",
       "      <td>1</td>\n",
       "      <td>4</td>\n",
       "    </tr>\n",
       "    <tr>\n",
       "      <td>10</td>\n",
       "      <td>11118364</td>\n",
       "      <td>1118364</td>\n",
       "      <td>W_C</td>\n",
       "      <td>PF_1</td>\n",
       "      <td>35654</td>\n",
       "      <td>2022</td>\n",
       "      <td>1</td>\n",
       "      <td>4</td>\n",
       "    </tr>\n",
       "    <tr>\n",
       "      <td>15</td>\n",
       "      <td>11950549</td>\n",
       "      <td>1950549</td>\n",
       "      <td>W_B</td>\n",
       "      <td>PF_1</td>\n",
       "      <td>14407</td>\n",
       "      <td>2022</td>\n",
       "      <td>1</td>\n",
       "      <td>4</td>\n",
       "    </tr>\n",
       "    <tr>\n",
       "      <td>20</td>\n",
       "      <td>11633085</td>\n",
       "      <td>1633085</td>\n",
       "      <td>W_A</td>\n",
       "      <td>PF_1</td>\n",
       "      <td>18798</td>\n",
       "      <td>2022</td>\n",
       "      <td>1</td>\n",
       "      <td>4</td>\n",
       "    </tr>\n",
       "  </tbody>\n",
       "</table>\n",
       "</div>"
      ],
      "text/plain": [
       "   Lookup Value   SKU_ID Warehouse Product_Family  Demand  Year Month  \\\n",
       "0      11395072  1395072       W_B           PF_1   17631  2022     1   \n",
       "5      11885799  1885799       W_A           PF_1   37943  2022     1   \n",
       "10     11118364  1118364       W_C           PF_1   35654  2022     1   \n",
       "15     11950549  1950549       W_B           PF_1   14407  2022     1   \n",
       "20     11633085  1633085       W_A           PF_1   18798  2022     1   \n",
       "\n",
       "   Weeks in Month  \n",
       "0               4  \n",
       "5               4  \n",
       "10              4  \n",
       "15              4  \n",
       "20              4  "
      ]
     },
     "execution_count": 51,
     "metadata": {},
     "output_type": "execute_result"
    }
   ],
   "source": [
    "# The append method will work the same as the concat function when only working with 2 frames.  When stacking more than 2\n",
    "# frames at once, it is necessary to use concat.\n",
    "pf_1_and_2 = pf_1.append(pf_2)\n",
    "pf_1_and_2.head()"
   ]
  },
  {
   "cell_type": "markdown",
   "metadata": {},
   "source": [
    "<a id='20'></a>\n",
    "### Merging Frames"
   ]
  },
  {
   "cell_type": "code",
   "execution_count": 54,
   "metadata": {
    "scrolled": true
   },
   "outputs": [
    {
     "data": {
      "text/html": [
       "<div>\n",
       "<style scoped>\n",
       "    .dataframe tbody tr th:only-of-type {\n",
       "        vertical-align: middle;\n",
       "    }\n",
       "\n",
       "    .dataframe tbody tr th {\n",
       "        vertical-align: top;\n",
       "    }\n",
       "\n",
       "    .dataframe thead th {\n",
       "        text-align: right;\n",
       "    }\n",
       "</style>\n",
       "<table border=\"1\" class=\"dataframe\">\n",
       "  <thead>\n",
       "    <tr style=\"text-align: right;\">\n",
       "      <th></th>\n",
       "      <th>Lookup Value</th>\n",
       "      <th>SKU_ID</th>\n",
       "      <th>Warehouse</th>\n",
       "      <th>Product_Family</th>\n",
       "      <th>Demand</th>\n",
       "      <th>Year</th>\n",
       "      <th>Month</th>\n",
       "      <th>Weeks in Month</th>\n",
       "      <th>Inventory as of 1/1/22</th>\n",
       "      <th>Cost</th>\n",
       "    </tr>\n",
       "  </thead>\n",
       "  <tbody>\n",
       "    <tr>\n",
       "      <td>0</td>\n",
       "      <td>11395072</td>\n",
       "      <td>1395072</td>\n",
       "      <td>W_B</td>\n",
       "      <td>PF_1</td>\n",
       "      <td>17631</td>\n",
       "      <td>2022</td>\n",
       "      <td>1</td>\n",
       "      <td>4</td>\n",
       "      <td>78423.33949</td>\n",
       "      <td>8.36</td>\n",
       "    </tr>\n",
       "    <tr>\n",
       "      <td>1</td>\n",
       "      <td>11039394</td>\n",
       "      <td>1039394</td>\n",
       "      <td>W_C</td>\n",
       "      <td>PF_2</td>\n",
       "      <td>15438</td>\n",
       "      <td>2022</td>\n",
       "      <td>1</td>\n",
       "      <td>4</td>\n",
       "      <td>131276.48040</td>\n",
       "      <td>8.97</td>\n",
       "    </tr>\n",
       "    <tr>\n",
       "      <td>2</td>\n",
       "      <td>11975221</td>\n",
       "      <td>1975221</td>\n",
       "      <td>W_A</td>\n",
       "      <td>PF_3</td>\n",
       "      <td>12725</td>\n",
       "      <td>2022</td>\n",
       "      <td>1</td>\n",
       "      <td>4</td>\n",
       "      <td>23069.57275</td>\n",
       "      <td>8.65</td>\n",
       "    </tr>\n",
       "    <tr>\n",
       "      <td>3</td>\n",
       "      <td>11396615</td>\n",
       "      <td>1396615</td>\n",
       "      <td>W_B</td>\n",
       "      <td>PF_4</td>\n",
       "      <td>38768</td>\n",
       "      <td>2022</td>\n",
       "      <td>1</td>\n",
       "      <td>4</td>\n",
       "      <td>53988.69284</td>\n",
       "      <td>7.89</td>\n",
       "    </tr>\n",
       "    <tr>\n",
       "      <td>4</td>\n",
       "      <td>11026987</td>\n",
       "      <td>1026987</td>\n",
       "      <td>W_C</td>\n",
       "      <td>PF_0</td>\n",
       "      <td>44662</td>\n",
       "      <td>2022</td>\n",
       "      <td>1</td>\n",
       "      <td>4</td>\n",
       "      <td>23517.17321</td>\n",
       "      <td>8.68</td>\n",
       "    </tr>\n",
       "  </tbody>\n",
       "</table>\n",
       "</div>"
      ],
      "text/plain": [
       "  Lookup Value   SKU_ID Warehouse Product_Family  Demand  Year Month  \\\n",
       "0     11395072  1395072       W_B           PF_1   17631  2022     1   \n",
       "1     11039394  1039394       W_C           PF_2   15438  2022     1   \n",
       "2     11975221  1975221       W_A           PF_3   12725  2022     1   \n",
       "3     11396615  1396615       W_B           PF_4   38768  2022     1   \n",
       "4     11026987  1026987       W_C           PF_0   44662  2022     1   \n",
       "\n",
       "  Weeks in Month  Inventory as of 1/1/22  Cost  \n",
       "0              4             78423.33949  8.36  \n",
       "1              4            131276.48040  8.97  \n",
       "2              4             23069.57275  8.65  \n",
       "3              4             53988.69284  7.89  \n",
       "4              4             23517.17321  8.68  "
      ]
     },
     "execution_count": 54,
     "metadata": {},
     "output_type": "execute_result"
    }
   ],
   "source": [
    "# The merge method allows for relationships between databases.  The below does a full or 'outer' merge which will include\n",
    "# all rows from both data sets\n",
    "month_1_demand = demand_data[demand_data['Month'] == '1']\n",
    "inventory_data['SKU_ID'] = inventory_data['SKU_ID'].astype('str')\n",
    "consol_data = pd.merge(month_1_demand, inventory_data, how='outer', left_on = ['SKU_ID','Warehouse','Product_Family'],\n",
    "                       right_on = ['SKU_ID','Warehouse','Product_Family'])\n",
    "consol_data.head()"
   ]
  },
  {
   "cell_type": "code",
   "execution_count": 55,
   "metadata": {},
   "outputs": [
    {
     "data": {
      "text/html": [
       "<div>\n",
       "<style scoped>\n",
       "    .dataframe tbody tr th:only-of-type {\n",
       "        vertical-align: middle;\n",
       "    }\n",
       "\n",
       "    .dataframe tbody tr th {\n",
       "        vertical-align: top;\n",
       "    }\n",
       "\n",
       "    .dataframe thead th {\n",
       "        text-align: right;\n",
       "    }\n",
       "</style>\n",
       "<table border=\"1\" class=\"dataframe\">\n",
       "  <thead>\n",
       "    <tr style=\"text-align: right;\">\n",
       "      <th></th>\n",
       "      <th>Lookup Value</th>\n",
       "      <th>SKU_ID</th>\n",
       "      <th>Warehouse</th>\n",
       "      <th>Product_Family</th>\n",
       "      <th>Demand</th>\n",
       "      <th>Year</th>\n",
       "      <th>Month</th>\n",
       "      <th>Weeks in Month</th>\n",
       "      <th>Inventory as of 1/1/22</th>\n",
       "      <th>Cost</th>\n",
       "    </tr>\n",
       "  </thead>\n",
       "  <tbody>\n",
       "    <tr>\n",
       "      <td>0</td>\n",
       "      <td>11395072</td>\n",
       "      <td>1395072</td>\n",
       "      <td>W_B</td>\n",
       "      <td>PF_1</td>\n",
       "      <td>17631</td>\n",
       "      <td>2022</td>\n",
       "      <td>1</td>\n",
       "      <td>4</td>\n",
       "      <td>78423.33949</td>\n",
       "      <td>8.36</td>\n",
       "    </tr>\n",
       "    <tr>\n",
       "      <td>1</td>\n",
       "      <td>11039394</td>\n",
       "      <td>1039394</td>\n",
       "      <td>W_C</td>\n",
       "      <td>PF_2</td>\n",
       "      <td>15438</td>\n",
       "      <td>2022</td>\n",
       "      <td>1</td>\n",
       "      <td>4</td>\n",
       "      <td>131276.48040</td>\n",
       "      <td>8.97</td>\n",
       "    </tr>\n",
       "    <tr>\n",
       "      <td>2</td>\n",
       "      <td>11975221</td>\n",
       "      <td>1975221</td>\n",
       "      <td>W_A</td>\n",
       "      <td>PF_3</td>\n",
       "      <td>12725</td>\n",
       "      <td>2022</td>\n",
       "      <td>1</td>\n",
       "      <td>4</td>\n",
       "      <td>23069.57275</td>\n",
       "      <td>8.65</td>\n",
       "    </tr>\n",
       "    <tr>\n",
       "      <td>3</td>\n",
       "      <td>11396615</td>\n",
       "      <td>1396615</td>\n",
       "      <td>W_B</td>\n",
       "      <td>PF_4</td>\n",
       "      <td>38768</td>\n",
       "      <td>2022</td>\n",
       "      <td>1</td>\n",
       "      <td>4</td>\n",
       "      <td>53988.69284</td>\n",
       "      <td>7.89</td>\n",
       "    </tr>\n",
       "    <tr>\n",
       "      <td>4</td>\n",
       "      <td>11026987</td>\n",
       "      <td>1026987</td>\n",
       "      <td>W_C</td>\n",
       "      <td>PF_0</td>\n",
       "      <td>44662</td>\n",
       "      <td>2022</td>\n",
       "      <td>1</td>\n",
       "      <td>4</td>\n",
       "      <td>23517.17321</td>\n",
       "      <td>8.68</td>\n",
       "    </tr>\n",
       "  </tbody>\n",
       "</table>\n",
       "</div>"
      ],
      "text/plain": [
       "  Lookup Value   SKU_ID Warehouse Product_Family  Demand  Year Month  \\\n",
       "0     11395072  1395072       W_B           PF_1   17631  2022     1   \n",
       "1     11039394  1039394       W_C           PF_2   15438  2022     1   \n",
       "2     11975221  1975221       W_A           PF_3   12725  2022     1   \n",
       "3     11396615  1396615       W_B           PF_4   38768  2022     1   \n",
       "4     11026987  1026987       W_C           PF_0   44662  2022     1   \n",
       "\n",
       "  Weeks in Month  Inventory as of 1/1/22  Cost  \n",
       "0              4             78423.33949  8.36  \n",
       "1              4            131276.48040  8.97  \n",
       "2              4             23069.57275  8.65  \n",
       "3              4             53988.69284  7.89  \n",
       "4              4             23517.17321  8.68  "
      ]
     },
     "execution_count": 55,
     "metadata": {},
     "output_type": "execute_result"
    }
   ],
   "source": [
    "# The below does a left merge which will include\n",
    "# all rows from month_1_demand, but only rows from inventory_data that have a matching 'SKU_ID' in month_1_demand.\n",
    "month_1_demand = demand_data[demand_data['Month'] == '1']\n",
    "inventory_data['SKU_ID'] = inventory_data['SKU_ID'].astype('str')\n",
    "consol_data = pd.merge(month_1_demand, inventory_data, how='left', left_on = ['SKU_ID','Warehouse','Product_Family'],\n",
    "                       right_on = ['SKU_ID','Warehouse','Product_Family'])\n",
    "consol_data.head()"
   ]
  },
  {
   "cell_type": "code",
   "execution_count": 56,
   "metadata": {},
   "outputs": [
    {
     "data": {
      "text/html": [
       "<div>\n",
       "<style scoped>\n",
       "    .dataframe tbody tr th:only-of-type {\n",
       "        vertical-align: middle;\n",
       "    }\n",
       "\n",
       "    .dataframe tbody tr th {\n",
       "        vertical-align: top;\n",
       "    }\n",
       "\n",
       "    .dataframe thead th {\n",
       "        text-align: right;\n",
       "    }\n",
       "</style>\n",
       "<table border=\"1\" class=\"dataframe\">\n",
       "  <thead>\n",
       "    <tr style=\"text-align: right;\">\n",
       "      <th></th>\n",
       "      <th>Lookup Value</th>\n",
       "      <th>SKU_ID</th>\n",
       "      <th>Warehouse</th>\n",
       "      <th>Product_Family</th>\n",
       "      <th>Demand</th>\n",
       "      <th>Year</th>\n",
       "      <th>Month</th>\n",
       "      <th>Weeks in Month</th>\n",
       "      <th>Inventory as of 1/1/22</th>\n",
       "      <th>Cost</th>\n",
       "    </tr>\n",
       "  </thead>\n",
       "  <tbody>\n",
       "    <tr>\n",
       "      <td>0</td>\n",
       "      <td>11395072</td>\n",
       "      <td>1395072</td>\n",
       "      <td>W_B</td>\n",
       "      <td>PF_1</td>\n",
       "      <td>17631</td>\n",
       "      <td>2022</td>\n",
       "      <td>1</td>\n",
       "      <td>4</td>\n",
       "      <td>78423.33949</td>\n",
       "      <td>8.36</td>\n",
       "    </tr>\n",
       "    <tr>\n",
       "      <td>1</td>\n",
       "      <td>11039394</td>\n",
       "      <td>1039394</td>\n",
       "      <td>W_C</td>\n",
       "      <td>PF_2</td>\n",
       "      <td>15438</td>\n",
       "      <td>2022</td>\n",
       "      <td>1</td>\n",
       "      <td>4</td>\n",
       "      <td>131276.48040</td>\n",
       "      <td>8.97</td>\n",
       "    </tr>\n",
       "    <tr>\n",
       "      <td>2</td>\n",
       "      <td>11975221</td>\n",
       "      <td>1975221</td>\n",
       "      <td>W_A</td>\n",
       "      <td>PF_3</td>\n",
       "      <td>12725</td>\n",
       "      <td>2022</td>\n",
       "      <td>1</td>\n",
       "      <td>4</td>\n",
       "      <td>23069.57275</td>\n",
       "      <td>8.65</td>\n",
       "    </tr>\n",
       "    <tr>\n",
       "      <td>3</td>\n",
       "      <td>11396615</td>\n",
       "      <td>1396615</td>\n",
       "      <td>W_B</td>\n",
       "      <td>PF_4</td>\n",
       "      <td>38768</td>\n",
       "      <td>2022</td>\n",
       "      <td>1</td>\n",
       "      <td>4</td>\n",
       "      <td>53988.69284</td>\n",
       "      <td>7.89</td>\n",
       "    </tr>\n",
       "    <tr>\n",
       "      <td>4</td>\n",
       "      <td>11026987</td>\n",
       "      <td>1026987</td>\n",
       "      <td>W_C</td>\n",
       "      <td>PF_0</td>\n",
       "      <td>44662</td>\n",
       "      <td>2022</td>\n",
       "      <td>1</td>\n",
       "      <td>4</td>\n",
       "      <td>23517.17321</td>\n",
       "      <td>8.68</td>\n",
       "    </tr>\n",
       "  </tbody>\n",
       "</table>\n",
       "</div>"
      ],
      "text/plain": [
       "  Lookup Value   SKU_ID Warehouse Product_Family  Demand  Year Month  \\\n",
       "0     11395072  1395072       W_B           PF_1   17631  2022     1   \n",
       "1     11039394  1039394       W_C           PF_2   15438  2022     1   \n",
       "2     11975221  1975221       W_A           PF_3   12725  2022     1   \n",
       "3     11396615  1396615       W_B           PF_4   38768  2022     1   \n",
       "4     11026987  1026987       W_C           PF_0   44662  2022     1   \n",
       "\n",
       "  Weeks in Month  Inventory as of 1/1/22  Cost  \n",
       "0              4             78423.33949  8.36  \n",
       "1              4            131276.48040  8.97  \n",
       "2              4             23069.57275  8.65  \n",
       "3              4             53988.69284  7.89  \n",
       "4              4             23517.17321  8.68  "
      ]
     },
     "execution_count": 56,
     "metadata": {},
     "output_type": "execute_result"
    }
   ],
   "source": [
    "# The below does a right merge which will include\n",
    "# all rows from inventory_data, but only rows from month_1_demand that have a matching 'SKU_ID' in inventory_data.\n",
    "month_1_demand = demand_data[demand_data['Month'] == '1']\n",
    "inventory_data['SKU_ID'] = inventory_data['SKU_ID'].astype('str')\n",
    "consol_data = pd.merge(month_1_demand, inventory_data, how='right', left_on = ['SKU_ID','Warehouse','Product_Family'],\n",
    "                       right_on = ['SKU_ID','Warehouse','Product_Family'])\n",
    "consol_data.head()"
   ]
  },
  {
   "cell_type": "markdown",
   "metadata": {},
   "source": [
    "<a id='21'></a>\n",
    "### Renaming Cells"
   ]
  },
  {
   "cell_type": "code",
   "execution_count": 57,
   "metadata": {},
   "outputs": [],
   "source": [
    "# The below renames the 'Lookup Value' column to 'Unique_ID'\n",
    "demand_data = demand_data.rename(columns={\"Lookup Value\": \"Unique_ID\"})"
   ]
  },
  {
   "cell_type": "markdown",
   "metadata": {},
   "source": [
    "<a id='22'></a>\n",
    "### Dates & Time"
   ]
  },
  {
   "cell_type": "code",
   "execution_count": 58,
   "metadata": {},
   "outputs": [
    {
     "data": {
      "text/html": [
       "<div>\n",
       "<style scoped>\n",
       "    .dataframe tbody tr th:only-of-type {\n",
       "        vertical-align: middle;\n",
       "    }\n",
       "\n",
       "    .dataframe tbody tr th {\n",
       "        vertical-align: top;\n",
       "    }\n",
       "\n",
       "    .dataframe thead th {\n",
       "        text-align: right;\n",
       "    }\n",
       "</style>\n",
       "<table border=\"1\" class=\"dataframe\">\n",
       "  <thead>\n",
       "    <tr style=\"text-align: right;\">\n",
       "      <th></th>\n",
       "      <th>Date</th>\n",
       "      <th>Open</th>\n",
       "      <th>High</th>\n",
       "      <th>Low</th>\n",
       "      <th>Close</th>\n",
       "      <th>Adj Close</th>\n",
       "      <th>Volume</th>\n",
       "    </tr>\n",
       "  </thead>\n",
       "  <tbody>\n",
       "    <tr>\n",
       "      <td>0</td>\n",
       "      <td>2020-10-30</td>\n",
       "      <td>328.279999</td>\n",
       "      <td>329.690002</td>\n",
       "      <td>322.600006</td>\n",
       "      <td>326.540009</td>\n",
       "      <td>322.004059</td>\n",
       "      <td>120287300</td>\n",
       "    </tr>\n",
       "    <tr>\n",
       "      <td>1</td>\n",
       "      <td>2020-11-02</td>\n",
       "      <td>330.200012</td>\n",
       "      <td>332.359985</td>\n",
       "      <td>327.239990</td>\n",
       "      <td>330.200012</td>\n",
       "      <td>325.613251</td>\n",
       "      <td>86068300</td>\n",
       "    </tr>\n",
       "    <tr>\n",
       "      <td>2</td>\n",
       "      <td>2020-11-03</td>\n",
       "      <td>333.690002</td>\n",
       "      <td>338.250000</td>\n",
       "      <td>330.290009</td>\n",
       "      <td>336.029999</td>\n",
       "      <td>331.362274</td>\n",
       "      <td>93294200</td>\n",
       "    </tr>\n",
       "    <tr>\n",
       "      <td>3</td>\n",
       "      <td>2020-11-04</td>\n",
       "      <td>340.859985</td>\n",
       "      <td>347.940002</td>\n",
       "      <td>339.589996</td>\n",
       "      <td>343.540009</td>\n",
       "      <td>338.767914</td>\n",
       "      <td>126959700</td>\n",
       "    </tr>\n",
       "    <tr>\n",
       "      <td>4</td>\n",
       "      <td>2020-11-05</td>\n",
       "      <td>349.239990</td>\n",
       "      <td>352.190002</td>\n",
       "      <td>348.859985</td>\n",
       "      <td>350.239990</td>\n",
       "      <td>345.374817</td>\n",
       "      <td>82039700</td>\n",
       "    </tr>\n",
       "  </tbody>\n",
       "</table>\n",
       "</div>"
      ],
      "text/plain": [
       "        Date        Open        High         Low       Close   Adj Close  \\\n",
       "0 2020-10-30  328.279999  329.690002  322.600006  326.540009  322.004059   \n",
       "1 2020-11-02  330.200012  332.359985  327.239990  330.200012  325.613251   \n",
       "2 2020-11-03  333.690002  338.250000  330.290009  336.029999  331.362274   \n",
       "3 2020-11-04  340.859985  347.940002  339.589996  343.540009  338.767914   \n",
       "4 2020-11-05  349.239990  352.190002  348.859985  350.239990  345.374817   \n",
       "\n",
       "      Volume  \n",
       "0  120287300  \n",
       "1   86068300  \n",
       "2   93294200  \n",
       "3  126959700  \n",
       "4   82039700  "
      ]
     },
     "execution_count": 58,
     "metadata": {},
     "output_type": "execute_result"
    }
   ],
   "source": [
    "# the 'to_datetime' method converts a pandas column to a datetime object\n",
    "spy_data = pd.read_csv(spy_path)\n",
    "spy_data['Date'] = pd.to_datetime(spy_data['Date'])\n",
    "spy_data.head()"
   ]
  },
  {
   "cell_type": "code",
   "execution_count": 59,
   "metadata": {},
   "outputs": [
    {
     "data": {
      "text/html": [
       "<div>\n",
       "<style scoped>\n",
       "    .dataframe tbody tr th:only-of-type {\n",
       "        vertical-align: middle;\n",
       "    }\n",
       "\n",
       "    .dataframe tbody tr th {\n",
       "        vertical-align: top;\n",
       "    }\n",
       "\n",
       "    .dataframe thead th {\n",
       "        text-align: right;\n",
       "    }\n",
       "</style>\n",
       "<table border=\"1\" class=\"dataframe\">\n",
       "  <thead>\n",
       "    <tr style=\"text-align: right;\">\n",
       "      <th></th>\n",
       "      <th>Date</th>\n",
       "      <th>Open</th>\n",
       "      <th>High</th>\n",
       "      <th>Low</th>\n",
       "      <th>Close</th>\n",
       "      <th>Adj Close</th>\n",
       "      <th>Volume</th>\n",
       "      <th>Month</th>\n",
       "      <th>Year</th>\n",
       "      <th>Day</th>\n",
       "    </tr>\n",
       "  </thead>\n",
       "  <tbody>\n",
       "    <tr>\n",
       "      <td>0</td>\n",
       "      <td>2020-10-30</td>\n",
       "      <td>328.279999</td>\n",
       "      <td>329.690002</td>\n",
       "      <td>322.600006</td>\n",
       "      <td>326.540009</td>\n",
       "      <td>322.004059</td>\n",
       "      <td>120287300</td>\n",
       "      <td>10</td>\n",
       "      <td>2020</td>\n",
       "      <td>30</td>\n",
       "    </tr>\n",
       "    <tr>\n",
       "      <td>1</td>\n",
       "      <td>2020-11-02</td>\n",
       "      <td>330.200012</td>\n",
       "      <td>332.359985</td>\n",
       "      <td>327.239990</td>\n",
       "      <td>330.200012</td>\n",
       "      <td>325.613251</td>\n",
       "      <td>86068300</td>\n",
       "      <td>11</td>\n",
       "      <td>2020</td>\n",
       "      <td>2</td>\n",
       "    </tr>\n",
       "    <tr>\n",
       "      <td>2</td>\n",
       "      <td>2020-11-03</td>\n",
       "      <td>333.690002</td>\n",
       "      <td>338.250000</td>\n",
       "      <td>330.290009</td>\n",
       "      <td>336.029999</td>\n",
       "      <td>331.362274</td>\n",
       "      <td>93294200</td>\n",
       "      <td>11</td>\n",
       "      <td>2020</td>\n",
       "      <td>3</td>\n",
       "    </tr>\n",
       "    <tr>\n",
       "      <td>3</td>\n",
       "      <td>2020-11-04</td>\n",
       "      <td>340.859985</td>\n",
       "      <td>347.940002</td>\n",
       "      <td>339.589996</td>\n",
       "      <td>343.540009</td>\n",
       "      <td>338.767914</td>\n",
       "      <td>126959700</td>\n",
       "      <td>11</td>\n",
       "      <td>2020</td>\n",
       "      <td>4</td>\n",
       "    </tr>\n",
       "    <tr>\n",
       "      <td>4</td>\n",
       "      <td>2020-11-05</td>\n",
       "      <td>349.239990</td>\n",
       "      <td>352.190002</td>\n",
       "      <td>348.859985</td>\n",
       "      <td>350.239990</td>\n",
       "      <td>345.374817</td>\n",
       "      <td>82039700</td>\n",
       "      <td>11</td>\n",
       "      <td>2020</td>\n",
       "      <td>5</td>\n",
       "    </tr>\n",
       "  </tbody>\n",
       "</table>\n",
       "</div>"
      ],
      "text/plain": [
       "        Date        Open        High         Low       Close   Adj Close  \\\n",
       "0 2020-10-30  328.279999  329.690002  322.600006  326.540009  322.004059   \n",
       "1 2020-11-02  330.200012  332.359985  327.239990  330.200012  325.613251   \n",
       "2 2020-11-03  333.690002  338.250000  330.290009  336.029999  331.362274   \n",
       "3 2020-11-04  340.859985  347.940002  339.589996  343.540009  338.767914   \n",
       "4 2020-11-05  349.239990  352.190002  348.859985  350.239990  345.374817   \n",
       "\n",
       "      Volume  Month  Year  Day  \n",
       "0  120287300     10  2020   30  \n",
       "1   86068300     11  2020    2  \n",
       "2   93294200     11  2020    3  \n",
       "3  126959700     11  2020    4  \n",
       "4   82039700     11  2020    5  "
      ]
     },
     "execution_count": 59,
     "metadata": {},
     "output_type": "execute_result"
    }
   ],
   "source": [
    "# Datetime objects have many attributes including month, day, and year.  \n",
    "spy_data['Month'] = pd.DatetimeIndex(spy_data['Date']).month\n",
    "spy_data['Year'] = pd.DatetimeIndex(spy_data['Date']).year\n",
    "spy_data['Day'] = pd.DatetimeIndex(spy_data['Date']).day\n",
    "spy_data.head()"
   ]
  },
  {
   "cell_type": "code",
   "execution_count": 60,
   "metadata": {},
   "outputs": [
    {
     "data": {
      "text/html": [
       "<div>\n",
       "<style scoped>\n",
       "    .dataframe tbody tr th:only-of-type {\n",
       "        vertical-align: middle;\n",
       "    }\n",
       "\n",
       "    .dataframe tbody tr th {\n",
       "        vertical-align: top;\n",
       "    }\n",
       "\n",
       "    .dataframe thead th {\n",
       "        text-align: right;\n",
       "    }\n",
       "</style>\n",
       "<table border=\"1\" class=\"dataframe\">\n",
       "  <thead>\n",
       "    <tr style=\"text-align: right;\">\n",
       "      <th></th>\n",
       "      <th>Date</th>\n",
       "      <th>Open</th>\n",
       "      <th>High</th>\n",
       "      <th>Low</th>\n",
       "      <th>Close</th>\n",
       "      <th>Adj Close</th>\n",
       "      <th>Volume</th>\n",
       "      <th>Month</th>\n",
       "      <th>Year</th>\n",
       "      <th>Day</th>\n",
       "      <th>Quarter</th>\n",
       "    </tr>\n",
       "  </thead>\n",
       "  <tbody>\n",
       "    <tr>\n",
       "      <td>0</td>\n",
       "      <td>2020-10-30</td>\n",
       "      <td>328.279999</td>\n",
       "      <td>329.690002</td>\n",
       "      <td>322.600006</td>\n",
       "      <td>326.540009</td>\n",
       "      <td>322.004059</td>\n",
       "      <td>120287300</td>\n",
       "      <td>10</td>\n",
       "      <td>2020</td>\n",
       "      <td>30</td>\n",
       "      <td>4</td>\n",
       "    </tr>\n",
       "    <tr>\n",
       "      <td>1</td>\n",
       "      <td>2020-11-02</td>\n",
       "      <td>330.200012</td>\n",
       "      <td>332.359985</td>\n",
       "      <td>327.239990</td>\n",
       "      <td>330.200012</td>\n",
       "      <td>325.613251</td>\n",
       "      <td>86068300</td>\n",
       "      <td>11</td>\n",
       "      <td>2020</td>\n",
       "      <td>2</td>\n",
       "      <td>4</td>\n",
       "    </tr>\n",
       "    <tr>\n",
       "      <td>2</td>\n",
       "      <td>2020-11-03</td>\n",
       "      <td>333.690002</td>\n",
       "      <td>338.250000</td>\n",
       "      <td>330.290009</td>\n",
       "      <td>336.029999</td>\n",
       "      <td>331.362274</td>\n",
       "      <td>93294200</td>\n",
       "      <td>11</td>\n",
       "      <td>2020</td>\n",
       "      <td>3</td>\n",
       "      <td>4</td>\n",
       "    </tr>\n",
       "    <tr>\n",
       "      <td>3</td>\n",
       "      <td>2020-11-04</td>\n",
       "      <td>340.859985</td>\n",
       "      <td>347.940002</td>\n",
       "      <td>339.589996</td>\n",
       "      <td>343.540009</td>\n",
       "      <td>338.767914</td>\n",
       "      <td>126959700</td>\n",
       "      <td>11</td>\n",
       "      <td>2020</td>\n",
       "      <td>4</td>\n",
       "      <td>4</td>\n",
       "    </tr>\n",
       "    <tr>\n",
       "      <td>4</td>\n",
       "      <td>2020-11-05</td>\n",
       "      <td>349.239990</td>\n",
       "      <td>352.190002</td>\n",
       "      <td>348.859985</td>\n",
       "      <td>350.239990</td>\n",
       "      <td>345.374817</td>\n",
       "      <td>82039700</td>\n",
       "      <td>11</td>\n",
       "      <td>2020</td>\n",
       "      <td>5</td>\n",
       "      <td>4</td>\n",
       "    </tr>\n",
       "  </tbody>\n",
       "</table>\n",
       "</div>"
      ],
      "text/plain": [
       "        Date        Open        High         Low       Close   Adj Close  \\\n",
       "0 2020-10-30  328.279999  329.690002  322.600006  326.540009  322.004059   \n",
       "1 2020-11-02  330.200012  332.359985  327.239990  330.200012  325.613251   \n",
       "2 2020-11-03  333.690002  338.250000  330.290009  336.029999  331.362274   \n",
       "3 2020-11-04  340.859985  347.940002  339.589996  343.540009  338.767914   \n",
       "4 2020-11-05  349.239990  352.190002  348.859985  350.239990  345.374817   \n",
       "\n",
       "      Volume  Month  Year  Day  Quarter  \n",
       "0  120287300     10  2020   30        4  \n",
       "1   86068300     11  2020    2        4  \n",
       "2   93294200     11  2020    3        4  \n",
       "3  126959700     11  2020    4        4  \n",
       "4   82039700     11  2020    5        4  "
      ]
     },
     "execution_count": 60,
     "metadata": {},
     "output_type": "execute_result"
    }
   ],
   "source": [
    "# The below is a quick algorithm to map in quarter\n",
    "spy_data['Quarter'] = (spy_data['Month'] -1) // 3 + 1\n",
    "spy_data.head()"
   ]
  },
  {
   "cell_type": "code",
   "execution_count": 61,
   "metadata": {},
   "outputs": [],
   "source": [
    "# Dates can be modified formulaicly using the timedelta method. The below creates a new column 30 days ahead of the date\n",
    "# column. \n",
    "spy_data['Date_+_30'] = spy_data['Date'] + timedelta(days=30)\n",
    "spy_data.head()\n",
    "spy_data = spy_data.drop(columns=['Date_+_30'])"
   ]
  },
  {
   "cell_type": "markdown",
   "metadata": {},
   "source": [
    "<a id='23'></a>\n",
    "### Sorting Columns"
   ]
  },
  {
   "cell_type": "code",
   "execution_count": 62,
   "metadata": {},
   "outputs": [
    {
     "data": {
      "text/html": [
       "<div>\n",
       "<style scoped>\n",
       "    .dataframe tbody tr th:only-of-type {\n",
       "        vertical-align: middle;\n",
       "    }\n",
       "\n",
       "    .dataframe tbody tr th {\n",
       "        vertical-align: top;\n",
       "    }\n",
       "\n",
       "    .dataframe thead th {\n",
       "        text-align: right;\n",
       "    }\n",
       "</style>\n",
       "<table border=\"1\" class=\"dataframe\">\n",
       "  <thead>\n",
       "    <tr style=\"text-align: right;\">\n",
       "      <th></th>\n",
       "      <th>Date</th>\n",
       "      <th>Open</th>\n",
       "      <th>High</th>\n",
       "      <th>Low</th>\n",
       "      <th>Close</th>\n",
       "      <th>Adj Close</th>\n",
       "      <th>Volume</th>\n",
       "      <th>Month</th>\n",
       "      <th>Year</th>\n",
       "      <th>Day</th>\n",
       "      <th>Quarter</th>\n",
       "    </tr>\n",
       "  </thead>\n",
       "  <tbody>\n",
       "    <tr>\n",
       "      <td>251</td>\n",
       "      <td>2021-10-29</td>\n",
       "      <td>455.869995</td>\n",
       "      <td>459.559998</td>\n",
       "      <td>455.559998</td>\n",
       "      <td>459.250000</td>\n",
       "      <td>459.250000</td>\n",
       "      <td>70108200</td>\n",
       "      <td>10</td>\n",
       "      <td>2021</td>\n",
       "      <td>29</td>\n",
       "      <td>4</td>\n",
       "    </tr>\n",
       "    <tr>\n",
       "      <td>250</td>\n",
       "      <td>2021-10-28</td>\n",
       "      <td>455.459991</td>\n",
       "      <td>458.399994</td>\n",
       "      <td>455.450012</td>\n",
       "      <td>458.320007</td>\n",
       "      <td>458.320007</td>\n",
       "      <td>51437900</td>\n",
       "      <td>10</td>\n",
       "      <td>2021</td>\n",
       "      <td>28</td>\n",
       "      <td>4</td>\n",
       "    </tr>\n",
       "    <tr>\n",
       "      <td>249</td>\n",
       "      <td>2021-10-27</td>\n",
       "      <td>456.450012</td>\n",
       "      <td>457.160004</td>\n",
       "      <td>453.859985</td>\n",
       "      <td>453.940002</td>\n",
       "      <td>453.940002</td>\n",
       "      <td>72438000</td>\n",
       "      <td>10</td>\n",
       "      <td>2021</td>\n",
       "      <td>27</td>\n",
       "      <td>4</td>\n",
       "    </tr>\n",
       "    <tr>\n",
       "      <td>248</td>\n",
       "      <td>2021-10-26</td>\n",
       "      <td>457.200012</td>\n",
       "      <td>458.489990</td>\n",
       "      <td>455.559998</td>\n",
       "      <td>455.959991</td>\n",
       "      <td>455.959991</td>\n",
       "      <td>56075100</td>\n",
       "      <td>10</td>\n",
       "      <td>2021</td>\n",
       "      <td>26</td>\n",
       "      <td>4</td>\n",
       "    </tr>\n",
       "    <tr>\n",
       "      <td>247</td>\n",
       "      <td>2021-10-25</td>\n",
       "      <td>454.279999</td>\n",
       "      <td>455.899994</td>\n",
       "      <td>452.390015</td>\n",
       "      <td>455.549988</td>\n",
       "      <td>455.549988</td>\n",
       "      <td>45214500</td>\n",
       "      <td>10</td>\n",
       "      <td>2021</td>\n",
       "      <td>25</td>\n",
       "      <td>4</td>\n",
       "    </tr>\n",
       "  </tbody>\n",
       "</table>\n",
       "</div>"
      ],
      "text/plain": [
       "          Date        Open        High         Low       Close   Adj Close  \\\n",
       "251 2021-10-29  455.869995  459.559998  455.559998  459.250000  459.250000   \n",
       "250 2021-10-28  455.459991  458.399994  455.450012  458.320007  458.320007   \n",
       "249 2021-10-27  456.450012  457.160004  453.859985  453.940002  453.940002   \n",
       "248 2021-10-26  457.200012  458.489990  455.559998  455.959991  455.959991   \n",
       "247 2021-10-25  454.279999  455.899994  452.390015  455.549988  455.549988   \n",
       "\n",
       "       Volume  Month  Year  Day  Quarter  \n",
       "251  70108200     10  2021   29        4  \n",
       "250  51437900     10  2021   28        4  \n",
       "249  72438000     10  2021   27        4  \n",
       "248  56075100     10  2021   26        4  \n",
       "247  45214500     10  2021   25        4  "
      ]
     },
     "execution_count": 62,
     "metadata": {},
     "output_type": "execute_result"
    }
   ],
   "source": [
    "# The 'sort_values' method sorts the data be a provided column name\n",
    "spy_data = spy_data.sort_values(by=['Date'], ascending=False)\n",
    "spy_data.head()"
   ]
  },
  {
   "cell_type": "markdown",
   "metadata": {},
   "source": [
    "<a id='24'></a>\n",
    "### Shifting Columns"
   ]
  },
  {
   "cell_type": "code",
   "execution_count": 63,
   "metadata": {},
   "outputs": [
    {
     "data": {
      "text/html": [
       "<div>\n",
       "<style scoped>\n",
       "    .dataframe tbody tr th:only-of-type {\n",
       "        vertical-align: middle;\n",
       "    }\n",
       "\n",
       "    .dataframe tbody tr th {\n",
       "        vertical-align: top;\n",
       "    }\n",
       "\n",
       "    .dataframe thead th {\n",
       "        text-align: right;\n",
       "    }\n",
       "</style>\n",
       "<table border=\"1\" class=\"dataframe\">\n",
       "  <thead>\n",
       "    <tr style=\"text-align: right;\">\n",
       "      <th></th>\n",
       "      <th>Date</th>\n",
       "      <th>Adj Close</th>\n",
       "      <th>Month</th>\n",
       "      <th>Year</th>\n",
       "      <th>Day</th>\n",
       "      <th>Quarter</th>\n",
       "      <th>Return_%</th>\n",
       "    </tr>\n",
       "  </thead>\n",
       "  <tbody>\n",
       "    <tr>\n",
       "      <td>251</td>\n",
       "      <td>2021-10-29</td>\n",
       "      <td>459.250000</td>\n",
       "      <td>10</td>\n",
       "      <td>2021</td>\n",
       "      <td>29</td>\n",
       "      <td>4</td>\n",
       "      <td>0.002029</td>\n",
       "    </tr>\n",
       "    <tr>\n",
       "      <td>250</td>\n",
       "      <td>2021-10-28</td>\n",
       "      <td>458.320007</td>\n",
       "      <td>10</td>\n",
       "      <td>2021</td>\n",
       "      <td>28</td>\n",
       "      <td>4</td>\n",
       "      <td>0.009649</td>\n",
       "    </tr>\n",
       "    <tr>\n",
       "      <td>249</td>\n",
       "      <td>2021-10-27</td>\n",
       "      <td>453.940002</td>\n",
       "      <td>10</td>\n",
       "      <td>2021</td>\n",
       "      <td>27</td>\n",
       "      <td>4</td>\n",
       "      <td>-0.004430</td>\n",
       "    </tr>\n",
       "    <tr>\n",
       "      <td>248</td>\n",
       "      <td>2021-10-26</td>\n",
       "      <td>455.959991</td>\n",
       "      <td>10</td>\n",
       "      <td>2021</td>\n",
       "      <td>26</td>\n",
       "      <td>4</td>\n",
       "      <td>0.000900</td>\n",
       "    </tr>\n",
       "    <tr>\n",
       "      <td>247</td>\n",
       "      <td>2021-10-25</td>\n",
       "      <td>455.549988</td>\n",
       "      <td>10</td>\n",
       "      <td>2021</td>\n",
       "      <td>25</td>\n",
       "      <td>4</td>\n",
       "      <td>0.005363</td>\n",
       "    </tr>\n",
       "  </tbody>\n",
       "</table>\n",
       "</div>"
      ],
      "text/plain": [
       "          Date   Adj Close  Month  Year  Day  Quarter  Return_%\n",
       "251 2021-10-29  459.250000     10  2021   29        4  0.002029\n",
       "250 2021-10-28  458.320007     10  2021   28        4  0.009649\n",
       "249 2021-10-27  453.940002     10  2021   27        4 -0.004430\n",
       "248 2021-10-26  455.959991     10  2021   26        4  0.000900\n",
       "247 2021-10-25  455.549988     10  2021   25        4  0.005363"
      ]
     },
     "execution_count": 63,
     "metadata": {},
     "output_type": "execute_result"
    }
   ],
   "source": [
    "# The below shows a use of the shift method which moves a column up or down a specified integer number of columns\n",
    "# relative to the rest of the data.  we also remove some unnecessary columns\n",
    "spy_data = spy_data.drop(columns=['Open','High','Low','Close','Volume'])\n",
    "spy_data['Return_%'] = spy_data['Adj Close']/spy_data['Adj Close'].shift(-1)-1\n",
    "spy_data.head()"
   ]
  },
  {
   "cell_type": "markdown",
   "metadata": {},
   "source": [
    "<a id='25'></a>\n",
    "## -------------PRACTICE-------------"
   ]
  },
  {
   "cell_type": "markdown",
   "metadata": {},
   "source": [
    "1. In the cell below, Find all demand_data for 'Product_Family' 'PF_3', then, use the merge method to pull in the inventory positions for those SKUs.  Your final data set should contain no rows with blank 'Demand'.  Output your data to CSV title 'PF_3_All_Data'."
   ]
  },
  {
   "cell_type": "code",
   "execution_count": null,
   "metadata": {},
   "outputs": [],
   "source": []
  },
  {
   "cell_type": "markdown",
   "metadata": {},
   "source": [
    "2. In the cell below, mirror the DataFrame created in the section on shifting, except calculate the two day return instead of the daily return.  You will need to read in the SPY data again, and ensure to drop 'Open', 'High','Low','Close',and 'Volume'.  "
   ]
  },
  {
   "cell_type": "code",
   "execution_count": null,
   "metadata": {},
   "outputs": [],
   "source": []
  },
  {
   "cell_type": "markdown",
   "metadata": {},
   "source": [
    "3. In the cell below, find the average daily return of SPY for February, 2021."
   ]
  },
  {
   "cell_type": "code",
   "execution_count": null,
   "metadata": {},
   "outputs": [],
   "source": []
  },
  {
   "cell_type": "markdown",
   "metadata": {},
   "source": [
    "4.  Pull the demand data for 'Product_Family' 'PF_1' in month '1', and inventory data for 'Product_Family' PF_2.  Concatenate these two Dataframes and include a new column to the resulting DataFrame specifying which data source each row of data is from."
   ]
  },
  {
   "cell_type": "code",
   "execution_count": null,
   "metadata": {},
   "outputs": [],
   "source": []
  },
  {
   "cell_type": "markdown",
   "metadata": {},
   "source": [
    "5. Find the daily standard deviation of the returns of SPY for March of 2021. "
   ]
  },
  {
   "cell_type": "code",
   "execution_count": null,
   "metadata": {},
   "outputs": [],
   "source": []
  },
  {
   "cell_type": "markdown",
   "metadata": {},
   "source": [
    "<a id='26'></a>\n",
    "### Reseting an Index"
   ]
  },
  {
   "cell_type": "code",
   "execution_count": 64,
   "metadata": {},
   "outputs": [
    {
     "data": {
      "text/html": [
       "<div>\n",
       "<style scoped>\n",
       "    .dataframe tbody tr th:only-of-type {\n",
       "        vertical-align: middle;\n",
       "    }\n",
       "\n",
       "    .dataframe tbody tr th {\n",
       "        vertical-align: top;\n",
       "    }\n",
       "\n",
       "    .dataframe thead th {\n",
       "        text-align: right;\n",
       "    }\n",
       "</style>\n",
       "<table border=\"1\" class=\"dataframe\">\n",
       "  <thead>\n",
       "    <tr style=\"text-align: right;\">\n",
       "      <th></th>\n",
       "      <th>Unique_ID</th>\n",
       "      <th>SKU_ID</th>\n",
       "      <th>Warehouse</th>\n",
       "      <th>Product_Family</th>\n",
       "      <th>Demand</th>\n",
       "      <th>Year</th>\n",
       "      <th>Month</th>\n",
       "      <th>Weeks in Month</th>\n",
       "    </tr>\n",
       "  </thead>\n",
       "  <tbody>\n",
       "    <tr>\n",
       "      <td>0</td>\n",
       "      <td>11395072</td>\n",
       "      <td>1395072</td>\n",
       "      <td>W_B</td>\n",
       "      <td>PF_1</td>\n",
       "      <td>17631</td>\n",
       "      <td>2022</td>\n",
       "      <td>1</td>\n",
       "      <td>4</td>\n",
       "    </tr>\n",
       "    <tr>\n",
       "      <td>5</td>\n",
       "      <td>11885799</td>\n",
       "      <td>1885799</td>\n",
       "      <td>W_A</td>\n",
       "      <td>PF_1</td>\n",
       "      <td>37943</td>\n",
       "      <td>2022</td>\n",
       "      <td>1</td>\n",
       "      <td>4</td>\n",
       "    </tr>\n",
       "    <tr>\n",
       "      <td>10</td>\n",
       "      <td>11118364</td>\n",
       "      <td>1118364</td>\n",
       "      <td>W_C</td>\n",
       "      <td>PF_1</td>\n",
       "      <td>35654</td>\n",
       "      <td>2022</td>\n",
       "      <td>1</td>\n",
       "      <td>4</td>\n",
       "    </tr>\n",
       "    <tr>\n",
       "      <td>15</td>\n",
       "      <td>11950549</td>\n",
       "      <td>1950549</td>\n",
       "      <td>W_B</td>\n",
       "      <td>PF_1</td>\n",
       "      <td>14407</td>\n",
       "      <td>2022</td>\n",
       "      <td>1</td>\n",
       "      <td>4</td>\n",
       "    </tr>\n",
       "    <tr>\n",
       "      <td>20</td>\n",
       "      <td>11633085</td>\n",
       "      <td>1633085</td>\n",
       "      <td>W_A</td>\n",
       "      <td>PF_1</td>\n",
       "      <td>18798</td>\n",
       "      <td>2022</td>\n",
       "      <td>1</td>\n",
       "      <td>4</td>\n",
       "    </tr>\n",
       "  </tbody>\n",
       "</table>\n",
       "</div>"
      ],
      "text/plain": [
       "   Unique_ID   SKU_ID Warehouse Product_Family  Demand  Year Month  \\\n",
       "0   11395072  1395072       W_B           PF_1   17631  2022     1   \n",
       "5   11885799  1885799       W_A           PF_1   37943  2022     1   \n",
       "10  11118364  1118364       W_C           PF_1   35654  2022     1   \n",
       "15  11950549  1950549       W_B           PF_1   14407  2022     1   \n",
       "20  11633085  1633085       W_A           PF_1   18798  2022     1   \n",
       "\n",
       "   Weeks in Month  \n",
       "0               4  \n",
       "5               4  \n",
       "10              4  \n",
       "15              4  \n",
       "20              4  "
      ]
     },
     "execution_count": 64,
     "metadata": {},
     "output_type": "execute_result"
    }
   ],
   "source": [
    "# Note that the index of the below frame is not sequenced correctly. \n",
    "pf_1 = demand_data[demand_data['Product_Family'] == 'PF_1']\n",
    "pf_1.head()"
   ]
  },
  {
   "cell_type": "code",
   "execution_count": 65,
   "metadata": {},
   "outputs": [
    {
     "name": "stderr",
     "output_type": "stream",
     "text": [
      "//anaconda3/lib/python3.7/site-packages/pandas/core/frame.py:4102: SettingWithCopyWarning: \n",
      "A value is trying to be set on a copy of a slice from a DataFrame\n",
      "\n",
      "See the caveats in the documentation: http://pandas.pydata.org/pandas-docs/stable/user_guide/indexing.html#returning-a-view-versus-a-copy\n",
      "  errors=errors,\n"
     ]
    },
    {
     "data": {
      "text/html": [
       "<div>\n",
       "<style scoped>\n",
       "    .dataframe tbody tr th:only-of-type {\n",
       "        vertical-align: middle;\n",
       "    }\n",
       "\n",
       "    .dataframe tbody tr th {\n",
       "        vertical-align: top;\n",
       "    }\n",
       "\n",
       "    .dataframe thead th {\n",
       "        text-align: right;\n",
       "    }\n",
       "</style>\n",
       "<table border=\"1\" class=\"dataframe\">\n",
       "  <thead>\n",
       "    <tr style=\"text-align: right;\">\n",
       "      <th></th>\n",
       "      <th>Unique_ID</th>\n",
       "      <th>SKU_ID</th>\n",
       "      <th>Warehouse</th>\n",
       "      <th>Product_Family</th>\n",
       "      <th>Demand</th>\n",
       "      <th>Year</th>\n",
       "      <th>Month</th>\n",
       "      <th>Weeks in Month</th>\n",
       "    </tr>\n",
       "  </thead>\n",
       "  <tbody>\n",
       "    <tr>\n",
       "      <td>0</td>\n",
       "      <td>11395072</td>\n",
       "      <td>1395072</td>\n",
       "      <td>W_B</td>\n",
       "      <td>PF_1</td>\n",
       "      <td>17631</td>\n",
       "      <td>2022</td>\n",
       "      <td>1</td>\n",
       "      <td>4</td>\n",
       "    </tr>\n",
       "    <tr>\n",
       "      <td>1</td>\n",
       "      <td>11885799</td>\n",
       "      <td>1885799</td>\n",
       "      <td>W_A</td>\n",
       "      <td>PF_1</td>\n",
       "      <td>37943</td>\n",
       "      <td>2022</td>\n",
       "      <td>1</td>\n",
       "      <td>4</td>\n",
       "    </tr>\n",
       "    <tr>\n",
       "      <td>2</td>\n",
       "      <td>11118364</td>\n",
       "      <td>1118364</td>\n",
       "      <td>W_C</td>\n",
       "      <td>PF_1</td>\n",
       "      <td>35654</td>\n",
       "      <td>2022</td>\n",
       "      <td>1</td>\n",
       "      <td>4</td>\n",
       "    </tr>\n",
       "    <tr>\n",
       "      <td>3</td>\n",
       "      <td>11950549</td>\n",
       "      <td>1950549</td>\n",
       "      <td>W_B</td>\n",
       "      <td>PF_1</td>\n",
       "      <td>14407</td>\n",
       "      <td>2022</td>\n",
       "      <td>1</td>\n",
       "      <td>4</td>\n",
       "    </tr>\n",
       "    <tr>\n",
       "      <td>4</td>\n",
       "      <td>11633085</td>\n",
       "      <td>1633085</td>\n",
       "      <td>W_A</td>\n",
       "      <td>PF_1</td>\n",
       "      <td>18798</td>\n",
       "      <td>2022</td>\n",
       "      <td>1</td>\n",
       "      <td>4</td>\n",
       "    </tr>\n",
       "  </tbody>\n",
       "</table>\n",
       "</div>"
      ],
      "text/plain": [
       "  Unique_ID   SKU_ID Warehouse Product_Family  Demand  Year Month  \\\n",
       "0  11395072  1395072       W_B           PF_1   17631  2022     1   \n",
       "1  11885799  1885799       W_A           PF_1   37943  2022     1   \n",
       "2  11118364  1118364       W_C           PF_1   35654  2022     1   \n",
       "3  11950549  1950549       W_B           PF_1   14407  2022     1   \n",
       "4  11633085  1633085       W_A           PF_1   18798  2022     1   \n",
       "\n",
       "  Weeks in Month  \n",
       "0              4  \n",
       "1              4  \n",
       "2              4  \n",
       "3              4  \n",
       "4              4  "
      ]
     },
     "execution_count": 65,
     "metadata": {},
     "output_type": "execute_result"
    }
   ],
   "source": [
    "# The reset_index method resets the index of a frame.  Note that the old index will need to be dropped, as python\n",
    "# will by default make it a new column\n",
    "pf_1.reset_index(inplace = True)\n",
    "pf_1.drop(columns = ['index'], inplace = True)\n",
    "pf_1.head()"
   ]
  },
  {
   "cell_type": "markdown",
   "metadata": {},
   "source": [
    "<a id='27'></a>\n",
    "### Creating new columns from old columns"
   ]
  },
  {
   "cell_type": "code",
   "execution_count": 66,
   "metadata": {},
   "outputs": [
    {
     "name": "stderr",
     "output_type": "stream",
     "text": [
      "//anaconda3/lib/python3.7/site-packages/ipykernel_launcher.py:3: SettingWithCopyWarning: \n",
      "A value is trying to be set on a copy of a slice from a DataFrame.\n",
      "Try using .loc[row_indexer,col_indexer] = value instead\n",
      "\n",
      "See the caveats in the documentation: http://pandas.pydata.org/pandas-docs/stable/user_guide/indexing.html#returning-a-view-versus-a-copy\n",
      "  This is separate from the ipykernel package so we can avoid doing imports until\n"
     ]
    },
    {
     "data": {
      "text/html": [
       "<div>\n",
       "<style scoped>\n",
       "    .dataframe tbody tr th:only-of-type {\n",
       "        vertical-align: middle;\n",
       "    }\n",
       "\n",
       "    .dataframe tbody tr th {\n",
       "        vertical-align: top;\n",
       "    }\n",
       "\n",
       "    .dataframe thead th {\n",
       "        text-align: right;\n",
       "    }\n",
       "</style>\n",
       "<table border=\"1\" class=\"dataframe\">\n",
       "  <thead>\n",
       "    <tr style=\"text-align: right;\">\n",
       "      <th></th>\n",
       "      <th>Unique_ID</th>\n",
       "      <th>SKU_ID</th>\n",
       "      <th>Warehouse</th>\n",
       "      <th>Product_Family</th>\n",
       "      <th>Demand</th>\n",
       "      <th>Year</th>\n",
       "      <th>Month</th>\n",
       "      <th>Weeks in Month</th>\n",
       "      <th>New_ID</th>\n",
       "    </tr>\n",
       "  </thead>\n",
       "  <tbody>\n",
       "    <tr>\n",
       "      <td>0</td>\n",
       "      <td>11395072</td>\n",
       "      <td>1395072</td>\n",
       "      <td>W_B</td>\n",
       "      <td>PF_1</td>\n",
       "      <td>17631</td>\n",
       "      <td>2022</td>\n",
       "      <td>1</td>\n",
       "      <td>4</td>\n",
       "      <td>202214</td>\n",
       "    </tr>\n",
       "    <tr>\n",
       "      <td>1</td>\n",
       "      <td>11885799</td>\n",
       "      <td>1885799</td>\n",
       "      <td>W_A</td>\n",
       "      <td>PF_1</td>\n",
       "      <td>37943</td>\n",
       "      <td>2022</td>\n",
       "      <td>1</td>\n",
       "      <td>4</td>\n",
       "      <td>202214</td>\n",
       "    </tr>\n",
       "    <tr>\n",
       "      <td>2</td>\n",
       "      <td>11118364</td>\n",
       "      <td>1118364</td>\n",
       "      <td>W_C</td>\n",
       "      <td>PF_1</td>\n",
       "      <td>35654</td>\n",
       "      <td>2022</td>\n",
       "      <td>1</td>\n",
       "      <td>4</td>\n",
       "      <td>202214</td>\n",
       "    </tr>\n",
       "    <tr>\n",
       "      <td>3</td>\n",
       "      <td>11950549</td>\n",
       "      <td>1950549</td>\n",
       "      <td>W_B</td>\n",
       "      <td>PF_1</td>\n",
       "      <td>14407</td>\n",
       "      <td>2022</td>\n",
       "      <td>1</td>\n",
       "      <td>4</td>\n",
       "      <td>202214</td>\n",
       "    </tr>\n",
       "    <tr>\n",
       "      <td>4</td>\n",
       "      <td>11633085</td>\n",
       "      <td>1633085</td>\n",
       "      <td>W_A</td>\n",
       "      <td>PF_1</td>\n",
       "      <td>18798</td>\n",
       "      <td>2022</td>\n",
       "      <td>1</td>\n",
       "      <td>4</td>\n",
       "      <td>202214</td>\n",
       "    </tr>\n",
       "  </tbody>\n",
       "</table>\n",
       "</div>"
      ],
      "text/plain": [
       "  Unique_ID   SKU_ID Warehouse Product_Family  Demand  Year Month  \\\n",
       "0  11395072  1395072       W_B           PF_1   17631  2022     1   \n",
       "1  11885799  1885799       W_A           PF_1   37943  2022     1   \n",
       "2  11118364  1118364       W_C           PF_1   35654  2022     1   \n",
       "3  11950549  1950549       W_B           PF_1   14407  2022     1   \n",
       "4  11633085  1633085       W_A           PF_1   18798  2022     1   \n",
       "\n",
       "  Weeks in Month  New_ID  \n",
       "0              4  202214  \n",
       "1              4  202214  \n",
       "2              4  202214  \n",
       "3              4  202214  \n",
       "4              4  202214  "
      ]
     },
     "execution_count": 66,
     "metadata": {},
     "output_type": "execute_result"
    }
   ],
   "source": [
    "# Using columns to create new columns works very similarly to standar python variables.  The below creates a new\n",
    "# ID combining the 'Year','Month', and 'Weeks in Month' columns. \n",
    "pf_1['New_ID'] = pf_1['Year'] + pf_1['Month'] + pf_1['Weeks in Month']\n",
    "pf_1.head()"
   ]
  },
  {
   "cell_type": "markdown",
   "metadata": {},
   "source": [
    "<a id='28'></a>\n",
    "### Lambda Functions"
   ]
  },
  {
   "cell_type": "code",
   "execution_count": 67,
   "metadata": {},
   "outputs": [
    {
     "data": {
      "text/html": [
       "<div>\n",
       "<style scoped>\n",
       "    .dataframe tbody tr th:only-of-type {\n",
       "        vertical-align: middle;\n",
       "    }\n",
       "\n",
       "    .dataframe tbody tr th {\n",
       "        vertical-align: top;\n",
       "    }\n",
       "\n",
       "    .dataframe thead th {\n",
       "        text-align: right;\n",
       "    }\n",
       "</style>\n",
       "<table border=\"1\" class=\"dataframe\">\n",
       "  <thead>\n",
       "    <tr style=\"text-align: right;\">\n",
       "      <th></th>\n",
       "      <th>Date</th>\n",
       "      <th>Adj Close</th>\n",
       "      <th>Month</th>\n",
       "      <th>Year</th>\n",
       "      <th>Day</th>\n",
       "      <th>Quarter</th>\n",
       "      <th>Return_%</th>\n",
       "      <th>Price Squared</th>\n",
       "    </tr>\n",
       "  </thead>\n",
       "  <tbody>\n",
       "    <tr>\n",
       "      <td>251</td>\n",
       "      <td>2021-10-29</td>\n",
       "      <td>459.250000</td>\n",
       "      <td>10</td>\n",
       "      <td>2021</td>\n",
       "      <td>29</td>\n",
       "      <td>4</td>\n",
       "      <td>0.002029</td>\n",
       "      <td>210910.562500</td>\n",
       "    </tr>\n",
       "    <tr>\n",
       "      <td>250</td>\n",
       "      <td>2021-10-28</td>\n",
       "      <td>458.320007</td>\n",
       "      <td>10</td>\n",
       "      <td>2021</td>\n",
       "      <td>28</td>\n",
       "      <td>4</td>\n",
       "      <td>0.009649</td>\n",
       "      <td>210057.228816</td>\n",
       "    </tr>\n",
       "    <tr>\n",
       "      <td>249</td>\n",
       "      <td>2021-10-27</td>\n",
       "      <td>453.940002</td>\n",
       "      <td>10</td>\n",
       "      <td>2021</td>\n",
       "      <td>27</td>\n",
       "      <td>4</td>\n",
       "      <td>-0.004430</td>\n",
       "      <td>206061.525416</td>\n",
       "    </tr>\n",
       "    <tr>\n",
       "      <td>248</td>\n",
       "      <td>2021-10-26</td>\n",
       "      <td>455.959991</td>\n",
       "      <td>10</td>\n",
       "      <td>2021</td>\n",
       "      <td>26</td>\n",
       "      <td>4</td>\n",
       "      <td>0.000900</td>\n",
       "      <td>207899.513393</td>\n",
       "    </tr>\n",
       "    <tr>\n",
       "      <td>247</td>\n",
       "      <td>2021-10-25</td>\n",
       "      <td>455.549988</td>\n",
       "      <td>10</td>\n",
       "      <td>2021</td>\n",
       "      <td>25</td>\n",
       "      <td>4</td>\n",
       "      <td>0.005363</td>\n",
       "      <td>207525.791567</td>\n",
       "    </tr>\n",
       "  </tbody>\n",
       "</table>\n",
       "</div>"
      ],
      "text/plain": [
       "          Date   Adj Close  Month  Year  Day  Quarter  Return_%  Price Squared\n",
       "251 2021-10-29  459.250000     10  2021   29        4  0.002029  210910.562500\n",
       "250 2021-10-28  458.320007     10  2021   28        4  0.009649  210057.228816\n",
       "249 2021-10-27  453.940002     10  2021   27        4 -0.004430  206061.525416\n",
       "248 2021-10-26  455.959991     10  2021   26        4  0.000900  207899.513393\n",
       "247 2021-10-25  455.549988     10  2021   25        4  0.005363  207525.791567"
      ]
     },
     "execution_count": 67,
     "metadata": {},
     "output_type": "execute_result"
    }
   ],
   "source": [
    "# Lambda functions are a way to create new operations when methods don't exist for them, and still avoiding using for loops.  \n",
    "# The below lambda function creates a new column that finds the squared value of 'Adj Close'\n",
    "spy_data['Price Squared'] = spy_data['Adj Close'].map(lambda x: x ** 2)\n",
    "spy_data.head()"
   ]
  },
  {
   "cell_type": "markdown",
   "metadata": {},
   "source": [
    "<a id='29'></a>\n",
    "### Looping through Columns"
   ]
  },
  {
   "cell_type": "code",
   "execution_count": 68,
   "metadata": {},
   "outputs": [
    {
     "data": {
      "text/html": [
       "<div>\n",
       "<style scoped>\n",
       "    .dataframe tbody tr th:only-of-type {\n",
       "        vertical-align: middle;\n",
       "    }\n",
       "\n",
       "    .dataframe tbody tr th {\n",
       "        vertical-align: top;\n",
       "    }\n",
       "\n",
       "    .dataframe thead th {\n",
       "        text-align: right;\n",
       "    }\n",
       "</style>\n",
       "<table border=\"1\" class=\"dataframe\">\n",
       "  <thead>\n",
       "    <tr style=\"text-align: right;\">\n",
       "      <th></th>\n",
       "      <th>Date</th>\n",
       "      <th>Open</th>\n",
       "      <th>High</th>\n",
       "      <th>Low</th>\n",
       "      <th>Close</th>\n",
       "      <th>Adj Close</th>\n",
       "      <th>Volume</th>\n",
       "      <th>Open_Price Squared</th>\n",
       "      <th>High_Price Squared</th>\n",
       "      <th>Low_Price Squared</th>\n",
       "      <th>Close_Price Squared</th>\n",
       "    </tr>\n",
       "  </thead>\n",
       "  <tbody>\n",
       "    <tr>\n",
       "      <td>0</td>\n",
       "      <td>10/30/2020</td>\n",
       "      <td>328.279999</td>\n",
       "      <td>329.690002</td>\n",
       "      <td>322.600006</td>\n",
       "      <td>326.540009</td>\n",
       "      <td>322.004059</td>\n",
       "      <td>120287300</td>\n",
       "      <td>107767.757743</td>\n",
       "      <td>108695.497419</td>\n",
       "      <td>104070.763871</td>\n",
       "      <td>106628.377478</td>\n",
       "    </tr>\n",
       "    <tr>\n",
       "      <td>1</td>\n",
       "      <td>11/2/2020</td>\n",
       "      <td>330.200012</td>\n",
       "      <td>332.359985</td>\n",
       "      <td>327.239990</td>\n",
       "      <td>330.200012</td>\n",
       "      <td>325.613251</td>\n",
       "      <td>86068300</td>\n",
       "      <td>109032.047925</td>\n",
       "      <td>110463.159629</td>\n",
       "      <td>107086.011055</td>\n",
       "      <td>109032.047925</td>\n",
       "    </tr>\n",
       "    <tr>\n",
       "      <td>2</td>\n",
       "      <td>11/3/2020</td>\n",
       "      <td>333.690002</td>\n",
       "      <td>338.250000</td>\n",
       "      <td>330.290009</td>\n",
       "      <td>336.029999</td>\n",
       "      <td>331.362274</td>\n",
       "      <td>93294200</td>\n",
       "      <td>111349.017435</td>\n",
       "      <td>114413.062500</td>\n",
       "      <td>109091.490045</td>\n",
       "      <td>112916.160228</td>\n",
       "    </tr>\n",
       "    <tr>\n",
       "      <td>3</td>\n",
       "      <td>11/4/2020</td>\n",
       "      <td>340.859985</td>\n",
       "      <td>347.940002</td>\n",
       "      <td>339.589996</td>\n",
       "      <td>343.540009</td>\n",
       "      <td>338.767914</td>\n",
       "      <td>126959700</td>\n",
       "      <td>116185.529374</td>\n",
       "      <td>121062.244992</td>\n",
       "      <td>115321.365383</td>\n",
       "      <td>118019.737784</td>\n",
       "    </tr>\n",
       "    <tr>\n",
       "      <td>4</td>\n",
       "      <td>11/5/2020</td>\n",
       "      <td>349.239990</td>\n",
       "      <td>352.190002</td>\n",
       "      <td>348.859985</td>\n",
       "      <td>350.239990</td>\n",
       "      <td>345.374817</td>\n",
       "      <td>82039700</td>\n",
       "      <td>121968.570615</td>\n",
       "      <td>124037.797509</td>\n",
       "      <td>121703.289134</td>\n",
       "      <td>122668.050595</td>\n",
       "    </tr>\n",
       "  </tbody>\n",
       "</table>\n",
       "</div>"
      ],
      "text/plain": [
       "         Date        Open        High         Low       Close   Adj Close  \\\n",
       "0  10/30/2020  328.279999  329.690002  322.600006  326.540009  322.004059   \n",
       "1   11/2/2020  330.200012  332.359985  327.239990  330.200012  325.613251   \n",
       "2   11/3/2020  333.690002  338.250000  330.290009  336.029999  331.362274   \n",
       "3   11/4/2020  340.859985  347.940002  339.589996  343.540009  338.767914   \n",
       "4   11/5/2020  349.239990  352.190002  348.859985  350.239990  345.374817   \n",
       "\n",
       "      Volume  Open_Price Squared  High_Price Squared  Low_Price Squared  \\\n",
       "0  120287300       107767.757743       108695.497419      104070.763871   \n",
       "1   86068300       109032.047925       110463.159629      107086.011055   \n",
       "2   93294200       111349.017435       114413.062500      109091.490045   \n",
       "3  126959700       116185.529374       121062.244992      115321.365383   \n",
       "4   82039700       121968.570615       124037.797509      121703.289134   \n",
       "\n",
       "   Close_Price Squared  \n",
       "0        106628.377478  \n",
       "1        109032.047925  \n",
       "2        112916.160228  \n",
       "3        118019.737784  \n",
       "4        122668.050595  "
      ]
     },
     "execution_count": 68,
     "metadata": {},
     "output_type": "execute_result"
    }
   ],
   "source": [
    "# For loops can be applied to a list of columns in a data frame to apply methods and functions to multiple columns rapidly\n",
    "spy_data = pd.read_csv(spy_path)\n",
    "target_cols = ['Open','High','Low','Close']\n",
    "for col in target_cols:\n",
    "    spy_data[col + '_Price Squared'] = spy_data[col].map(lambda x: x ** 2)\n",
    "    \n",
    "spy_data.head()"
   ]
  },
  {
   "cell_type": "markdown",
   "metadata": {},
   "source": [
    "<a id='30'></a>\n",
    "## -------------PRACTICE-------------"
   ]
  },
  {
   "cell_type": "markdown",
   "metadata": {},
   "source": [
    "1. In the cell below, design a lambda function that will multiply the column by 4, then add 5.  Apply this function to the 'Low' and 'High' columns in 'spy_data' using a for loop, you will need to read in the data again.  Come up with a naming conventory to uniquely identify your new columns."
   ]
  },
  {
   "cell_type": "code",
   "execution_count": null,
   "metadata": {},
   "outputs": [],
   "source": []
  },
  {
   "cell_type": "markdown",
   "metadata": {},
   "source": [
    "2. In the cell below, find all demand data for month '1' from 'demand_data', merge the 'inventory_data' onto it, and create a new column that calculates the ratio of demand to inventory for each row."
   ]
  },
  {
   "cell_type": "code",
   "execution_count": null,
   "metadata": {},
   "outputs": [],
   "source": []
  },
  {
   "cell_type": "markdown",
   "metadata": {},
   "source": [
    "3. In the cell below, find all of the inventory_data at warehouse 'W_A'.  Then reset the resulting DataFrame's index, and be sure to the new DataFrame does not have any new columns."
   ]
  },
  {
   "cell_type": "code",
   "execution_count": null,
   "metadata": {},
   "outputs": [],
   "source": []
  },
  {
   "cell_type": "markdown",
   "metadata": {},
   "source": [
    "4. In the cell below, find all of the inventory_data at warehouse 'W_C'. Then reset the resulting DataFrame's index, and be sure to the new DataFrame does not have any new columns.  Then, sort the resulting DataFrame by inventory amount in descending order."
   ]
  },
  {
   "cell_type": "code",
   "execution_count": null,
   "metadata": {},
   "outputs": [],
   "source": []
  },
  {
   "cell_type": "markdown",
   "metadata": {},
   "source": [
    "5. In the cell below, create a DataFrame from 'spy_data' that only shows data from the 3rd quarter of 2021.  Assume a standard calendar year."
   ]
  },
  {
   "cell_type": "code",
   "execution_count": null,
   "metadata": {},
   "outputs": [],
   "source": []
  },
  {
   "cell_type": "markdown",
   "metadata": {},
   "source": [
    "<a id='31'></a>\n",
    "### Rolling columns\n",
    "![pandas-babies](https://i.insider.com/614ade28c2c9630018f5b6b3?width=1000&format=jpeg&auto=webp)"
   ]
  },
  {
   "cell_type": "code",
   "execution_count": 69,
   "metadata": {},
   "outputs": [
    {
     "data": {
      "text/html": [
       "<div>\n",
       "<style scoped>\n",
       "    .dataframe tbody tr th:only-of-type {\n",
       "        vertical-align: middle;\n",
       "    }\n",
       "\n",
       "    .dataframe tbody tr th {\n",
       "        vertical-align: top;\n",
       "    }\n",
       "\n",
       "    .dataframe thead th {\n",
       "        text-align: right;\n",
       "    }\n",
       "</style>\n",
       "<table border=\"1\" class=\"dataframe\">\n",
       "  <thead>\n",
       "    <tr style=\"text-align: right;\">\n",
       "      <th></th>\n",
       "      <th>Date</th>\n",
       "      <th>Adj Close</th>\n",
       "      <th>30-Day Average Price</th>\n",
       "    </tr>\n",
       "  </thead>\n",
       "  <tbody>\n",
       "    <tr>\n",
       "      <td>251</td>\n",
       "      <td>2021-10-29</td>\n",
       "      <td>459.250000</td>\n",
       "      <td>442.393334</td>\n",
       "    </tr>\n",
       "    <tr>\n",
       "      <td>250</td>\n",
       "      <td>2021-10-28</td>\n",
       "      <td>458.320007</td>\n",
       "      <td>441.798334</td>\n",
       "    </tr>\n",
       "    <tr>\n",
       "      <td>249</td>\n",
       "      <td>2021-10-27</td>\n",
       "      <td>453.940002</td>\n",
       "      <td>441.379067</td>\n",
       "    </tr>\n",
       "    <tr>\n",
       "      <td>248</td>\n",
       "      <td>2021-10-26</td>\n",
       "      <td>455.959991</td>\n",
       "      <td>441.129391</td>\n",
       "    </tr>\n",
       "    <tr>\n",
       "      <td>247</td>\n",
       "      <td>2021-10-25</td>\n",
       "      <td>455.549988</td>\n",
       "      <td>440.689111</td>\n",
       "    </tr>\n",
       "  </tbody>\n",
       "</table>\n",
       "</div>"
      ],
      "text/plain": [
       "          Date   Adj Close  30-Day Average Price\n",
       "251 2021-10-29  459.250000            442.393334\n",
       "250 2021-10-28  458.320007            441.798334\n",
       "249 2021-10-27  453.940002            441.379067\n",
       "248 2021-10-26  455.959991            441.129391\n",
       "247 2021-10-25  455.549988            440.689111"
      ]
     },
     "execution_count": 69,
     "metadata": {},
     "output_type": "execute_result"
    }
   ],
   "source": [
    "# the rolling method will calculate a rollow operation on a column to create a new column.   The below column calculates \n",
    "# rolling 30 day average ETF price of SPY. \n",
    "spy_data = pd.read_csv(spy_path)\n",
    "spy_data['Date'] = pd.to_datetime(spy_data['Date'])\n",
    "spy_data = spy_data.sort_values(by=['Date'], ascending=True)\n",
    "spy_data.reset_index(inplace = True)\n",
    "spy_data.drop(columns = 'index',inplace = True)\n",
    "spy_data = spy_data.drop(columns=['Open','High','Low','Close','Volume'])\n",
    "spy_data['30-Day Average Price'] = spy_data['Adj Close'].rolling(30).mean()\n",
    "spy_data = spy_data.sort_values(by=['Date'], ascending=False)\n",
    "spy_data.head()"
   ]
  },
  {
   "cell_type": "markdown",
   "metadata": {},
   "source": [
    "<a id='32'></a>\n",
    "### Pivoting"
   ]
  },
  {
   "cell_type": "code",
   "execution_count": 70,
   "metadata": {},
   "outputs": [
    {
     "data": {
      "text/html": [
       "<div>\n",
       "<style scoped>\n",
       "    .dataframe tbody tr th:only-of-type {\n",
       "        vertical-align: middle;\n",
       "    }\n",
       "\n",
       "    .dataframe tbody tr th {\n",
       "        vertical-align: top;\n",
       "    }\n",
       "\n",
       "    .dataframe thead th {\n",
       "        text-align: right;\n",
       "    }\n",
       "</style>\n",
       "<table border=\"1\" class=\"dataframe\">\n",
       "  <thead>\n",
       "    <tr style=\"text-align: right;\">\n",
       "      <th></th>\n",
       "      <th>Warehouse</th>\n",
       "      <th>Product_Family</th>\n",
       "      <th>Demand</th>\n",
       "    </tr>\n",
       "  </thead>\n",
       "  <tbody>\n",
       "    <tr>\n",
       "      <td>0</td>\n",
       "      <td>W_A</td>\n",
       "      <td>PF_0</td>\n",
       "      <td>33830.638889</td>\n",
       "    </tr>\n",
       "    <tr>\n",
       "      <td>1</td>\n",
       "      <td>W_A</td>\n",
       "      <td>PF_1</td>\n",
       "      <td>34613.702381</td>\n",
       "    </tr>\n",
       "    <tr>\n",
       "      <td>2</td>\n",
       "      <td>W_A</td>\n",
       "      <td>PF_2</td>\n",
       "      <td>34301.791667</td>\n",
       "    </tr>\n",
       "    <tr>\n",
       "      <td>3</td>\n",
       "      <td>W_A</td>\n",
       "      <td>PF_3</td>\n",
       "      <td>30861.083333</td>\n",
       "    </tr>\n",
       "    <tr>\n",
       "      <td>4</td>\n",
       "      <td>W_A</td>\n",
       "      <td>PF_4</td>\n",
       "      <td>32812.214286</td>\n",
       "    </tr>\n",
       "    <tr>\n",
       "      <td>5</td>\n",
       "      <td>W_B</td>\n",
       "      <td>PF_0</td>\n",
       "      <td>31416.654762</td>\n",
       "    </tr>\n",
       "    <tr>\n",
       "      <td>6</td>\n",
       "      <td>W_B</td>\n",
       "      <td>PF_1</td>\n",
       "      <td>32435.476190</td>\n",
       "    </tr>\n",
       "    <tr>\n",
       "      <td>7</td>\n",
       "      <td>W_B</td>\n",
       "      <td>PF_2</td>\n",
       "      <td>32885.321429</td>\n",
       "    </tr>\n",
       "    <tr>\n",
       "      <td>8</td>\n",
       "      <td>W_B</td>\n",
       "      <td>PF_3</td>\n",
       "      <td>32502.486111</td>\n",
       "    </tr>\n",
       "    <tr>\n",
       "      <td>9</td>\n",
       "      <td>W_B</td>\n",
       "      <td>PF_4</td>\n",
       "      <td>31580.154762</td>\n",
       "    </tr>\n",
       "    <tr>\n",
       "      <td>10</td>\n",
       "      <td>W_C</td>\n",
       "      <td>PF_0</td>\n",
       "      <td>32629.845238</td>\n",
       "    </tr>\n",
       "    <tr>\n",
       "      <td>11</td>\n",
       "      <td>W_C</td>\n",
       "      <td>PF_1</td>\n",
       "      <td>33026.111111</td>\n",
       "    </tr>\n",
       "    <tr>\n",
       "      <td>12</td>\n",
       "      <td>W_C</td>\n",
       "      <td>PF_2</td>\n",
       "      <td>33677.869048</td>\n",
       "    </tr>\n",
       "    <tr>\n",
       "      <td>13</td>\n",
       "      <td>W_C</td>\n",
       "      <td>PF_3</td>\n",
       "      <td>29318.226190</td>\n",
       "    </tr>\n",
       "    <tr>\n",
       "      <td>14</td>\n",
       "      <td>W_C</td>\n",
       "      <td>PF_4</td>\n",
       "      <td>33898.916667</td>\n",
       "    </tr>\n",
       "  </tbody>\n",
       "</table>\n",
       "</div>"
      ],
      "text/plain": [
       "   Warehouse Product_Family        Demand\n",
       "0        W_A           PF_0  33830.638889\n",
       "1        W_A           PF_1  34613.702381\n",
       "2        W_A           PF_2  34301.791667\n",
       "3        W_A           PF_3  30861.083333\n",
       "4        W_A           PF_4  32812.214286\n",
       "5        W_B           PF_0  31416.654762\n",
       "6        W_B           PF_1  32435.476190\n",
       "7        W_B           PF_2  32885.321429\n",
       "8        W_B           PF_3  32502.486111\n",
       "9        W_B           PF_4  31580.154762\n",
       "10       W_C           PF_0  32629.845238\n",
       "11       W_C           PF_1  33026.111111\n",
       "12       W_C           PF_2  33677.869048\n",
       "13       W_C           PF_3  29318.226190\n",
       "14       W_C           PF_4  33898.916667"
      ]
     },
     "execution_count": 70,
     "metadata": {},
     "output_type": "execute_result"
    }
   ],
   "source": [
    "# The pivot table, just as in excel, allows you to quickly consolidate data around defined columns.  Very similar\n",
    "# in concept to the groupby method.  \n",
    "pd.pivot_table(demand_data, values = 'Demand', index=['Warehouse','Product_Family']).reset_index()"
   ]
  },
  {
   "cell_type": "markdown",
   "metadata": {},
   "source": [
    "<a id='33'></a>\n",
    "### Transpose"
   ]
  },
  {
   "cell_type": "code",
   "execution_count": 71,
   "metadata": {},
   "outputs": [
    {
     "data": {
      "text/html": [
       "<div>\n",
       "<style scoped>\n",
       "    .dataframe tbody tr th:only-of-type {\n",
       "        vertical-align: middle;\n",
       "    }\n",
       "\n",
       "    .dataframe tbody tr th {\n",
       "        vertical-align: top;\n",
       "    }\n",
       "\n",
       "    .dataframe thead th {\n",
       "        text-align: right;\n",
       "    }\n",
       "</style>\n",
       "<table border=\"1\" class=\"dataframe\">\n",
       "  <thead>\n",
       "    <tr style=\"text-align: right;\">\n",
       "      <th></th>\n",
       "      <th>0</th>\n",
       "      <th>1</th>\n",
       "      <th>2</th>\n",
       "      <th>3</th>\n",
       "      <th>4</th>\n",
       "    </tr>\n",
       "  </thead>\n",
       "  <tbody>\n",
       "    <tr>\n",
       "      <td>0</td>\n",
       "      <td>0</td>\n",
       "      <td>1</td>\n",
       "      <td>2</td>\n",
       "      <td>3</td>\n",
       "      <td>4</td>\n",
       "    </tr>\n",
       "    <tr>\n",
       "      <td>1</td>\n",
       "      <td>0</td>\n",
       "      <td>1</td>\n",
       "      <td>2</td>\n",
       "      <td>3</td>\n",
       "      <td>4</td>\n",
       "    </tr>\n",
       "    <tr>\n",
       "      <td>2</td>\n",
       "      <td>0</td>\n",
       "      <td>1</td>\n",
       "      <td>2</td>\n",
       "      <td>3</td>\n",
       "      <td>4</td>\n",
       "    </tr>\n",
       "  </tbody>\n",
       "</table>\n",
       "</div>"
      ],
      "text/plain": [
       "   0  1  2  3  4\n",
       "0  0  1  2  3  4\n",
       "1  0  1  2  3  4\n",
       "2  0  1  2  3  4"
      ]
     },
     "execution_count": 71,
     "metadata": {},
     "output_type": "execute_result"
    }
   ],
   "source": [
    "# The Transpose method, as in linear algebra, will transpose a dataframe as if it were a matrix\n",
    "test = pd.DataFrame([[0,1,2,3,4],[0,1,2,3,4],[0,1,2,3,4]])\n",
    "test"
   ]
  },
  {
   "cell_type": "code",
   "execution_count": 72,
   "metadata": {},
   "outputs": [
    {
     "data": {
      "text/html": [
       "<div>\n",
       "<style scoped>\n",
       "    .dataframe tbody tr th:only-of-type {\n",
       "        vertical-align: middle;\n",
       "    }\n",
       "\n",
       "    .dataframe tbody tr th {\n",
       "        vertical-align: top;\n",
       "    }\n",
       "\n",
       "    .dataframe thead th {\n",
       "        text-align: right;\n",
       "    }\n",
       "</style>\n",
       "<table border=\"1\" class=\"dataframe\">\n",
       "  <thead>\n",
       "    <tr style=\"text-align: right;\">\n",
       "      <th></th>\n",
       "      <th>0</th>\n",
       "      <th>1</th>\n",
       "      <th>2</th>\n",
       "    </tr>\n",
       "  </thead>\n",
       "  <tbody>\n",
       "    <tr>\n",
       "      <td>0</td>\n",
       "      <td>0</td>\n",
       "      <td>0</td>\n",
       "      <td>0</td>\n",
       "    </tr>\n",
       "    <tr>\n",
       "      <td>1</td>\n",
       "      <td>1</td>\n",
       "      <td>1</td>\n",
       "      <td>1</td>\n",
       "    </tr>\n",
       "    <tr>\n",
       "      <td>2</td>\n",
       "      <td>2</td>\n",
       "      <td>2</td>\n",
       "      <td>2</td>\n",
       "    </tr>\n",
       "    <tr>\n",
       "      <td>3</td>\n",
       "      <td>3</td>\n",
       "      <td>3</td>\n",
       "      <td>3</td>\n",
       "    </tr>\n",
       "    <tr>\n",
       "      <td>4</td>\n",
       "      <td>4</td>\n",
       "      <td>4</td>\n",
       "      <td>4</td>\n",
       "    </tr>\n",
       "  </tbody>\n",
       "</table>\n",
       "</div>"
      ],
      "text/plain": [
       "   0  1  2\n",
       "0  0  0  0\n",
       "1  1  1  1\n",
       "2  2  2  2\n",
       "3  3  3  3\n",
       "4  4  4  4"
      ]
     },
     "execution_count": 72,
     "metadata": {},
     "output_type": "execute_result"
    }
   ],
   "source": [
    "# Not how the transpose has rotated each column\n",
    "test.T"
   ]
  },
  {
   "cell_type": "markdown",
   "metadata": {},
   "source": [
    "<a id='34'></a>\n",
    "### Removing Duplicates"
   ]
  },
  {
   "cell_type": "code",
   "execution_count": 73,
   "metadata": {},
   "outputs": [
    {
     "data": {
      "text/html": [
       "<div>\n",
       "<style scoped>\n",
       "    .dataframe tbody tr th:only-of-type {\n",
       "        vertical-align: middle;\n",
       "    }\n",
       "\n",
       "    .dataframe tbody tr th {\n",
       "        vertical-align: top;\n",
       "    }\n",
       "\n",
       "    .dataframe thead th {\n",
       "        text-align: right;\n",
       "    }\n",
       "</style>\n",
       "<table border=\"1\" class=\"dataframe\">\n",
       "  <thead>\n",
       "    <tr style=\"text-align: right;\">\n",
       "      <th></th>\n",
       "      <th>0</th>\n",
       "      <th>1</th>\n",
       "      <th>2</th>\n",
       "      <th>3</th>\n",
       "      <th>4</th>\n",
       "    </tr>\n",
       "  </thead>\n",
       "  <tbody>\n",
       "    <tr>\n",
       "      <td>0</td>\n",
       "      <td>0</td>\n",
       "      <td>1</td>\n",
       "      <td>2</td>\n",
       "      <td>3</td>\n",
       "      <td>4</td>\n",
       "    </tr>\n",
       "    <tr>\n",
       "      <td>1</td>\n",
       "      <td>0</td>\n",
       "      <td>1</td>\n",
       "      <td>2</td>\n",
       "      <td>3</td>\n",
       "      <td>4</td>\n",
       "    </tr>\n",
       "    <tr>\n",
       "      <td>2</td>\n",
       "      <td>0</td>\n",
       "      <td>1</td>\n",
       "      <td>2</td>\n",
       "      <td>3</td>\n",
       "      <td>4</td>\n",
       "    </tr>\n",
       "  </tbody>\n",
       "</table>\n",
       "</div>"
      ],
      "text/plain": [
       "   0  1  2  3  4\n",
       "0  0  1  2  3  4\n",
       "1  0  1  2  3  4\n",
       "2  0  1  2  3  4"
      ]
     },
     "execution_count": 73,
     "metadata": {},
     "output_type": "execute_result"
    }
   ],
   "source": [
    "# Note that test has 3 copies of the same row.  The drop_duplicates will remove the extra copies\n",
    "test"
   ]
  },
  {
   "cell_type": "code",
   "execution_count": 74,
   "metadata": {},
   "outputs": [
    {
     "data": {
      "text/html": [
       "<div>\n",
       "<style scoped>\n",
       "    .dataframe tbody tr th:only-of-type {\n",
       "        vertical-align: middle;\n",
       "    }\n",
       "\n",
       "    .dataframe tbody tr th {\n",
       "        vertical-align: top;\n",
       "    }\n",
       "\n",
       "    .dataframe thead th {\n",
       "        text-align: right;\n",
       "    }\n",
       "</style>\n",
       "<table border=\"1\" class=\"dataframe\">\n",
       "  <thead>\n",
       "    <tr style=\"text-align: right;\">\n",
       "      <th></th>\n",
       "      <th>0</th>\n",
       "      <th>1</th>\n",
       "      <th>2</th>\n",
       "      <th>3</th>\n",
       "      <th>4</th>\n",
       "    </tr>\n",
       "  </thead>\n",
       "  <tbody>\n",
       "    <tr>\n",
       "      <td>0</td>\n",
       "      <td>0</td>\n",
       "      <td>1</td>\n",
       "      <td>2</td>\n",
       "      <td>3</td>\n",
       "      <td>4</td>\n",
       "    </tr>\n",
       "  </tbody>\n",
       "</table>\n",
       "</div>"
      ],
      "text/plain": [
       "   0  1  2  3  4\n",
       "0  0  1  2  3  4"
      ]
     },
     "execution_count": 74,
     "metadata": {},
     "output_type": "execute_result"
    }
   ],
   "source": [
    "test.drop_duplicates()"
   ]
  },
  {
   "cell_type": "markdown",
   "metadata": {},
   "source": [
    "<a id='35'></a>\n",
    "### Dropping Rows with Null values"
   ]
  },
  {
   "cell_type": "code",
   "execution_count": 75,
   "metadata": {},
   "outputs": [
    {
     "data": {
      "text/html": [
       "<div>\n",
       "<style scoped>\n",
       "    .dataframe tbody tr th:only-of-type {\n",
       "        vertical-align: middle;\n",
       "    }\n",
       "\n",
       "    .dataframe tbody tr th {\n",
       "        vertical-align: top;\n",
       "    }\n",
       "\n",
       "    .dataframe thead th {\n",
       "        text-align: right;\n",
       "    }\n",
       "</style>\n",
       "<table border=\"1\" class=\"dataframe\">\n",
       "  <thead>\n",
       "    <tr style=\"text-align: right;\">\n",
       "      <th></th>\n",
       "      <th>0</th>\n",
       "      <th>1</th>\n",
       "      <th>2</th>\n",
       "      <th>3</th>\n",
       "      <th>4</th>\n",
       "    </tr>\n",
       "  </thead>\n",
       "  <tbody>\n",
       "    <tr>\n",
       "      <td>0</td>\n",
       "      <td>0</td>\n",
       "      <td>2</td>\n",
       "      <td>3</td>\n",
       "      <td>4</td>\n",
       "      <td>NaN</td>\n",
       "    </tr>\n",
       "    <tr>\n",
       "      <td>1</td>\n",
       "      <td>0</td>\n",
       "      <td>1</td>\n",
       "      <td>2</td>\n",
       "      <td>3</td>\n",
       "      <td>4.0</td>\n",
       "    </tr>\n",
       "    <tr>\n",
       "      <td>2</td>\n",
       "      <td>0</td>\n",
       "      <td>1</td>\n",
       "      <td>2</td>\n",
       "      <td>3</td>\n",
       "      <td>4.0</td>\n",
       "    </tr>\n",
       "  </tbody>\n",
       "</table>\n",
       "</div>"
      ],
      "text/plain": [
       "   0  1  2  3    4\n",
       "0  0  2  3  4  NaN\n",
       "1  0  1  2  3  4.0\n",
       "2  0  1  2  3  4.0"
      ]
     },
     "execution_count": 75,
     "metadata": {},
     "output_type": "execute_result"
    }
   ],
   "source": [
    "# Note the null value in the first row.  To remove rows with null values, the dropna function will work\n",
    "test = pd.DataFrame([[0,2,3,4],[0,1,2,3,4],[0,1,2,3,4]])\n",
    "test"
   ]
  },
  {
   "cell_type": "code",
   "execution_count": 76,
   "metadata": {},
   "outputs": [
    {
     "data": {
      "text/html": [
       "<div>\n",
       "<style scoped>\n",
       "    .dataframe tbody tr th:only-of-type {\n",
       "        vertical-align: middle;\n",
       "    }\n",
       "\n",
       "    .dataframe tbody tr th {\n",
       "        vertical-align: top;\n",
       "    }\n",
       "\n",
       "    .dataframe thead th {\n",
       "        text-align: right;\n",
       "    }\n",
       "</style>\n",
       "<table border=\"1\" class=\"dataframe\">\n",
       "  <thead>\n",
       "    <tr style=\"text-align: right;\">\n",
       "      <th></th>\n",
       "      <th>0</th>\n",
       "      <th>1</th>\n",
       "      <th>2</th>\n",
       "      <th>3</th>\n",
       "      <th>4</th>\n",
       "    </tr>\n",
       "  </thead>\n",
       "  <tbody>\n",
       "    <tr>\n",
       "      <td>1</td>\n",
       "      <td>0</td>\n",
       "      <td>1</td>\n",
       "      <td>2</td>\n",
       "      <td>3</td>\n",
       "      <td>4.0</td>\n",
       "    </tr>\n",
       "    <tr>\n",
       "      <td>2</td>\n",
       "      <td>0</td>\n",
       "      <td>1</td>\n",
       "      <td>2</td>\n",
       "      <td>3</td>\n",
       "      <td>4.0</td>\n",
       "    </tr>\n",
       "  </tbody>\n",
       "</table>\n",
       "</div>"
      ],
      "text/plain": [
       "   0  1  2  3    4\n",
       "1  0  1  2  3  4.0\n",
       "2  0  1  2  3  4.0"
      ]
     },
     "execution_count": 76,
     "metadata": {},
     "output_type": "execute_result"
    }
   ],
   "source": [
    "test.dropna()"
   ]
  },
  {
   "cell_type": "markdown",
   "metadata": {},
   "source": [
    "<a id='36'></a>\n",
    "### Filling Null Values"
   ]
  },
  {
   "cell_type": "code",
   "execution_count": 77,
   "metadata": {},
   "outputs": [
    {
     "data": {
      "text/html": [
       "<div>\n",
       "<style scoped>\n",
       "    .dataframe tbody tr th:only-of-type {\n",
       "        vertical-align: middle;\n",
       "    }\n",
       "\n",
       "    .dataframe tbody tr th {\n",
       "        vertical-align: top;\n",
       "    }\n",
       "\n",
       "    .dataframe thead th {\n",
       "        text-align: right;\n",
       "    }\n",
       "</style>\n",
       "<table border=\"1\" class=\"dataframe\">\n",
       "  <thead>\n",
       "    <tr style=\"text-align: right;\">\n",
       "      <th></th>\n",
       "      <th>0</th>\n",
       "      <th>1</th>\n",
       "      <th>2</th>\n",
       "      <th>3</th>\n",
       "      <th>4</th>\n",
       "    </tr>\n",
       "  </thead>\n",
       "  <tbody>\n",
       "    <tr>\n",
       "      <td>0</td>\n",
       "      <td>0</td>\n",
       "      <td>2</td>\n",
       "      <td>3</td>\n",
       "      <td>4</td>\n",
       "      <td>0.0</td>\n",
       "    </tr>\n",
       "    <tr>\n",
       "      <td>1</td>\n",
       "      <td>0</td>\n",
       "      <td>1</td>\n",
       "      <td>2</td>\n",
       "      <td>3</td>\n",
       "      <td>4.0</td>\n",
       "    </tr>\n",
       "    <tr>\n",
       "      <td>2</td>\n",
       "      <td>0</td>\n",
       "      <td>1</td>\n",
       "      <td>2</td>\n",
       "      <td>3</td>\n",
       "      <td>4.0</td>\n",
       "    </tr>\n",
       "  </tbody>\n",
       "</table>\n",
       "</div>"
      ],
      "text/plain": [
       "   0  1  2  3    4\n",
       "0  0  2  3  4  0.0\n",
       "1  0  1  2  3  4.0\n",
       "2  0  1  2  3  4.0"
      ]
     },
     "execution_count": 77,
     "metadata": {},
     "output_type": "execute_result"
    }
   ],
   "source": [
    "# The fillna method allows you to keep rows with null values, and control what fills them.  In the below, 0 replaces\n",
    "# null values\n",
    "test.fillna(0)"
   ]
  },
  {
   "attachments": {},
   "cell_type": "markdown",
   "metadata": {},
   "source": [
    "## Stacking Data\n",
    "The basic premise of verticalizing a data set is to consolidate columns such that you have fewer columns after the process than when you started.  In general, the best way to do this is to find columns that can be grouped in a meaningful way.  Below we will see an example."
   ]
  },
  {
   "cell_type": "code",
   "execution_count": 14,
   "metadata": {},
   "outputs": [
    {
     "name": "stdout",
     "output_type": "stream",
     "text": [
      "  Warehouse   SKU_ID Product_Family  Inventory as of 1/1/22  Cost\n",
      "0       W_B  1395072           PF_1             78423.33949  8.36\n",
      "1       W_C  1039394           PF_2            131276.48040  8.97\n",
      "2       W_A  1975221           PF_3             23069.57275  8.65\n",
      "3       W_B  1396615           PF_4             53988.69284  7.89\n",
      "4       W_C  1026987           PF_0             23517.17321  8.68\n",
      "    SKU_ID Warehouse Product_Family                 Measure         Value\n",
      "0  1395072       W_B           PF_1  Inventory as of 1/1/22   78423.33949\n",
      "1  1395072       W_B           PF_1                    Cost       8.36000\n",
      "2  1039394       W_C           PF_2  Inventory as of 1/1/22  131276.48040\n",
      "3  1039394       W_C           PF_2                    Cost       8.97000\n",
      "4  1975221       W_A           PF_3  Inventory as of 1/1/22   23069.57275\n"
     ]
    }
   ],
   "source": [
    "temp = pd.read_csv('Inventory_Data.csv')\n",
    "print(temp.head())\n",
    "temp=temp.set_index(['SKU_ID','Warehouse','Product_Family']).stack().reset_index(name='Value').rename(columns={'level_3': 'Measure'})\n",
    "print(temp.head())"
   ]
  },
  {
   "cell_type": "markdown",
   "metadata": {},
   "source": [
    "<a id='37'></a>\n",
    "## -------------PRACTICE-------------"
   ]
  },
  {
   "cell_type": "markdown",
   "metadata": {},
   "source": [
    "1. In the cell below, find the rolling 30 day standard deviation of the daily returns for the SPY from January 2021 through September 2021."
   ]
  },
  {
   "cell_type": "code",
   "execution_count": null,
   "metadata": {},
   "outputs": [],
   "source": []
  },
  {
   "cell_type": "markdown",
   "metadata": {},
   "source": [
    "2. In the cell below, create a lamda function that will create a new column in spy_data with '1' for days with positive returns, and null for days without.  Drop days null values in this column."
   ]
  },
  {
   "cell_type": "code",
   "execution_count": null,
   "metadata": {},
   "outputs": [],
   "source": []
  },
  {
   "cell_type": "markdown",
   "metadata": {},
   "source": [
    "3. Go finance.yahoo.com, and download the historical data of your favorite stock or ETF for September of 2021.  Then, import the data, sort it in descending order, transpose it, then export it to a CSV. "
   ]
  },
  {
   "cell_type": "code",
   "execution_count": null,
   "metadata": {},
   "outputs": [],
   "source": []
  },
  {
   "cell_type": "markdown",
   "metadata": {},
   "source": [
    "4. Read in a fresh pull of your new stock data and SPY data, then do a left merge of the data, with your new stock being the left DataFrame. "
   ]
  },
  {
   "cell_type": "code",
   "execution_count": null,
   "metadata": {},
   "outputs": [],
   "source": []
  },
  {
   "cell_type": "markdown",
   "metadata": {},
   "source": [
    "5. Using the DataFrame from question 4, create a new column that shows the difference in returns between SPY and your security. "
   ]
  },
  {
   "cell_type": "code",
   "execution_count": null,
   "metadata": {},
   "outputs": [],
   "source": []
  },
  {
   "cell_type": "markdown",
   "metadata": {},
   "source": [
    "<a id='55'></a>\n",
    "# Weekly Readings/Videos\n",
    "\n",
    "https://www.thinkful.com/blog/what-is-data-science/\n",
    "    \n",
    "https://hbr.org/2013/11/how-to-start-thinking-like-a-data-scientist\n",
    "\n",
    "http://www.tylervigen.com/spurious-correlations"
   ]
  },
  {
   "cell_type": "markdown",
   "metadata": {},
   "source": [
    "<a id='38'></a>\n",
    "# Concluding Remarks\n",
    "Pandas continues to evolve and offer more and more capabilities.  While this lecture covers the rudimentary aspects of the package, you will find as you work with it more, you will continue to find new methods, and ways to combine it with other python functionalities.  \n",
    "![panda-tree](https://images.fineartamerica.com/images-medium-large-5/juvenile-panda-climbing-a-tree-tony-camacho.jpg)"
   ]
  },
  {
   "cell_type": "code",
   "execution_count": null,
   "metadata": {},
   "outputs": [],
   "source": []
  }
 ],
 "metadata": {
  "kernelspec": {
   "display_name": "Python 3",
   "language": "python",
   "name": "python3"
  },
  "language_info": {
   "codemirror_mode": {
    "name": "ipython",
    "version": 3
   },
   "file_extension": ".py",
   "mimetype": "text/x-python",
   "name": "python",
   "nbconvert_exporter": "python",
   "pygments_lexer": "ipython3",
   "version": "3.8.3"
  }
 },
 "nbformat": 4,
 "nbformat_minor": 4
}
