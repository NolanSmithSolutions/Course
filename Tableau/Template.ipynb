{
 "cells": [
  {
   "cell_type": "markdown",
   "metadata": {},
   "source": [
    "## Applications - Statistical Modeling\n",
    "\n",
    "This lecture provides foundational knowledge and examples of machine learning modeling concepts by examining stock price data.\n",
    "\n",
    "---"
   ]
  },
  {
   "cell_type": "markdown",
   "metadata": {},
   "source": [
    "# Table of Contents\n",
    "\n",
    "### Jupyter Overview\n",
    "#### <a href='#1'>Useful Links</a>\n",
    "#### <a href='#2'>Introduction to Jupyter Notebooks</a>\n",
    "#### <a href='#3'>Cell Types</a>\n",
    "* Markdown \n",
    "* Code\n",
    "    1. Running One Cell\n",
    "    2. Other Run Options\n",
    "\n",
    "#### <a href='#4'>Tips and Tricks</a>\n",
    "\n",
    "#### <a href='#55'>Weekly Readings/Videos</a>\n",
    "#### <a href='#56'>Extra Practice</a>"
   ]
  },
  {
   "cell_type": "markdown",
   "metadata": {},
   "source": [
    "## Introduction\n",
    "\n",
    "![FunnyML](https://www.meme-arsenal.com/memes/11f11b5d16eef661677e4c9e989dd2b3.jpg) \n",
    "\n"
   ]
  },
  {
   "cell_type": "code",
   "execution_count": null,
   "metadata": {},
   "outputs": [],
   "source": [
    "import pandas as pd\n",
    "import warnings\n",
    "import matplotlib.pyplot as plt\n",
    "import numpy as np\n",
    "\n",
    "warnings.filterwarnings('ignore')"
   ]
  },
  {
   "cell_type": "markdown",
   "metadata": {},
   "source": [
    "## -------------PRACTICE-------------\n",
    "1."
   ]
  },
  {
   "cell_type": "code",
   "execution_count": null,
   "metadata": {},
   "outputs": [],
   "source": []
  },
  {
   "cell_type": "markdown",
   "metadata": {},
   "source": [
    "<a id='55'></a>\n",
    "# Weekly Readings/Videos\n",
    "\n",
    "https://blog.trinket.io/why-python/\n",
    "    \n",
    "https://towardsdatascience.com/top-16-python-applications-in-real-world-a0404111ac23"
   ]
  },
  {
   "cell_type": "markdown",
   "metadata": {},
   "source": [
    "<a id='56'></a>\n",
    "# Extra Practice"
   ]
  },
  {
   "cell_type": "code",
   "execution_count": null,
   "metadata": {},
   "outputs": [],
   "source": []
  }
 ],
 "metadata": {
  "kernelspec": {
   "display_name": "Python 3",
   "language": "python",
   "name": "python3"
  },
  "language_info": {
   "codemirror_mode": {
    "name": "ipython",
    "version": 3
   },
   "file_extension": ".py",
   "mimetype": "text/x-python",
   "name": "python",
   "nbconvert_exporter": "python",
   "pygments_lexer": "ipython3",
   "version": "3.7.3"
  }
 },
 "nbformat": 4,
 "nbformat_minor": 4
}
