{
 "cells": [
  {
   "cell_type": "markdown",
   "metadata": {},
   "source": [
    "# Regression Homework\n",
    "\n",
    "All of the subquestions (ie: a, b, c, etc.) are worth 5 points unless noted otherwise."
   ]
  },
  {
   "cell_type": "markdown",
   "metadata": {},
   "source": [
    "__Data Source__:\n",
    "\n",
    "https://archive.ics.uci.edu/ml/datasets/wine+quality\n",
    "\n",
    "Paulo Cortez, University of Minho, Guimarães, Portugal, http://www3.dsi.uminho.pt/pcortez\n",
    "A. Cerdeira, F. Almeida, T. Matos and J. Reis, Viticulture Commission of the Vinho Verde Region(CVRVV), Porto, Portugal\n",
    "@2009\n",
    "\n",
    "\n",
    "__Data Description__:\n",
    "\n",
    "The two datasets are related to red and white variants of the Portuguese \"Vinho Verde\" wine. For more details, consult: http://www.vinhoverde.pt/en/ or the reference [Cortez et al., 2009]. Due to privacy and logistic issues, only physicochemical (inputs) and sensory (the output) variables are available (e.g. there is no data about grape types, wine brand, wine selling price, etc.).\n",
    "\n",
    "These datasets can be viewed as classification or regression tasks. The classes are ordered and not balanced (e.g. there are many more normal wines than excellent or poor ones). Outlier detection algorithms could be used to detect the few excellent or poor wines. Also, we are not sure if all input variables are relevant. So it could be interesting to test feature selection methods.\n",
    "\n",
    "\n",
    "__Attribute Information__:\n",
    "\n",
    "For more information, read [Cortez et al., 2009].\n",
    "\n",
    "Input variables (based on physicochemical tests):\n",
    "\n",
    "1 - fixed acidity\n",
    "\n",
    "2 - volatile acidity\n",
    "\n",
    "3 - citric acid\n",
    "\n",
    "4 - residual sugar\n",
    "\n",
    "5 - chlorides\n",
    "\n",
    "6 - free sulfur dioxide\n",
    "\n",
    "7 - total sulfur dioxide\n",
    "\n",
    "8 - density\n",
    "\n",
    "9 - pH\n",
    "\n",
    "10 - sulphates\n",
    "\n",
    "11 - alcohol\n",
    "\n",
    "Output variable (based on sensory data):\n",
    "\n",
    "12 - quality (score between 0 and 10)\n",
    "\n",
    "__Additional Citation__:\n",
    "\n",
    "P. Cortez, A. Cerdeira, F. Almeida, T. Matos and J. Reis.\n",
    "Modeling wine preferences by data mining from physicochemical properties. In Decision Support Systems, Elsevier, 47(4):547-553, 2009.\n",
    "\n",
    "----------------------------------------------------------------------------------------------------------------------"
   ]
  },
  {
   "cell_type": "markdown",
   "metadata": {},
   "source": [
    "<b>1. (5 Points) Packages and Prebuilt Functions </b>\n",
    "\n",
    "    a) (2 points) Run the code block below to load in needed packages"
   ]
  },
  {
   "cell_type": "code",
   "execution_count": null,
   "metadata": {},
   "outputs": [],
   "source": [
    "import numpy as np\n",
    "import pandas as pd\n",
    "import matplotlib.pyplot as plt\n",
    "import seaborn as sns\n",
    "import statsmodels.api as sm\n",
    "import sklearn\n",
    "from sklearn.linear_model import LinearRegression\n",
    "from sklearn.preprocessing import StandardScaler\n",
    "from sklearn.metrics import r2_score\n",
    "from sklearn.model_selection import train_test_split\n",
    "from scipy.stats import norm\n",
    "import os\n",
    "import warnings\n",
    "\n",
    "warnings.filterwarnings('ignore')"
   ]
  },
  {
   "cell_type": "markdown",
   "metadata": {},
   "source": [
    "    b) (3 points) Copy over the get_download_path() function we have used elsewhere in the course and run this cell to load in its functionality."
   ]
  },
  {
   "cell_type": "code",
   "execution_count": null,
   "metadata": {},
   "outputs": [],
   "source": []
  },
  {
   "cell_type": "markdown",
   "metadata": {},
   "source": [
    "<b>2. (40 Points) Data </b>\n",
    "\n",
    "    a) Place the \"winequality-white.csv\" and the \"winequality-red.csv\" in your Downloads folder.  Then, read the data files in python. Check if there are any NaN values using the \".info\" command and comment in the markdown cell why or why not you think there are null values - should be a sentence or two."
   ]
  },
  {
   "cell_type": "code",
   "execution_count": null,
   "metadata": {},
   "outputs": [],
   "source": [
    "# Your code below\n",
    "whitewine = ...\n",
    "whitewine.info()"
   ]
  },
  {
   "cell_type": "code",
   "execution_count": null,
   "metadata": {},
   "outputs": [],
   "source": [
    "redwine = ...\n",
    "redwine.info()"
   ]
  },
  {
   "cell_type": "markdown",
   "metadata": {},
   "source": [
    "    b) Create a new variable in both whitewine and redwine called \"winecolor\".  Set whitewine's \"winecolor\" to 0 and redwine's \"winecolor\" to 1.  Then append the two dataframes together in a new dataframe called \"all_wines\"."
   ]
  },
  {
   "cell_type": "code",
   "execution_count": null,
   "metadata": {},
   "outputs": [],
   "source": [
    "\n",
    "all_wines = ...\n",
    "all_wines"
   ]
  },
  {
   "cell_type": "markdown",
   "metadata": {},
   "source": [
    "    c) Describe data features in terms of distribution range (max and min) and mean values."
   ]
  },
  {
   "cell_type": "code",
   "execution_count": null,
   "metadata": {},
   "outputs": [],
   "source": []
  },
  {
   "cell_type": "markdown",
   "metadata": {},
   "source": [
    "    d) Run the code block below and in the cell after it, describe if you think \"quality\" variable fits a normal distribution or not.  "
   ]
  },
  {
   "cell_type": "code",
   "execution_count": null,
   "metadata": {},
   "outputs": [],
   "source": [
    "#https://www.geeksforgeeks.org/how-to-plot-normal-distribution-over-histogram-in-python/\n",
    "  \n",
    "# Generate some data for this demonstration.\n",
    "data = all_wines['quality']\n",
    "  \n",
    "# Fit a normal distribution to the data:\n",
    "# mean and standard deviation\n",
    "mu, std = norm.fit(data) \n",
    "  \n",
    "# Plot the histogram.\n",
    "plt.hist(data, bins=len(data.unique()), density=True, color='y')\n",
    "  \n",
    "# Plot the PDF.\n",
    "xmin, xmax = plt.xlim()\n",
    "x = np.linspace(xmin, xmax)\n",
    "p = norm.pdf(x, mu, std)\n",
    "\n",
    "print('\\n')\n",
    "print('Normal Distribution plotted over the \"quality\" variable for the dataset \"all_wines\":')\n",
    "plt.plot(x, p, 'k', linewidth=2, color='r')\n",
    "title = \"Mean of {:.2f} with a Standard Deviation of {:.2f}\".format(mu, std)\n",
    "plt.title(title)\n",
    "  \n",
    "plt.show()"
   ]
  },
  {
   "cell_type": "markdown",
   "metadata": {},
   "source": []
  },
  {
   "cell_type": "markdown",
   "metadata": {},
   "source": []
  },
  {
   "cell_type": "markdown",
   "metadata": {},
   "source": [
    "    e) (10 points) Describe what the code block below is doing."
   ]
  },
  {
   "cell_type": "code",
   "execution_count": null,
   "metadata": {},
   "outputs": [],
   "source": [
    "all_wines['fixed_acidity']=pd.cut(all_wines['fixed acidity'],4, \n",
    "                                  labels=[\"low_fixed_acidity\", \"medium_fixed_acidity\", \"high_fixed_acidity\",\"very_high_fixed_acidity\"])\n",
    "fixed_acid=pd.get_dummies(all_wines['fixed_acidity'])\n",
    "all_wines = pd.concat([all_wines,fixed_acid],axis=1)\n",
    "all_wines=all_wines.drop(['fixed acidity','fixed_acidity'], axis=1)\n",
    "all_wines"
   ]
  },
  {
   "cell_type": "markdown",
   "metadata": {},
   "source": []
  },
  {
   "cell_type": "markdown",
   "metadata": {},
   "source": [
    "    f) Create a new variable called \"citric_squared\" which is \"citric acid\" multiplied against itself."
   ]
  },
  {
   "cell_type": "code",
   "execution_count": null,
   "metadata": {},
   "outputs": [],
   "source": [
    "all_wines['citric_squared'] = ..."
   ]
  },
  {
   "cell_type": "markdown",
   "metadata": {},
   "source": [
    "    g) Intepret the output of the code block below and note any variables of concern."
   ]
  },
  {
   "cell_type": "code",
   "execution_count": null,
   "metadata": {},
   "outputs": [],
   "source": [
    "corr = all_wines.corr()\n",
    "plt.subplots(figsize=(15,10))\n",
    "sns.heatmap(corr, xticklabels=corr.columns, yticklabels=corr.columns, annot=True, \n",
    "            cmap=sns.diverging_palette(220, 20, as_cmap=True))"
   ]
  },
  {
   "cell_type": "markdown",
   "metadata": {},
   "source": []
  },
  {
   "cell_type": "markdown",
   "metadata": {},
   "source": [
    "<b>3. (25 Points) First Regression Test </b>"
   ]
  },
  {
   "cell_type": "markdown",
   "metadata": {},
   "source": [
    "    a) (3 points) Create Y using the variable \"quality\" and all other variables as the X."
   ]
  },
  {
   "cell_type": "code",
   "execution_count": null,
   "metadata": {},
   "outputs": [],
   "source": [
    "Y = ...\n",
    "X = ..."
   ]
  },
  {
   "cell_type": "markdown",
   "metadata": {},
   "source": [
    "    b) (2 points) Split the data into a training set as well a test set for both your X variables as well as for your Y variable with 16% test size."
   ]
  },
  {
   "cell_type": "code",
   "execution_count": null,
   "metadata": {},
   "outputs": [],
   "source": [
    "X_train, X_test, y_train, y_test = train_test_split(...)"
   ]
  },
  {
   "cell_type": "markdown",
   "metadata": {},
   "source": [
    "    c) (20 points) Interpret the results of the regression results below.  Namely, described what the R-squared, testing accuracy and the difference between the two indicate.  Note if any variables aren't statistically significant and interpret the coefficient and confidence interval of at least 3 of the variables in the markdown cell below the output."
   ]
  },
  {
   "cell_type": "code",
   "execution_count": null,
   "metadata": {},
   "outputs": [],
   "source": [
    "def regression(x_train, x_test, y_train, y_test):\n",
    "\n",
    "    print(\"Number of training records:\", len(y_train))\n",
    "    print(\"Number of testing records:\",len(y_test))\n",
    "\n",
    "    print('\\nLinear Regression Results')\n",
    "    X2 = sm.add_constant(x_train)\n",
    "    est = sm.OLS(y_train, x_train)\n",
    "    regr = est.fit()\n",
    "    print(regr.summary())\n",
    "    \n",
    "    y_pred = regr.predict(x_test)\n",
    "    test_acc=r2_score(y_test, y_pred)\n",
    "    print('\\nTest accuracy =',test_acc)\n",
    "    \n",
    "regression(X_train, X_test, y_train, y_test)"
   ]
  },
  {
   "cell_type": "markdown",
   "metadata": {},
   "source": []
  },
  {
   "cell_type": "markdown",
   "metadata": {},
   "source": [
    "<b>4. (30 Points) Your Own Regression </b>\n",
    "\n",
    "    For either the full wine dataset or just red/white wine datasets, come up with your own regression model different than the one above and interpret the results as well as document why you made the changes you did. Use as many code blocks as you like and be creative - there are infinetely many ways to do this!"
   ]
  },
  {
   "cell_type": "code",
   "execution_count": null,
   "metadata": {},
   "outputs": [],
   "source": []
  }
 ],
 "metadata": {
  "kernelspec": {
   "display_name": "Python 3",
   "language": "python",
   "name": "python3"
  },
  "language_info": {
   "codemirror_mode": {
    "name": "ipython",
    "version": 3
   },
   "file_extension": ".py",
   "mimetype": "text/x-python",
   "name": "python",
   "nbconvert_exporter": "python",
   "pygments_lexer": "ipython3",
   "version": "3.7.3"
  }
 },
 "nbformat": 4,
 "nbformat_minor": 4
}
