{
 "cells": [
  {
   "cell_type": "markdown",
   "metadata": {},
   "source": [
    "# SQL Homework\n",
    "\n",
    "All of the subquestions (ie: a, b, c, etc.) are worth 1 point unless noted otherwise.\n",
    "\n",
    "Data sources:\n",
    "\n",
    "https://github.com/rashida048/Datasets/blob/master/census.csv\n",
    "\n",
    "https://www.bls.gov/lau/ - Labor force data by county, 2010 annual averages"
   ]
  },
  {
   "cell_type": "markdown",
   "metadata": {},
   "source": [
    "<b>1. (4 Points) Imports </b>\n",
    "\n",
    "    a) Load in sqlite3, pandas (rename it as pd), os and datetime (rename it as dt) packages."
   ]
  },
  {
   "cell_type": "code",
   "execution_count": null,
   "metadata": {},
   "outputs": [],
   "source": []
  },
  {
   "cell_type": "markdown",
   "metadata": {},
   "source": [
    "    b) Copy and paste the get_download_path() function into the cell below."
   ]
  },
  {
   "cell_type": "code",
   "execution_count": null,
   "metadata": {},
   "outputs": [],
   "source": []
  },
  {
   "cell_type": "markdown",
   "metadata": {},
   "source": [
    "    c) (2 Points) Place the \"census_data.csv\" into your downloads folder and load it into a pandas dataframe called \"df\"."
   ]
  },
  {
   "cell_type": "code",
   "execution_count": null,
   "metadata": {},
   "outputs": [],
   "source": [
    "df = ..."
   ]
  },
  {
   "cell_type": "markdown",
   "metadata": {},
   "source": [
    "<b>2. (10 Points) Basics of Census Data</b>\n",
    "\n",
    "    a) Print out the column names."
   ]
  },
  {
   "cell_type": "code",
   "execution_count": null,
   "metadata": {},
   "outputs": [],
   "source": []
  },
  {
   "cell_type": "markdown",
   "metadata": {},
   "source": [
    "    b) (6 points) Keep only the columns 'STNAME', 'CTYNAME' and ones that contain 2010 data.  Store this new dataframe as \"df_2010\"."
   ]
  },
  {
   "cell_type": "code",
   "execution_count": null,
   "metadata": {},
   "outputs": [],
   "source": [
    "\n",
    "\n",
    "df_2010.head()"
   ]
  },
  {
   "cell_type": "markdown",
   "metadata": {},
   "source": [
    "    c) Remove \"2010\" from all column names."
   ]
  },
  {
   "cell_type": "code",
   "execution_count": null,
   "metadata": {},
   "outputs": [],
   "source": [
    "\n",
    "\n",
    "df_2010.head()"
   ]
  },
  {
   "cell_type": "markdown",
   "metadata": {},
   "source": [
    "    d) Check and print out if any values in \"df_2010\" are missing/null/NA."
   ]
  },
  {
   "cell_type": "code",
   "execution_count": null,
   "metadata": {},
   "outputs": [],
   "source": []
  },
  {
   "cell_type": "markdown",
   "metadata": {},
   "source": [
    "    e) Check the data types of all the columns in \"df_2010\"."
   ]
  },
  {
   "cell_type": "code",
   "execution_count": null,
   "metadata": {},
   "outputs": [],
   "source": []
  },
  {
   "cell_type": "markdown",
   "metadata": {},
   "source": [
    "<b>3. (6 Points) Basics of Unemployment Data </b>"
   ]
  },
  {
   "cell_type": "markdown",
   "metadata": {},
   "source": [
    "    a) Place the \"county_unemployment.xlsx\" into your downloads folder and load it into a pandas dataframe called \"df2\"."
   ]
  },
  {
   "cell_type": "code",
   "execution_count": null,
   "metadata": {},
   "outputs": [],
   "source": [
    "df2 = ..."
   ]
  },
  {
   "cell_type": "markdown",
   "metadata": {},
   "source": [
    "    b) Print out the last 10 values - what is wrong with the our dataset right now?"
   ]
  },
  {
   "cell_type": "code",
   "execution_count": null,
   "metadata": {},
   "outputs": [],
   "source": []
  },
  {
   "cell_type": "markdown",
   "metadata": {},
   "source": [
    "    c) Get rid of column called \"Unnamed: 5\" in df2, then print out the null values."
   ]
  },
  {
   "cell_type": "code",
   "execution_count": null,
   "metadata": {},
   "outputs": [],
   "source": []
  },
  {
   "cell_type": "markdown",
   "metadata": {},
   "source": [
    "    d) Run the block of code below to split \"County_Name_State_Abbreviation\" into two seperate columns by comma. If    you wish, find out why this split isn't sufficient - check out the unique values of State. (Not Required)"
   ]
  },
  {
   "cell_type": "code",
   "execution_count": null,
   "metadata": {},
   "outputs": [],
   "source": []
  },
  {
   "cell_type": "markdown",
   "metadata": {},
   "source": [
    "    e) Remove null values and return the dataframes's length.  Does the length make sense?"
   ]
  },
  {
   "cell_type": "code",
   "execution_count": null,
   "metadata": {},
   "outputs": [],
   "source": []
  },
  {
   "cell_type": "markdown",
   "metadata": {},
   "source": [
    "    f) Check the data types of all the columns in \"df2\"."
   ]
  },
  {
   "cell_type": "code",
   "execution_count": null,
   "metadata": {},
   "outputs": [],
   "source": []
  },
  {
   "cell_type": "markdown",
   "metadata": {},
   "source": [
    "<b>4. (15 Points) Loading Datasets to SQL </b>\n",
    "\n",
    "    a) (5 Points) Edit the code block below to connect to a database called \"SQL_HW.db\""
   ]
  },
  {
   "cell_type": "code",
   "execution_count": null,
   "metadata": {},
   "outputs": [],
   "source": [
    "# open connnection to a db file stored locally on disk - if file doesn't exist it is created\n",
    "connection = sqlite3.connect(...)\n",
    "\n",
    "# In order to run SQL commands with sqlite 3, we must create a cursor object\n",
    "# that traverses the database to run sql commands execute them\n",
    "cursor = connection.cursor()\n",
    "\n",
    "#Check if \"SQL_HW.db\" exists using linux commands\n",
    "!ls"
   ]
  },
  {
   "cell_type": "markdown",
   "metadata": {},
   "source": [
    "    b) (5 points) The code below has the \"df_2010\" dataset ready to be stored as the \"Census\" table in the \"SQL_HW.db\" database.  Add to this code to have the \"df2\" dataset stored as the \"Unemployment\" table in the \"SQL_HW.db\" database."
   ]
  },
  {
   "cell_type": "code",
   "execution_count": null,
   "metadata": {},
   "outputs": [],
   "source": [
    "#Used for timer\n",
    "start = dt.datetime.now()\n",
    "\n",
    "df_2010.to_sql('Census', connection, if_exists='replace', index=False) # name of SQL table, connection, append?, index?\n",
    "\n",
    "\n",
    "print('Seconds this took: ',(dt.datetime.now() - start).seconds)\n",
    "print('done')"
   ]
  },
  {
   "cell_type": "markdown",
   "metadata": {},
   "source": [
    "    c) (5 points) Edit the two SQL code blocks below to select all entries from \"Census\" and \"Unemployment\" tables to check that we are sure that the datasets were stored correctly."
   ]
  },
  {
   "cell_type": "code",
   "execution_count": null,
   "metadata": {},
   "outputs": [],
   "source": [
    "sql_statement = \"\"\"\n",
    "\n",
    ";\n",
    "\"\"\"\n",
    "\n",
    "pd.read_sql_query(sql_statement,con = connection)"
   ]
  },
  {
   "cell_type": "code",
   "execution_count": null,
   "metadata": {},
   "outputs": [],
   "source": [
    "sql_statement = \"\"\"\n",
    "\n",
    ";\n",
    "\"\"\"\n",
    "\n",
    "pd.read_sql_query(sql_statement,con = connection)"
   ]
  },
  {
   "cell_type": "markdown",
   "metadata": {},
   "source": [
    "<b>5. (20 Points) Pulling Data from SQL </b>\n",
    "\n",
    "    a) (5 points) Using SQL - for each state, print out the count of the total counties and the sum of the \"CENSUSPOP\" from the \"Census\" table... this answer should be one SQL command, only use the \"Census\" table."
   ]
  },
  {
   "cell_type": "code",
   "execution_count": null,
   "metadata": {},
   "outputs": [],
   "source": [
    "sql_statement = \"\"\"\n",
    "\n",
    ";\n",
    "\"\"\"\n",
    "\n",
    "pd.read_sql_query(sql_statement,con = connection)"
   ]
  },
  {
   "cell_type": "markdown",
   "metadata": {},
   "source": [
    "    b) (5 points) In the \"Census\" database - print out all rows that have the \"STNAME\" equal to the \"CTYNAME\"."
   ]
  },
  {
   "cell_type": "code",
   "execution_count": null,
   "metadata": {},
   "outputs": [],
   "source": [
    "sql_statement = \"\"\"\n",
    "\n",
    ";\n",
    "\"\"\"\n",
    "\n",
    "df_state=pd.read_sql_query(sql_statement,con = connection)\n",
    "len(df_state)"
   ]
  },
  {
   "cell_type": "markdown",
   "metadata": {},
   "source": [
    "    c) (5 points) Delete all rows from the \"Census\" database where \"STNAME\" is equal to \"CTYNAME\" in the first sql statement.  Then run code block - how many rows were deleted?  Does this make sense?"
   ]
  },
  {
   "cell_type": "code",
   "execution_count": null,
   "metadata": {},
   "outputs": [],
   "source": [
    "sql_statement = \"\"\"\n",
    "\n",
    ";\n",
    "\"\"\"\n",
    "\n",
    "connection.execute(sql_statement)\n",
    "\n",
    "sql_statement = \"\"\"\n",
    "SELECT * FROM Census\n",
    ";\n",
    "\"\"\"\n",
    "\n",
    "pd.read_sql_query(sql_statement,con = connection)"
   ]
  },
  {
   "cell_type": "markdown",
   "metadata": {},
   "source": [
    "    d) (5 points) Edit the code block below to add the \"df_state\" dataset to our \"SQL_HW.db\" databse as the \"Census_State\" table."
   ]
  },
  {
   "cell_type": "code",
   "execution_count": null,
   "metadata": {},
   "outputs": [],
   "source": [
    "#Used for timer\n",
    "start = dt.datetime.now()\n",
    "\n",
    "....to_sql(..., ..., if_exists='replace', index=False) # name of SQL table, connection, append?\n",
    "\n",
    "print('Seconds this took: ',(dt.datetime.now() - start).seconds)\n",
    "print('done')\n",
    "\n",
    "sql_statement = \"\"\"\n",
    "SELECT * FROM Census_State\n",
    ";\n",
    "\"\"\"\n",
    "\n",
    "pd.read_sql_query(sql_statement,con = connection)"
   ]
  },
  {
   "cell_type": "markdown",
   "metadata": {},
   "source": [
    "<b>6. (45 Points) Joining Our Tables </b>\n",
    "\n",
    "    a) (5 points) Join the \"CENSUS\" table (as a) to the \"UNEMPLOYMENT\" table (as b) as a LEFT JOIN (with \"CENSUS\" on the left) where their county variables are equal to each other.  ONLY select the \"STNAME\", \"CTYNAME\" and \"CENSUSPOP\" variables."
   ]
  },
  {
   "cell_type": "code",
   "execution_count": null,
   "metadata": {},
   "outputs": [],
   "source": [
    "sql_statement = \"\"\"\n",
    "\n",
    ";\n",
    "\"\"\"\n",
    "\n",
    "pd.read_sql_query(sql_statement,con = connection)"
   ]
  },
  {
   "cell_type": "markdown",
   "metadata": {},
   "source": [
    "    b) (15 points) Inner join the \"CENSUS\" table (as a) with the \"UNEMPLOYMENT\" table (as b) where their county variables are equal to each other.  Only select the STNAME, the sum total of \"CENSUSPOP\" for the state (rename as \"Census_Pop\", the sum total of the \"POPESTIMATE\" (as \"Pop_Estimate\"), and the absolute value of the difference of the \"Census_Pop\" and \"Pop_Estimate\" variables as \"Difference\".  Order by the \"Difference\" in descending value and only select the *STATES* that have \"Difference\" greater than 50,000."
   ]
  },
  {
   "cell_type": "code",
   "execution_count": null,
   "metadata": {},
   "outputs": [],
   "source": [
    "sql_statement = \"\"\"\n",
    "\n",
    ";\n",
    "\"\"\"\n",
    "\n",
    "pd.read_sql_query(sql_statement,con = connection)"
   ]
  },
  {
   "cell_type": "markdown",
   "metadata": {},
   "source": [
    "    c) (15 points) Use the default join with the \"CENSUS\" table (as a) to the \"UNEMPLOYMENT\" table (as b) where their county variables are equal to each other.  Only select the STNAME, CTYNAME, CENSUSPOP, the \"Unemployment_Rate\" muliplied by the \"CENSUSPOP\" divided by 100 as \"Unemployed_Census\" and the \"Unemployment_Rate\" variables.  Order by \"Unemployed_Census\" in ascending order and only keep *COUNTIES* with CENSUSPOP > 2,000,000  Do you notice something odd about the data?  What is the default join type? (inner/left/right/outer)"
   ]
  },
  {
   "cell_type": "code",
   "execution_count": null,
   "metadata": {},
   "outputs": [],
   "source": [
    "sql_statement = \"\"\"\n",
    "\n",
    ";\n",
    "\"\"\"\n",
    "\n",
    "pd.read_sql_query(sql_statement,con = connection)"
   ]
  },
  {
   "cell_type": "markdown",
   "metadata": {},
   "source": [
    "    d) (10 points) In words - explain in detail the 4 different kinds of merges and how they differ."
   ]
  },
  {
   "cell_type": "markdown",
   "metadata": {},
   "source": []
  }
 ],
 "metadata": {
  "kernelspec": {
   "display_name": "Python 3",
   "language": "python",
   "name": "python3"
  },
  "language_info": {
   "codemirror_mode": {
    "name": "ipython",
    "version": 3
   },
   "file_extension": ".py",
   "mimetype": "text/x-python",
   "name": "python",
   "nbconvert_exporter": "python",
   "pygments_lexer": "ipython3",
   "version": "3.7.3"
  }
 },
 "nbformat": 4,
 "nbformat_minor": 4
}
