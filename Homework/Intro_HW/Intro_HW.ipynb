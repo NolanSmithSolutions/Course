{
 "cells": [
  {
   "cell_type": "markdown",
   "metadata": {},
   "source": [
    "# Python Review Homework\n",
    "\n",
    "This homework and all future homeworks will be done in Jupyter notebook they are housed in unless noted otherwise. If these exercises are challenging or new to you, you may want to take some serious time to practice Python skills so that future material isn't a struggle to learn. You are not allowed to use any Python packages for this homework.  All of the subquestions (ie: a, b, c, etc.) are worth 1 point unless noted otherwise."
   ]
  },
  {
   "cell_type": "markdown",
   "metadata": {},
   "source": [
    "<b>1. (5 Points) About You </b>\n",
    "\n",
    "    a) Why did you enroll in this course?\n",
    "    \n",
    "    b) What do you hope to learn in this course?\n",
    "    \n",
    "    c) Where do you plan to use the material in this course?\n",
    "    \n",
    "    d) What is your current major/year and/or profession?\n",
    "    \n",
    "    e) What do you hope to do professionally (ie: Financial Analyst, Data Scientist, Product Manger, etc.)?\n",
    "    \n",
    "<i>Be sure to change the cell type of the code block below to be a Markdown Cell</i>"
   ]
  },
  {
   "cell_type": "code",
   "execution_count": null,
   "metadata": {},
   "outputs": [],
   "source": []
  },
  {
   "cell_type": "markdown",
   "metadata": {},
   "source": [
    "<b>2. (5 Points) Basics </b>\n",
    "\n",
    "    a) Create a string called string1 that says \"I love coding\"."
   ]
  },
  {
   "cell_type": "code",
   "execution_count": null,
   "metadata": {},
   "outputs": [],
   "source": []
  },
  {
   "cell_type": "markdown",
   "metadata": {},
   "source": [
    "    b) Store \"5.12\" as float called float1."
   ]
  },
  {
   "cell_type": "code",
   "execution_count": null,
   "metadata": {},
   "outputs": [],
   "source": []
  },
  {
   "cell_type": "markdown",
   "metadata": {},
   "source": [
    "    c) Store \"9\" as an integer called int1."
   ]
  },
  {
   "cell_type": "code",
   "execution_count": null,
   "metadata": {},
   "outputs": [],
   "source": []
  },
  {
   "cell_type": "markdown",
   "metadata": {},
   "source": [
    "    d) Create a boolean variable called truth_teller and set it to false."
   ]
  },
  {
   "cell_type": "code",
   "execution_count": null,
   "metadata": {},
   "outputs": [],
   "source": []
  },
  {
   "cell_type": "markdown",
   "metadata": {},
   "source": [
    "    e) Multiply int1 by float1."
   ]
  },
  {
   "cell_type": "code",
   "execution_count": null,
   "metadata": {},
   "outputs": [],
   "source": []
  },
  {
   "cell_type": "markdown",
   "metadata": {},
   "source": [
    "<b>3. (5 Points) Assignment, Equality, Remainders, Exponents </b>"
   ]
  },
  {
   "cell_type": "markdown",
   "metadata": {},
   "source": [
    "    a) Create a variable caled float2 and assign 9.0 as its value."
   ]
  },
  {
   "cell_type": "code",
   "execution_count": null,
   "metadata": {},
   "outputs": [],
   "source": []
  },
  {
   "cell_type": "markdown",
   "metadata": {},
   "source": [
    "    b) Print out a check of whether float2 and int1 are equivalent in value and also check if they are equivalent in type."
   ]
  },
  {
   "cell_type": "code",
   "execution_count": null,
   "metadata": {},
   "outputs": [],
   "source": []
  },
  {
   "cell_type": "markdown",
   "metadata": {},
   "source": [
    "    c) Floor divide 75 by 7."
   ]
  },
  {
   "cell_type": "code",
   "execution_count": null,
   "metadata": {},
   "outputs": [],
   "source": []
  },
  {
   "cell_type": "markdown",
   "metadata": {},
   "source": [
    "    d) Using python, find out the remainder of 75 divided by 7."
   ]
  },
  {
   "cell_type": "code",
   "execution_count": null,
   "metadata": {},
   "outputs": [],
   "source": []
  },
  {
   "cell_type": "markdown",
   "metadata": {},
   "source": [
    "    e) Using python, find out what 8 to the power 13 is."
   ]
  },
  {
   "cell_type": "code",
   "execution_count": null,
   "metadata": {},
   "outputs": [],
   "source": []
  },
  {
   "cell_type": "markdown",
   "metadata": {},
   "source": [
    "<b>4. (5 Points) String Slicing </b>\n",
    "\n",
    "Run the code block below for the next set of questions"
   ]
  },
  {
   "cell_type": "code",
   "execution_count": 4,
   "metadata": {},
   "outputs": [],
   "source": [
    "# The alphabet\n",
    "alphabet = \"abcdefghijklmnopqrstuvwxyz\"\n",
    "\n",
    "# Tongue Twister\n",
    "tongue_twister = \"Sally sells Seashells by The sea shore.\""
   ]
  },
  {
   "cell_type": "markdown",
   "metadata": {},
   "source": [
    "    a) Print out the first and last letters of the alphabet using the first index and the last index.  (hint: where          does Python start its index.  How can you find the last index if you don't know the length of the string?)"
   ]
  },
  {
   "cell_type": "code",
   "execution_count": null,
   "metadata": {},
   "outputs": [],
   "source": []
  },
  {
   "cell_type": "markdown",
   "metadata": {},
   "source": [
    "    b) Print out every 5th letter of the alphabet before t."
   ]
  },
  {
   "cell_type": "code",
   "execution_count": null,
   "metadata": {},
   "outputs": [],
   "source": []
  },
  {
   "cell_type": "markdown",
   "metadata": {},
   "source": [
    "    c) (3 points) Replace every \"s\" (regardless of capital or lower case) in tongue_twister with \"$\"."
   ]
  },
  {
   "cell_type": "code",
   "execution_count": null,
   "metadata": {},
   "outputs": [],
   "source": []
  },
  {
   "cell_type": "markdown",
   "metadata": {},
   "source": [
    "<b>5. (20 Points) Loops </b>"
   ]
  },
  {
   "cell_type": "markdown",
   "metadata": {},
   "source": [
    "    a) (5 points) Loop through all of the first 100 integers and print out if it is a multiple of 3."
   ]
  },
  {
   "cell_type": "code",
   "execution_count": null,
   "metadata": {},
   "outputs": [],
   "source": []
  },
  {
   "cell_type": "markdown",
   "metadata": {},
   "source": [
    "    b) (5 points) While the below count is over 20 print out the remainder of every element divided by 5 then deincriment the count by 1."
   ]
  },
  {
   "cell_type": "code",
   "execution_count": null,
   "metadata": {},
   "outputs": [],
   "source": [
    "count = 35\n",
    "\n",
    "# Your code here\n"
   ]
  },
  {
   "cell_type": "markdown",
   "metadata": {},
   "source": [
    "    c) (10 points) For every 3rd animal, print out its index, the animal and the 5th letter of the animal itself \n",
    "    (if it exists - if it doesn't move to the next... make sure you loop through all of the animals!)"
   ]
  },
  {
   "cell_type": "code",
   "execution_count": null,
   "metadata": {},
   "outputs": [],
   "source": [
    "animals = ['zebra', 'cobra', 'stork', 'penguin', 'shark', 'lion', 'buffalo', 'whale', 'seal', 'eagle','crow', 'wren', 'horse', 'dog', 'cat','mouse','pig','hamster','rat','deer','pigeon','otter','lemur','gazelle']\n",
    "\n",
    "# Your code below\n",
    "\n"
   ]
  },
  {
   "cell_type": "markdown",
   "metadata": {},
   "source": [
    "<b>6. (20 Points) If Statements </b>"
   ]
  },
  {
   "cell_type": "markdown",
   "metadata": {},
   "source": [
    "    a) (10 points) Write a short program that takes user input and prints out if they can drive, vote and collect         social security (16, 18, 62).  Have a short statement printed that says they cant do any of the above if they \n",
    "    are not eligible."
   ]
  },
  {
   "cell_type": "code",
   "execution_count": null,
   "metadata": {},
   "outputs": [],
   "source": []
  },
  {
   "cell_type": "markdown",
   "metadata": {},
   "source": [
    "    b) (10 points) Write a short program that prints \"YES\" if a the user inputs a number that is a multiple of 3 \n",
    "    but prints \"no\" otherwise."
   ]
  },
  {
   "cell_type": "code",
   "execution_count": null,
   "metadata": {},
   "outputs": [],
   "source": []
  },
  {
   "cell_type": "markdown",
   "metadata": {},
   "source": [
    "<b>7. (20 Points) Lists </b>"
   ]
  },
  {
   "cell_type": "markdown",
   "metadata": {},
   "source": [
    "    a) (5 points) For every letter in the alphabet create an entry in a new list call alpbet (hint you can use the string in question 4)."
   ]
  },
  {
   "cell_type": "code",
   "execution_count": null,
   "metadata": {},
   "outputs": [],
   "source": []
  },
  {
   "cell_type": "markdown",
   "metadata": {},
   "source": [
    "    b) (5 points) Remove the first and last elements in alpbet.  Add in entries '!' and '?' at the end.  Next \n",
    "    insert '@' to the front of the list.  Finally, replace the 10th item with '&'."
   ]
  },
  {
   "cell_type": "code",
   "execution_count": null,
   "metadata": {},
   "outputs": [],
   "source": []
  },
  {
   "cell_type": "markdown",
   "metadata": {},
   "source": [
    "    c) (5 points) Sort the animals list in question 5 alphabetically.  How many animals are in this list?"
   ]
  },
  {
   "cell_type": "code",
   "execution_count": null,
   "metadata": {},
   "outputs": [],
   "source": []
  },
  {
   "cell_type": "markdown",
   "metadata": {},
   "source": [
    "    d) (5 points) Create a list of the first 100 integers.  Multiply this list by 3.  How many times does the \n",
    "    integer '5' occur (write out the method to find this programatically - it should be 3)?  Now using list \n",
    "    comprehension, only keep the elements that are divisible by 8."
   ]
  },
  {
   "cell_type": "code",
   "execution_count": null,
   "metadata": {},
   "outputs": [],
   "source": []
  },
  {
   "cell_type": "markdown",
   "metadata": {},
   "source": [
    "<b>8. (20 Points) Functions </b>\n",
    "\n",
    "Create a function that asks the user for their full name.  Have the function print out how many letters their name is and how many times 'a' or 'e' is found in their name.  Lastly, remove the whitespace of their name and have the function return this resulting string backwards in all uppercase.\n",
    "\n",
    "For example:\n",
    "\n",
    "User Input - Matthew Nolan\n",
    "\n",
    "Print Output - 12 letters, 3 times 'a' or 'e' used\n",
    "\n",
    "Return Output - NALONWEHTTAM"
   ]
  },
  {
   "cell_type": "code",
   "execution_count": null,
   "metadata": {},
   "outputs": [],
   "source": []
  }
 ],
 "metadata": {
  "kernelspec": {
   "display_name": "Python 3",
   "language": "python",
   "name": "python3"
  },
  "language_info": {
   "codemirror_mode": {
    "name": "ipython",
    "version": 3
   },
   "file_extension": ".py",
   "mimetype": "text/x-python",
   "name": "python",
   "nbconvert_exporter": "python",
   "pygments_lexer": "ipython3",
   "version": "3.7.3"
  }
 },
 "nbformat": 4,
 "nbformat_minor": 4
}
