{
 "cells": [
  {
   "cell_type": "markdown",
   "metadata": {},
   "source": [
    "# TD API Homework\n",
    "\n",
    "All Questions are worth 10 points unless stated otherwise, partial credit can be earned for questions with multiple components.  We encourage collaboration, but you will need to submit your own complete notebook.  For all questions, complete your answer by printing the head of your data unless stated otherwise. "
   ]
  },
  {
   "cell_type": "code",
   "execution_count": 2,
   "metadata": {},
   "outputs": [],
   "source": [
    "import requests\n",
    "import pandas as pd\n",
    "from pandas.io.json import json_normalize\n",
    "import time\n",
    "import os\n",
    "import matplotlib.pyplot as plt\n",
    "import numpy as np\n",
    "import seaborn as sns\n",
    "import statsmodels.api as sm\n",
    "import math\n",
    "import statistics\n",
    "key = ''  ##PUT YOUR KEY HERE"
   ]
  },
  {
   "cell_type": "code",
   "execution_count": 3,
   "metadata": {},
   "outputs": [],
   "source": [
    "def get_price_hist(ticker,period,key):\n",
    "    time.sleep(1)\n",
    "    endpoint = 'https://api.tdameritrade.com/v1/marketdata/'+ticker+'/pricehistory'\n",
    "\n",
    "    ##Define Payload\n",
    "    payload = {'apikey': key,\n",
    "    'periodType': 'year',\n",
    "    'peirod':period,\n",
    "    'frequencyType':'daily'}\n",
    "\n",
    "    ### make request\n",
    "    try:\n",
    "        content = requests.get(url = endpoint, params = payload)\n",
    "    except:\n",
    "        print('API error, please review.')\n",
    "        \n",
    "    ### Convert to dictionary\n",
    "    dictlist = []\n",
    "    data = content.json()\n",
    "\n",
    "    for key, value in data.items():\n",
    "        temp = [key,value]\n",
    "        dictlist.append(temp)\n",
    "        \n",
    "    try:\n",
    "        hist_data = pd.DataFrame(dictlist[0][1])\n",
    "        hist_data['ticker'] = ticker\n",
    "        hist_data['datetime'] = pd.to_datetime(hist_data['datetime'],unit='ms')\n",
    "        return hist_data\n",
    "    except:\n",
    "        df = pd.DataFrame()\n",
    "        return df\n",
    "    \n",
    "\n",
    "def get_fundamental_from_td(ticker,key):\n",
    "    time.sleep(1)\n",
    "    endpoint = 'https://api.tdameritrade.com/v1/instruments'\n",
    "    projection = 'fundamental'\n",
    "\n",
    "    ##Define Payload\n",
    "    payload = {'apikey': key,\n",
    "               'symbol' : ticker,\n",
    "                'projection': projection,\n",
    "                }\n",
    "    \n",
    "    ### make request\n",
    "    try:\n",
    "        content = requests.get(url = endpoint, params = payload)\n",
    "    except:\n",
    "        print('API error, please review.')\n",
    "        \n",
    "    ### Convert to dictionary\n",
    "    dictlist = []\n",
    "    data = content.json()\n",
    "    for key, value in data.items():\n",
    "        temp = [key,value]\n",
    "        dictlist.append(temp)\n",
    "        \n",
    "    try:\n",
    "        df = pd.DataFrame(dictlist[0][1]).T.reset_index(drop=True).iloc[0]\n",
    "        return df\n",
    "    except:\n",
    "        print(dictlist)\n",
    "        df = pd.DataFrame()\n",
    "        print(ticker + \" not valid.\")\n",
    "        return df\n",
    "\n",
    "def scrub_fundamental_data(tickers,key):\n",
    "    master = pd.DataFrame()\n",
    "    count = 1\n",
    "    for ticker in tickers:\n",
    "        temp = get_fundamental_from_td(ticker,key)\n",
    "        temp = pd.DataFrame(temp).T\n",
    "        hist_data = get_annual_returns([ticker],key)\n",
    "        try:\n",
    "            temp.columns = ['beta', 'bookValuePerShare', 'currentRatio', 'divGrowthRate3Year',\n",
    "           'dividendAmount', 'dividendDate', 'dividendPayAmount',\n",
    "           'dividendPayDate', 'dividendYield', 'epsChange', 'epsChangePercentTTM',\n",
    "           'epsChangeYear', 'epsTTM', 'grossMarginMRQ', 'grossMarginTTM', 'high52',\n",
    "           'interestCoverage', 'low52', 'ltDebtToEquity', 'marketCap',\n",
    "           'marketCapFloat', 'netProfitMarginMRQ', 'netProfitMarginTTM',\n",
    "           'operatingMarginMRQ', 'operatingMarginTTM', 'pbRatio', 'pcfRatio',\n",
    "           'peRatio', 'pegRatio', 'prRatio', 'quickRatio', 'returnOnAssets',\n",
    "           'returnOnEquity', 'returnOnInvestment', 'revChangeIn', 'revChangeTTM',\n",
    "           'revChangeYear', 'sharesOutstanding', 'shortIntDayToCover',\n",
    "           'shortIntToFloat', 'ticker', 'totalDebtToCapital', 'totalDebtToEquity',\n",
    "           'vol10DayAvg', 'vol1DayAvg', 'vol3MonthAvg']\n",
    "            temp = pd.merge(temp, hist_data, on='ticker')\n",
    "        except:\n",
    "            continue\n",
    "        \n",
    "        master = master.append(temp).reset_index(drop=True)\n",
    "        count+= 1\n",
    "    return master\n",
    "\n",
    "def scrub_price_hist(tickers,key):\n",
    "    master = pd.DataFrame()\n",
    "    for ticker in tickers:\n",
    "        price_data = get_price_hist(ticker,1,key)\n",
    "        master = master.append(price_data, ignore_index=True)\n",
    "    return master\n",
    "\n",
    "def get_annual_returns(tickers,key):\n",
    "    master = pd.DataFrame()\n",
    "    for ticker in tickers:\n",
    "        try:\n",
    "            price_data = get_price_hist(ticker,1,key).iloc[::-1]\n",
    "            return_percent = price_data['close'].iloc[0] / price_data['close'].iloc[-1] -1\n",
    "            df = pd.DataFrame({\"ticker\":ticker,  \n",
    "                               \"Annual_Return_Percent\":return_percent},\n",
    "                               index = [0])\n",
    "            master = master.append(df, ignore_index=True)\n",
    "        except:\n",
    "\n",
    "            print('error with', ticker)\n",
    "    return master"
   ]
  },
  {
   "cell_type": "markdown",
   "metadata": {},
   "source": [
    "1.  Get the last year of price history for MSFT, AAPL, and GOOG."
   ]
  },
  {
   "cell_type": "code",
   "execution_count": null,
   "metadata": {},
   "outputs": [],
   "source": []
  },
  {
   "cell_type": "markdown",
   "metadata": {},
   "source": [
    "2.  Get the fundamental data for FITB"
   ]
  },
  {
   "cell_type": "code",
   "execution_count": null,
   "metadata": {},
   "outputs": [],
   "source": []
  },
  {
   "cell_type": "markdown",
   "metadata": {},
   "source": [
    "3.  Find the one year return for UCO. Your answer should just be a percentage."
   ]
  },
  {
   "cell_type": "code",
   "execution_count": null,
   "metadata": {},
   "outputs": [],
   "source": []
  },
  {
   "cell_type": "markdown",
   "metadata": {},
   "source": [
    "4. Grab the 1 year price history of UPRO, then add a column for daily % return.  Drop all rows with null values."
   ]
  },
  {
   "cell_type": "code",
   "execution_count": null,
   "metadata": {},
   "outputs": [],
   "source": []
  },
  {
   "cell_type": "markdown",
   "metadata": {},
   "source": [
    "5. Using the dataframe from question 4, add a new column that calculates the rolling 20 day volatility.  Drop all rows with null values."
   ]
  },
  {
   "cell_type": "code",
   "execution_count": null,
   "metadata": {},
   "outputs": [],
   "source": []
  },
  {
   "cell_type": "markdown",
   "metadata": {},
   "source": [
    "6. Estimate the annual volatility of a portfolio that has equal parts PG, C, and BAC.  Assume a year has 252 trading days.  Your answer should be a percentage."
   ]
  },
  {
   "cell_type": "code",
   "execution_count": null,
   "metadata": {},
   "outputs": [],
   "source": []
  },
  {
   "cell_type": "markdown",
   "metadata": {},
   "source": [
    "7. Estimate the beta of QYLD relative to SPY using 1 year's worth of daily data."
   ]
  },
  {
   "cell_type": "code",
   "execution_count": null,
   "metadata": {},
   "outputs": [],
   "source": []
  },
  {
   "cell_type": "markdown",
   "metadata": {},
   "source": [
    "8.  Create a function that returns a tickers beta and annual volatility."
   ]
  },
  {
   "cell_type": "code",
   "execution_count": null,
   "metadata": {},
   "outputs": [],
   "source": []
  },
  {
   "cell_type": "markdown",
   "metadata": {},
   "source": [
    "9. (20 Points)  Use your function from question 8 and a for loop to find the beta and annual volatility of each component of the NASDAQ 100.  The components can be found here: https://www.nasdaq.com/market-activity/quotes/nasdaq-ndx-index.  Each iteration of the for loop show print \"volatility: 'number', beta: 'number', ticker\".  Before you begin, think about how you might read in your ticker list.  This question is easier than you probably think, the hard part was done in question 8!"
   ]
  },
  {
   "cell_type": "code",
   "execution_count": null,
   "metadata": {},
   "outputs": [],
   "source": []
  }
 ],
 "metadata": {
  "kernelspec": {
   "display_name": "Python 3",
   "language": "python",
   "name": "python3"
  },
  "language_info": {
   "codemirror_mode": {
    "name": "ipython",
    "version": 3
   },
   "file_extension": ".py",
   "mimetype": "text/x-python",
   "name": "python",
   "nbconvert_exporter": "python",
   "pygments_lexer": "ipython3",
   "version": "3.7.3"
  }
 },
 "nbformat": 4,
 "nbformat_minor": 4
}
