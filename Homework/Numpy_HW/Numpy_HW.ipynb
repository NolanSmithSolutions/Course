{
 "cells": [
  {
   "cell_type": "markdown",
   "metadata": {},
   "source": [
    "# Numpy Homework\n",
    "\n",
    "All of the subquestions (ie: a, b, c, etc.) are worth 5 points unless noted otherwise."
   ]
  },
  {
   "cell_type": "markdown",
   "metadata": {},
   "source": [
    "<b>1. (5 Points) Import Numpy Package</b> \n",
    "\n",
    "Import the Numpy Package below and rename it to \"np\"."
   ]
  },
  {
   "cell_type": "code",
   "execution_count": null,
   "metadata": {},
   "outputs": [],
   "source": []
  },
  {
   "cell_type": "markdown",
   "metadata": {},
   "source": [
    "<b>2. (35 Points) Creating and Slicing Arrays </b>\n",
    "\n",
    "    a) Create 3 arrays:\n",
    "        i. Array 'a' takes the below list 'array_list' and converts it to an array.\n",
    "        ii. Array 'b' which is the first 10 integers.\n",
    "        iii. Array 'c' which is squares all of the elements in array 'b'."
   ]
  },
  {
   "cell_type": "code",
   "execution_count": null,
   "metadata": {},
   "outputs": [],
   "source": [
    "array_list=[10, 35, 40, 2605, 22, 1058, 84, 193, 756, 917]\n",
    "\n",
    "# Your code below\n"
   ]
  },
  {
   "cell_type": "markdown",
   "metadata": {},
   "source": [
    "    b) (10 points) Add array a and c together into a new array called 'd'.  Append array 'b' to array 'd' then take the square root of each of the elements. Finally, return the result."
   ]
  },
  {
   "cell_type": "code",
   "execution_count": null,
   "metadata": {},
   "outputs": [],
   "source": []
  },
  {
   "cell_type": "markdown",
   "metadata": {},
   "source": [
    "    c) Print out every 4th element of 'd' starting at element 2.  Then use numpy to print out the type of elements stored in the array (ie: boolean, integer, float or string)."
   ]
  },
  {
   "cell_type": "code",
   "execution_count": null,
   "metadata": {},
   "outputs": [],
   "source": []
  },
  {
   "cell_type": "markdown",
   "metadata": {},
   "source": [
    "    d) (10 points) Reshape array 'd' to be matrix 'm' with dimension 4x5.  Then create matrix 'm1' which takes the first two columns of matrix 'm'.  Print 'm' then print 'm1' with a blankspace between the two matrices."
   ]
  },
  {
   "cell_type": "code",
   "execution_count": null,
   "metadata": {},
   "outputs": [],
   "source": []
  },
  {
   "cell_type": "markdown",
   "metadata": {},
   "source": [
    "    e) Round the matrix m1 so that it only contains 2 decimal points."
   ]
  },
  {
   "cell_type": "code",
   "execution_count": null,
   "metadata": {},
   "outputs": [],
   "source": []
  },
  {
   "cell_type": "markdown",
   "metadata": {},
   "source": [
    "<b>3. (50 Points) Masks and Math </b>"
   ]
  },
  {
   "cell_type": "markdown",
   "metadata": {},
   "source": [
    "    a) Add the value 10 to each of the elements in random_array listed below."
   ]
  },
  {
   "cell_type": "code",
   "execution_count": null,
   "metadata": {},
   "outputs": [],
   "source": [
    "np.random.seed(43)\n",
    "random_array=np.random.uniform(low=0,high=1783,size=100) \n",
    "\n",
    "# Your code below\n"
   ]
  },
  {
   "cell_type": "markdown",
   "metadata": {},
   "source": [
    "    b) Create a mask which prints out True/False if an element is both greater than 300 and less than 1200.  Print out the result."
   ]
  },
  {
   "cell_type": "code",
   "execution_count": null,
   "metadata": {},
   "outputs": [],
   "source": []
  },
  {
   "cell_type": "markdown",
   "metadata": {},
   "source": [
    "    c) (10 points) Create an array 'result' which applies the mask above and only keeps the elements which are both greater than 300 and less than 1200 (True results in the mask).  How many elements are in this mask?"
   ]
  },
  {
   "cell_type": "code",
   "execution_count": null,
   "metadata": {},
   "outputs": [],
   "source": []
  },
  {
   "cell_type": "markdown",
   "metadata": {},
   "source": [
    "    d) In the matrix 'matrix' below find the variance, expected value (mean), minimum and maximum.  Please use the code block that says 'Your code below'.  If you haven't, you can run the code block below to look at the \n",
    "    matrix."
   ]
  },
  {
   "cell_type": "code",
   "execution_count": null,
   "metadata": {},
   "outputs": [],
   "source": [
    "# Please run this code block to see what the matrix looks like\n",
    "##### DO NOT EDIT ########################\n",
    "matrix = random_array[:24].reshape((6, 4))\n",
    "matrix\n",
    "##########################################"
   ]
  },
  {
   "cell_type": "code",
   "execution_count": null,
   "metadata": {},
   "outputs": [],
   "source": [
    "# Your code below\n"
   ]
  },
  {
   "cell_type": "markdown",
   "metadata": {},
   "source": [
    "    e) Print out the expected value and row number for each of the rows of matrix 'matrix'.  Put the expected values in a list and sort them by value from to lowest to highest.  "
   ]
  },
  {
   "cell_type": "code",
   "execution_count": null,
   "metadata": {},
   "outputs": [],
   "source": []
  },
  {
   "cell_type": "markdown",
   "metadata": {},
   "source": [
    "    f) (10 points) Print out the sum of each of the columns of matrix 'matrix'.  Put these into a list and sort them from highest to lowest."
   ]
  },
  {
   "cell_type": "code",
   "execution_count": null,
   "metadata": {},
   "outputs": [],
   "source": []
  },
  {
   "cell_type": "markdown",
   "metadata": {},
   "source": [
    "    g) (10 points) Transpose matrix 'matrix' and save this new matrix as 't_matrix'.  Print both 'matrix' and 't_matrix' out with blank space seperators.  Multiply 'matrix' by 't_matrix' and print the result with a blank space seperator from your printed statements above."
   ]
  },
  {
   "cell_type": "code",
   "execution_count": null,
   "metadata": {},
   "outputs": [],
   "source": []
  },
  {
   "cell_type": "markdown",
   "metadata": {},
   "source": [
    "<b>4. (10 Points) Math and Coding Background Review </b>\n",
    "\n",
    "    a) (3 points) What college level math courses have you taken/self taught?\n",
    "    \n",
    "    b) (3 points) What college level computer science courses have you taken?\n",
    "    \n",
    "    c) (4 points) What Computer Science languages do you know and what proficiency (0-5, with 0 being new and 5 being an expert)?\n",
    "    \n",
    "<i>Be sure to change the cell type of the code block below to be a Markdown Cell</i>"
   ]
  },
  {
   "cell_type": "code",
   "execution_count": null,
   "metadata": {},
   "outputs": [],
   "source": []
  }
 ],
 "metadata": {
  "kernelspec": {
   "display_name": "Python 3",
   "language": "python",
   "name": "python3"
  },
  "language_info": {
   "codemirror_mode": {
    "name": "ipython",
    "version": 3
   },
   "file_extension": ".py",
   "mimetype": "text/x-python",
   "name": "python",
   "nbconvert_exporter": "python",
   "pygments_lexer": "ipython3",
   "version": "3.7.3"
  }
 },
 "nbformat": 4,
 "nbformat_minor": 4
}
