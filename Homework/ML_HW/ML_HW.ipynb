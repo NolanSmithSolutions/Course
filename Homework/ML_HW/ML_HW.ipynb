{
 "cells": [
  {
   "cell_type": "markdown",
   "metadata": {},
   "source": [
    "# Machine Learning Homework\n",
    "\n",
    "All of the subquestions (ie: a, b, c, etc.) are worth 5 points unless noted otherwise."
   ]
  },
  {
   "cell_type": "markdown",
   "metadata": {},
   "source": [
    "__Data Source__:\n",
    "\n",
    "Altered version of the Mathematics (mat) dataset downloaded from this link:\n",
    "https://archive.ics.uci.edu/ml/datasets/Student+Performance#\n",
    "\n",
    "Paulo Cortez, University of Minho, GuimarÃ£es, Portugal, http://www3.dsi.uminho.pt/pcortez \n",
    "\n",
    "\n",
    "__Data Description__:\n",
    "\n",
    "This data approach student achievement in secondary education of two Portuguese schools. The data attributes include student grades, demographic, social and school related features) and it was collected by using school reports and questionnaires. Two datasets are provided regarding the performance in two distinct subjects: Mathematics (mat) and Portuguese language (por). In [Cortez and Silva, 2008], the two datasets were modeled under binary/five-level classification and regression tasks. Important note: the target attribute G3 has a strong correlation with attributes G2 and G1. This occurs because G3 is the final year grade (issued at the 3rd period), while G1 and G2 correspond to the 1st and 2nd period grades. It is more difficult to predict G3 without G2 and G1, but such prediction is much more useful (see paper source for more details).\n",
    "\n",
    "\n",
    "__Attribute Information__:\n",
    "\n",
    "Input Variables:\n",
    "\n",
    "1 school - student's school (binary: 'GP' - Gabriel Pereira or 'MS' - Mousinho da Silveira) \n",
    "\n",
    "2 sex - student's sex (binary: 'F' - female or 'M' - male) \n",
    "\n",
    "3 age - student's age (numeric: from 15 to 22) \n",
    "\n",
    "4 address - student's home address type (binary: 'U' - urban or 'R' - rural) \n",
    "\n",
    "5 famsize - family size (binary: 'LE3' - less or equal to 3 or 'GT3' - greater than 3) \n",
    "\n",
    "6 Pstatus - parent's cohabitation status (binary: 'T' - living together or 'A' - apart) \n",
    "\n",
    "7 Medu - mother's education (numeric: 0 - none, 1 - primary education (4th grade), 2 â€“ 5th to 9th grade, 3 â€“ secondary education or 4 â€“ higher education) \n",
    "\n",
    "8 Fedu - father's education (numeric: 0 - none, 1 - primary education (4th grade), 2 â€“ 5th to 9th grade, 3 â€“ secondary education or 4 â€“ higher education) \n",
    "\n",
    "9 Mjob - mother's job (nominal: 'teacher', 'health' care related, civil 'services' (e.g. administrative or police), 'at_home' or 'other') \n",
    "\n",
    "10 Fjob - father's job (nominal: 'teacher', 'health' care related, civil 'services' (e.g. administrative or police), 'at_home' or 'other') \n",
    "\n",
    "11 reason - reason to choose this school (nominal: close to 'home', school 'reputation', 'course' preference or 'other') \n",
    "\n",
    "12 guardian - student's guardian (nominal: 'mother', 'father' or 'other') \n",
    "\n",
    "13 traveltime - home to school travel time (numeric: 1 - <15 min., 2 - 15 to 30 min., 3 - 30 min. to 1 hour, or 4 - >1 hour) \n",
    "\n",
    "14 studytime - weekly study time (numeric: 1 - <2 hours, 2 - 2 to 5 hours, 3 - 5 to 10 hours, or 4 - >10 hours) \n",
    "\n",
    "15 failures - number of past class failures (numeric: n if 1<=n<3, else 4) \n",
    "\n",
    "16 schoolsup - extra educational support (binary: yes or no)\n",
    "\n",
    "17 famsup - family educational support (binary: yes or no) \n",
    "\n",
    "18 paid - extra paid classes within the course subject (Math or Portuguese) (binary: yes or no) \n",
    "\n",
    "19 activities - extra-curricular activities (binary: yes or no) \n",
    "\n",
    "20 nursery - attended nursery school (binary: yes or no) \n",
    "\n",
    "21 higher - wants to take higher education (binary: yes or no) \n",
    "\n",
    "22 internet - Internet access at home (binary: yes or no) \n",
    "\n",
    "23 romantic - with a romantic relationship (binary: yes or no) \n",
    "\n",
    "24 famrel - quality of family relationships (numeric: from 1 - very bad to 5 - excellent) \n",
    "\n",
    "25 freetime - free time after school (numeric: from 1 - very low to 5 - very high) \n",
    "\n",
    "26 goout - going out with friends (numeric: from 1 - very low to 5 - very high)\n",
    "\n",
    "27 Dalc - workday alcohol consumption (numeric: from 1 - very low to 5 - very high) \n",
    "\n",
    "28 Walc - weekend alcohol consumption (numeric: from 1 - very low to 5 - very high) \n",
    "\n",
    "29 health - current health status (numeric: from 1 - very bad to 5 - very good) \n",
    "\n",
    "30 absences - number of school absences (numeric: from 0 to 93) \n",
    "\n",
    "Output variables:\n",
    "\n",
    "These grades are related with the course subject, Math or Portuguese...\n",
    "\n",
    "31 G1 - first period grade (numeric: from 0 to 20) \n",
    "\n",
    "31 G2 - second period grade (numeric: from 0 to 20) \n",
    "\n",
    "32 G3 - final grade (numeric: from 0 to 20, output target)\n",
    "\n",
    "__Additional Citation__:\n",
    "\n",
    "P. Cortez and A. Silva. Using Data Mining to Predict Secondary School Student Performance. In A. Brito and J. Teixeira Eds., Proceedings of 5th FUture BUsiness TEChnology Conference (FUBUTEC 2008) pp. 5-12, Porto, Portugal, April, 2008, EUROSIS, ISBN 978-9077381-39-7. \n",
    "[Web Link]\n",
    "\n",
    "----------------------------------------------------------------------------------------------------------------------"
   ]
  },
  {
   "cell_type": "markdown",
   "metadata": {},
   "source": [
    "<b>1. (5 Points) Packages and Prebuilt Functions </b>\n",
    "\n",
    "    a) (2 points) Run the code block below to load in needed packages"
   ]
  },
  {
   "cell_type": "code",
   "execution_count": null,
   "metadata": {},
   "outputs": [],
   "source": [
    "import numpy as np\n",
    "import pandas as pd\n",
    "import sklearn\n",
    "from sklearn.preprocessing import StandardScaler\n",
    "from sklearn.model_selection import train_test_split\n",
    "from sklearn.ensemble import RandomForestClassifier\n",
    "from sklearn.ensemble import AdaBoostClassifier\n",
    "from sklearn.neighbors import KNeighborsClassifier\n",
    "import os\n",
    "import warnings\n",
    "\n",
    "warnings.filterwarnings('ignore')"
   ]
  },
  {
   "cell_type": "markdown",
   "metadata": {},
   "source": [
    "    b) (3 points) Copy over the get_download_path() function we have used elsewhere in the course and run this cell to load in its functionality."
   ]
  },
  {
   "cell_type": "code",
   "execution_count": null,
   "metadata": {},
   "outputs": [],
   "source": []
  },
  {
   "cell_type": "markdown",
   "metadata": {},
   "source": [
    "<b>2. (15 Points) Data </b>\n",
    "\n",
    "    a) (3 points) Place the \"student-mat.xlsx\" in your Downloads folder.  Then, read the data file in python and display the first 5 rows."
   ]
  },
  {
   "cell_type": "code",
   "execution_count": null,
   "metadata": {},
   "outputs": [],
   "source": [
    "# Your code below\n",
    "grades = ..."
   ]
  },
  {
   "cell_type": "markdown",
   "metadata": {},
   "source": [
    "    b) (6 points) Check if there are any NaN values using the \".info\" and \".describe\" commands and comment in the markdown cell why or why not you think there are null values - should be a sentence or two.  Comment on the distribution (mean, min, max, standard deviation) of the age and studytime columns."
   ]
  },
  {
   "cell_type": "code",
   "execution_count": null,
   "metadata": {},
   "outputs": [],
   "source": [
    "grades.info()"
   ]
  },
  {
   "cell_type": "code",
   "execution_count": null,
   "metadata": {},
   "outputs": [],
   "source": [
    "grades.describe()"
   ]
  },
  {
   "cell_type": "markdown",
   "metadata": {},
   "source": []
  },
  {
   "cell_type": "markdown",
   "metadata": {},
   "source": [
    "    c) (6 points) Drop the 'G1' and 'G2' columns.  In a markdown cell, explain why we dropped these two columns (hint, check the data description)."
   ]
  },
  {
   "cell_type": "code",
   "execution_count": null,
   "metadata": {},
   "outputs": [],
   "source": []
  },
  {
   "cell_type": "markdown",
   "metadata": {},
   "source": []
  },
  {
   "cell_type": "markdown",
   "metadata": {},
   "source": [
    "<b>3. (15 points) Working with Missing Data</b>\n",
    "\n",
    "    a) (4 points) Print out the column names of any variables that contain null values along with the number of nulls that column has in our dataset. "
   ]
  },
  {
   "cell_type": "code",
   "execution_count": null,
   "metadata": {},
   "outputs": [],
   "source": []
  },
  {
   "cell_type": "markdown",
   "metadata": {},
   "source": [
    "    b) (2 points) Print out all rows in which the column \"studytime\" contains a null value."
   ]
  },
  {
   "cell_type": "code",
   "execution_count": null,
   "metadata": {},
   "outputs": [],
   "source": []
  },
  {
   "cell_type": "markdown",
   "metadata": {},
   "source": [
    "    c) (4 points) Replace (impute) all null values of the column \"studytime\" with the mean value for the existing values of \"studytime\"."
   ]
  },
  {
   "cell_type": "code",
   "execution_count": null,
   "metadata": {},
   "outputs": [],
   "source": [
    "mean_value = ..."
   ]
  },
  {
   "cell_type": "markdown",
   "metadata": {},
   "source": [
    "    d) (3 points) What are some other methods to fill in missing values for both qualitative and quantitative data?  Does it ever make sense to fill in missing data with 0s?"
   ]
  },
  {
   "cell_type": "markdown",
   "metadata": {},
   "source": []
  },
  {
   "cell_type": "markdown",
   "metadata": {},
   "source": [
    "    e) (2 points) Drop all remaining rows that contain a null value.  Print out how many rows are now in our dataset."
   ]
  },
  {
   "cell_type": "code",
   "execution_count": null,
   "metadata": {},
   "outputs": [],
   "source": []
  },
  {
   "cell_type": "markdown",
   "metadata": {},
   "source": [
    "<b>4. (20 points) Creating Bins with Our Dependent Variable </b>\n",
    "\n",
    "    a) (2 points) Print all unique values of 'G3'."
   ]
  },
  {
   "cell_type": "code",
   "execution_count": null,
   "metadata": {},
   "outputs": [],
   "source": []
  },
  {
   "cell_type": "markdown",
   "metadata": {},
   "source": [
    "    b) (2 points) Plot 'G3' as a histogram."
   ]
  },
  {
   "cell_type": "code",
   "execution_count": null,
   "metadata": {},
   "outputs": [],
   "source": []
  },
  {
   "cell_type": "markdown",
   "metadata": {},
   "source": [
    "    c) (6 points) Use \"qcut\" to create 4 bins for 'G3' in a variable called \"g3_band\".  What is the difference between \"cut\" and \"qcut\"?"
   ]
  },
  {
   "cell_type": "code",
   "execution_count": null,
   "metadata": {},
   "outputs": [],
   "source": []
  },
  {
   "cell_type": "markdown",
   "metadata": {},
   "source": []
  },
  {
   "cell_type": "markdown",
   "metadata": {},
   "source": [
    "    d) (4 points) Print out the value counts for g3_band.  Logically, why doesn't the qcut work as expected?  (hint - is the distribution even accross the value counts?)"
   ]
  },
  {
   "cell_type": "code",
   "execution_count": null,
   "metadata": {},
   "outputs": [],
   "source": []
  },
  {
   "cell_type": "markdown",
   "metadata": {},
   "source": []
  },
  {
   "cell_type": "markdown",
   "metadata": {},
   "source": [
    "    e) (3 points) Create a new variable called \"grades\" which is a 4 binned qcut with labels of 0, 1, 2, and 3.  "
   ]
  },
  {
   "cell_type": "code",
   "execution_count": null,
   "metadata": {},
   "outputs": [],
   "source": [
    "grades['grades'] = ..."
   ]
  },
  {
   "cell_type": "markdown",
   "metadata": {},
   "source": [
    "    f) (3 points) Drop the columns \"G3\" and \"g3_band\".  Print out the value counts of \"grades\"."
   ]
  },
  {
   "cell_type": "code",
   "execution_count": null,
   "metadata": {},
   "outputs": [],
   "source": []
  },
  {
   "cell_type": "markdown",
   "metadata": {},
   "source": [
    "<b>5. (25 Points) First Machine Learning Models </b>"
   ]
  },
  {
   "cell_type": "markdown",
   "metadata": {},
   "source": [
    "    a) (3 points) Create Y using the variable \"grades\" and all other variables as the X."
   ]
  },
  {
   "cell_type": "code",
   "execution_count": null,
   "metadata": {},
   "outputs": [],
   "source": [
    "Y = ...\n",
    "X = ..."
   ]
  },
  {
   "cell_type": "markdown",
   "metadata": {},
   "source": [
    "    b) (5 points) Run the code block below.  What is it doing?  Explain what a \"dummy variable\" is.  Why are we turning changing these variables?  (hint - do all Machine Learning algorithms work with categorical variables in scikit learn?)"
   ]
  },
  {
   "cell_type": "code",
   "execution_count": null,
   "metadata": {},
   "outputs": [],
   "source": [
    "X = pd.get_dummies(X)\n",
    "print(X.columns)\n",
    "X.head()"
   ]
  },
  {
   "cell_type": "markdown",
   "metadata": {},
   "source": []
  },
  {
   "cell_type": "markdown",
   "metadata": {},
   "source": [
    "    c) (2 points) Split the data into a training set as well a test set for both your X variables as well as for your Y variable with 21% test size."
   ]
  },
  {
   "cell_type": "code",
   "execution_count": null,
   "metadata": {},
   "outputs": [],
   "source": [
    "X_train, X_test, Y_train, Y_test = ..."
   ]
  },
  {
   "cell_type": "markdown",
   "metadata": {},
   "source": [
    "    d) (15 points) Interpret the results of the machine learning models' results below.  Namely, described what the training accuracy, testing accuracy and the difference between the two indicate.  Note how you tuned the hyper-parameters and why you ended up with the ones you did choose (ie: n_estimators, learning_rate, n_neighbors).  Choose one of the models and briefly explain at a high level how it works (2-4 sentences)."
   ]
  },
  {
   "cell_type": "code",
   "execution_count": null,
   "metadata": {},
   "outputs": [],
   "source": [
    "# Random Forest\n",
    "random_forest = RandomForestClassifier(n_estimators=...)\n",
    "random_forest.fit(X_train, Y_train)\n",
    "random_forest_train_acc = random_forest.score(X_train, Y_train)\n",
    "random_forest_test_acc = random_forest.score(X_test, Y_test)\n",
    "print ('random_forest training acuracy= ',random_forest_train_acc)\n",
    "print('random_forest test accuracy= ',random_forest_test_acc)"
   ]
  },
  {
   "cell_type": "code",
   "execution_count": null,
   "metadata": {},
   "outputs": [],
   "source": [
    "# AdaBoost\n",
    "adaboost = AdaBoostClassifier(n_estimators=..., learning_rate=...)\n",
    "adaboost.fit(X_train, Y_train)\n",
    "adaboost_train_acc = adaboost.score(X_train, Y_train)\n",
    "adaboost_test_acc = adaboost.score(X_test, Y_test)\n",
    "print ('AdaBoost training acuracy= ',adaboost_train_acc)\n",
    "print('AdaBoost test accuracy= ',adaboost_test_acc)"
   ]
  },
  {
   "cell_type": "code",
   "execution_count": null,
   "metadata": {},
   "outputs": [],
   "source": [
    "# K Nearest Neightbors\n",
    "knn = KNeighborsClassifier(n_neighbors=...)                  \n",
    "knn.fit(X_train, Y_train)                                    \n",
    "knn_train_acc = knn.score(X_train, Y_train)\n",
    "knn_test_acc = knn.score(X_test, Y_test)\n",
    "print ('kNN training acuracy= ',knn_train_acc)\n",
    "print('kNN test accuracy= ',knn_test_acc)"
   ]
  },
  {
   "cell_type": "markdown",
   "metadata": {},
   "source": []
  },
  {
   "cell_type": "markdown",
   "metadata": {},
   "source": [
    "<b>6. (20 Points) Your Own Machine Learning Model </b>\n",
    "\n",
    "    Come up with your own machine learning model different than the ones above (you can still use the same type of method if you wish, just tune the parameters differently) and interpret the results as well as document your steps and reasonings. Use as many code blocks as you like and be creative - there are infinetely many ways to do this!  Additionally, use graph(s) to explain your results and/or why you chose to use a certain method."
   ]
  },
  {
   "cell_type": "code",
   "execution_count": null,
   "metadata": {},
   "outputs": [],
   "source": []
  }
 ],
 "metadata": {
  "kernelspec": {
   "display_name": "Python 3",
   "language": "python",
   "name": "python3"
  },
  "language_info": {
   "codemirror_mode": {
    "name": "ipython",
    "version": 3
   },
   "file_extension": ".py",
   "mimetype": "text/x-python",
   "name": "python",
   "nbconvert_exporter": "python",
   "pygments_lexer": "ipython3",
   "version": "3.7.3"
  }
 },
 "nbformat": 4,
 "nbformat_minor": 4
}
