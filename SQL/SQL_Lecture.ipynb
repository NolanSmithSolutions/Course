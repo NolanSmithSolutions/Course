{
 "cells": [
  {
   "cell_type": "markdown",
   "metadata": {},
   "source": [
    "## Storing and Pulling Data from Databases with SQL\n",
    "\n",
    "### Set Up\n",
    "1.\tGo to github \n",
    "2.\tDownload the 'Currency_Continent.csv', 'Currency_Map.csv' and 'ETFs.csv' files\n",
    "3.\tMove these files to a dedicated folder on your desktop or other location\n",
    "\n",
    "\n",
    "### Needed Packages\n",
    "1.\tpandas\n",
    "2.  sqlite3\n",
    "3.  datetime"
   ]
  },
  {
   "cell_type": "markdown",
   "metadata": {},
   "source": [
    "# Table of Contents\n",
    "\n",
    "### SQL Overview\n",
    "#### <a href='#1'>Introduction</a>\n",
    "\n",
    "### Basics\n",
    "#### <a href='#2'>Table Creation</a>\n",
    "#### <a href='#3'>Table Modification</a>\n",
    "* INSERT INTO\n",
    "* DELETE FROM\n",
    "\n",
    "#### <a href='#4'>The Basic SQL Statement Structure</a>\n",
    "\n",
    "### Advanced\n",
    "#### <a href='#5'>Joining Tables</a>\n",
    "#### <a href='#6'>Table Aggregation by Groups</a>\n",
    "#### <a href='#7'>IN and BETWEEN Keywords</a>\n",
    "\n",
    "### Using Pandas\n",
    "#### <a href='#9'>Loading CSV/Excel Data into SQL Database</a>\n",
    "\n",
    "#### <a href='#15'>Weekly Readings/Videos</a>\n",
    "#### <a href='#16'>Extra Practice</a>"
   ]
  },
  {
   "cell_type": "markdown",
   "metadata": {},
   "source": [
    "<a id='1'></a>\n",
    "## Introduction\n",
    "\n",
    "![Meme](https://benjdd.com/assets/memes/sql-meme-1.jpg) \n",
    "\n",
    "Unlike most other programming languages, SQL is not designed for computations, instead SQL is used to interact and pull data out of data sets which can then be used by other languages to do analysis.  Additionally, SQL allows its users to grab data from any number of data sets simultaneously, so long as a relationship exists between them.  With SQL (pronounced like \"sequel\"), tables are the data organization structure. A table has a fixed number of named columns and a table row represents a single data record which contains one unique value for each column.  An example can be seen below in which a table represents a student's name, age and major with each row representing a different student.\n",
    "\n",
    "|Name   | Age  | Major      |\n",
    "|-------|------|------------|\n",
    "|James  | 19   | Mathematics|\n",
    "|Sarah  | 20   | Finance    |\n",
    "|Isabel | 18   | Economics  |\n",
    "|Alex   | 21   | Accounting |\n",
    "\n",
    "First, we will start with the basics by importing 2 widely used packages into python, \"sqlite3\" which allows us to interact with SQL databases and \"pandas\" which is sort of like a souped-up version of excel in programming languages that works great with manipulating and presenting table data."
   ]
  },
  {
   "cell_type": "code",
   "execution_count": null,
   "metadata": {},
   "outputs": [],
   "source": [
    "# sqlite3, pandas and datetime packages come with the Python/Anaconda installation\n",
    "import sqlite3\n",
    "import pandas as pd\n",
    "import datetime as dt\n",
    "\n",
    "# if this errors out, you can uncomment out these commands in a different cell:\n",
    "#!conda install sqlite3\n",
    "#!conda install pandas\n",
    "#!conda install datetime"
   ]
  },
  {
   "cell_type": "code",
   "execution_count": null,
   "metadata": {},
   "outputs": [],
   "source": [
    "# open connnection to a db file stored locally on disk - if file doesn't exist it is created\n",
    "connection = sqlite3.connect('lecture.db')\n",
    "\n",
    "#Check if \"lecture.db\" exists using linux commands\n",
    "!ls"
   ]
  },
  {
   "cell_type": "code",
   "execution_count": null,
   "metadata": {},
   "outputs": [],
   "source": [
    "# In order to run SQL commands with sqlite 3, we must create a cursor object\n",
    "# that traverses the database to run sql commands execute them\n",
    "cursor = connection.cursor()"
   ]
  },
  {
   "cell_type": "markdown",
   "metadata": {},
   "source": [
    "<a id='2'></a>\n",
    "## Table Creation\n",
    "\n",
    "SQL can be used to create tables without existing data or to pull directly from existing databases.  Populating small tables of data by hand is inefficient for larger databases but works well with demonstrations.  You can create a table in SQL using statements in this format:\n",
    "\n",
    "<code>\n",
    "  CREATE TABLE [table_name] AS\n",
    "  SELECT [val1] AS [column1], [val2] AS [column2], ... UNION\n",
    "  SELECT [val3]             , [val4]             , ... UNION\n",
    "  SELECT [val5]             , [val6]             , ...;\n",
    "</code>\n",
    "\n",
    "For example, if we wanted to create a table called resume_experience which contains columns for Years, City, Occupation, and Cost of Living you would write something like this:\n",
    "\n",
    "<code>\n",
    "  CREATE TABLE resume_experience AS\n",
    "  SELECT 3 AS Years, Lexington AS City, Undergraduate AS Occupation, Low AS Cost_of_Living UNION\n",
    "  SELECT 2,          Washington D.C.,   Research Assistant,          High                  UNION\n",
    "  SELECT 1,          Berkeley,          Masters,                     High                  UNION\n",
    "  SELECT 1,          St. Louis,         Financial Analyst,           Low;\n",
    "</code>"
   ]
  },
  {
   "cell_type": "code",
   "execution_count": null,
   "metadata": {},
   "outputs": [],
   "source": [
    "# Check that we are working with an empty db\n",
    "cursor.execute(\"DROP TABLE IF EXISTS resume_experience;\")\n",
    "\n",
    "# We can define long SQL commands within three quotes\n",
    "\n",
    "sql_command = \"\"\"\n",
    "CREATE TABLE resume_experience AS\n",
    "  SELECT 3 AS Years, \"Lexington\" AS City, \"Undergraduate\" AS Occupation, \"Low\" AS Cost_of_Living UNION\n",
    "  SELECT 2,          \"Washington D.C.\",   \"Research Assistant\",          \"High\"                  UNION\n",
    "  SELECT 1,          \"Berkeley\",          \"Masters\",                     \"High\"                  UNION\n",
    "  SELECT 1,          \"St. Louis\",         \"Financial Analyst\",           \"Low\";\"\"\"\n",
    "\n",
    "# In order to run SQL command on the databse file we have to execute them with the cursor\n",
    "cursor.execute(sql_command)\n",
    "\n",
    "# Load the sql table into a pandas dataframe for aesthetics\n",
    "# The function's arguments are (sql_query_to_run, connection_to_database)\n",
    "pd.read_sql_query('SELECT * FROM resume_experience',con = connection)"
   ]
  },
  {
   "cell_type": "code",
   "execution_count": null,
   "metadata": {},
   "outputs": [],
   "source": [
    "# Check that we are working with an empty db\n",
    "cursor.execute(\"DROP TABLE IF EXISTS teachers;\")\n",
    "\n",
    "connection = sqlite3.connect('lecture.db')\n",
    "cursor = connection.cursor()\n",
    "\n",
    "# We can also create empty databases to populate later\n",
    "# VARCHAR string that can be up to X characters\n",
    "# CHAR has to be X characters\n",
    "# INTEGER contains numerical data without decimal points\n",
    "\n",
    "#The table and column names must start with a letter and can be followed by letters, numbers, or underscores \n",
    "#- not to exceed a total of 30 characters in length. \n",
    "#Do not use any SQL reserved keywords as names for tables or column names \n",
    "#(such as \"select\", \"create\", \"insert\", etc).\n",
    "\n",
    "sql_command = \"\"\"\n",
    "CREATE TABLE teachers (\n",
    "Staff_number INTEGER PRIMARY KEY,\n",
    "Fname VARCHAR(20),\n",
    "Lname VARCHAR(30),\n",
    "Subject CHAR(20),\n",
    "City CHAR(20));\"\"\"\n",
    "\n",
    "cursor.execute(sql_command)"
   ]
  },
  {
   "cell_type": "markdown",
   "metadata": {},
   "source": [
    "<a id='3'></a>\n",
    "## Table Modification\n",
    "\n",
    "### INSERT INTO\n",
    "\n",
    "![InsertMeme](https://memegenerator.net/img/instances/66765869/writing-insert-based-on-join-sql-queries.jpg) \n",
    "\n",
    "After a table has been created, a user can add more rows manually using the INSERT INTO statement.\n",
    "\n",
    "<code>\n",
    "INSERT INTO [table] ([column1], [column2], ...)\n",
    "VALUES ([value1], [value2], ...), ([value1], [value2], ...);\n",
    "</code>\n",
    "\n",
    "- If there exists a value for each row, column pairing then you do not have to specify column names.\n",
    "- For columns where a value is not specified, the default value will be used if available (specified by the creator) otherwise it will appear empty."
   ]
  },
  {
   "cell_type": "code",
   "execution_count": null,
   "metadata": {},
   "outputs": [],
   "source": [
    "sql_command = '''\n",
    "INSERT INTO teachers\n",
    "(Staff_number, Fname, Lname, Subject, City)\n",
    "VALUES\n",
    "(300, \"Wendy\", \"Liu\", \"Finance\", \"Lexington\");'''\n",
    "\n",
    "cursor.execute(sql_command)"
   ]
  },
  {
   "cell_type": "code",
   "execution_count": null,
   "metadata": {},
   "outputs": [],
   "source": [
    "# Assume we already have a lecture.db sqlite database file with a Table called teachers (which we do)\n",
    "# Add several values with sqlite3 and string formatting\n",
    "\n",
    "# list of tuples we want to add to the database\n",
    "teacher_data = [ (479, \"Chris\", \"Bollinger\", \"Economics\", \"Lexington\"), \\\n",
    "              (327, \"Adib\", \"Bagh\", \"Mathematics\", \"Lexington\"),  \\\n",
    "              (202, \"Shelly\", \"Antonio\", \"Economics\", \"Washington D.C.\"), \\\n",
    "             (275, \"Wayne\", \"Delker\", \"Industrial Engineering\", \"Berkeley\"), \\\n",
    "               (115, \"Teresa\", \"Glenn\", \"Mathematics\", \"St. Louis\")]\n",
    "\n",
    "for s in teacher_data:\n",
    "    \n",
    "    # define string to be formatted, name format placeholders within curly brackets\n",
    "    format_str = '''\n",
    "    INSERT INTO teachers (Staff_number, fname, lname, Subject, City)    \n",
    "    VALUES (\"{number}\", \"{first}\", \"{last}\", \"{subject}\", \"{city}\");\n",
    "    '''\n",
    "\n",
    "    # define SQL command\n",
    "    sql_command = format_str.format(number=s[0],first=s[1], last=s[2], \n",
    "                                subject=s[3], city = s[4]) \n",
    "    \n",
    "    cursor.execute(sql_command)\n",
    "    \n",
    "connection.commit()\n",
    "pd.read_sql_query('SELECT * FROM teachers',con = connection)"
   ]
  },
  {
   "cell_type": "markdown",
   "metadata": {},
   "source": [
    "### DELETE FROM\n",
    "\n",
    "The delete statement is used to delete records or rows from the table.\n",
    "<code>\n",
    "delete from \"tablename\"\n",
    "\n",
    "where \"columnname\" \n",
    "  OPERATOR \"value\" \n",
    "[and|or \"column\" \n",
    "  OPERATOR \"value\"];\n",
    "</code>\n",
    "Anything above in brackets is an optional statement.\n",
    "\n",
    "\n",
    "The example below deletes all rows from the table named \"system\" that has rows in which the column \"id\" is equal to \"642a\".\n",
    "<code>    \n",
    "delete from system\n",
    "  where id = '642a';\n",
    "</code>\n",
    "\n",
    "To delete an entire record/row from a table, enter \"delete from\" followed by the table name, followed by the where clause which contains the conditions to delete. Rembemer... if you leave off the where clause, ALL RECORDS WILL BE DELETED."
   ]
  },
  {
   "cell_type": "code",
   "execution_count": null,
   "metadata": {},
   "outputs": [],
   "source": [
    "# never forget to commit your queries if you have updated the database\n",
    "# and close the connection when you're done\n",
    "\n",
    "connection.commit() \n",
    "\n",
    "connection.close()"
   ]
  },
  {
   "cell_type": "markdown",
   "metadata": {},
   "source": [
    "<a id='4'></a>\n",
    "## The Basic SQL Statement Structure\n",
    "\n",
    "![Santa](https://static.displate.com/392x280/displate/2021-01-23/2d0c229cf73a99888c63d5f84833bbdb_30f028b3a61b5650c8e57f1084529e6c.jpg) \n",
    "\n",
    "<code>\n",
    "SELECT [columns] \n",
    "FROM [tables] \n",
    "WHERE [condition] \n",
    "GROUP BY [columns]\n",
    "HAVING [condition]\n",
    "ORDER BY [columns] \n",
    "LIMIT [limit];\n",
    "</code>\n",
    "\n",
    "\n",
    "Let's break down this statement:\n",
    "\n",
    "<b>SELECT</b> [columns] tells SQL that we want to include the given columns in our output table; [columns] is a comma-separated list of column names, and * can be used to select all columns\n",
    "\n",
    "<b>FROM</b> [table] tells SQL that the columns we want to select are from the given table; see the joins section to see how to select from multiple tables\n",
    "\n",
    "<b>WHERE</b> [condition] filters the output table by only including rows whose values satisfy the given [condition], a boolean expression\n",
    "\n",
    "<b>GROUP BY</b> combines those rows into groups based on these [columns]\n",
    "\n",
    "<b>HAVING</b> Filters groups, is used when the WHERE keyword cannot be used with aggregate functions.  ie: HAVING count(variable) > 15\n",
    "\n",
    "<b>ORDER BY</b> [columns] orders the rows in the output table by the given comma-separated list of columns\n",
    "\n",
    "<b>LIMIT</b> [limit] limits the number of rows in the output table by the integer [limit]\n",
    "\n",
    "Expressions in the SELECT, WHERE, and ORDER BY clauses can contain one or more of the following operators:\n",
    "\n",
    "- comparison operators: =, >, <, <=, >=, <> or != (\"not equal\")\n",
    "- boolean operators: AND, OR\n",
    "- arithmetic operators: +, -, *, /\n",
    "- concatenation operator: ||\n",
    "\n",
    "Note: We capitalize SQL keywords purely because of style convention. It makes queries much easier to read, though they will still work if you don't capitalize keywords.\n",
    "\n",
    "<i>source: https://inst.eecs.berkeley.edu/~cs61a/sp19/lab/lab12/<i>"
   ]
  },
  {
   "cell_type": "code",
   "execution_count": null,
   "metadata": {},
   "outputs": [],
   "source": [
    "connection = sqlite3.connect('lecture.db')\n",
    "cursor = connection.cursor()\n",
    "\n",
    "#The City and Order by variables are not included in the output but still manipulate the dataset\n",
    "\n",
    "sql_statement = \"\"\"\n",
    "SELECT Staff_number, Lname, Subject\n",
    "FROM teachers\n",
    "WHERE City='Lexington'\n",
    "ORDER BY Fname;\n",
    "\"\"\"\n",
    "\n",
    "pd.read_sql_query(sql_statement,con = connection)"
   ]
  },
  {
   "cell_type": "markdown",
   "metadata": {},
   "source": [
    "## -------------PRACTICE-------------\n",
    "\n",
    "1. Create a table of your top 5 movies or tv show with when the movie was probably released, your rating out of 10 for it and the genre.  Name this table \"Movies\"."
   ]
  },
  {
   "cell_type": "code",
   "execution_count": null,
   "metadata": {},
   "outputs": [],
   "source": []
  },
  {
   "cell_type": "markdown",
   "metadata": {},
   "source": [
    "2. Create another table related to question 1 but has the movie/tv show name as one column name and another column for character name using python lists and the insert into command.  Please have at least 2 characters for every movie/tv show that us.  Name this table \"Characters\"."
   ]
  },
  {
   "cell_type": "code",
   "execution_count": null,
   "metadata": {},
   "outputs": [],
   "source": []
  },
  {
   "cell_type": "markdown",
   "metadata": {},
   "source": [
    "3. Select your top 2 rated movies using an order by and limit command from the \"Movies\" table."
   ]
  },
  {
   "cell_type": "code",
   "execution_count": null,
   "metadata": {},
   "outputs": [],
   "source": []
  },
  {
   "cell_type": "markdown",
   "metadata": {},
   "source": [
    "<a id='5'></a>\n",
    "## Joining Tables\n",
    "\n",
    "![SeriousJoin](https://learnsql.com/blog/learn-and-practice-sql-joins/2.png)\n",
    "\n",
    "<code>\n",
    "SELECT [columns]\n",
    "FROM [table1] {as [new_table_name]}, [table2] {as [new_table_name2]}, ... \n",
    "WHERE [condition], [condition2], ...\n",
    "ORDER BY [columns]\n",
    "LIMIT</code>\n",
    "\n",
    "<i>Note, you do not have to rename each table to a new table name.</i>\n",
    "\n",
    "The example below the tables are renamed a and b because the tables include variables that exist in both databases.  The names a and b were chosen because they are shorter than their actual names to save time.  When referencing the column names, use the dot notation [table_name].[column name] to distinguish which columns are from which table.\n",
    "\n",
    "\n",
    "![FunnyJoin](https://i.redd.it/9tsgqvarse821.jpg) "
   ]
  },
  {
   "cell_type": "code",
   "execution_count": null,
   "metadata": {},
   "outputs": [],
   "source": [
    "join_statement = \"\"\"\n",
    "SELECT * FROM resume_experience as a, teachers as b \n",
    "WHERE a.City = b.City;\n",
    "\"\"\"\n",
    "\n",
    "pd.read_sql_query(join_statement,con = connection)"
   ]
  },
  {
   "cell_type": "code",
   "execution_count": null,
   "metadata": {},
   "outputs": [],
   "source": [
    "join_statement = \"\"\"\n",
    "SELECT * FROM resume_experience as a, teachers as b \n",
    "WHERE a.City = b.City AND Staff_number < 320\n",
    "ORDER BY Cost_of_Living, Years DESC;\n",
    "\"\"\"\n",
    "\n",
    "pd.read_sql_query(join_statement,con = connection)"
   ]
  },
  {
   "cell_type": "markdown",
   "metadata": {},
   "source": [
    "<a id='6'></a>\n",
    "## Table Aggregation by Groups\n",
    "\n",
    "![FunnyGroup](https://cdn.buttercms.com/51DnKV3OSsix08qjx1NA) \n",
    "\n",
    "Table agregation allows us to accumulate values via aggregator statements across rows in our SQL database by grouping the data together by one or more qualitative variables.  The below functions are some examples of possible aggregate functions:\n",
    "\n",
    "- the sum of the values in the column for that grouping (SUM)\n",
    "- the maximum value (MAX),\n",
    "- the minimum value (MIN),\n",
    "- the number of rows in the group (COUNT),\n",
    "- the average over all of the values (AVG),\n",
    "\n",
    "Whenever an aggregation is done, a GROUP BY clause must be used with variable(s) in the SQL statement along with the aggregator function being used on variable(s) in the SELECT clause."
   ]
  },
  {
   "cell_type": "code",
   "execution_count": null,
   "metadata": {},
   "outputs": [],
   "source": [
    "group_statement = \"\"\"\n",
    "SELECT City, COUNT(City) as Number_of_Teachers\n",
    "FROM teachers\n",
    "GROUP BY City\n",
    ";\n",
    "\"\"\"\n",
    "\n",
    "pd.read_sql_query(group_statement,con = connection)"
   ]
  },
  {
   "cell_type": "markdown",
   "metadata": {},
   "source": [
    "<a id='7'></a>\n",
    "## IN and BETWEEN Keywords\n",
    "\n",
    "The IN conditional operator is really a set membership test operator. That is, it is used to test whether or not a value (stated before the keyword IN) is \"in\" the list of values provided after the keyword IN.\n",
    "\n",
    "<code>SELECT col1, SUM(col2)\n",
    "FROM \"list-of-tables\"\n",
    "WHERE col3 IN (list-of-values);</code>\n",
    "\n",
    "OR\n",
    "    \n",
    "<code>SELECT col1, SUM(col2)\n",
    "FROM \"list-of-tables\"\n",
    "WHERE col3 BETWEEN value1 \n",
    "AND value2; </code>\n",
    "\n",
    "An example can be seen below:\n",
    "\n",
    "<code>SELECT employeeid, lastname, salary\n",
    "FROM employee_info\n",
    "WHERE lastname IN ('Hernandez', 'Jones', 'Roberts', 'Ruiz');</code>\n",
    " \n",
    "\n",
    "This statement will select the employeeid, lastname, salary from the employee_info table where the lastname is equal to either: Hernandez, Jones, Roberts, or Ruiz. It will return the rows if it is ANY of these values.\n",
    "\n",
    "The IN conditional operator can be rewritten by using compound conditions using the equals operator and combining it with OR - with exact same output results:\n",
    "\n",
    "<code>SELECT employeeid, lastname, salary\n",
    "FROM employee_info\n",
    "WHERE lastname = 'Hernandez' OR lastname = 'Jones' OR lastname = 'Roberts'\n",
    "OR lastname = 'Ruiz';</code>\n",
    " \n",
    "\n",
    "As you can see, the IN operator is much shorter and easier to read when you are testing for more than two or three values.\n",
    "\n",
    "You can also use NOT IN to exclude the rows in your list.\n",
    "\n",
    "The BETWEEN conditional operator is used to test to see whether or not a value (stated before the keyword BETWEEN) is \"between\" the two values stated after the keyword BETWEEN.\n",
    "\n",
    "For example:\n",
    "\n",
    "<code>SELECT employeeid, age, lastname, salary\n",
    "FROM employee_info\n",
    "WHERE age BETWEEN 30 AND 40;</code>\n",
    "\n",
    "source: https://www.sqlcourse2.com/setoper.html"
   ]
  },
  {
   "cell_type": "code",
   "execution_count": null,
   "metadata": {},
   "outputs": [],
   "source": [
    "in_statement = \"\"\"\n",
    "SELECT City, Cost_of_Living\n",
    "FROM resume_experience\n",
    "WHERE Cost_of_Living in ('High')\n",
    "GROUP BY City\n",
    ";\n",
    "\"\"\"\n",
    "\n",
    "pd.read_sql_query(in_statement,con = connection)"
   ]
  },
  {
   "cell_type": "code",
   "execution_count": null,
   "metadata": {},
   "outputs": [],
   "source": [
    "between_statement = \"\"\"\n",
    "SELECT City, Years\n",
    "FROM resume_experience\n",
    "WHERE Years between 2 and 5\n",
    "GROUP BY City\n",
    ";\n",
    "\"\"\"\n",
    "\n",
    "pd.read_sql_query(between_statement,con = connection)"
   ]
  },
  {
   "cell_type": "markdown",
   "metadata": {},
   "source": [
    "## -------------PRACTICE-------------\n",
    "\n",
    "1. Join the \"Movies\" and \"Characters\" tables together by the movie id you used."
   ]
  },
  {
   "cell_type": "code",
   "execution_count": null,
   "metadata": {},
   "outputs": [],
   "source": []
  },
  {
   "cell_type": "markdown",
   "metadata": {},
   "source": [
    "2. Using the table you created above, display the count of the movies you had by genre."
   ]
  },
  {
   "cell_type": "code",
   "execution_count": null,
   "metadata": {},
   "outputs": [],
   "source": []
  },
  {
   "cell_type": "markdown",
   "metadata": {},
   "source": [
    "3. Using that same table, display the total sum of the ratings and the count of characters for the movies in every genre."
   ]
  },
  {
   "cell_type": "code",
   "execution_count": null,
   "metadata": {},
   "outputs": [],
   "source": []
  },
  {
   "cell_type": "markdown",
   "metadata": {},
   "source": [
    "<a id='8'></a>\n",
    "## Loading CSV/Excel Data into SQL Database\n",
    "![FunnyFunds](https://i.pinimg.com/736x/14/5c/32/145c32bf3771c7a5e36cef28b2f673c8.jpg) "
   ]
  },
  {
   "cell_type": "code",
   "execution_count": null,
   "metadata": {},
   "outputs": [],
   "source": [
    "#https://www.kaggle.com/stefanoleone992/mutual-funds-and-etfs\n",
    "\n",
    "#Used for timer\n",
    "start = dt.datetime.now()\n",
    "#Number of rows to read in at a time\n",
    "chunksize = 500\n",
    "\n",
    "#Used to increment\n",
    "j = 0\n",
    "index_start = 1\n",
    "\n",
    "for df in pd.read_csv('ETFs.csv', chunksize=chunksize, iterator=True, encoding='utf-8'):\n",
    "    \n",
    "    # Remove spaces from columns\n",
    "    df = df.rename(columns={c: c.replace(' ', '') for c in df.columns})\n",
    "\n",
    "    #Index the data\n",
    "    df.index += index_start    \n",
    "    j+=1\n",
    "\n",
    "    df.to_sql('ETF_data', connection, if_exists='replace') # name of SQL table, connection, append\n",
    "    print('{} seconds: completed {} rows'.format((dt.datetime.now() - start).seconds, j*chunksize))\n",
    "    index_start = df.index[-1] + 1 # update index start\n",
    "print('done')"
   ]
  },
  {
   "cell_type": "code",
   "execution_count": null,
   "metadata": {},
   "outputs": [],
   "source": [
    "sql_statement = \"\"\"\n",
    "SELECT *\n",
    "FROM ETF_data\n",
    ";\n",
    "\"\"\"\n",
    "\n",
    "pd.read_sql_query(sql_statement,con = connection)"
   ]
  },
  {
   "cell_type": "code",
   "execution_count": null,
   "metadata": {},
   "outputs": [],
   "source": [
    "#Used for timer\n",
    "start = dt.datetime.now()\n",
    "#Number of rows to read in at a time\n",
    "chunksize = 500\n",
    "\n",
    "#Used to increment\n",
    "j = 0\n",
    "index_start = 1\n",
    "\n",
    "for df in pd.read_csv('Currency_Map.csv', chunksize=chunksize, iterator=True, encoding='utf-8'):\n",
    "    \n",
    "    \n",
    "    # Remove spaces from columns\n",
    "    \n",
    "    df = df.rename(columns={c: c.replace(' ', '') for c in df.columns})\n",
    "    \n",
    "    #Index the data\n",
    "    df.index += index_start    \n",
    "    j+=1\n",
    "    df.to_sql('Currency_Map', connection, if_exists='replace') # name of SQL table, connection, append\n",
    "    print('{} seconds: completed {} rows'.format((dt.datetime.now() - start).seconds, j*chunksize))\n",
    "    index_start = df.index[-1] + 1 # update index start\n",
    "print('done')"
   ]
  },
  {
   "cell_type": "code",
   "execution_count": null,
   "metadata": {},
   "outputs": [],
   "source": [
    "sql_statement = \"\"\"\n",
    "SELECT *\n",
    "FROM Currency_Map\n",
    ";\n",
    "\"\"\"\n",
    "\n",
    "pd.read_sql_query(sql_statement,con = connection)"
   ]
  },
  {
   "cell_type": "code",
   "execution_count": null,
   "metadata": {},
   "outputs": [],
   "source": [
    "#Used for timer\n",
    "start = dt.datetime.now()\n",
    "#Number of rows to read in at a time\n",
    "chunksize = 500\n",
    "\n",
    "#Used to increment\n",
    "j = 0\n",
    "index_start = 1\n",
    "\n",
    "for df in pd.read_csv('Currency_Continent.csv', chunksize=chunksize, iterator=True, encoding='utf-8'):\n",
    "    \n",
    "    \n",
    "    # Remove spaces from columns\n",
    "    \n",
    "    df = df.rename(columns={c: c.replace(' ', '') for c in df.columns})\n",
    "    \n",
    "    #Index the data\n",
    "    df.index += index_start    \n",
    "    j+=1\n",
    "    df.to_sql('Currency_Continent', connection, if_exists='replace') # name of SQL table, connection, append\n",
    "    print('{} seconds: completed {} rows'.format((dt.datetime.now() - start).seconds, j*chunksize))\n",
    "    index_start = df.index[-1] + 1 # update index start\n",
    "print('done')"
   ]
  },
  {
   "cell_type": "code",
   "execution_count": null,
   "metadata": {},
   "outputs": [],
   "source": [
    "sql_statement = \"\"\"\n",
    "SELECT *\n",
    "FROM Currency_Continent\n",
    ";\n",
    "\"\"\"\n",
    "\n",
    "pd.read_sql_query(sql_statement,con = connection)"
   ]
  },
  {
   "cell_type": "markdown",
   "metadata": {},
   "source": [
    "## -------------PRACTICE-------------\n",
    "1. Query the fund_yield and fund_name for all PIMCO funds."
   ]
  },
  {
   "cell_type": "code",
   "execution_count": null,
   "metadata": {},
   "outputs": [],
   "source": [
    "sql_statement = \"\"\"\n",
    "SELECT *\n",
    "FROM ETF_data...\n",
    ";\n",
    "\"\"\"\n",
    "\n",
    "pd.read_sql_query(sql_statement,con = connection)"
   ]
  },
  {
   "cell_type": "code",
   "execution_count": null,
   "metadata": {},
   "outputs": [],
   "source": []
  },
  {
   "cell_type": "markdown",
   "metadata": {},
   "source": [
    "2. Using the Currency_Map table, find the conversion rate from between USD and GBP.  Please note that this table provides USD per unit of foreign currency.  Your final answer should be a number."
   ]
  },
  {
   "cell_type": "code",
   "execution_count": null,
   "metadata": {},
   "outputs": [],
   "source": [
    "sql_statement = \"\"\"\n",
    "SELECT * \n",
    "From Currency_Map...;\n",
    "\"\"\"\n",
    "conversion_rate = pd.read_sql_query(sql_statement,con = connection).iloc[0][0]\n",
    "print(conversion_rate)\n",
    "\n"
   ]
  },
  {
   "cell_type": "code",
   "execution_count": null,
   "metadata": {},
   "outputs": [],
   "source": []
  },
  {
   "cell_type": "markdown",
   "metadata": {},
   "source": [
    "3. Using the previous solution, query fund_name and net_assets from ETF_Data in GBP."
   ]
  },
  {
   "cell_type": "code",
   "execution_count": null,
   "metadata": {},
   "outputs": [],
   "source": [
    "sql_statement = \"\"\"\n",
    "SELECT *\n",
    "FROM ETF_data...\n",
    ";\n",
    "\"\"\"\n",
    "\n",
    "pd.read_sql_query(sql_statement,con = connection)"
   ]
  },
  {
   "cell_type": "code",
   "execution_count": null,
   "metadata": {},
   "outputs": [],
   "source": []
  },
  {
   "cell_type": "markdown",
   "metadata": {},
   "source": [
    "4. Query all fund_name and fund_treynor_ratio_5years where fund_treynor_ratio_5years is greater than 2.  Sort the query in ascending order."
   ]
  },
  {
   "cell_type": "code",
   "execution_count": null,
   "metadata": {},
   "outputs": [],
   "source": [
    "sql_statement = \"\"\"\n",
    "SELECT *\n",
    "FROM ETF_data...\n",
    ";\n",
    "\"\"\""
   ]
  },
  {
   "cell_type": "code",
   "execution_count": null,
   "metadata": {},
   "outputs": [],
   "source": []
  },
  {
   "cell_type": "markdown",
   "metadata": {},
   "source": [
    "5. Create a query that returns the USD conversion and continent for all matching currencies between Currency_Map and Currency_Continent. "
   ]
  },
  {
   "cell_type": "code",
   "execution_count": null,
   "metadata": {},
   "outputs": [],
   "source": [
    "join_statement = \"\"\"\n",
    "SELECT * FROM Currency_Map as a, Currency_Continent as b \n",
    "WHERE ...;\n",
    "\"\"\"\n",
    "\n",
    "pd.read_sql_query(join_statement,con = connection)"
   ]
  },
  {
   "cell_type": "code",
   "execution_count": null,
   "metadata": {},
   "outputs": [],
   "source": []
  },
  {
   "cell_type": "markdown",
   "metadata": {},
   "source": [
    "6. Find the total of net_assets for all ProShares ETF's.  Your answer should be a number."
   ]
  },
  {
   "cell_type": "code",
   "execution_count": null,
   "metadata": {},
   "outputs": [],
   "source": [
    "sql_statement = \"\"\"\n",
    "SELECT * \n",
    "From ETF_data...;\n",
    "\"\"\"\n",
    "total_net_assets = pd.read_sql_query(sql_statement,con = connection).iloc[0][0]\n",
    "print(total_net_assets)"
   ]
  },
  {
   "cell_type": "code",
   "execution_count": null,
   "metadata": {},
   "outputs": [],
   "source": []
  },
  {
   "cell_type": "code",
   "execution_count": null,
   "metadata": {},
   "outputs": [],
   "source": [
    "connection.commit() \n",
    "\n",
    "connection.close()"
   ]
  },
  {
   "cell_type": "markdown",
   "metadata": {},
   "source": [
    "<a id='15'></a>\n",
    "# Weekly Readings/Videos\n",
    "\n",
    "https://www.forbes.com/sites/kashmirhill/2012/02/16/how-target-figured-out-a-teen-girl-was-pregnant-before-her-father-did/?sh=298bbc656668\n",
    "\n",
    "https://www.forbes.com/sites/bernardmarr/2018/05/21/how-much-data-do-we-create-every-day-the-mind-blowing-stats-everyone-should-read/?sh=4ef6808160ba\n",
    "\n",
    "https://www.youtube.com/watch?v=JAO_3EvD3DY\n",
    "\n",
    "https://onlinedsa.merrimack.edu/nba-analytics-changing-basketball/\n",
    "\n",
    "https://www.thespax.com/nba/analyzing-nba-spacing-with-player-tracking-data/"
   ]
  },
  {
   "cell_type": "markdown",
   "metadata": {},
   "source": [
    "<a id='16'></a>\n",
    "# Extra Practice"
   ]
  },
  {
   "cell_type": "markdown",
   "metadata": {},
   "source": [
    "https://sqlzoo.net/wiki/SELECT_basics\n",
    "\n",
    "https://www.w3schools.com/sql/sql_exercises.asp"
   ]
  }
 ],
 "metadata": {
  "kernelspec": {
   "display_name": "Python 3",
   "language": "python",
   "name": "python3"
  },
  "language_info": {
   "codemirror_mode": {
    "name": "ipython",
    "version": 3
   },
   "file_extension": ".py",
   "mimetype": "text/x-python",
   "name": "python",
   "nbconvert_exporter": "python",
   "pygments_lexer": "ipython3",
   "version": "3.7.3"
  }
 },
 "nbformat": 4,
 "nbformat_minor": 4
}
