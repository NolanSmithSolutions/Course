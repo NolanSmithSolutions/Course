{
 "cells": [
  {
   "cell_type": "markdown",
   "metadata": {},
   "source": [
    "## Risk Management & Applications\n",
    "As long as there have been economies, there has been financial risk.  Risk generally comes from a variety of sources including but not limited to:\n",
    "    1. Market risk - risk from price changes and losses on owned securities\n",
    "    2. Credit risk - risk of clients defaulting or being downgraded\n",
    "    3. Operational risk - risk associated with processing and systems failures\n",
    "    4. Legal risk - contract violation and any regulatory exposure through non-compliance\n",
    "Market risk can be broken down further into a handful of main groups:\n",
    "    1. Equity risk\n",
    "    2. Interest rate risk\n",
    "    3. Currency (Forex) risk\n",
    "    4. Commodity risk\n",
    "In this lecture we will attempt to model aggregate risk, and have a general discussion on what insights modeling can provide us.  Can you think of any other risks not outlined above?\n",
    "\n",
    "\n"
   ]
  },
  {
   "cell_type": "markdown",
   "metadata": {},
   "source": [
    "## Value at Risk\n",
    "We briefly touched on this concept in our TD lecture, but here we will give it a more thorough analysis on the theory behind why it should work.  THere are two main ways to communicate VAR:\n",
    "    1. Maximum Loss - Here we state that the VAR is the max loss that can be incurred for a security or portfolio over some holding period given a specific confidence level.  For example, we will state that we are 95% confident that the loss, as measured by VAR, won't exceed $2MM over the next month.\n",
    "\n",
    "    2. Minimum Loss - Here we state that the VAR is the min loss that can be incurred for a security or portfolio over some period given a significance level.  For example, we will state that there is a 5% chance that the loss, as measured by VAR, will exceed $2MM over the next month.  \n",
    "    \n",
    "Measured needed:\n",
    "    1. Current Asset(s) price(s)\n",
    "    2. Expected Returns (sometimes assumed 0 for conservatism)\n",
    "    3. Volatility of returns (standard deviation)\n",
    "    4. Covariance of all assets\n",
    "    \n",
    "Key Assumption:\n",
    "    1.  It is assumed, for this model, that standard conditions will continue into the projection period.  This is manifested by using historical measures to measure volatility going forward.  Generally, when black swan events occur, this model will not be an accurate predictor of near term loss expectations.\n",
    "    \n",
    "One important issue in computing VAR is a one tailed test.  Also, generally in practice, it's assumed that the standard deviation comes from a large sample, so the t factor (for large samples) approaches the standard normal distribution, such that, for 5% VAR it is 1.65, and for 1% VAR it is 2.33. \n",
    "\n",
    "\n",
    "    "
   ]
  },
  {
   "cell_type": "code",
   "execution_count": null,
   "metadata": {},
   "outputs": [],
   "source": []
  },
  {
   "cell_type": "code",
   "execution_count": null,
   "metadata": {},
   "outputs": [],
   "source": []
  },
  {
   "cell_type": "code",
   "execution_count": null,
   "metadata": {},
   "outputs": [],
   "source": []
  },
  {
   "cell_type": "code",
   "execution_count": null,
   "metadata": {},
   "outputs": [],
   "source": []
  },
  {
   "cell_type": "code",
   "execution_count": null,
   "metadata": {},
   "outputs": [],
   "source": []
  },
  {
   "cell_type": "code",
   "execution_count": null,
   "metadata": {},
   "outputs": [],
   "source": []
  },
  {
   "cell_type": "code",
   "execution_count": null,
   "metadata": {},
   "outputs": [],
   "source": []
  },
  {
   "cell_type": "code",
   "execution_count": null,
   "metadata": {},
   "outputs": [],
   "source": []
  },
  {
   "cell_type": "code",
   "execution_count": null,
   "metadata": {},
   "outputs": [],
   "source": []
  },
  {
   "cell_type": "code",
   "execution_count": null,
   "metadata": {},
   "outputs": [],
   "source": []
  },
  {
   "cell_type": "code",
   "execution_count": null,
   "metadata": {},
   "outputs": [],
   "source": []
  },
  {
   "cell_type": "code",
   "execution_count": null,
   "metadata": {},
   "outputs": [],
   "source": []
  },
  {
   "cell_type": "code",
   "execution_count": null,
   "metadata": {},
   "outputs": [],
   "source": []
  },
  {
   "cell_type": "code",
   "execution_count": null,
   "metadata": {},
   "outputs": [],
   "source": []
  },
  {
   "cell_type": "code",
   "execution_count": null,
   "metadata": {},
   "outputs": [],
   "source": []
  },
  {
   "cell_type": "code",
   "execution_count": null,
   "metadata": {},
   "outputs": [],
   "source": []
  },
  {
   "cell_type": "code",
   "execution_count": null,
   "metadata": {},
   "outputs": [],
   "source": []
  },
  {
   "cell_type": "code",
   "execution_count": null,
   "metadata": {},
   "outputs": [],
   "source": []
  }
 ],
 "metadata": {
  "kernelspec": {
   "display_name": "Python 3",
   "language": "python",
   "name": "python3"
  },
  "language_info": {
   "codemirror_mode": {
    "name": "ipython",
    "version": 3
   },
   "file_extension": ".py",
   "mimetype": "text/x-python",
   "name": "python",
   "nbconvert_exporter": "python",
   "pygments_lexer": "ipython3",
   "version": "3.8.3"
  }
 },
 "nbformat": 4,
 "nbformat_minor": 4
}
