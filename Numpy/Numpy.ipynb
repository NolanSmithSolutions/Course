{
 "cells": [
  {
   "cell_type": "markdown",
   "metadata": {},
   "source": [
    "![Numpy](https://www.durhamtech.edu/themes/custom/durhamtech/images/durham-tech-logo-web.svg) \n",
    "\n",
    "# Utilizing Arrays with Numpy\n",
    "\n",
    "# Table of Contents\n",
    "\n",
    "### Basics\n",
    "#### <a href='#1'>What is NumPy?</a>\n",
    "#### <a href='#2'>NumPy contains an array object that is \"fast\"</a>\n",
    "#### <a href='#3'>Creating an Array</a>\n",
    "#### <a href='#4'>Slicing and Indexing</a>\n",
    "\n",
    "### Advanced\n",
    "#### <a href='#5'>Arrays vs. Lists</a>\n",
    "* Structure\n",
    "* Speed\n",
    "* Operational Differences\n",
    "\n",
    "### Mathematical Uses\n",
    "#### <a href='#6'>Multidimensional Arrays</a>\n",
    "#### <a href='#7'>Masks</a>\n",
    "#### <a href='#8'>Linear Algebra and Matrix Operations</a>\n",
    "\n",
    "#### <a href='#9'>Weekly Readings/Videos</a>\n",
    "#### <a href='#10'>Extra Practice</a>\n",
    "\n",
    "<a id='1'></a>\n",
    "## What is NumPy?  \n",
    "\n",
    "NumPy stands for **Numerical Python** and it is the fundamental package for scientific computing in Python. It is a package that lets you efficiently store and manipulate numerical arrays. It contains among other things:\n",
    "\n",
    "* a powerful N-dimensional array object\n",
    "* useful linear algebra and random number capabilities\n",
    "\n",
    "<a id='2'></a>\n",
    "## NumPy contains an array object that is \"fast\" \n",
    "\n",
    "<img src=\"https://miro.medium.com/max/700/1*X0Dg7QfSYtWhSAu-afi8-g.png\">\n",
    "<a href=\"https://towardsdatascience.com/numpy-array-cookbook-generating-and-manipulating-arrays-in-python-2195c3988b09\">Source</a>\n",
    "\n",
    "**It stores / consists of**:\n",
    "* location of a memory block (allocated all at one time)\n",
    "* a shape (3 x 3 or 1 x 9, etc)\n",
    "* data type / size of each element\n",
    "\n",
    "The core feauture that NumPy supports is its multi-dimensional arrays. In NumPy, dimensions are called axes and the number of axes is called a rank."
   ]
  },
  {
   "cell_type": "code",
   "execution_count": null,
   "metadata": {},
   "outputs": [],
   "source": [
    "import numpy as np\n",
    "\n",
    "np.__version__"
   ]
  },
  {
   "cell_type": "markdown",
   "metadata": {},
   "source": [
    "<a id='3'></a>\n",
    "## Creating an Array"
   ]
  },
  {
   "cell_type": "code",
   "execution_count": null,
   "metadata": {},
   "outputs": [],
   "source": [
    "# list to array\n",
    "array_list = [1, 2, 3, 4, 5, 6]\n",
    "numpy_array = np.array(array_list)\n",
    "numpy_array"
   ]
  },
  {
   "cell_type": "code",
   "execution_count": null,
   "metadata": {},
   "outputs": [],
   "source": [
    "# object type, data type store in our array\n",
    "type(numpy_array), numpy_array.dtype"
   ]
  },
  {
   "cell_type": "code",
   "execution_count": null,
   "metadata": {},
   "outputs": [],
   "source": [
    "# An array only has one data type so if we try to store say an float in an int array,\n",
    "# the float will be up-casted to an int\n",
    "numpy_array[1] = 7.9562\n",
    "numpy_array # check the 2nd item [1st index] of the return value"
   ]
  },
  {
   "cell_type": "code",
   "execution_count": null,
   "metadata": {},
   "outputs": [],
   "source": [
    "# If there are multiple data types in an array, numpy will make its best guess on the type for the array\n",
    "array1 = np.array([1, 2.5, 3, 4, 5, 6])\n",
    "print(array1) # notice all values are now floats\n",
    "print(array1.dtype) "
   ]
  },
  {
   "cell_type": "code",
   "execution_count": null,
   "metadata": {},
   "outputs": [],
   "source": [
    "# can use very long lists if desire\n",
    "data = np.array(range(320000))\n",
    "print(data)\n",
    "print(\"length of this array:\",len(data)) # to see the length of the full array"
   ]
  },
  {
   "cell_type": "code",
   "execution_count": null,
   "metadata": {},
   "outputs": [],
   "source": [
    "# the elements of an array must be of a type that is valid to perform\n",
    "# a specific mathematical operation on\n",
    "\n",
    "data = np.array([1,2,'cat', 4])\n",
    "print(data)\n",
    "print(data.dtype) \n",
    "\n",
    "#For more info on the printed out data type check out this link\n",
    "#https://stackoverflow.com/questions/49751000/how-does-numpy-determine-the-array-data-type-when-it-contains-multiple-dtypes"
   ]
  },
  {
   "cell_type": "markdown",
   "metadata": {},
   "source": [
    "<a id='4'></a>\n",
    "## Slicing and Indexing"
   ]
  },
  {
   "cell_type": "code",
   "execution_count": null,
   "metadata": {},
   "outputs": [],
   "source": [
    "# Same logic as slicing a python list:\n",
    "data = np.array(range(10))\n",
    "print(data[:])\n",
    "print (data[0:3])\n",
    "print (data[3:])\n",
    "print (data[::-2])\n",
    "print(\"\")\n",
    "\n",
    "x = np.array(range(18))\n",
    "print ('x:',x)\n",
    "print (x[5:15:2]) # [start : end : step_size]"
   ]
  },
  {
   "cell_type": "markdown",
   "metadata": {},
   "source": [
    "<a id='5'></a>\n",
    "## Arrays vs. Lists\n",
    "\n",
    "### Structure\n",
    "NumPy utilizes efficient pointers to a location in memory and it will store the full array. Lists on the other hand are pointers to many different objects in memory."
   ]
  },
  {
   "cell_type": "code",
   "execution_count": null,
   "metadata": {},
   "outputs": [],
   "source": [
    "# Slicing returns a view in Numpy, \n",
    "# and not a copy as is the case with Python lists\n",
    "data = np.array(range(10))\n",
    "view = data[0:3]\n",
    "print(view)\n",
    "\n",
    "l = list(range(10))\n",
    "copy = l[0:3]\n",
    "print(copy)\n",
    "\n",
    "copy[0] = 99\n",
    "view[0] = 99\n",
    "print(copy)\n",
    "print(view)\n",
    "\n",
    "print('Python list:',l) # has not changed\n",
    "print('NumPy array:',data) # has changed\n",
    "\n",
    "# Creating copies of the array instead of views\n",
    "data = np.array(range(10))\n",
    "arr_copy = data[:3].copy()\n",
    "print('Array copy',arr_copy)\n",
    "\n",
    "arr_copy[0] = 555\n",
    "print('New array copy',arr_copy)\n",
    "print('Original array',data) # now it is not a view any more\n",
    "\n",
    "# same thing with assignment, its not a copy, its the same data\n",
    "x = np.array(range(20))\n",
    "print (x)\n",
    "y = x\n",
    "\n",
    "y[:]=0\n",
    "print(x)\n",
    "\n",
    "x is y"
   ]
  },
  {
   "cell_type": "code",
   "execution_count": null,
   "metadata": {},
   "outputs": [],
   "source": [
    "x = [1,2]\n",
    "y = [1,2]\n",
    "x is y"
   ]
  },
  {
   "cell_type": "markdown",
   "metadata": {},
   "source": [
    "### Speed\n",
    "Arrays are much faster than lists"
   ]
  },
  {
   "cell_type": "code",
   "execution_count": null,
   "metadata": {},
   "outputs": [],
   "source": [
    "# Arrays are faster and more efficient than lists\n",
    "x = list(range(100000))\n",
    "\n",
    "# Say that we want to square all elements\n",
    "y = [i**2 for i in x]\n",
    "print (y[0:10])\n",
    "\n",
    "# Time the operation with some IPython magic command\n",
    "print('Time for Python lists:')\n",
    "list_time = %timeit -o -n 20 [i**2 for i in x]"
   ]
  },
  {
   "cell_type": "code",
   "execution_count": null,
   "metadata": {},
   "outputs": [],
   "source": [
    "z = np.array(x)\n",
    "w = z**2\n",
    "print(w[:10])\n",
    "\n",
    "print('Time for NumPy arrays:')\n",
    "np_time = %timeit -o -n 20 z**2"
   ]
  },
  {
   "cell_type": "code",
   "execution_count": null,
   "metadata": {},
   "outputs": [],
   "source": [
    "print('NumPy is ' + str(list_time.all_runs[0]//np_time.all_runs[0]) + \\\n",
    "      ' times faster than lists at squaring 100,000 elements.')"
   ]
  },
  {
   "cell_type": "markdown",
   "metadata": {},
   "source": [
    "### Operational Differences\n",
    "A function that is applied on an ndarray in an element-by-element fashion. Several universal functions can be found the NumPy documentation here: https://docs.scipy.org/doc/numpy-1.13.0/reference/ufuncs.html"
   ]
  },
  {
   "cell_type": "code",
   "execution_count": null,
   "metadata": {},
   "outputs": [],
   "source": [
    "#Addition\n",
    "\n",
    "# x and y are lists\n",
    "x = list(range(5))\n",
    "y = list(range(5,10))\n",
    "print (\"list x = \", x)\n",
    "print (\"list y = \", y)\n",
    "print (\"x + y = \", x+y)\n",
    "print('\\n')\n",
    "\n",
    "# xn and yn are numpy arrays:\n",
    "xn = np.array(x)\n",
    "yn = np.array(y)\n",
    "print ('np.array xn =', xn)\n",
    "print ('np.array yn =', yn)\n",
    "print (\"xn + yn = \", xn + yn)\n",
    "\n",
    "# An array is a sequence that can be manipulated easily\n",
    "# An arithmetic operation is applied to each element individually\n",
    "# When two arrays are added, they must have the same size \n",
    "# (otherwise they might be broadcasted)\n",
    "\n",
    "# can also use a function\n",
    "np.add(xn,yn)"
   ]
  },
  {
   "cell_type": "code",
   "execution_count": null,
   "metadata": {},
   "outputs": [],
   "source": [
    "#Multiplication\n",
    "# python lists\n",
    "print (3* x)\n",
    "\n",
    "# Numpy Arrays\n",
    "print (3 * xn)"
   ]
  },
  {
   "cell_type": "markdown",
   "metadata": {},
   "source": [
    "## -------------PRACTICE-------------\n",
    "1.  Create two arrays from array a, one with 4/5 and the other with 1/5 of the elements that doesn't mess up the original array a."
   ]
  },
  {
   "cell_type": "code",
   "execution_count": null,
   "metadata": {},
   "outputs": [],
   "source": [
    "a = np.random.normal(0,1,1000)\n",
    "\n",
    "#Your code below"
   ]
  },
  {
   "cell_type": "markdown",
   "metadata": {},
   "source": [
    "2. Print out every 50th element on the last 400 elements of a and store it in an element called \"g\"."
   ]
  },
  {
   "cell_type": "code",
   "execution_count": null,
   "metadata": {},
   "outputs": [],
   "source": [
    "g = ..."
   ]
  },
  {
   "cell_type": "markdown",
   "metadata": {},
   "source": [
    "3. Create an array of your top 5 favorite foods in an array called food."
   ]
  },
  {
   "cell_type": "code",
   "execution_count": null,
   "metadata": {},
   "outputs": [],
   "source": [
    "food = ..."
   ]
  },
  {
   "cell_type": "markdown",
   "metadata": {},
   "source": [
    "4. Multiply every element in the array \"g\" by 10.  Then try multiplying every element in the array \"food\" by 10 as well... does this error out?  If so, why?"
   ]
  },
  {
   "cell_type": "code",
   "execution_count": null,
   "metadata": {},
   "outputs": [],
   "source": []
  },
  {
   "cell_type": "markdown",
   "metadata": {},
   "source": [
    "<a id='6'></a>\n",
    "## Multidimensional Arrays\n",
    "This allows us to create the matrices that are often used underneath hood of a lot of machine learning packages"
   ]
  },
  {
   "cell_type": "code",
   "execution_count": null,
   "metadata": {},
   "outputs": [],
   "source": [
    "# This list has two dimensions\n",
    "list3 = [[1, 2, 3],\n",
    "         [4, 5, 6],\n",
    "         [7, 8, 9]]\n",
    "list3 # nested list"
   ]
  },
  {
   "cell_type": "code",
   "execution_count": null,
   "metadata": {},
   "outputs": [],
   "source": [
    "# Better print format in np.array\n",
    "data = np.array(list3)\n",
    "data"
   ]
  },
  {
   "cell_type": "code",
   "execution_count": null,
   "metadata": {},
   "outputs": [],
   "source": [
    "print('Dimensions:',data.ndim)\n",
    "print ('Shape:',data.shape)\n",
    "print('Size:', data.size)"
   ]
  },
  {
   "cell_type": "code",
   "execution_count": null,
   "metadata": {},
   "outputs": [],
   "source": [
    "# You can also transpose an array Matrix with either np.transpose(arr)\n",
    "# or arr.T\n",
    "data.T"
   ]
  },
  {
   "cell_type": "code",
   "execution_count": null,
   "metadata": {},
   "outputs": [],
   "source": [
    "np.transpose(data)"
   ]
  },
  {
   "cell_type": "code",
   "execution_count": null,
   "metadata": {},
   "outputs": [],
   "source": [
    "# Returns a new array of specified size, filled with zeros.  \n",
    "# Notice it goes row length, column length\n",
    "print('zeros')\n",
    "print(np.zeros((2,5), dtype=np.int8))\n",
    "print(\"\")\n",
    "\n",
    "#Returns a new array of specified size, filled with ones.\n",
    "print('ones')\n",
    "print(np.ones((4,2), dtype=np.float128))\n",
    "print(\"\")\n",
    "\n",
    "# Returns the identity matrix of specific squared size\n",
    "# Identity matrix link: https://www.studypug.com/algebra-help/identity-matrix\n",
    "print('identity')\n",
    "print(np.eye(5))"
   ]
  },
  {
   "cell_type": "markdown",
   "metadata": {},
   "source": [
    "<a id='7'></a>\n",
    "## Masks\n",
    "Allows us to filter our arrays quickly and effeciently based on some criteria"
   ]
  },
  {
   "cell_type": "code",
   "execution_count": null,
   "metadata": {},
   "outputs": [],
   "source": [
    "arr = np.arange(10)\n",
    "print(arr)\n",
    "mask = arr>5\n",
    "print(mask)\n",
    "\n",
    "#Notice two ways to do this - import to remember for Python\n",
    "print(arr[mask])\n",
    "print(arr[arr>5])"
   ]
  },
  {
   "cell_type": "code",
   "execution_count": null,
   "metadata": {},
   "outputs": [],
   "source": [
    "# Functions any / all\n",
    "np.any( arr==8 )"
   ]
  },
  {
   "cell_type": "code",
   "execution_count": null,
   "metadata": {},
   "outputs": [],
   "source": [
    "np.all( arr>3 )"
   ]
  },
  {
   "cell_type": "markdown",
   "metadata": {},
   "source": [
    "<a id='8'></a>\n",
    "## Linear Algebra and Matrix Operations\n",
    "\n",
    "<a href=\"https://minireference.com/static/tutorials/linear_algebra_in_4_pages.pdf\">Linear Algebra Basic Overview</a>"
   ]
  },
  {
   "cell_type": "code",
   "execution_count": null,
   "metadata": {},
   "outputs": [],
   "source": [
    "a = np.arange(0, 15)\n",
    "print(a)\n",
    "print('')\n",
    "\n",
    "# Reshape the array to a 5 x 3 matrix\n",
    "print('reshaped:')\n",
    "a=a.reshape((5, 3))\n",
    "print(a)\n",
    "\n",
    "# We can easily find the sum, min, max, .. are easy\n",
    "print()\n",
    "print ('Sum:',a.sum())\n",
    "print('Min:', a.min())\n",
    "print('Max:', a.max())\n",
    "\n",
    "print ('Column sum:',a.sum(axis=0))\n",
    "print ('Row sum:',a.sum(axis=1))"
   ]
  },
  {
   "cell_type": "code",
   "execution_count": null,
   "metadata": {},
   "outputs": [],
   "source": [
    "a = np.arange(11, 21)\n",
    "b = np.arange(0, 10)\n",
    "print (\"a = \",a)\n",
    "print (\"b = \",b)\n",
    "\n",
    "print ('Matrix dot product')\n",
    "print (a.dot(b))\n",
    "\n",
    "print ('Matrix multiplication')\n",
    "c = np.arange(1,5).reshape(2,2)\n",
    "print (\"c = \\n\", c)\n",
    "print()\n",
    "d = np.arange(5,9).reshape(2,2)\n",
    "print (\"d = \\n\", d)\n",
    "print()\n",
    "print (np.matmul(d,c))"
   ]
  },
  {
   "cell_type": "markdown",
   "metadata": {},
   "source": [
    "## -------------PRACTICE-------------\n",
    "1. Create a 6 x 4 matrix filled with random numbers (created via numpy's random function)."
   ]
  },
  {
   "cell_type": "code",
   "execution_count": null,
   "metadata": {},
   "outputs": [],
   "source": []
  },
  {
   "cell_type": "markdown",
   "metadata": {},
   "source": [
    "2. Transpose the matrix you created above and print out its size, dimensions and shape."
   ]
  },
  {
   "cell_type": "code",
   "execution_count": null,
   "metadata": {},
   "outputs": [],
   "source": []
  },
  {
   "cell_type": "markdown",
   "metadata": {},
   "source": [
    "3. Print out the maximum of the 2nd row and the sum of the 3rd column."
   ]
  },
  {
   "cell_type": "code",
   "execution_count": null,
   "metadata": {},
   "outputs": [],
   "source": []
  },
  {
   "cell_type": "markdown",
   "metadata": {},
   "source": [
    "4. Create an identity of matrix that has 3 rows and 3 columns.  Then print out the identity matrix multiplied by \"g\".  Also print out the matrix \"g\" multiplied by itself (\"g\") as well."
   ]
  },
  {
   "cell_type": "code",
   "execution_count": null,
   "metadata": {},
   "outputs": [],
   "source": [
    "g = np.array([[1,2,3],[4,5,6],[7,8,9]])\n",
    "\n",
    "#Your code below"
   ]
  },
  {
   "cell_type": "markdown",
   "metadata": {},
   "source": [
    "<a id='9'></a>\n",
    "# Weekly Readings/Videos\n",
    "\n",
    "https://www.sciencenewsforstudents.org/article/explainer-what-is-an-algorithm\n",
    "\n",
    "https://www.wired.com/2014/11/algorithms-great-can-also-ruin-lives/"
   ]
  },
  {
   "cell_type": "markdown",
   "metadata": {},
   "source": [
    "<a id='10'></a>\n",
    "# Extra Practice"
   ]
  },
  {
   "cell_type": "code",
   "execution_count": null,
   "metadata": {},
   "outputs": [],
   "source": []
  }
 ],
 "metadata": {
  "kernelspec": {
   "display_name": "Python 3",
   "language": "python",
   "name": "python3"
  },
  "language_info": {
   "codemirror_mode": {
    "name": "ipython",
    "version": 3
   },
   "file_extension": ".py",
   "mimetype": "text/x-python",
   "name": "python",
   "nbconvert_exporter": "python",
   "pygments_lexer": "ipython3",
   "version": "3.7.3"
  }
 },
 "nbformat": 4,
 "nbformat_minor": 4
}
